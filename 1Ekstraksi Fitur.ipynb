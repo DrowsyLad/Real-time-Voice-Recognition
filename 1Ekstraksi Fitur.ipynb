{
 "cells": [
  {
   "cell_type": "code",
   "execution_count": 16,
   "id": "32e169e9-4044-471f-8660-14fa6a00b8be",
   "metadata": {},
   "outputs": [],
   "source": [
    "import librosa\n",
    "import os\n",
    "import json\n",
    "import numpy as np"
   ]
  },
  {
   "cell_type": "code",
   "execution_count": 27,
   "id": "145108d0-0a64-43b9-924c-beb04f27f2da",
   "metadata": {},
   "outputs": [],
   "source": [
    "DATASET_PATH = 'C:/Users/Lenovo/Documents/Education/Skripsi/Dataset/Dataset_Indonesia'\n",
    "JSON_PATH = \"dataindo22050.json\"\n",
    "SAMPLES_TO_CONSIDER = 22050 # 1 sec. of audio"
   ]
  },
  {
   "cell_type": "code",
   "execution_count": null,
   "id": "687c0329",
   "metadata": {},
   "outputs": [],
   "source": [
    "def trim(y, top_db=60, ref=np.max, frame_length=2048, hop_length=512):"
   ]
  },
  {
   "cell_type": "code",
   "execution_count": 28,
   "id": "db8c1fa3-4421-4d92-b695-afc5933ee9ae",
   "metadata": {},
   "outputs": [],
   "source": [
    "def preprocess_dataset(dataset_path, json_path, num_mfcc=13, n_fft=2048, hop_length=512):\n",
    "\n",
    "    # variabel dictionary untuk meyimpan mapping, labels, MFCCs dan nama file\n",
    "    data = {\n",
    "        \"mapping\": [],\n",
    "        \"labels\": [],\n",
    "        \"MFCCs\": [],\n",
    "        \"files\": []\n",
    "    }\n",
    "\n",
    "    for i, (dirpath, dirnames, filenames) in enumerate(os.walk(dataset_path)):\n",
    "\n",
    "        if dirpath is not dataset_path:\n",
    "\n",
    "            # menyimpan label\n",
    "            label = os.path.split(dirpath)[-1]\n",
    "            data[\"mapping\"].append(label)\n",
    "            print(\"\\nProcessing: '{}'\".format(label))\n",
    "\n",
    "            # memproses suara pada sub direktori dan menyimpan MFCC\n",
    "            for f in filenames:\n",
    "                file_path = os.path.join(dirpath, f)\n",
    "\n",
    "                # load file \n",
    "                signal, sample_rate = librosa.load(file_path)\n",
    "\n",
    "                if len(signal) >= SAMPLES_TO_CONSIDER:\n",
    "                    signal = signal[:SAMPLES_TO_CONSIDER]\n",
    "                    #librosa.effects.trim(signal, top_db= 10)\n",
    "                    # extracksi MFCCs\n",
    "                    MFCCs = librosa.feature.mfcc(signal, sample_rate, n_mfcc=num_mfcc, n_fft=n_fft, hop_length=hop_length)\n",
    "\n",
    "                    # menyimpan data dari file sudah dianalisa\n",
    "                    data[\"MFCCs\"].append(MFCCs.T.tolist())\n",
    "                    data[\"labels\"].append(i-1)\n",
    "                    data[\"files\"].append(file_path)\n",
    "                    print(\"{}: {}\".format(file_path, i-1))\n",
    "\n",
    "    # menyimpan data pada file json\n",
    "    with open(json_path, \"w\") as fp:\n",
    "        json.dump(data, fp, indent=4)"
   ]
  },
  {
   "cell_type": "code",
   "execution_count": 29,
   "id": "d011ca01-1101-4288-9aa4-deb36a35e8a6",
   "metadata": {},
   "outputs": [
    {
     "name": "stdout",
     "output_type": "stream",
     "text": [
      "\n",
      "Processing: 'Kanan'\n",
      "C:/Users/Lenovo/Documents/Education/Skripsi/Dataset/Dataset_Indonesia\\Kanan\\Kanan (1).wav: 0\n"
     ]
    },
    {
     "name": "stderr",
     "output_type": "stream",
     "text": [
      "C:\\Users\\Lenovo\\AppData\\Local\\Temp\\ipykernel_11612\\2861807924.py:31: FutureWarning: Pass y=[-5.3826142e-08  7.9589505e-08 -1.0581892e-07 ...  7.2887473e-02\n",
      "  7.0268735e-02  7.0662051e-02], sr=22050 as keyword args. From version 0.10 passing these as positional arguments will result in an error\n",
      "  MFCCs = librosa.feature.mfcc(signal, sample_rate, n_mfcc=num_mfcc, n_fft=n_fft, hop_length=hop_length)\n",
      "C:\\Users\\Lenovo\\AppData\\Local\\Temp\\ipykernel_11612\\2861807924.py:31: FutureWarning: Pass y=[-4.6797272e-06 -4.9985510e-06  1.7252461e-06 ...  3.6102673e-03\n",
      "  3.9811325e-03  5.2487305e-03], sr=22050 as keyword args. From version 0.10 passing these as positional arguments will result in an error\n",
      "  MFCCs = librosa.feature.mfcc(signal, sample_rate, n_mfcc=num_mfcc, n_fft=n_fft, hop_length=hop_length)\n",
      "C:\\Users\\Lenovo\\AppData\\Local\\Temp\\ipykernel_11612\\2861807924.py:31: FutureWarning: Pass y=[0.         0.         0.         ... 0.17708401 0.11219196 0.0462921 ], sr=22050 as keyword args. From version 0.10 passing these as positional arguments will result in an error\n",
      "  MFCCs = librosa.feature.mfcc(signal, sample_rate, n_mfcc=num_mfcc, n_fft=n_fft, hop_length=hop_length)\n"
     ]
    },
    {
     "name": "stdout",
     "output_type": "stream",
     "text": [
      "C:/Users/Lenovo/Documents/Education/Skripsi/Dataset/Dataset_Indonesia\\Kanan\\Kanan (10).wav: 0\n",
      "C:/Users/Lenovo/Documents/Education/Skripsi/Dataset/Dataset_Indonesia\\Kanan\\Kanan (100).wav: 0\n"
     ]
    },
    {
     "name": "stderr",
     "output_type": "stream",
     "text": [
      "C:\\Users\\Lenovo\\AppData\\Local\\Temp\\ipykernel_11612\\2861807924.py:31: FutureWarning: Pass y=[ 1.13028385e-07 -1.04574191e-07  8.10405396e-08 ...  1.80416062e-01\n",
      "  1.94761217e-01  1.82894811e-01], sr=22050 as keyword args. From version 0.10 passing these as positional arguments will result in an error\n",
      "  MFCCs = librosa.feature.mfcc(signal, sample_rate, n_mfcc=num_mfcc, n_fft=n_fft, hop_length=hop_length)\n",
      "C:\\Users\\Lenovo\\AppData\\Local\\Temp\\ipykernel_11612\\2861807924.py:31: FutureWarning: Pass y=[ 1.13028385e-07 -1.04574191e-07  8.10405396e-08 ... -7.72632984e-03\n",
      " -8.32877960e-03 -9.15924273e-03], sr=22050 as keyword args. From version 0.10 passing these as positional arguments will result in an error\n",
      "  MFCCs = librosa.feature.mfcc(signal, sample_rate, n_mfcc=num_mfcc, n_fft=n_fft, hop_length=hop_length)\n"
     ]
    },
    {
     "name": "stdout",
     "output_type": "stream",
     "text": [
      "C:/Users/Lenovo/Documents/Education/Skripsi/Dataset/Dataset_Indonesia\\Kanan\\Kanan (101).wav: 0\n",
      "C:/Users/Lenovo/Documents/Education/Skripsi/Dataset/Dataset_Indonesia\\Kanan\\Kanan (102).wav: 0\n"
     ]
    },
    {
     "name": "stderr",
     "output_type": "stream",
     "text": [
      "C:\\Users\\Lenovo\\AppData\\Local\\Temp\\ipykernel_11612\\2861807924.py:31: FutureWarning: Pass y=[ 1.13028385e-07 -1.04574191e-07  8.10405396e-08 ... -4.18318622e-02\n",
      "  7.41601642e-03  5.55378534e-02], sr=22050 as keyword args. From version 0.10 passing these as positional arguments will result in an error\n",
      "  MFCCs = librosa.feature.mfcc(signal, sample_rate, n_mfcc=num_mfcc, n_fft=n_fft, hop_length=hop_length)\n",
      "C:\\Users\\Lenovo\\AppData\\Local\\Temp\\ipykernel_11612\\2861807924.py:31: FutureWarning: Pass y=[ 1.13028385e-07 -1.04574191e-07  8.10405396e-08 ... -2.22703964e-02\n",
      " -2.06680112e-02 -1.38841597e-02], sr=22050 as keyword args. From version 0.10 passing these as positional arguments will result in an error\n",
      "  MFCCs = librosa.feature.mfcc(signal, sample_rate, n_mfcc=num_mfcc, n_fft=n_fft, hop_length=hop_length)\n",
      "C:\\Users\\Lenovo\\AppData\\Local\\Temp\\ipykernel_11612\\2861807924.py:31: FutureWarning: Pass y=[ 1.13028385e-07 -1.04574191e-07  8.10405396e-08 ...  1.57168340e-02\n",
      "  1.59946736e-02  1.65747441e-02], sr=22050 as keyword args. From version 0.10 passing these as positional arguments will result in an error\n",
      "  MFCCs = librosa.feature.mfcc(signal, sample_rate, n_mfcc=num_mfcc, n_fft=n_fft, hop_length=hop_length)\n"
     ]
    },
    {
     "name": "stdout",
     "output_type": "stream",
     "text": [
      "C:/Users/Lenovo/Documents/Education/Skripsi/Dataset/Dataset_Indonesia\\Kanan\\Kanan (103).wav: 0\n",
      "C:/Users/Lenovo/Documents/Education/Skripsi/Dataset/Dataset_Indonesia\\Kanan\\Kanan (104).wav: 0\n",
      "C:/Users/Lenovo/Documents/Education/Skripsi/Dataset/Dataset_Indonesia\\Kanan\\Kanan (105).wav: 0\n",
      "C:/Users/Lenovo/Documents/Education/Skripsi/Dataset/Dataset_Indonesia\\Kanan\\Kanan (106).wav: 0\n"
     ]
    },
    {
     "name": "stderr",
     "output_type": "stream",
     "text": [
      "C:\\Users\\Lenovo\\AppData\\Local\\Temp\\ipykernel_11612\\2861807924.py:31: FutureWarning: Pass y=[ 1.13028385e-07 -1.04574191e-07  8.10405396e-08 ... -5.97621687e-03\n",
      " -6.13666559e-03 -6.47219270e-03], sr=22050 as keyword args. From version 0.10 passing these as positional arguments will result in an error\n",
      "  MFCCs = librosa.feature.mfcc(signal, sample_rate, n_mfcc=num_mfcc, n_fft=n_fft, hop_length=hop_length)\n",
      "C:\\Users\\Lenovo\\AppData\\Local\\Temp\\ipykernel_11612\\2861807924.py:31: FutureWarning: Pass y=[ 1.13028385e-07 -1.04574191e-07  8.10405396e-08 ...  5.20517342e-02\n",
      "  4.85573374e-02  4.51899879e-02], sr=22050 as keyword args. From version 0.10 passing these as positional arguments will result in an error\n",
      "  MFCCs = librosa.feature.mfcc(signal, sample_rate, n_mfcc=num_mfcc, n_fft=n_fft, hop_length=hop_length)\n"
     ]
    },
    {
     "name": "stdout",
     "output_type": "stream",
     "text": [
      "C:/Users/Lenovo/Documents/Education/Skripsi/Dataset/Dataset_Indonesia\\Kanan\\Kanan (107).wav: 0\n",
      "C:/Users/Lenovo/Documents/Education/Skripsi/Dataset/Dataset_Indonesia\\Kanan\\Kanan (108).wav: 0\n"
     ]
    },
    {
     "name": "stderr",
     "output_type": "stream",
     "text": [
      "C:\\Users\\Lenovo\\AppData\\Local\\Temp\\ipykernel_11612\\2861807924.py:31: FutureWarning: Pass y=[ 1.13028385e-07 -1.04574191e-07  8.10405396e-08 ...  1.03064580e-02\n",
      "  1.14446115e-02  1.14863710e-02], sr=22050 as keyword args. From version 0.10 passing these as positional arguments will result in an error\n",
      "  MFCCs = librosa.feature.mfcc(signal, sample_rate, n_mfcc=num_mfcc, n_fft=n_fft, hop_length=hop_length)\n",
      "C:\\Users\\Lenovo\\AppData\\Local\\Temp\\ipykernel_11612\\2861807924.py:31: FutureWarning: Pass y=[ 1.13028385e-07 -1.04574191e-07  8.10405396e-08 ...  3.26882564e-02\n",
      "  3.18576172e-02  3.03722210e-02], sr=22050 as keyword args. From version 0.10 passing these as positional arguments will result in an error\n",
      "  MFCCs = librosa.feature.mfcc(signal, sample_rate, n_mfcc=num_mfcc, n_fft=n_fft, hop_length=hop_length)\n"
     ]
    },
    {
     "name": "stdout",
     "output_type": "stream",
     "text": [
      "C:/Users/Lenovo/Documents/Education/Skripsi/Dataset/Dataset_Indonesia\\Kanan\\Kanan (109).wav: 0\n"
     ]
    },
    {
     "name": "stderr",
     "output_type": "stream",
     "text": [
      "C:\\Users\\Lenovo\\AppData\\Local\\Temp\\ipykernel_11612\\2861807924.py:31: FutureWarning: Pass y=[-2.7036064e-08  7.1547674e-08 -1.2408850e-07 ... -2.1316290e-03\n",
      " -2.1309336e-03 -1.9983931e-03], sr=22050 as keyword args. From version 0.10 passing these as positional arguments will result in an error\n",
      "  MFCCs = librosa.feature.mfcc(signal, sample_rate, n_mfcc=num_mfcc, n_fft=n_fft, hop_length=hop_length)\n",
      "C:\\Users\\Lenovo\\AppData\\Local\\Temp\\ipykernel_11612\\2861807924.py:31: FutureWarning: Pass y=[ 1.13028385e-07 -1.04574191e-07  8.10405396e-08 ... -3.69934477e-02\n",
      " -4.17407081e-02 -4.65779193e-02], sr=22050 as keyword args. From version 0.10 passing these as positional arguments will result in an error\n",
      "  MFCCs = librosa.feature.mfcc(signal, sample_rate, n_mfcc=num_mfcc, n_fft=n_fft, hop_length=hop_length)\n"
     ]
    },
    {
     "name": "stdout",
     "output_type": "stream",
     "text": [
      "C:/Users/Lenovo/Documents/Education/Skripsi/Dataset/Dataset_Indonesia\\Kanan\\Kanan (11).wav: 0\n",
      "C:/Users/Lenovo/Documents/Education/Skripsi/Dataset/Dataset_Indonesia\\Kanan\\Kanan (110).wav: 0\n"
     ]
    },
    {
     "name": "stderr",
     "output_type": "stream",
     "text": [
      "C:\\Users\\Lenovo\\AppData\\Local\\Temp\\ipykernel_11612\\2861807924.py:31: FutureWarning: Pass y=[ 1.13028385e-07 -1.04574191e-07  8.10405396e-08 ...  8.57209694e-03\n",
      "  8.95158574e-03  9.01894178e-03], sr=22050 as keyword args. From version 0.10 passing these as positional arguments will result in an error\n",
      "  MFCCs = librosa.feature.mfcc(signal, sample_rate, n_mfcc=num_mfcc, n_fft=n_fft, hop_length=hop_length)\n",
      "C:\\Users\\Lenovo\\AppData\\Local\\Temp\\ipykernel_11612\\2861807924.py:31: FutureWarning: Pass y=[ 1.13028385e-07 -1.04574191e-07  8.10405396e-08 ...  1.52346389e-02\n",
      "  1.51906405e-02  1.57828089e-02], sr=22050 as keyword args. From version 0.10 passing these as positional arguments will result in an error\n",
      "  MFCCs = librosa.feature.mfcc(signal, sample_rate, n_mfcc=num_mfcc, n_fft=n_fft, hop_length=hop_length)\n"
     ]
    },
    {
     "name": "stdout",
     "output_type": "stream",
     "text": [
      "C:/Users/Lenovo/Documents/Education/Skripsi/Dataset/Dataset_Indonesia\\Kanan\\Kanan (111).wav: 0\n",
      "C:/Users/Lenovo/Documents/Education/Skripsi/Dataset/Dataset_Indonesia\\Kanan\\Kanan (112).wav: 0\n"
     ]
    },
    {
     "name": "stderr",
     "output_type": "stream",
     "text": [
      "C:\\Users\\Lenovo\\AppData\\Local\\Temp\\ipykernel_11612\\2861807924.py:31: FutureWarning: Pass y=[ 1.13028385e-07 -1.04574191e-07  8.10405396e-08 ...  3.34739825e-03\n",
      "  2.99475924e-03  2.50336318e-03], sr=22050 as keyword args. From version 0.10 passing these as positional arguments will result in an error\n",
      "  MFCCs = librosa.feature.mfcc(signal, sample_rate, n_mfcc=num_mfcc, n_fft=n_fft, hop_length=hop_length)\n",
      "C:\\Users\\Lenovo\\AppData\\Local\\Temp\\ipykernel_11612\\2861807924.py:31: FutureWarning: Pass y=[ 1.13028385e-07 -1.04574191e-07  8.10405396e-08 ... -6.51480258e-02\n",
      " -6.41717836e-02 -6.18286282e-02], sr=22050 as keyword args. From version 0.10 passing these as positional arguments will result in an error\n",
      "  MFCCs = librosa.feature.mfcc(signal, sample_rate, n_mfcc=num_mfcc, n_fft=n_fft, hop_length=hop_length)\n"
     ]
    },
    {
     "name": "stdout",
     "output_type": "stream",
     "text": [
      "C:/Users/Lenovo/Documents/Education/Skripsi/Dataset/Dataset_Indonesia\\Kanan\\Kanan (113).wav: 0\n",
      "C:/Users/Lenovo/Documents/Education/Skripsi/Dataset/Dataset_Indonesia\\Kanan\\Kanan (114).wav: 0\n"
     ]
    },
    {
     "name": "stderr",
     "output_type": "stream",
     "text": [
      "C:\\Users\\Lenovo\\AppData\\Local\\Temp\\ipykernel_11612\\2861807924.py:31: FutureWarning: Pass y=[ 1.13028385e-07 -1.04574191e-07  8.10405396e-08 ... -6.90110587e-03\n",
      " -6.64373254e-03 -6.36000559e-03], sr=22050 as keyword args. From version 0.10 passing these as positional arguments will result in an error\n",
      "  MFCCs = librosa.feature.mfcc(signal, sample_rate, n_mfcc=num_mfcc, n_fft=n_fft, hop_length=hop_length)\n",
      "C:\\Users\\Lenovo\\AppData\\Local\\Temp\\ipykernel_11612\\2861807924.py:31: FutureWarning: Pass y=[ 1.13028385e-07 -1.04574191e-07  8.10405396e-08 ... -2.25459877e-02\n",
      " -2.29536258e-02 -1.16193499e-02], sr=22050 as keyword args. From version 0.10 passing these as positional arguments will result in an error\n",
      "  MFCCs = librosa.feature.mfcc(signal, sample_rate, n_mfcc=num_mfcc, n_fft=n_fft, hop_length=hop_length)\n"
     ]
    },
    {
     "name": "stdout",
     "output_type": "stream",
     "text": [
      "C:/Users/Lenovo/Documents/Education/Skripsi/Dataset/Dataset_Indonesia\\Kanan\\Kanan (115).wav: 0\n",
      "C:/Users/Lenovo/Documents/Education/Skripsi/Dataset/Dataset_Indonesia\\Kanan\\Kanan (116).wav: 0\n"
     ]
    },
    {
     "name": "stderr",
     "output_type": "stream",
     "text": [
      "C:\\Users\\Lenovo\\AppData\\Local\\Temp\\ipykernel_11612\\2861807924.py:31: FutureWarning: Pass y=[ 1.13028385e-07 -1.04574191e-07  8.10405396e-08 ... -7.37659633e-02\n",
      " -7.35120103e-02 -7.20608234e-02], sr=22050 as keyword args. From version 0.10 passing these as positional arguments will result in an error\n",
      "  MFCCs = librosa.feature.mfcc(signal, sample_rate, n_mfcc=num_mfcc, n_fft=n_fft, hop_length=hop_length)\n",
      "C:\\Users\\Lenovo\\AppData\\Local\\Temp\\ipykernel_11612\\2861807924.py:31: FutureWarning: Pass y=[ 1.13028385e-07 -1.04574191e-07  8.10405396e-08 ... -6.62491471e-02\n",
      " -9.31984037e-02 -1.08369939e-01], sr=22050 as keyword args. From version 0.10 passing these as positional arguments will result in an error\n",
      "  MFCCs = librosa.feature.mfcc(signal, sample_rate, n_mfcc=num_mfcc, n_fft=n_fft, hop_length=hop_length)\n"
     ]
    },
    {
     "name": "stdout",
     "output_type": "stream",
     "text": [
      "C:/Users/Lenovo/Documents/Education/Skripsi/Dataset/Dataset_Indonesia\\Kanan\\Kanan (118).wav: 0\n",
      "C:/Users/Lenovo/Documents/Education/Skripsi/Dataset/Dataset_Indonesia\\Kanan\\Kanan (119).wav: 0\n"
     ]
    },
    {
     "name": "stderr",
     "output_type": "stream",
     "text": [
      "C:\\Users\\Lenovo\\AppData\\Local\\Temp\\ipykernel_11612\\2861807924.py:31: FutureWarning: Pass y=[-4.7720418e-06 -4.8767488e-06  1.5765050e-06 ... -6.1785807e-03\n",
      "  1.6066601e-02  1.7747039e-02], sr=22050 as keyword args. From version 0.10 passing these as positional arguments will result in an error\n",
      "  MFCCs = librosa.feature.mfcc(signal, sample_rate, n_mfcc=num_mfcc, n_fft=n_fft, hop_length=hop_length)\n",
      "C:\\Users\\Lenovo\\AppData\\Local\\Temp\\ipykernel_11612\\2861807924.py:31: FutureWarning: Pass y=[ 1.13028385e-07 -1.04574191e-07  8.10405396e-08 ... -3.43051590e-02\n",
      " -3.14200819e-02 -2.81992797e-02], sr=22050 as keyword args. From version 0.10 passing these as positional arguments will result in an error\n",
      "  MFCCs = librosa.feature.mfcc(signal, sample_rate, n_mfcc=num_mfcc, n_fft=n_fft, hop_length=hop_length)\n"
     ]
    },
    {
     "name": "stdout",
     "output_type": "stream",
     "text": [
      "C:/Users/Lenovo/Documents/Education/Skripsi/Dataset/Dataset_Indonesia\\Kanan\\Kanan (12).wav: 0\n",
      "C:/Users/Lenovo/Documents/Education/Skripsi/Dataset/Dataset_Indonesia\\Kanan\\Kanan (120).wav: 0\n"
     ]
    },
    {
     "name": "stderr",
     "output_type": "stream",
     "text": [
      "C:\\Users\\Lenovo\\AppData\\Local\\Temp\\ipykernel_11612\\2861807924.py:31: FutureWarning: Pass y=[ 1.13028385e-07 -1.04574191e-07  8.10405396e-08 ...  1.47378584e-02\n",
      "  1.23079382e-02  1.27252303e-02], sr=22050 as keyword args. From version 0.10 passing these as positional arguments will result in an error\n",
      "  MFCCs = librosa.feature.mfcc(signal, sample_rate, n_mfcc=num_mfcc, n_fft=n_fft, hop_length=hop_length)\n",
      "C:\\Users\\Lenovo\\AppData\\Local\\Temp\\ipykernel_11612\\2861807924.py:31: FutureWarning: Pass y=[ 1.13028385e-07 -1.04574191e-07  8.10405396e-08 ... -2.81317290e-02\n",
      " -3.03599648e-02 -3.51254381e-02], sr=22050 as keyword args. From version 0.10 passing these as positional arguments will result in an error\n",
      "  MFCCs = librosa.feature.mfcc(signal, sample_rate, n_mfcc=num_mfcc, n_fft=n_fft, hop_length=hop_length)\n"
     ]
    },
    {
     "name": "stdout",
     "output_type": "stream",
     "text": [
      "C:/Users/Lenovo/Documents/Education/Skripsi/Dataset/Dataset_Indonesia\\Kanan\\Kanan (121).wav: 0\n",
      "C:/Users/Lenovo/Documents/Education/Skripsi/Dataset/Dataset_Indonesia\\Kanan\\Kanan (122).wav: 0\n"
     ]
    },
    {
     "name": "stderr",
     "output_type": "stream",
     "text": [
      "C:\\Users\\Lenovo\\AppData\\Local\\Temp\\ipykernel_11612\\2861807924.py:31: FutureWarning: Pass y=[ 1.13028385e-07 -1.04574191e-07  8.10405396e-08 ...  1.01892855e-02\n",
      " -2.13313871e-03 -1.40270302e-02], sr=22050 as keyword args. From version 0.10 passing these as positional arguments will result in an error\n",
      "  MFCCs = librosa.feature.mfcc(signal, sample_rate, n_mfcc=num_mfcc, n_fft=n_fft, hop_length=hop_length)\n",
      "C:\\Users\\Lenovo\\AppData\\Local\\Temp\\ipykernel_11612\\2861807924.py:31: FutureWarning: Pass y=[ 1.13028385e-07 -1.04574191e-07  8.10405396e-08 ...  1.11969434e-01\n",
      "  1.09006822e-01  1.05309300e-01], sr=22050 as keyword args. From version 0.10 passing these as positional arguments will result in an error\n",
      "  MFCCs = librosa.feature.mfcc(signal, sample_rate, n_mfcc=num_mfcc, n_fft=n_fft, hop_length=hop_length)\n"
     ]
    },
    {
     "name": "stdout",
     "output_type": "stream",
     "text": [
      "C:/Users/Lenovo/Documents/Education/Skripsi/Dataset/Dataset_Indonesia\\Kanan\\Kanan (123).wav: 0\n",
      "C:/Users/Lenovo/Documents/Education/Skripsi/Dataset/Dataset_Indonesia\\Kanan\\Kanan (124).wav: 0\n"
     ]
    },
    {
     "name": "stderr",
     "output_type": "stream",
     "text": [
      "C:\\Users\\Lenovo\\AppData\\Local\\Temp\\ipykernel_11612\\2861807924.py:31: FutureWarning: Pass y=[ 1.13028385e-07 -1.04574191e-07  8.10405396e-08 ...  1.85626803e-03\n",
      "  2.74786772e-03  3.21293762e-03], sr=22050 as keyword args. From version 0.10 passing these as positional arguments will result in an error\n",
      "  MFCCs = librosa.feature.mfcc(signal, sample_rate, n_mfcc=num_mfcc, n_fft=n_fft, hop_length=hop_length)\n",
      "C:\\Users\\Lenovo\\AppData\\Local\\Temp\\ipykernel_11612\\2861807924.py:31: FutureWarning: Pass y=[ 1.13028385e-07 -1.04574191e-07  8.10405396e-08 ... -1.00282289e-03\n",
      "  8.64524569e-04  3.20778578e-03], sr=22050 as keyword args. From version 0.10 passing these as positional arguments will result in an error\n",
      "  MFCCs = librosa.feature.mfcc(signal, sample_rate, n_mfcc=num_mfcc, n_fft=n_fft, hop_length=hop_length)\n"
     ]
    },
    {
     "name": "stdout",
     "output_type": "stream",
     "text": [
      "C:/Users/Lenovo/Documents/Education/Skripsi/Dataset/Dataset_Indonesia\\Kanan\\Kanan (125).wav: 0\n",
      "C:/Users/Lenovo/Documents/Education/Skripsi/Dataset/Dataset_Indonesia\\Kanan\\Kanan (126).wav: 0\n"
     ]
    },
    {
     "name": "stderr",
     "output_type": "stream",
     "text": [
      "C:\\Users\\Lenovo\\AppData\\Local\\Temp\\ipykernel_11612\\2861807924.py:31: FutureWarning: Pass y=[ 1.13028385e-07 -1.04574191e-07  8.10405396e-08 ... -2.31363121e-02\n",
      " -2.37852316e-02 -2.48068087e-02], sr=22050 as keyword args. From version 0.10 passing these as positional arguments will result in an error\n",
      "  MFCCs = librosa.feature.mfcc(signal, sample_rate, n_mfcc=num_mfcc, n_fft=n_fft, hop_length=hop_length)\n",
      "C:\\Users\\Lenovo\\AppData\\Local\\Temp\\ipykernel_11612\\2861807924.py:31: FutureWarning: Pass y=[ 1.13028385e-07 -1.04574191e-07  8.10405396e-08 ...  1.02347264e-03\n",
      "  1.61714025e-03  2.22977786e-03], sr=22050 as keyword args. From version 0.10 passing these as positional arguments will result in an error\n",
      "  MFCCs = librosa.feature.mfcc(signal, sample_rate, n_mfcc=num_mfcc, n_fft=n_fft, hop_length=hop_length)\n"
     ]
    },
    {
     "name": "stdout",
     "output_type": "stream",
     "text": [
      "C:/Users/Lenovo/Documents/Education/Skripsi/Dataset/Dataset_Indonesia\\Kanan\\Kanan (127).wav: 0\n",
      "C:/Users/Lenovo/Documents/Education/Skripsi/Dataset/Dataset_Indonesia\\Kanan\\Kanan (128).wav: 0\n"
     ]
    },
    {
     "name": "stderr",
     "output_type": "stream",
     "text": [
      "C:\\Users\\Lenovo\\AppData\\Local\\Temp\\ipykernel_11612\\2861807924.py:31: FutureWarning: Pass y=[ 1.13028385e-07 -1.04574191e-07  8.10405396e-08 ...  6.83375634e-03\n",
      "  2.81897467e-03 -2.60441261e-03], sr=22050 as keyword args. From version 0.10 passing these as positional arguments will result in an error\n",
      "  MFCCs = librosa.feature.mfcc(signal, sample_rate, n_mfcc=num_mfcc, n_fft=n_fft, hop_length=hop_length)\n"
     ]
    },
    {
     "name": "stdout",
     "output_type": "stream",
     "text": [
      "C:/Users/Lenovo/Documents/Education/Skripsi/Dataset/Dataset_Indonesia\\Kanan\\Kanan (129).wav: 0\n",
      "C:/Users/Lenovo/Documents/Education/Skripsi/Dataset/Dataset_Indonesia\\Kanan\\Kanan (13).wav: 0\n"
     ]
    },
    {
     "name": "stderr",
     "output_type": "stream",
     "text": [
      "C:\\Users\\Lenovo\\AppData\\Local\\Temp\\ipykernel_11612\\2861807924.py:31: FutureWarning: Pass y=[-4.8467423e-06 -4.7740891e-06  1.4462179e-06 ...  2.8711809e-03\n",
      "  2.8200222e-03  1.9638205e-03], sr=22050 as keyword args. From version 0.10 passing these as positional arguments will result in an error\n",
      "  MFCCs = librosa.feature.mfcc(signal, sample_rate, n_mfcc=num_mfcc, n_fft=n_fft, hop_length=hop_length)\n",
      "C:\\Users\\Lenovo\\AppData\\Local\\Temp\\ipykernel_11612\\2861807924.py:31: FutureWarning: Pass y=[ 1.13028385e-07 -1.04574191e-07  8.10405396e-08 ...  7.29107240e-04\n",
      "  7.25061051e-04  8.17339984e-04], sr=22050 as keyword args. From version 0.10 passing these as positional arguments will result in an error\n",
      "  MFCCs = librosa.feature.mfcc(signal, sample_rate, n_mfcc=num_mfcc, n_fft=n_fft, hop_length=hop_length)\n"
     ]
    },
    {
     "name": "stdout",
     "output_type": "stream",
     "text": [
      "C:/Users/Lenovo/Documents/Education/Skripsi/Dataset/Dataset_Indonesia\\Kanan\\Kanan (130).wav: 0\n",
      "C:/Users/Lenovo/Documents/Education/Skripsi/Dataset/Dataset_Indonesia\\Kanan\\Kanan (131).wav: 0\n"
     ]
    },
    {
     "name": "stderr",
     "output_type": "stream",
     "text": [
      "C:\\Users\\Lenovo\\AppData\\Local\\Temp\\ipykernel_11612\\2861807924.py:31: FutureWarning: Pass y=[ 1.13028385e-07 -1.04574191e-07  8.10405396e-08 ...  5.71306050e-03\n",
      " -4.05745907e-03 -1.43639054e-02], sr=22050 as keyword args. From version 0.10 passing these as positional arguments will result in an error\n",
      "  MFCCs = librosa.feature.mfcc(signal, sample_rate, n_mfcc=num_mfcc, n_fft=n_fft, hop_length=hop_length)\n",
      "C:\\Users\\Lenovo\\AppData\\Local\\Temp\\ipykernel_11612\\2861807924.py:31: FutureWarning: Pass y=[ 1.13028385e-07 -1.04574191e-07  8.10405396e-08 ...  7.36355316e-03\n",
      "  7.35822553e-03  7.93251768e-03], sr=22050 as keyword args. From version 0.10 passing these as positional arguments will result in an error\n",
      "  MFCCs = librosa.feature.mfcc(signal, sample_rate, n_mfcc=num_mfcc, n_fft=n_fft, hop_length=hop_length)\n"
     ]
    },
    {
     "name": "stdout",
     "output_type": "stream",
     "text": [
      "C:/Users/Lenovo/Documents/Education/Skripsi/Dataset/Dataset_Indonesia\\Kanan\\Kanan (132).wav: 0\n",
      "C:/Users/Lenovo/Documents/Education/Skripsi/Dataset/Dataset_Indonesia\\Kanan\\Kanan (133).wav: 0\n"
     ]
    },
    {
     "name": "stderr",
     "output_type": "stream",
     "text": [
      "C:\\Users\\Lenovo\\AppData\\Local\\Temp\\ipykernel_11612\\2861807924.py:31: FutureWarning: Pass y=[ 1.13028385e-07 -1.04574191e-07  8.10405396e-08 ...  2.38771271e-03\n",
      " -9.19743761e-05 -3.22717545e-03], sr=22050 as keyword args. From version 0.10 passing these as positional arguments will result in an error\n",
      "  MFCCs = librosa.feature.mfcc(signal, sample_rate, n_mfcc=num_mfcc, n_fft=n_fft, hop_length=hop_length)\n",
      "C:\\Users\\Lenovo\\AppData\\Local\\Temp\\ipykernel_11612\\2861807924.py:31: FutureWarning: Pass y=[ 1.13028385e-07 -1.04574191e-07  8.10405396e-08 ... -4.14729863e-03\n",
      " -2.38571782e-03 -6.15551660e-04], sr=22050 as keyword args. From version 0.10 passing these as positional arguments will result in an error\n",
      "  MFCCs = librosa.feature.mfcc(signal, sample_rate, n_mfcc=num_mfcc, n_fft=n_fft, hop_length=hop_length)\n"
     ]
    },
    {
     "name": "stdout",
     "output_type": "stream",
     "text": [
      "C:/Users/Lenovo/Documents/Education/Skripsi/Dataset/Dataset_Indonesia\\Kanan\\Kanan (134).wav: 0\n"
     ]
    },
    {
     "name": "stderr",
     "output_type": "stream",
     "text": [
      "C:\\Users\\Lenovo\\AppData\\Local\\Temp\\ipykernel_11612\\2861807924.py:31: FutureWarning: Pass y=[ 1.13028385e-07 -1.04574191e-07  8.10405396e-08 ...  4.76363078e-02\n",
      "  4.70855199e-02  4.81223539e-02], sr=22050 as keyword args. From version 0.10 passing these as positional arguments will result in an error\n",
      "  MFCCs = librosa.feature.mfcc(signal, sample_rate, n_mfcc=num_mfcc, n_fft=n_fft, hop_length=hop_length)\n"
     ]
    },
    {
     "name": "stdout",
     "output_type": "stream",
     "text": [
      "C:/Users/Lenovo/Documents/Education/Skripsi/Dataset/Dataset_Indonesia\\Kanan\\Kanan (135).wav: 0\n"
     ]
    },
    {
     "name": "stderr",
     "output_type": "stream",
     "text": [
      "C:\\Users\\Lenovo\\AppData\\Local\\Temp\\ipykernel_11612\\2861807924.py:31: FutureWarning: Pass y=[ 1.13028385e-07 -1.04574191e-07  8.10405396e-08 ...  3.66168022e-02\n",
      "  4.77042571e-02  5.15949503e-02], sr=22050 as keyword args. From version 0.10 passing these as positional arguments will result in an error\n",
      "  MFCCs = librosa.feature.mfcc(signal, sample_rate, n_mfcc=num_mfcc, n_fft=n_fft, hop_length=hop_length)\n",
      "C:\\Users\\Lenovo\\AppData\\Local\\Temp\\ipykernel_11612\\2861807924.py:31: FutureWarning: Pass y=[ 1.13028385e-07 -1.04574191e-07  8.10405396e-08 ... -1.15928764e-03\n",
      " -8.83309229e-04 -9.37592296e-04], sr=22050 as keyword args. From version 0.10 passing these as positional arguments will result in an error\n",
      "  MFCCs = librosa.feature.mfcc(signal, sample_rate, n_mfcc=num_mfcc, n_fft=n_fft, hop_length=hop_length)\n"
     ]
    },
    {
     "name": "stdout",
     "output_type": "stream",
     "text": [
      "C:/Users/Lenovo/Documents/Education/Skripsi/Dataset/Dataset_Indonesia\\Kanan\\Kanan (136).wav: 0\n",
      "C:/Users/Lenovo/Documents/Education/Skripsi/Dataset/Dataset_Indonesia\\Kanan\\Kanan (137).wav: 0\n"
     ]
    },
    {
     "name": "stderr",
     "output_type": "stream",
     "text": [
      "C:\\Users\\Lenovo\\AppData\\Local\\Temp\\ipykernel_11612\\2861807924.py:31: FutureWarning: Pass y=[ 1.13028385e-07 -1.04574191e-07  8.10405396e-08 ...  5.00094378e-03\n",
      "  6.12676190e-03  5.84972743e-03], sr=22050 as keyword args. From version 0.10 passing these as positional arguments will result in an error\n",
      "  MFCCs = librosa.feature.mfcc(signal, sample_rate, n_mfcc=num_mfcc, n_fft=n_fft, hop_length=hop_length)\n",
      "C:\\Users\\Lenovo\\AppData\\Local\\Temp\\ipykernel_11612\\2861807924.py:31: FutureWarning: Pass y=[ 1.13028385e-07 -1.04574191e-07  8.10405396e-08 ...  2.53268611e-02\n",
      "  2.25730389e-02  2.04359293e-02], sr=22050 as keyword args. From version 0.10 passing these as positional arguments will result in an error\n",
      "  MFCCs = librosa.feature.mfcc(signal, sample_rate, n_mfcc=num_mfcc, n_fft=n_fft, hop_length=hop_length)\n"
     ]
    },
    {
     "name": "stdout",
     "output_type": "stream",
     "text": [
      "C:/Users/Lenovo/Documents/Education/Skripsi/Dataset/Dataset_Indonesia\\Kanan\\Kanan (138).wav: 0\n",
      "C:/Users/Lenovo/Documents/Education/Skripsi/Dataset/Dataset_Indonesia\\Kanan\\Kanan (139).wav: 0\n"
     ]
    },
    {
     "name": "stderr",
     "output_type": "stream",
     "text": [
      "C:\\Users\\Lenovo\\AppData\\Local\\Temp\\ipykernel_11612\\2861807924.py:31: FutureWarning: Pass y=[-7.5057379e-08  4.4320768e-08  2.5746447e-09 ...  9.7915120e-02\n",
      "  8.3914369e-02  6.1766986e-02], sr=22050 as keyword args. From version 0.10 passing these as positional arguments will result in an error\n",
      "  MFCCs = librosa.feature.mfcc(signal, sample_rate, n_mfcc=num_mfcc, n_fft=n_fft, hop_length=hop_length)\n",
      "C:\\Users\\Lenovo\\AppData\\Local\\Temp\\ipykernel_11612\\2861807924.py:31: FutureWarning: Pass y=[ 1.13028385e-07 -1.04574191e-07  8.10405396e-08 ...  3.53662157e-03\n",
      "  3.78875481e-03  2.89831124e-03], sr=22050 as keyword args. From version 0.10 passing these as positional arguments will result in an error\n",
      "  MFCCs = librosa.feature.mfcc(signal, sample_rate, n_mfcc=num_mfcc, n_fft=n_fft, hop_length=hop_length)\n"
     ]
    },
    {
     "name": "stdout",
     "output_type": "stream",
     "text": [
      "C:/Users/Lenovo/Documents/Education/Skripsi/Dataset/Dataset_Indonesia\\Kanan\\Kanan (14).wav: 0\n"
     ]
    },
    {
     "name": "stderr",
     "output_type": "stream",
     "text": [
      "C:\\Users\\Lenovo\\AppData\\Local\\Temp\\ipykernel_11612\\2861807924.py:31: FutureWarning: Pass y=[ 1.13028385e-07 -1.04574191e-07  8.10405396e-08 ... -4.64450344e-02\n",
      " -5.18502668e-02 -5.46684712e-02], sr=22050 as keyword args. From version 0.10 passing these as positional arguments will result in an error\n",
      "  MFCCs = librosa.feature.mfcc(signal, sample_rate, n_mfcc=num_mfcc, n_fft=n_fft, hop_length=hop_length)\n"
     ]
    },
    {
     "name": "stdout",
     "output_type": "stream",
     "text": [
      "C:/Users/Lenovo/Documents/Education/Skripsi/Dataset/Dataset_Indonesia\\Kanan\\Kanan (140).wav: 0\n",
      "C:/Users/Lenovo/Documents/Education/Skripsi/Dataset/Dataset_Indonesia\\Kanan\\Kanan (141).wav: 0\n",
      "C:/Users/Lenovo/Documents/Education/Skripsi/Dataset/Dataset_Indonesia\\Kanan\\Kanan (142).wav: 0\n"
     ]
    },
    {
     "name": "stderr",
     "output_type": "stream",
     "text": [
      "C:\\Users\\Lenovo\\AppData\\Local\\Temp\\ipykernel_11612\\2861807924.py:31: FutureWarning: Pass y=[ 1.13028385e-07 -1.04574191e-07  8.10405396e-08 ...  3.67755012e-04\n",
      "  3.05714639e-04 -8.30314966e-05], sr=22050 as keyword args. From version 0.10 passing these as positional arguments will result in an error\n",
      "  MFCCs = librosa.feature.mfcc(signal, sample_rate, n_mfcc=num_mfcc, n_fft=n_fft, hop_length=hop_length)\n",
      "C:\\Users\\Lenovo\\AppData\\Local\\Temp\\ipykernel_11612\\2861807924.py:31: FutureWarning: Pass y=[ 1.13028385e-07 -1.04574191e-07  8.10405396e-08 ... -6.12513795e-02\n",
      " -6.38087466e-02 -6.57693446e-02], sr=22050 as keyword args. From version 0.10 passing these as positional arguments will result in an error\n",
      "  MFCCs = librosa.feature.mfcc(signal, sample_rate, n_mfcc=num_mfcc, n_fft=n_fft, hop_length=hop_length)\n"
     ]
    },
    {
     "name": "stdout",
     "output_type": "stream",
     "text": [
      "C:/Users/Lenovo/Documents/Education/Skripsi/Dataset/Dataset_Indonesia\\Kanan\\Kanan (143).wav: 0\n",
      "C:/Users/Lenovo/Documents/Education/Skripsi/Dataset/Dataset_Indonesia\\Kanan\\Kanan (144).wav: 0\n"
     ]
    },
    {
     "name": "stderr",
     "output_type": "stream",
     "text": [
      "C:\\Users\\Lenovo\\AppData\\Local\\Temp\\ipykernel_11612\\2861807924.py:31: FutureWarning: Pass y=[ 1.13028385e-07 -1.04574191e-07  8.10405396e-08 ... -1.17158843e-02\n",
      " -1.31275477e-02 -1.55751826e-02], sr=22050 as keyword args. From version 0.10 passing these as positional arguments will result in an error\n",
      "  MFCCs = librosa.feature.mfcc(signal, sample_rate, n_mfcc=num_mfcc, n_fft=n_fft, hop_length=hop_length)\n",
      "C:\\Users\\Lenovo\\AppData\\Local\\Temp\\ipykernel_11612\\2861807924.py:31: FutureWarning: Pass y=[ 1.13028385e-07 -1.04574191e-07  8.10405396e-08 ...  2.41788384e-03\n",
      "  5.40190900e-04 -6.61050843e-04], sr=22050 as keyword args. From version 0.10 passing these as positional arguments will result in an error\n",
      "  MFCCs = librosa.feature.mfcc(signal, sample_rate, n_mfcc=num_mfcc, n_fft=n_fft, hop_length=hop_length)\n",
      "C:\\Users\\Lenovo\\AppData\\Local\\Temp\\ipykernel_11612\\2861807924.py:31: FutureWarning: Pass y=[ 1.13028385e-07 -1.04574191e-07  8.10405396e-08 ...  3.23539204e-03\n",
      " -2.04666518e-03 -7.81700574e-03], sr=22050 as keyword args. From version 0.10 passing these as positional arguments will result in an error\n",
      "  MFCCs = librosa.feature.mfcc(signal, sample_rate, n_mfcc=num_mfcc, n_fft=n_fft, hop_length=hop_length)\n"
     ]
    },
    {
     "name": "stdout",
     "output_type": "stream",
     "text": [
      "C:/Users/Lenovo/Documents/Education/Skripsi/Dataset/Dataset_Indonesia\\Kanan\\Kanan (145).wav: 0\n",
      "C:/Users/Lenovo/Documents/Education/Skripsi/Dataset/Dataset_Indonesia\\Kanan\\Kanan (146).wav: 0\n"
     ]
    },
    {
     "name": "stderr",
     "output_type": "stream",
     "text": [
      "C:\\Users\\Lenovo\\AppData\\Local\\Temp\\ipykernel_11612\\2861807924.py:31: FutureWarning: Pass y=[ 1.13028385e-07 -1.04574191e-07  8.10405396e-08 ...  3.47948866e-03\n",
      "  2.98787281e-03  2.43696477e-03], sr=22050 as keyword args. From version 0.10 passing these as positional arguments will result in an error\n",
      "  MFCCs = librosa.feature.mfcc(signal, sample_rate, n_mfcc=num_mfcc, n_fft=n_fft, hop_length=hop_length)\n",
      "C:\\Users\\Lenovo\\AppData\\Local\\Temp\\ipykernel_11612\\2861807924.py:31: FutureWarning: Pass y=[ 1.13028385e-07 -1.04574191e-07  8.10405396e-08 ...  5.57494117e-03\n",
      "  5.06267976e-03  4.08995012e-03], sr=22050 as keyword args. From version 0.10 passing these as positional arguments will result in an error\n",
      "  MFCCs = librosa.feature.mfcc(signal, sample_rate, n_mfcc=num_mfcc, n_fft=n_fft, hop_length=hop_length)\n"
     ]
    },
    {
     "name": "stdout",
     "output_type": "stream",
     "text": [
      "C:/Users/Lenovo/Documents/Education/Skripsi/Dataset/Dataset_Indonesia\\Kanan\\Kanan (147).wav: 0\n",
      "C:/Users/Lenovo/Documents/Education/Skripsi/Dataset/Dataset_Indonesia\\Kanan\\Kanan (148).wav: 0\n"
     ]
    },
    {
     "name": "stderr",
     "output_type": "stream",
     "text": [
      "C:\\Users\\Lenovo\\AppData\\Local\\Temp\\ipykernel_11612\\2861807924.py:31: FutureWarning: Pass y=[ 1.13028385e-07 -1.04574191e-07  8.10405396e-08 ... -4.65521030e-02\n",
      " -4.12273630e-02 -3.44543979e-02], sr=22050 as keyword args. From version 0.10 passing these as positional arguments will result in an error\n",
      "  MFCCs = librosa.feature.mfcc(signal, sample_rate, n_mfcc=num_mfcc, n_fft=n_fft, hop_length=hop_length)\n",
      "C:\\Users\\Lenovo\\AppData\\Local\\Temp\\ipykernel_11612\\2861807924.py:31: FutureWarning: Pass y=[-5.2360349e-08  7.7062005e-08 -1.0200635e-07 ...  5.4378822e-02\n",
      "  5.1045090e-02  5.1998679e-02], sr=22050 as keyword args. From version 0.10 passing these as positional arguments will result in an error\n",
      "  MFCCs = librosa.feature.mfcc(signal, sample_rate, n_mfcc=num_mfcc, n_fft=n_fft, hop_length=hop_length)\n"
     ]
    },
    {
     "name": "stdout",
     "output_type": "stream",
     "text": [
      "C:/Users/Lenovo/Documents/Education/Skripsi/Dataset/Dataset_Indonesia\\Kanan\\Kanan (149).wav: 0\n",
      "C:/Users/Lenovo/Documents/Education/Skripsi/Dataset/Dataset_Indonesia\\Kanan\\Kanan (15).wav: 0\n"
     ]
    },
    {
     "name": "stderr",
     "output_type": "stream",
     "text": [
      "C:\\Users\\Lenovo\\AppData\\Local\\Temp\\ipykernel_11612\\2861807924.py:31: FutureWarning: Pass y=[ 1.13028385e-07 -1.04574191e-07  8.10405396e-08 ...  1.48587143e-02\n",
      "  1.38482656e-02  1.52605753e-02], sr=22050 as keyword args. From version 0.10 passing these as positional arguments will result in an error\n",
      "  MFCCs = librosa.feature.mfcc(signal, sample_rate, n_mfcc=num_mfcc, n_fft=n_fft, hop_length=hop_length)\n"
     ]
    },
    {
     "name": "stdout",
     "output_type": "stream",
     "text": [
      "C:/Users/Lenovo/Documents/Education/Skripsi/Dataset/Dataset_Indonesia\\Kanan\\Kanan (150).wav: 0\n",
      "C:/Users/Lenovo/Documents/Education/Skripsi/Dataset/Dataset_Indonesia\\Kanan\\Kanan (151).wav: 0\n"
     ]
    },
    {
     "name": "stderr",
     "output_type": "stream",
     "text": [
      "C:\\Users\\Lenovo\\AppData\\Local\\Temp\\ipykernel_11612\\2861807924.py:31: FutureWarning: Pass y=[ 1.13028385e-07 -1.04574191e-07  8.10405396e-08 ... -6.90223202e-02\n",
      " -6.60104454e-02 -5.71294874e-02], sr=22050 as keyword args. From version 0.10 passing these as positional arguments will result in an error\n",
      "  MFCCs = librosa.feature.mfcc(signal, sample_rate, n_mfcc=num_mfcc, n_fft=n_fft, hop_length=hop_length)\n",
      "C:\\Users\\Lenovo\\AppData\\Local\\Temp\\ipykernel_11612\\2861807924.py:31: FutureWarning: Pass y=[ 1.13028385e-07 -1.04574191e-07  8.10405396e-08 ...  2.28844304e-03\n",
      "  2.13664328e-03  6.71352085e-04], sr=22050 as keyword args. From version 0.10 passing these as positional arguments will result in an error\n",
      "  MFCCs = librosa.feature.mfcc(signal, sample_rate, n_mfcc=num_mfcc, n_fft=n_fft, hop_length=hop_length)\n"
     ]
    },
    {
     "name": "stdout",
     "output_type": "stream",
     "text": [
      "C:/Users/Lenovo/Documents/Education/Skripsi/Dataset/Dataset_Indonesia\\Kanan\\Kanan (152).wav: 0\n",
      "C:/Users/Lenovo/Documents/Education/Skripsi/Dataset/Dataset_Indonesia\\Kanan\\Kanan (153).wav: 0\n"
     ]
    },
    {
     "name": "stderr",
     "output_type": "stream",
     "text": [
      "C:\\Users\\Lenovo\\AppData\\Local\\Temp\\ipykernel_11612\\2861807924.py:31: FutureWarning: Pass y=[ 1.13028385e-07 -1.04574191e-07  8.10405396e-08 ...  5.61600365e-03\n",
      "  6.58694655e-03  7.24075409e-03], sr=22050 as keyword args. From version 0.10 passing these as positional arguments will result in an error\n",
      "  MFCCs = librosa.feature.mfcc(signal, sample_rate, n_mfcc=num_mfcc, n_fft=n_fft, hop_length=hop_length)\n",
      "C:\\Users\\Lenovo\\AppData\\Local\\Temp\\ipykernel_11612\\2861807924.py:31: FutureWarning: Pass y=[ 1.13028385e-07 -1.04574191e-07  8.10405396e-08 ...  8.86829942e-03\n",
      "  9.48810391e-03  9.84131638e-03], sr=22050 as keyword args. From version 0.10 passing these as positional arguments will result in an error\n",
      "  MFCCs = librosa.feature.mfcc(signal, sample_rate, n_mfcc=num_mfcc, n_fft=n_fft, hop_length=hop_length)\n"
     ]
    },
    {
     "name": "stdout",
     "output_type": "stream",
     "text": [
      "C:/Users/Lenovo/Documents/Education/Skripsi/Dataset/Dataset_Indonesia\\Kanan\\Kanan (154).wav: 0\n",
      "C:/Users/Lenovo/Documents/Education/Skripsi/Dataset/Dataset_Indonesia\\Kanan\\Kanan (155).wav: 0\n"
     ]
    },
    {
     "name": "stderr",
     "output_type": "stream",
     "text": [
      "C:\\Users\\Lenovo\\AppData\\Local\\Temp\\ipykernel_11612\\2861807924.py:31: FutureWarning: Pass y=[ 1.13028385e-07 -1.04574191e-07  8.10405396e-08 ...  3.78657226e-03\n",
      "  2.41651805e-03  5.70779084e-04], sr=22050 as keyword args. From version 0.10 passing these as positional arguments will result in an error\n",
      "  MFCCs = librosa.feature.mfcc(signal, sample_rate, n_mfcc=num_mfcc, n_fft=n_fft, hop_length=hop_length)\n",
      "C:\\Users\\Lenovo\\AppData\\Local\\Temp\\ipykernel_11612\\2861807924.py:31: FutureWarning: Pass y=[ 1.13028385e-07 -1.04574191e-07  8.10405396e-08 ...  1.16497083e-02\n",
      "  1.03684403e-02  9.30582546e-03], sr=22050 as keyword args. From version 0.10 passing these as positional arguments will result in an error\n",
      "  MFCCs = librosa.feature.mfcc(signal, sample_rate, n_mfcc=num_mfcc, n_fft=n_fft, hop_length=hop_length)\n"
     ]
    },
    {
     "name": "stdout",
     "output_type": "stream",
     "text": [
      "C:/Users/Lenovo/Documents/Education/Skripsi/Dataset/Dataset_Indonesia\\Kanan\\Kanan (156).wav: 0\n",
      "C:/Users/Lenovo/Documents/Education/Skripsi/Dataset/Dataset_Indonesia\\Kanan\\Kanan (157).wav: 0\n"
     ]
    },
    {
     "name": "stderr",
     "output_type": "stream",
     "text": [
      "C:\\Users\\Lenovo\\AppData\\Local\\Temp\\ipykernel_11612\\2861807924.py:31: FutureWarning: Pass y=[ 1.13028385e-07 -1.04574191e-07  8.10405396e-08 ...  1.03046349e-03\n",
      "  1.46488089e-03  1.46069657e-03], sr=22050 as keyword args. From version 0.10 passing these as positional arguments will result in an error\n",
      "  MFCCs = librosa.feature.mfcc(signal, sample_rate, n_mfcc=num_mfcc, n_fft=n_fft, hop_length=hop_length)\n",
      "C:\\Users\\Lenovo\\AppData\\Local\\Temp\\ipykernel_11612\\2861807924.py:31: FutureWarning: Pass y=[ 1.13028385e-07 -1.04574191e-07  8.10405396e-08 ... -9.69250500e-03\n",
      " -8.97904020e-03 -9.05841775e-03], sr=22050 as keyword args. From version 0.10 passing these as positional arguments will result in an error\n",
      "  MFCCs = librosa.feature.mfcc(signal, sample_rate, n_mfcc=num_mfcc, n_fft=n_fft, hop_length=hop_length)\n"
     ]
    },
    {
     "name": "stdout",
     "output_type": "stream",
     "text": [
      "C:/Users/Lenovo/Documents/Education/Skripsi/Dataset/Dataset_Indonesia\\Kanan\\Kanan (158).wav: 0\n",
      "C:/Users/Lenovo/Documents/Education/Skripsi/Dataset/Dataset_Indonesia\\Kanan\\Kanan (159).wav: 0\n"
     ]
    },
    {
     "name": "stderr",
     "output_type": "stream",
     "text": [
      "C:\\Users\\Lenovo\\AppData\\Local\\Temp\\ipykernel_11612\\2861807924.py:31: FutureWarning: Pass y=[ 1.13028385e-07 -1.04574191e-07  8.10405396e-08 ... -4.00091149e-03\n",
      " -3.72986309e-03 -3.23587074e-03], sr=22050 as keyword args. From version 0.10 passing these as positional arguments will result in an error\n",
      "  MFCCs = librosa.feature.mfcc(signal, sample_rate, n_mfcc=num_mfcc, n_fft=n_fft, hop_length=hop_length)\n",
      "C:\\Users\\Lenovo\\AppData\\Local\\Temp\\ipykernel_11612\\2861807924.py:31: FutureWarning: Pass y=[-5.3826142e-08  7.9589505e-08 -1.0581892e-07 ... -1.3280739e-01\n",
      " -1.6008881e-01 -1.7697196e-01], sr=22050 as keyword args. From version 0.10 passing these as positional arguments will result in an error\n",
      "  MFCCs = librosa.feature.mfcc(signal, sample_rate, n_mfcc=num_mfcc, n_fft=n_fft, hop_length=hop_length)\n"
     ]
    },
    {
     "name": "stdout",
     "output_type": "stream",
     "text": [
      "C:/Users/Lenovo/Documents/Education/Skripsi/Dataset/Dataset_Indonesia\\Kanan\\Kanan (16).wav: 0\n",
      "C:/Users/Lenovo/Documents/Education/Skripsi/Dataset/Dataset_Indonesia\\Kanan\\Kanan (160).wav: 0\n"
     ]
    },
    {
     "name": "stderr",
     "output_type": "stream",
     "text": [
      "C:\\Users\\Lenovo\\AppData\\Local\\Temp\\ipykernel_11612\\2861807924.py:31: FutureWarning: Pass y=[ 1.13028385e-07 -1.04574191e-07  8.10405396e-08 ...  2.25938368e-03\n",
      "  7.57191004e-03  1.28169367e-02], sr=22050 as keyword args. From version 0.10 passing these as positional arguments will result in an error\n",
      "  MFCCs = librosa.feature.mfcc(signal, sample_rate, n_mfcc=num_mfcc, n_fft=n_fft, hop_length=hop_length)\n",
      "C:\\Users\\Lenovo\\AppData\\Local\\Temp\\ipykernel_11612\\2861807924.py:31: FutureWarning: Pass y=[ 1.13028385e-07 -1.04574191e-07  8.10405396e-08 ... -8.77824088e-04\n",
      " -1.07678166e-03 -1.49898790e-03], sr=22050 as keyword args. From version 0.10 passing these as positional arguments will result in an error\n",
      "  MFCCs = librosa.feature.mfcc(signal, sample_rate, n_mfcc=num_mfcc, n_fft=n_fft, hop_length=hop_length)\n"
     ]
    },
    {
     "name": "stdout",
     "output_type": "stream",
     "text": [
      "C:/Users/Lenovo/Documents/Education/Skripsi/Dataset/Dataset_Indonesia\\Kanan\\Kanan (161).wav: 0\n"
     ]
    },
    {
     "name": "stderr",
     "output_type": "stream",
     "text": [
      "C:\\Users\\Lenovo\\AppData\\Local\\Temp\\ipykernel_11612\\2861807924.py:31: FutureWarning: Pass y=[ 1.13028385e-07 -1.04574191e-07  8.10405396e-08 ... -1.22191221e-03\n",
      " -1.52125349e-03 -1.54593692e-03], sr=22050 as keyword args. From version 0.10 passing these as positional arguments will result in an error\n",
      "  MFCCs = librosa.feature.mfcc(signal, sample_rate, n_mfcc=num_mfcc, n_fft=n_fft, hop_length=hop_length)\n"
     ]
    },
    {
     "name": "stdout",
     "output_type": "stream",
     "text": [
      "C:/Users/Lenovo/Documents/Education/Skripsi/Dataset/Dataset_Indonesia\\Kanan\\Kanan (162).wav: 0\n",
      "C:/Users/Lenovo/Documents/Education/Skripsi/Dataset/Dataset_Indonesia\\Kanan\\Kanan (163).wav: 0\n"
     ]
    },
    {
     "name": "stderr",
     "output_type": "stream",
     "text": [
      "C:\\Users\\Lenovo\\AppData\\Local\\Temp\\ipykernel_11612\\2861807924.py:31: FutureWarning: Pass y=[ 1.13028385e-07 -1.04574191e-07  8.10405396e-08 ... -6.53207768e-03\n",
      " -9.05266963e-03 -1.01872990e-02], sr=22050 as keyword args. From version 0.10 passing these as positional arguments will result in an error\n",
      "  MFCCs = librosa.feature.mfcc(signal, sample_rate, n_mfcc=num_mfcc, n_fft=n_fft, hop_length=hop_length)\n",
      "C:\\Users\\Lenovo\\AppData\\Local\\Temp\\ipykernel_11612\\2861807924.py:31: FutureWarning: Pass y=[ 1.13028385e-07 -1.04574191e-07  8.10405396e-08 ...  9.03490093e-03\n",
      "  8.03608820e-03  6.38376968e-03], sr=22050 as keyword args. From version 0.10 passing these as positional arguments will result in an error\n",
      "  MFCCs = librosa.feature.mfcc(signal, sample_rate, n_mfcc=num_mfcc, n_fft=n_fft, hop_length=hop_length)\n",
      "C:\\Users\\Lenovo\\AppData\\Local\\Temp\\ipykernel_11612\\2861807924.py:31: FutureWarning: Pass y=[ 1.13028385e-07 -1.04574191e-07  8.10405396e-08 ... -7.65314698e-03\n",
      " -6.64877845e-03 -5.95373893e-03], sr=22050 as keyword args. From version 0.10 passing these as positional arguments will result in an error\n",
      "  MFCCs = librosa.feature.mfcc(signal, sample_rate, n_mfcc=num_mfcc, n_fft=n_fft, hop_length=hop_length)\n"
     ]
    },
    {
     "name": "stdout",
     "output_type": "stream",
     "text": [
      "C:/Users/Lenovo/Documents/Education/Skripsi/Dataset/Dataset_Indonesia\\Kanan\\Kanan (164).wav: 0\n",
      "C:/Users/Lenovo/Documents/Education/Skripsi/Dataset/Dataset_Indonesia\\Kanan\\Kanan (165).wav: 0\n",
      "C:/Users/Lenovo/Documents/Education/Skripsi/Dataset/Dataset_Indonesia\\Kanan\\Kanan (166).wav: 0\n"
     ]
    },
    {
     "name": "stderr",
     "output_type": "stream",
     "text": [
      "C:\\Users\\Lenovo\\AppData\\Local\\Temp\\ipykernel_11612\\2861807924.py:31: FutureWarning: Pass y=[ 1.13028385e-07 -1.04574191e-07  8.10405396e-08 ... -3.07995710e-03\n",
      " -2.97232461e-03 -2.10461067e-03], sr=22050 as keyword args. From version 0.10 passing these as positional arguments will result in an error\n",
      "  MFCCs = librosa.feature.mfcc(signal, sample_rate, n_mfcc=num_mfcc, n_fft=n_fft, hop_length=hop_length)\n",
      "C:\\Users\\Lenovo\\AppData\\Local\\Temp\\ipykernel_11612\\2861807924.py:31: FutureWarning: Pass y=[ 1.13028385e-07 -1.04574191e-07  8.10405396e-08 ... -5.28312987e-04\n",
      " -5.62263478e-04 -8.55000049e-04], sr=22050 as keyword args. From version 0.10 passing these as positional arguments will result in an error\n",
      "  MFCCs = librosa.feature.mfcc(signal, sample_rate, n_mfcc=num_mfcc, n_fft=n_fft, hop_length=hop_length)\n"
     ]
    },
    {
     "name": "stdout",
     "output_type": "stream",
     "text": [
      "C:/Users/Lenovo/Documents/Education/Skripsi/Dataset/Dataset_Indonesia\\Kanan\\Kanan (167).wav: 0\n",
      "C:/Users/Lenovo/Documents/Education/Skripsi/Dataset/Dataset_Indonesia\\Kanan\\Kanan (168).wav: 0\n"
     ]
    },
    {
     "name": "stderr",
     "output_type": "stream",
     "text": [
      "C:\\Users\\Lenovo\\AppData\\Local\\Temp\\ipykernel_11612\\2861807924.py:31: FutureWarning: Pass y=[ 1.13028385e-07 -1.04574191e-07  8.10405396e-08 ...  1.54390754e-02\n",
      "  1.55386636e-02  1.63343698e-02], sr=22050 as keyword args. From version 0.10 passing these as positional arguments will result in an error\n",
      "  MFCCs = librosa.feature.mfcc(signal, sample_rate, n_mfcc=num_mfcc, n_fft=n_fft, hop_length=hop_length)\n",
      "C:\\Users\\Lenovo\\AppData\\Local\\Temp\\ipykernel_11612\\2861807924.py:31: FutureWarning: Pass y=[ 1.13028385e-07 -1.04574191e-07  8.10405396e-08 ...  6.14608580e-04\n",
      "  3.56697887e-02  7.31643364e-02], sr=22050 as keyword args. From version 0.10 passing these as positional arguments will result in an error\n",
      "  MFCCs = librosa.feature.mfcc(signal, sample_rate, n_mfcc=num_mfcc, n_fft=n_fft, hop_length=hop_length)\n"
     ]
    },
    {
     "name": "stdout",
     "output_type": "stream",
     "text": [
      "C:/Users/Lenovo/Documents/Education/Skripsi/Dataset/Dataset_Indonesia\\Kanan\\Kanan (169).wav: 0\n",
      "C:/Users/Lenovo/Documents/Education/Skripsi/Dataset/Dataset_Indonesia\\Kanan\\Kanan (17).wav: 0\n"
     ]
    },
    {
     "name": "stderr",
     "output_type": "stream",
     "text": [
      "C:\\Users\\Lenovo\\AppData\\Local\\Temp\\ipykernel_11612\\2861807924.py:31: FutureWarning: Pass y=[-4.6900109e-06 -4.9257428e-06  1.5765889e-06 ... -4.7447835e-03\n",
      " -5.1607755e-03 -5.4041320e-03], sr=22050 as keyword args. From version 0.10 passing these as positional arguments will result in an error\n",
      "  MFCCs = librosa.feature.mfcc(signal, sample_rate, n_mfcc=num_mfcc, n_fft=n_fft, hop_length=hop_length)\n",
      "C:\\Users\\Lenovo\\AppData\\Local\\Temp\\ipykernel_11612\\2861807924.py:31: FutureWarning: Pass y=[ 1.13028385e-07 -1.04574191e-07  8.10405396e-08 ... -3.71854706e-03\n",
      " -3.87118105e-03 -3.51473968e-03], sr=22050 as keyword args. From version 0.10 passing these as positional arguments will result in an error\n",
      "  MFCCs = librosa.feature.mfcc(signal, sample_rate, n_mfcc=num_mfcc, n_fft=n_fft, hop_length=hop_length)\n"
     ]
    },
    {
     "name": "stdout",
     "output_type": "stream",
     "text": [
      "C:/Users/Lenovo/Documents/Education/Skripsi/Dataset/Dataset_Indonesia\\Kanan\\Kanan (170).wav: 0\n",
      "C:/Users/Lenovo/Documents/Education/Skripsi/Dataset/Dataset_Indonesia\\Kanan\\Kanan (171).wav: 0\n"
     ]
    },
    {
     "name": "stderr",
     "output_type": "stream",
     "text": [
      "C:\\Users\\Lenovo\\AppData\\Local\\Temp\\ipykernel_11612\\2861807924.py:31: FutureWarning: Pass y=[ 1.13028385e-07 -1.04574191e-07  8.10405396e-08 ... -1.42842205e-03\n",
      " -1.27811206e-03 -1.09822385e-03], sr=22050 as keyword args. From version 0.10 passing these as positional arguments will result in an error\n",
      "  MFCCs = librosa.feature.mfcc(signal, sample_rate, n_mfcc=num_mfcc, n_fft=n_fft, hop_length=hop_length)\n",
      "C:\\Users\\Lenovo\\AppData\\Local\\Temp\\ipykernel_11612\\2861807924.py:31: FutureWarning: Pass y=[ 1.13028385e-07 -1.04574191e-07  8.10405396e-08 ...  1.52686024e-02\n",
      "  1.46972388e-02  1.53058376e-02], sr=22050 as keyword args. From version 0.10 passing these as positional arguments will result in an error\n",
      "  MFCCs = librosa.feature.mfcc(signal, sample_rate, n_mfcc=num_mfcc, n_fft=n_fft, hop_length=hop_length)\n"
     ]
    },
    {
     "name": "stdout",
     "output_type": "stream",
     "text": [
      "C:/Users/Lenovo/Documents/Education/Skripsi/Dataset/Dataset_Indonesia\\Kanan\\Kanan (172).wav: 0\n",
      "C:/Users/Lenovo/Documents/Education/Skripsi/Dataset/Dataset_Indonesia\\Kanan\\Kanan (173).wav: 0\n"
     ]
    },
    {
     "name": "stderr",
     "output_type": "stream",
     "text": [
      "C:\\Users\\Lenovo\\AppData\\Local\\Temp\\ipykernel_11612\\2861807924.py:31: FutureWarning: Pass y=[ 1.13028385e-07 -1.04574191e-07  8.10405396e-08 ... -2.69739423e-03\n",
      " -1.43918651e-03 -3.45711043e-04], sr=22050 as keyword args. From version 0.10 passing these as positional arguments will result in an error\n",
      "  MFCCs = librosa.feature.mfcc(signal, sample_rate, n_mfcc=num_mfcc, n_fft=n_fft, hop_length=hop_length)\n",
      "C:\\Users\\Lenovo\\AppData\\Local\\Temp\\ipykernel_11612\\2861807924.py:31: FutureWarning: Pass y=[ 1.13028385e-07 -1.04574191e-07  8.10405396e-08 ... -6.09240904e-02\n",
      " -5.78196570e-02 -5.83376810e-02], sr=22050 as keyword args. From version 0.10 passing these as positional arguments will result in an error\n",
      "  MFCCs = librosa.feature.mfcc(signal, sample_rate, n_mfcc=num_mfcc, n_fft=n_fft, hop_length=hop_length)\n"
     ]
    },
    {
     "name": "stdout",
     "output_type": "stream",
     "text": [
      "C:/Users/Lenovo/Documents/Education/Skripsi/Dataset/Dataset_Indonesia\\Kanan\\Kanan (174).wav: 0\n",
      "C:/Users/Lenovo/Documents/Education/Skripsi/Dataset/Dataset_Indonesia\\Kanan\\Kanan (175).wav: 0\n"
     ]
    },
    {
     "name": "stderr",
     "output_type": "stream",
     "text": [
      "C:\\Users\\Lenovo\\AppData\\Local\\Temp\\ipykernel_11612\\2861807924.py:31: FutureWarning: Pass y=[ 1.13028385e-07 -1.04574191e-07  8.10405396e-08 ...  6.63883460e-04\n",
      "  1.34991936e-03  1.73840683e-03], sr=22050 as keyword args. From version 0.10 passing these as positional arguments will result in an error\n",
      "  MFCCs = librosa.feature.mfcc(signal, sample_rate, n_mfcc=num_mfcc, n_fft=n_fft, hop_length=hop_length)\n",
      "C:\\Users\\Lenovo\\AppData\\Local\\Temp\\ipykernel_11612\\2861807924.py:31: FutureWarning: Pass y=[ 1.13028385e-07 -1.04574191e-07  8.10405396e-08 ... -1.61893945e-03\n",
      " -1.19257821e-02 -2.32680570e-02], sr=22050 as keyword args. From version 0.10 passing these as positional arguments will result in an error\n",
      "  MFCCs = librosa.feature.mfcc(signal, sample_rate, n_mfcc=num_mfcc, n_fft=n_fft, hop_length=hop_length)\n"
     ]
    },
    {
     "name": "stdout",
     "output_type": "stream",
     "text": [
      "C:/Users/Lenovo/Documents/Education/Skripsi/Dataset/Dataset_Indonesia\\Kanan\\Kanan (176).wav: 0\n",
      "C:/Users/Lenovo/Documents/Education/Skripsi/Dataset/Dataset_Indonesia\\Kanan\\Kanan (177).wav: 0\n"
     ]
    },
    {
     "name": "stderr",
     "output_type": "stream",
     "text": [
      "C:\\Users\\Lenovo\\AppData\\Local\\Temp\\ipykernel_11612\\2861807924.py:31: FutureWarning: Pass y=[ 1.13028385e-07 -1.04574191e-07  8.10405396e-08 ... -3.56581472e-02\n",
      " -3.42696756e-02 -3.25762779e-02], sr=22050 as keyword args. From version 0.10 passing these as positional arguments will result in an error\n",
      "  MFCCs = librosa.feature.mfcc(signal, sample_rate, n_mfcc=num_mfcc, n_fft=n_fft, hop_length=hop_length)\n",
      "C:\\Users\\Lenovo\\AppData\\Local\\Temp\\ipykernel_11612\\2861807924.py:31: FutureWarning: Pass y=[ 1.13028385e-07 -1.04574191e-07  8.10405396e-08 ... -7.80326407e-03\n",
      " -8.31236877e-03 -8.67089909e-03], sr=22050 as keyword args. From version 0.10 passing these as positional arguments will result in an error\n",
      "  MFCCs = librosa.feature.mfcc(signal, sample_rate, n_mfcc=num_mfcc, n_fft=n_fft, hop_length=hop_length)\n"
     ]
    },
    {
     "name": "stdout",
     "output_type": "stream",
     "text": [
      "C:/Users/Lenovo/Documents/Education/Skripsi/Dataset/Dataset_Indonesia\\Kanan\\Kanan (178).wav: 0\n",
      "C:/Users/Lenovo/Documents/Education/Skripsi/Dataset/Dataset_Indonesia\\Kanan\\Kanan (179).wav: 0\n"
     ]
    },
    {
     "name": "stderr",
     "output_type": "stream",
     "text": [
      "C:\\Users\\Lenovo\\AppData\\Local\\Temp\\ipykernel_11612\\2861807924.py:31: FutureWarning: Pass y=[ 1.13028385e-07 -1.04574191e-07  8.10405396e-08 ...  3.31476629e-02\n",
      "  3.48583050e-02  3.61271016e-02], sr=22050 as keyword args. From version 0.10 passing these as positional arguments will result in an error\n",
      "  MFCCs = librosa.feature.mfcc(signal, sample_rate, n_mfcc=num_mfcc, n_fft=n_fft, hop_length=hop_length)\n",
      "C:\\Users\\Lenovo\\AppData\\Local\\Temp\\ipykernel_11612\\2861807924.py:31: FutureWarning: Pass y=[-5.3826142e-08  7.9589505e-08 -1.0581892e-07 ...  8.3548424e-04\n",
      " -3.6086544e-04 -2.5513719e-04], sr=22050 as keyword args. From version 0.10 passing these as positional arguments will result in an error\n",
      "  MFCCs = librosa.feature.mfcc(signal, sample_rate, n_mfcc=num_mfcc, n_fft=n_fft, hop_length=hop_length)\n"
     ]
    },
    {
     "name": "stdout",
     "output_type": "stream",
     "text": [
      "C:/Users/Lenovo/Documents/Education/Skripsi/Dataset/Dataset_Indonesia\\Kanan\\Kanan (18).wav: 0\n"
     ]
    },
    {
     "name": "stderr",
     "output_type": "stream",
     "text": [
      "C:\\Users\\Lenovo\\AppData\\Local\\Temp\\ipykernel_11612\\2861807924.py:31: FutureWarning: Pass y=[ 1.13028385e-07 -1.04574191e-07  8.10405396e-08 ... -3.63133475e-02\n",
      " -4.04340811e-02 -4.09001671e-02], sr=22050 as keyword args. From version 0.10 passing these as positional arguments will result in an error\n",
      "  MFCCs = librosa.feature.mfcc(signal, sample_rate, n_mfcc=num_mfcc, n_fft=n_fft, hop_length=hop_length)\n"
     ]
    },
    {
     "name": "stdout",
     "output_type": "stream",
     "text": [
      "C:/Users/Lenovo/Documents/Education/Skripsi/Dataset/Dataset_Indonesia\\Kanan\\Kanan (180).wav: 0\n",
      "C:/Users/Lenovo/Documents/Education/Skripsi/Dataset/Dataset_Indonesia\\Kanan\\Kanan (181).wav: 0\n"
     ]
    },
    {
     "name": "stderr",
     "output_type": "stream",
     "text": [
      "C:\\Users\\Lenovo\\AppData\\Local\\Temp\\ipykernel_11612\\2861807924.py:31: FutureWarning: Pass y=[ 1.13028385e-07 -1.04574191e-07  8.10405396e-08 ...  1.10452846e-02\n",
      "  7.93007575e-03  5.33332024e-03], sr=22050 as keyword args. From version 0.10 passing these as positional arguments will result in an error\n",
      "  MFCCs = librosa.feature.mfcc(signal, sample_rate, n_mfcc=num_mfcc, n_fft=n_fft, hop_length=hop_length)\n",
      "C:\\Users\\Lenovo\\AppData\\Local\\Temp\\ipykernel_11612\\2861807924.py:31: FutureWarning: Pass y=[ 1.13028385e-07 -1.04574191e-07  8.10405396e-08 ...  1.52061472e-03\n",
      "  1.25657883e-03  1.15701859e-03], sr=22050 as keyword args. From version 0.10 passing these as positional arguments will result in an error\n",
      "  MFCCs = librosa.feature.mfcc(signal, sample_rate, n_mfcc=num_mfcc, n_fft=n_fft, hop_length=hop_length)\n",
      "C:\\Users\\Lenovo\\AppData\\Local\\Temp\\ipykernel_11612\\2861807924.py:31: FutureWarning: Pass y=[ 1.13028385e-07 -1.04574191e-07  8.10405396e-08 ...  9.82919056e-03\n",
      "  1.02365809e-02  9.55286156e-03], sr=22050 as keyword args. From version 0.10 passing these as positional arguments will result in an error\n",
      "  MFCCs = librosa.feature.mfcc(signal, sample_rate, n_mfcc=num_mfcc, n_fft=n_fft, hop_length=hop_length)\n"
     ]
    },
    {
     "name": "stdout",
     "output_type": "stream",
     "text": [
      "C:/Users/Lenovo/Documents/Education/Skripsi/Dataset/Dataset_Indonesia\\Kanan\\Kanan (182).wav: 0\n",
      "C:/Users/Lenovo/Documents/Education/Skripsi/Dataset/Dataset_Indonesia\\Kanan\\Kanan (183).wav: 0\n"
     ]
    },
    {
     "name": "stderr",
     "output_type": "stream",
     "text": [
      "C:\\Users\\Lenovo\\AppData\\Local\\Temp\\ipykernel_11612\\2861807924.py:31: FutureWarning: Pass y=[ 1.13028385e-07 -1.04574191e-07  8.10405396e-08 ...  2.62769428e-03\n",
      "  1.65485381e-03  7.00495613e-04], sr=22050 as keyword args. From version 0.10 passing these as positional arguments will result in an error\n",
      "  MFCCs = librosa.feature.mfcc(signal, sample_rate, n_mfcc=num_mfcc, n_fft=n_fft, hop_length=hop_length)\n",
      "C:\\Users\\Lenovo\\AppData\\Local\\Temp\\ipykernel_11612\\2861807924.py:31: FutureWarning: Pass y=[ 1.13028385e-07 -1.04574191e-07  8.10405396e-08 ... -6.33941405e-03\n",
      " -6.38242392e-03 -6.15791790e-03], sr=22050 as keyword args. From version 0.10 passing these as positional arguments will result in an error\n",
      "  MFCCs = librosa.feature.mfcc(signal, sample_rate, n_mfcc=num_mfcc, n_fft=n_fft, hop_length=hop_length)\n"
     ]
    },
    {
     "name": "stdout",
     "output_type": "stream",
     "text": [
      "C:/Users/Lenovo/Documents/Education/Skripsi/Dataset/Dataset_Indonesia\\Kanan\\Kanan (184).wav: 0\n",
      "C:/Users/Lenovo/Documents/Education/Skripsi/Dataset/Dataset_Indonesia\\Kanan\\Kanan (185).wav: 0\n"
     ]
    },
    {
     "name": "stderr",
     "output_type": "stream",
     "text": [
      "C:\\Users\\Lenovo\\AppData\\Local\\Temp\\ipykernel_11612\\2861807924.py:31: FutureWarning: Pass y=[ 1.13028385e-07 -1.04574191e-07  8.10405396e-08 ... -1.20325349e-02\n",
      " -1.22735314e-02 -1.21182911e-02], sr=22050 as keyword args. From version 0.10 passing these as positional arguments will result in an error\n",
      "  MFCCs = librosa.feature.mfcc(signal, sample_rate, n_mfcc=num_mfcc, n_fft=n_fft, hop_length=hop_length)\n"
     ]
    },
    {
     "name": "stdout",
     "output_type": "stream",
     "text": [
      "C:/Users/Lenovo/Documents/Education/Skripsi/Dataset/Dataset_Indonesia\\Kanan\\Kanan (186).wav: 0\n"
     ]
    },
    {
     "name": "stderr",
     "output_type": "stream",
     "text": [
      "C:\\Users\\Lenovo\\AppData\\Local\\Temp\\ipykernel_11612\\2861807924.py:31: FutureWarning: Pass y=[ 1.13028385e-07 -1.04574191e-07  8.10405396e-08 ... -5.28906705e-04\n",
      " -4.26490878e-04  1.72233471e-04], sr=22050 as keyword args. From version 0.10 passing these as positional arguments will result in an error\n",
      "  MFCCs = librosa.feature.mfcc(signal, sample_rate, n_mfcc=num_mfcc, n_fft=n_fft, hop_length=hop_length)\n"
     ]
    },
    {
     "name": "stdout",
     "output_type": "stream",
     "text": [
      "C:/Users/Lenovo/Documents/Education/Skripsi/Dataset/Dataset_Indonesia\\Kanan\\Kanan (187).wav: 0\n",
      "C:/Users/Lenovo/Documents/Education/Skripsi/Dataset/Dataset_Indonesia\\Kanan\\Kanan (188).wav: 0\n"
     ]
    },
    {
     "name": "stderr",
     "output_type": "stream",
     "text": [
      "C:\\Users\\Lenovo\\AppData\\Local\\Temp\\ipykernel_11612\\2861807924.py:31: FutureWarning: Pass y=[ 1.13028385e-07 -1.04574191e-07  8.10405396e-08 ...  1.70859322e-03\n",
      "  1.33181433e-03  7.66080862e-04], sr=22050 as keyword args. From version 0.10 passing these as positional arguments will result in an error\n",
      "  MFCCs = librosa.feature.mfcc(signal, sample_rate, n_mfcc=num_mfcc, n_fft=n_fft, hop_length=hop_length)\n",
      "C:\\Users\\Lenovo\\AppData\\Local\\Temp\\ipykernel_11612\\2861807924.py:31: FutureWarning: Pass y=[ 1.13028385e-07 -1.04574191e-07  8.10405396e-08 ...  1.02957943e-02\n",
      "  1.03926994e-02  1.05610006e-02], sr=22050 as keyword args. From version 0.10 passing these as positional arguments will result in an error\n",
      "  MFCCs = librosa.feature.mfcc(signal, sample_rate, n_mfcc=num_mfcc, n_fft=n_fft, hop_length=hop_length)\n"
     ]
    },
    {
     "name": "stdout",
     "output_type": "stream",
     "text": [
      "C:/Users/Lenovo/Documents/Education/Skripsi/Dataset/Dataset_Indonesia\\Kanan\\Kanan (189).wav: 0\n",
      "C:/Users/Lenovo/Documents/Education/Skripsi/Dataset/Dataset_Indonesia\\Kanan\\Kanan (19).wav: 0\n"
     ]
    },
    {
     "name": "stderr",
     "output_type": "stream",
     "text": [
      "C:\\Users\\Lenovo\\AppData\\Local\\Temp\\ipykernel_11612\\2861807924.py:31: FutureWarning: Pass y=[-4.7608587e-06 -4.8923348e-06  1.5966334e-06 ... -4.9312745e-04\n",
      " -4.5562518e-04  1.4854786e-04], sr=22050 as keyword args. From version 0.10 passing these as positional arguments will result in an error\n",
      "  MFCCs = librosa.feature.mfcc(signal, sample_rate, n_mfcc=num_mfcc, n_fft=n_fft, hop_length=hop_length)\n",
      "C:\\Users\\Lenovo\\AppData\\Local\\Temp\\ipykernel_11612\\2861807924.py:31: FutureWarning: Pass y=[ 1.13028385e-07 -1.04574191e-07  8.10405396e-08 ...  3.88758315e-04\n",
      "  3.06736125e-04  7.04688777e-04], sr=22050 as keyword args. From version 0.10 passing these as positional arguments will result in an error\n",
      "  MFCCs = librosa.feature.mfcc(signal, sample_rate, n_mfcc=num_mfcc, n_fft=n_fft, hop_length=hop_length)\n"
     ]
    },
    {
     "name": "stdout",
     "output_type": "stream",
     "text": [
      "C:/Users/Lenovo/Documents/Education/Skripsi/Dataset/Dataset_Indonesia\\Kanan\\Kanan (190).wav: 0\n",
      "C:/Users/Lenovo/Documents/Education/Skripsi/Dataset/Dataset_Indonesia\\Kanan\\Kanan (191).wav: 0\n"
     ]
    },
    {
     "name": "stderr",
     "output_type": "stream",
     "text": [
      "C:\\Users\\Lenovo\\AppData\\Local\\Temp\\ipykernel_11612\\2861807924.py:31: FutureWarning: Pass y=[ 1.13028385e-07 -1.04574191e-07  8.10405396e-08 ... -5.89354010e-03\n",
      " -5.73355099e-03 -5.59568778e-03], sr=22050 as keyword args. From version 0.10 passing these as positional arguments will result in an error\n",
      "  MFCCs = librosa.feature.mfcc(signal, sample_rate, n_mfcc=num_mfcc, n_fft=n_fft, hop_length=hop_length)\n",
      "C:\\Users\\Lenovo\\AppData\\Local\\Temp\\ipykernel_11612\\2861807924.py:31: FutureWarning: Pass y=[ 1.13028385e-07 -1.04574191e-07  8.10405396e-08 ...  3.47069092e-03\n",
      "  6.06297376e-03  7.28569133e-03], sr=22050 as keyword args. From version 0.10 passing these as positional arguments will result in an error\n",
      "  MFCCs = librosa.feature.mfcc(signal, sample_rate, n_mfcc=num_mfcc, n_fft=n_fft, hop_length=hop_length)\n"
     ]
    },
    {
     "name": "stdout",
     "output_type": "stream",
     "text": [
      "C:/Users/Lenovo/Documents/Education/Skripsi/Dataset/Dataset_Indonesia\\Kanan\\Kanan (192).wav: 0\n",
      "C:/Users/Lenovo/Documents/Education/Skripsi/Dataset/Dataset_Indonesia\\Kanan\\Kanan (193).wav: 0\n"
     ]
    },
    {
     "name": "stderr",
     "output_type": "stream",
     "text": [
      "C:\\Users\\Lenovo\\AppData\\Local\\Temp\\ipykernel_11612\\2861807924.py:31: FutureWarning: Pass y=[ 1.13028385e-07 -1.04574191e-07  8.10405396e-08 ...  3.77507554e-03\n",
      "  4.75003151e-03  6.06744876e-03], sr=22050 as keyword args. From version 0.10 passing these as positional arguments will result in an error\n",
      "  MFCCs = librosa.feature.mfcc(signal, sample_rate, n_mfcc=num_mfcc, n_fft=n_fft, hop_length=hop_length)\n",
      "C:\\Users\\Lenovo\\AppData\\Local\\Temp\\ipykernel_11612\\2861807924.py:31: FutureWarning: Pass y=[ 1.13028385e-07 -1.04574191e-07  8.10405396e-08 ... -8.08631815e-03\n",
      " -8.30090139e-03 -7.67293014e-03], sr=22050 as keyword args. From version 0.10 passing these as positional arguments will result in an error\n",
      "  MFCCs = librosa.feature.mfcc(signal, sample_rate, n_mfcc=num_mfcc, n_fft=n_fft, hop_length=hop_length)\n",
      "C:\\Users\\Lenovo\\AppData\\Local\\Temp\\ipykernel_11612\\2861807924.py:31: FutureWarning: Pass y=[ 1.13028385e-07 -1.04574191e-07  8.10405396e-08 ... -4.64150868e-03\n",
      " -4.42969147e-03 -4.58223512e-03], sr=22050 as keyword args. From version 0.10 passing these as positional arguments will result in an error\n",
      "  MFCCs = librosa.feature.mfcc(signal, sample_rate, n_mfcc=num_mfcc, n_fft=n_fft, hop_length=hop_length)\n"
     ]
    },
    {
     "name": "stdout",
     "output_type": "stream",
     "text": [
      "C:/Users/Lenovo/Documents/Education/Skripsi/Dataset/Dataset_Indonesia\\Kanan\\Kanan (194).wav: 0\n",
      "C:/Users/Lenovo/Documents/Education/Skripsi/Dataset/Dataset_Indonesia\\Kanan\\Kanan (195).wav: 0\n"
     ]
    },
    {
     "name": "stderr",
     "output_type": "stream",
     "text": [
      "C:\\Users\\Lenovo\\AppData\\Local\\Temp\\ipykernel_11612\\2861807924.py:31: FutureWarning: Pass y=[ 1.13028385e-07 -1.04574191e-07  8.10405396e-08 ... -1.91380419e-02\n",
      "  1.11989845e-02  4.82920893e-02], sr=22050 as keyword args. From version 0.10 passing these as positional arguments will result in an error\n",
      "  MFCCs = librosa.feature.mfcc(signal, sample_rate, n_mfcc=num_mfcc, n_fft=n_fft, hop_length=hop_length)\n",
      "C:\\Users\\Lenovo\\AppData\\Local\\Temp\\ipykernel_11612\\2861807924.py:31: FutureWarning: Pass y=[ 1.13028385e-07 -1.04574191e-07  8.10405396e-08 ...  1.91176999e-02\n",
      "  2.46617384e-02  2.67948844e-02], sr=22050 as keyword args. From version 0.10 passing these as positional arguments will result in an error\n",
      "  MFCCs = librosa.feature.mfcc(signal, sample_rate, n_mfcc=num_mfcc, n_fft=n_fft, hop_length=hop_length)\n"
     ]
    },
    {
     "name": "stdout",
     "output_type": "stream",
     "text": [
      "C:/Users/Lenovo/Documents/Education/Skripsi/Dataset/Dataset_Indonesia\\Kanan\\Kanan (196).wav: 0\n",
      "C:/Users/Lenovo/Documents/Education/Skripsi/Dataset/Dataset_Indonesia\\Kanan\\Kanan (197).wav: 0\n"
     ]
    },
    {
     "name": "stderr",
     "output_type": "stream",
     "text": [
      "C:\\Users\\Lenovo\\AppData\\Local\\Temp\\ipykernel_11612\\2861807924.py:31: FutureWarning: Pass y=[ 1.13028385e-07 -1.04574191e-07  8.10405396e-08 ... -8.64234474e-03\n",
      " -8.08888301e-03 -7.23970262e-03], sr=22050 as keyword args. From version 0.10 passing these as positional arguments will result in an error\n",
      "  MFCCs = librosa.feature.mfcc(signal, sample_rate, n_mfcc=num_mfcc, n_fft=n_fft, hop_length=hop_length)\n",
      "C:\\Users\\Lenovo\\AppData\\Local\\Temp\\ipykernel_11612\\2861807924.py:31: FutureWarning: Pass y=[ 1.13028385e-07 -1.04574191e-07  8.10405396e-08 ... -7.78875351e-02\n",
      " -8.05312991e-02 -8.26721042e-02], sr=22050 as keyword args. From version 0.10 passing these as positional arguments will result in an error\n",
      "  MFCCs = librosa.feature.mfcc(signal, sample_rate, n_mfcc=num_mfcc, n_fft=n_fft, hop_length=hop_length)\n"
     ]
    },
    {
     "name": "stdout",
     "output_type": "stream",
     "text": [
      "C:/Users/Lenovo/Documents/Education/Skripsi/Dataset/Dataset_Indonesia\\Kanan\\Kanan (198).wav: 0\n",
      "C:/Users/Lenovo/Documents/Education/Skripsi/Dataset/Dataset_Indonesia\\Kanan\\Kanan (199).wav: 0\n"
     ]
    },
    {
     "name": "stderr",
     "output_type": "stream",
     "text": [
      "C:\\Users\\Lenovo\\AppData\\Local\\Temp\\ipykernel_11612\\2861807924.py:31: FutureWarning: Pass y=[-4.75914749e-06 -4.89308286e-06  1.59578883e-06 ...  1.29522635e-02\n",
      "  1.44715263e-02 -9.13112017e-04], sr=22050 as keyword args. From version 0.10 passing these as positional arguments will result in an error\n",
      "  MFCCs = librosa.feature.mfcc(signal, sample_rate, n_mfcc=num_mfcc, n_fft=n_fft, hop_length=hop_length)\n",
      "C:\\Users\\Lenovo\\AppData\\Local\\Temp\\ipykernel_11612\\2861807924.py:31: FutureWarning: Pass y=[-5.3962516e-08  7.9797324e-08 -1.0610644e-07 ... -1.2069881e-03\n",
      "  6.8299583e-04  2.2110078e-03], sr=22050 as keyword args. From version 0.10 passing these as positional arguments will result in an error\n",
      "  MFCCs = librosa.feature.mfcc(signal, sample_rate, n_mfcc=num_mfcc, n_fft=n_fft, hop_length=hop_length)\n"
     ]
    },
    {
     "name": "stdout",
     "output_type": "stream",
     "text": [
      "C:/Users/Lenovo/Documents/Education/Skripsi/Dataset/Dataset_Indonesia\\Kanan\\Kanan (2).wav: 0\n",
      "C:/Users/Lenovo/Documents/Education/Skripsi/Dataset/Dataset_Indonesia\\Kanan\\Kanan (20).wav: 0\n"
     ]
    },
    {
     "name": "stderr",
     "output_type": "stream",
     "text": [
      "C:\\Users\\Lenovo\\AppData\\Local\\Temp\\ipykernel_11612\\2861807924.py:31: FutureWarning: Pass y=[ 1.13028385e-07 -1.04574191e-07  8.10405396e-08 ... -4.79433686e-03\n",
      " -5.58410538e-03 -6.28416054e-03], sr=22050 as keyword args. From version 0.10 passing these as positional arguments will result in an error\n",
      "  MFCCs = librosa.feature.mfcc(signal, sample_rate, n_mfcc=num_mfcc, n_fft=n_fft, hop_length=hop_length)\n",
      "C:\\Users\\Lenovo\\AppData\\Local\\Temp\\ipykernel_11612\\2861807924.py:31: FutureWarning: Pass y=[ 1.13028385e-07 -1.04574191e-07  8.10405396e-08 ... -1.73973897e-03\n",
      " -1.24256371e-03 -6.15697587e-04], sr=22050 as keyword args. From version 0.10 passing these as positional arguments will result in an error\n",
      "  MFCCs = librosa.feature.mfcc(signal, sample_rate, n_mfcc=num_mfcc, n_fft=n_fft, hop_length=hop_length)\n"
     ]
    },
    {
     "name": "stdout",
     "output_type": "stream",
     "text": [
      "C:/Users/Lenovo/Documents/Education/Skripsi/Dataset/Dataset_Indonesia\\Kanan\\Kanan (200).wav: 0\n",
      "C:/Users/Lenovo/Documents/Education/Skripsi/Dataset/Dataset_Indonesia\\Kanan\\Kanan (201).wav: 0\n"
     ]
    },
    {
     "name": "stderr",
     "output_type": "stream",
     "text": [
      "C:\\Users\\Lenovo\\AppData\\Local\\Temp\\ipykernel_11612\\2861807924.py:31: FutureWarning: Pass y=[ 1.13028385e-07 -1.04574191e-07  8.10405396e-08 ... -2.52879137e-04\n",
      " -4.83975076e-04 -3.31180083e-04], sr=22050 as keyword args. From version 0.10 passing these as positional arguments will result in an error\n",
      "  MFCCs = librosa.feature.mfcc(signal, sample_rate, n_mfcc=num_mfcc, n_fft=n_fft, hop_length=hop_length)\n",
      "C:\\Users\\Lenovo\\AppData\\Local\\Temp\\ipykernel_11612\\2861807924.py:31: FutureWarning: Pass y=[-4.3840087e-06 -5.6658810e-06  3.1603556e-06 ...  1.3785807e-02\n",
      "  1.2261029e-02  9.6559562e-03], sr=22050 as keyword args. From version 0.10 passing these as positional arguments will result in an error\n",
      "  MFCCs = librosa.feature.mfcc(signal, sample_rate, n_mfcc=num_mfcc, n_fft=n_fft, hop_length=hop_length)\n"
     ]
    },
    {
     "name": "stdout",
     "output_type": "stream",
     "text": [
      "C:/Users/Lenovo/Documents/Education/Skripsi/Dataset/Dataset_Indonesia\\Kanan\\Kanan (202).wav: 0\n",
      "C:/Users/Lenovo/Documents/Education/Skripsi/Dataset/Dataset_Indonesia\\Kanan\\Kanan (21).wav: 0\n"
     ]
    },
    {
     "name": "stderr",
     "output_type": "stream",
     "text": [
      "C:\\Users\\Lenovo\\AppData\\Local\\Temp\\ipykernel_11612\\2861807924.py:31: FutureWarning: Pass y=[-4.8285410e-06 -4.7929093e-06  1.4645768e-06 ...  1.2689789e-03\n",
      "  6.3734106e-04  1.3922587e-03], sr=22050 as keyword args. From version 0.10 passing these as positional arguments will result in an error\n",
      "  MFCCs = librosa.feature.mfcc(signal, sample_rate, n_mfcc=num_mfcc, n_fft=n_fft, hop_length=hop_length)\n",
      "C:\\Users\\Lenovo\\AppData\\Local\\Temp\\ipykernel_11612\\2861807924.py:31: FutureWarning: Pass y=[-5.0131471e-06 -4.2770380e-06  2.1885295e-07 ...  7.1023661e-04\n",
      " -3.7942926e-04 -7.3515502e-04], sr=22050 as keyword args. From version 0.10 passing these as positional arguments will result in an error\n",
      "  MFCCs = librosa.feature.mfcc(signal, sample_rate, n_mfcc=num_mfcc, n_fft=n_fft, hop_length=hop_length)\n"
     ]
    },
    {
     "name": "stdout",
     "output_type": "stream",
     "text": [
      "C:/Users/Lenovo/Documents/Education/Skripsi/Dataset/Dataset_Indonesia\\Kanan\\Kanan (22).wav: 0\n",
      "C:/Users/Lenovo/Documents/Education/Skripsi/Dataset/Dataset_Indonesia\\Kanan\\Kanan (23).wav: 0\n",
      "C:/Users/Lenovo/Documents/Education/Skripsi/Dataset/Dataset_Indonesia\\Kanan\\Kanan (24).wav: 0\n",
      "C:/Users/Lenovo/Documents/Education/Skripsi/Dataset/Dataset_Indonesia\\Kanan\\Kanan (25).wav: 0\n"
     ]
    },
    {
     "name": "stderr",
     "output_type": "stream",
     "text": [
      "C:\\Users\\Lenovo\\AppData\\Local\\Temp\\ipykernel_11612\\2861807924.py:31: FutureWarning: Pass y=[ 0.          0.          0.         ... -0.0175672  -0.01263847\n",
      "  0.01769084], sr=22050 as keyword args. From version 0.10 passing these as positional arguments will result in an error\n",
      "  MFCCs = librosa.feature.mfcc(signal, sample_rate, n_mfcc=num_mfcc, n_fft=n_fft, hop_length=hop_length)\n"
     ]
    },
    {
     "name": "stdout",
     "output_type": "stream",
     "text": [
      "C:/Users/Lenovo/Documents/Education/Skripsi/Dataset/Dataset_Indonesia\\Kanan\\Kanan (26).wav: 0\n"
     ]
    },
    {
     "name": "stderr",
     "output_type": "stream",
     "text": [
      "C:\\Users\\Lenovo\\AppData\\Local\\Temp\\ipykernel_11612\\2861807924.py:31: FutureWarning: Pass y=[0.         0.         0.         ... 0.01790405 0.08341424 0.13388166], sr=22050 as keyword args. From version 0.10 passing these as positional arguments will result in an error\n",
      "  MFCCs = librosa.feature.mfcc(signal, sample_rate, n_mfcc=num_mfcc, n_fft=n_fft, hop_length=hop_length)\n"
     ]
    },
    {
     "name": "stdout",
     "output_type": "stream",
     "text": [
      "C:/Users/Lenovo/Documents/Education/Skripsi/Dataset/Dataset_Indonesia\\Kanan\\Kanan (27).wav: 0\n"
     ]
    },
    {
     "name": "stderr",
     "output_type": "stream",
     "text": [
      "C:\\Users\\Lenovo\\AppData\\Local\\Temp\\ipykernel_11612\\2861807924.py:31: FutureWarning: Pass y=[ 0.          0.          0.         ... -0.00198111  0.01846283\n",
      "  0.03561867], sr=22050 as keyword args. From version 0.10 passing these as positional arguments will result in an error\n",
      "  MFCCs = librosa.feature.mfcc(signal, sample_rate, n_mfcc=num_mfcc, n_fft=n_fft, hop_length=hop_length)\n"
     ]
    },
    {
     "name": "stdout",
     "output_type": "stream",
     "text": [
      "C:/Users/Lenovo/Documents/Education/Skripsi/Dataset/Dataset_Indonesia\\Kanan\\Kanan (28).wav: 0\n"
     ]
    },
    {
     "name": "stderr",
     "output_type": "stream",
     "text": [
      "C:\\Users\\Lenovo\\AppData\\Local\\Temp\\ipykernel_11612\\2861807924.py:31: FutureWarning: Pass y=[ 0.          0.          0.         ... -0.11631621 -0.11405738\n",
      " -0.10670952], sr=22050 as keyword args. From version 0.10 passing these as positional arguments will result in an error\n",
      "  MFCCs = librosa.feature.mfcc(signal, sample_rate, n_mfcc=num_mfcc, n_fft=n_fft, hop_length=hop_length)\n",
      "C:\\Users\\Lenovo\\AppData\\Local\\Temp\\ipykernel_11612\\2861807924.py:31: FutureWarning: Pass y=[ 7.6628979e-08 -5.2594576e-08  1.4851826e-08 ... -2.4089046e-02\n",
      " -2.2401052e-02 -2.2380486e-02], sr=22050 as keyword args. From version 0.10 passing these as positional arguments will result in an error\n",
      "  MFCCs = librosa.feature.mfcc(signal, sample_rate, n_mfcc=num_mfcc, n_fft=n_fft, hop_length=hop_length)\n"
     ]
    },
    {
     "name": "stdout",
     "output_type": "stream",
     "text": [
      "C:/Users/Lenovo/Documents/Education/Skripsi/Dataset/Dataset_Indonesia\\Kanan\\Kanan (29).wav: 0\n",
      "C:/Users/Lenovo/Documents/Education/Skripsi/Dataset/Dataset_Indonesia\\Kanan\\Kanan (3).wav: 0\n"
     ]
    },
    {
     "name": "stderr",
     "output_type": "stream",
     "text": [
      "C:\\Users\\Lenovo\\AppData\\Local\\Temp\\ipykernel_11612\\2861807924.py:31: FutureWarning: Pass y=[ 0.          0.          0.         ... -0.01541368 -0.02883698\n",
      " -0.03507926], sr=22050 as keyword args. From version 0.10 passing these as positional arguments will result in an error\n",
      "  MFCCs = librosa.feature.mfcc(signal, sample_rate, n_mfcc=num_mfcc, n_fft=n_fft, hop_length=hop_length)\n"
     ]
    },
    {
     "name": "stdout",
     "output_type": "stream",
     "text": [
      "C:/Users/Lenovo/Documents/Education/Skripsi/Dataset/Dataset_Indonesia\\Kanan\\Kanan (30).wav: 0\n"
     ]
    },
    {
     "name": "stderr",
     "output_type": "stream",
     "text": [
      "C:\\Users\\Lenovo\\AppData\\Local\\Temp\\ipykernel_11612\\2861807924.py:31: FutureWarning: Pass y=[ 0.          0.          0.         ... -0.07384612 -0.0699991\n",
      " -0.06500913], sr=22050 as keyword args. From version 0.10 passing these as positional arguments will result in an error\n",
      "  MFCCs = librosa.feature.mfcc(signal, sample_rate, n_mfcc=num_mfcc, n_fft=n_fft, hop_length=hop_length)\n"
     ]
    },
    {
     "name": "stdout",
     "output_type": "stream",
     "text": [
      "C:/Users/Lenovo/Documents/Education/Skripsi/Dataset/Dataset_Indonesia\\Kanan\\Kanan (31).wav: 0\n"
     ]
    },
    {
     "name": "stderr",
     "output_type": "stream",
     "text": [
      "C:\\Users\\Lenovo\\AppData\\Local\\Temp\\ipykernel_11612\\2861807924.py:31: FutureWarning: Pass y=[ 0.          0.          0.         ... -0.065333   -0.07539787\n",
      " -0.08643717], sr=22050 as keyword args. From version 0.10 passing these as positional arguments will result in an error\n",
      "  MFCCs = librosa.feature.mfcc(signal, sample_rate, n_mfcc=num_mfcc, n_fft=n_fft, hop_length=hop_length)\n"
     ]
    },
    {
     "name": "stdout",
     "output_type": "stream",
     "text": [
      "C:/Users/Lenovo/Documents/Education/Skripsi/Dataset/Dataset_Indonesia\\Kanan\\Kanan (32).wav: 0\n"
     ]
    },
    {
     "name": "stderr",
     "output_type": "stream",
     "text": [
      "C:\\Users\\Lenovo\\AppData\\Local\\Temp\\ipykernel_11612\\2861807924.py:31: FutureWarning: Pass y=[0.         0.         0.         ... 0.00256207 0.04795658 0.06997754], sr=22050 as keyword args. From version 0.10 passing these as positional arguments will result in an error\n",
      "  MFCCs = librosa.feature.mfcc(signal, sample_rate, n_mfcc=num_mfcc, n_fft=n_fft, hop_length=hop_length)\n"
     ]
    },
    {
     "name": "stdout",
     "output_type": "stream",
     "text": [
      "C:/Users/Lenovo/Documents/Education/Skripsi/Dataset/Dataset_Indonesia\\Kanan\\Kanan (33).wav: 0\n"
     ]
    },
    {
     "name": "stderr",
     "output_type": "stream",
     "text": [
      "C:\\Users\\Lenovo\\AppData\\Local\\Temp\\ipykernel_11612\\2861807924.py:31: FutureWarning: Pass y=[ 0.          0.          0.         ... -0.16772217 -0.16185126\n",
      " -0.128887  ], sr=22050 as keyword args. From version 0.10 passing these as positional arguments will result in an error\n",
      "  MFCCs = librosa.feature.mfcc(signal, sample_rate, n_mfcc=num_mfcc, n_fft=n_fft, hop_length=hop_length)\n"
     ]
    },
    {
     "name": "stdout",
     "output_type": "stream",
     "text": [
      "C:/Users/Lenovo/Documents/Education/Skripsi/Dataset/Dataset_Indonesia\\Kanan\\Kanan (34).wav: 0\n"
     ]
    },
    {
     "name": "stderr",
     "output_type": "stream",
     "text": [
      "C:\\Users\\Lenovo\\AppData\\Local\\Temp\\ipykernel_11612\\2861807924.py:31: FutureWarning: Pass y=[0.         0.         0.         ... 0.02952982 0.01803765 0.0293066 ], sr=22050 as keyword args. From version 0.10 passing these as positional arguments will result in an error\n",
      "  MFCCs = librosa.feature.mfcc(signal, sample_rate, n_mfcc=num_mfcc, n_fft=n_fft, hop_length=hop_length)\n"
     ]
    },
    {
     "name": "stdout",
     "output_type": "stream",
     "text": [
      "C:/Users/Lenovo/Documents/Education/Skripsi/Dataset/Dataset_Indonesia\\Kanan\\Kanan (35).wav: 0\n"
     ]
    },
    {
     "name": "stderr",
     "output_type": "stream",
     "text": [
      "C:\\Users\\Lenovo\\AppData\\Local\\Temp\\ipykernel_11612\\2861807924.py:31: FutureWarning: Pass y=[0.         0.         0.         ... 0.02879963 0.03475348 0.03978325], sr=22050 as keyword args. From version 0.10 passing these as positional arguments will result in an error\n",
      "  MFCCs = librosa.feature.mfcc(signal, sample_rate, n_mfcc=num_mfcc, n_fft=n_fft, hop_length=hop_length)\n"
     ]
    },
    {
     "name": "stdout",
     "output_type": "stream",
     "text": [
      "C:/Users/Lenovo/Documents/Education/Skripsi/Dataset/Dataset_Indonesia\\Kanan\\Kanan (36).wav: 0\n",
      "C:/Users/Lenovo/Documents/Education/Skripsi/Dataset/Dataset_Indonesia\\Kanan\\Kanan (37).wav: 0\n"
     ]
    },
    {
     "name": "stderr",
     "output_type": "stream",
     "text": [
      "C:\\Users\\Lenovo\\AppData\\Local\\Temp\\ipykernel_11612\\2861807924.py:31: FutureWarning: Pass y=[ 0.          0.          0.         ... -0.08371738 -0.0655139\n",
      " -0.0457243 ], sr=22050 as keyword args. From version 0.10 passing these as positional arguments will result in an error\n",
      "  MFCCs = librosa.feature.mfcc(signal, sample_rate, n_mfcc=num_mfcc, n_fft=n_fft, hop_length=hop_length)\n",
      "C:\\Users\\Lenovo\\AppData\\Local\\Temp\\ipykernel_11612\\2861807924.py:31: FutureWarning: Pass y=[0.         0.         0.         ... 0.22967824 0.28190535 0.22074129], sr=22050 as keyword args. From version 0.10 passing these as positional arguments will result in an error\n",
      "  MFCCs = librosa.feature.mfcc(signal, sample_rate, n_mfcc=num_mfcc, n_fft=n_fft, hop_length=hop_length)\n"
     ]
    },
    {
     "name": "stdout",
     "output_type": "stream",
     "text": [
      "C:/Users/Lenovo/Documents/Education/Skripsi/Dataset/Dataset_Indonesia\\Kanan\\Kanan (38).wav: 0\n",
      "C:/Users/Lenovo/Documents/Education/Skripsi/Dataset/Dataset_Indonesia\\Kanan\\Kanan (39).wav: 0\n"
     ]
    },
    {
     "name": "stderr",
     "output_type": "stream",
     "text": [
      "C:\\Users\\Lenovo\\AppData\\Local\\Temp\\ipykernel_11612\\2861807924.py:31: FutureWarning: Pass y=[0.         0.         0.         ... 0.0744984  0.07139681 0.06808259], sr=22050 as keyword args. From version 0.10 passing these as positional arguments will result in an error\n",
      "  MFCCs = librosa.feature.mfcc(signal, sample_rate, n_mfcc=num_mfcc, n_fft=n_fft, hop_length=hop_length)\n",
      "C:\\Users\\Lenovo\\AppData\\Local\\Temp\\ipykernel_11612\\2861807924.py:31: FutureWarning: Pass y=[-1.4147095e-07  1.7645257e-07 -2.0481474e-07 ...  2.0701632e-02\n",
      "  2.3195164e-02  2.4252279e-02], sr=22050 as keyword args. From version 0.10 passing these as positional arguments will result in an error\n",
      "  MFCCs = librosa.feature.mfcc(signal, sample_rate, n_mfcc=num_mfcc, n_fft=n_fft, hop_length=hop_length)\n"
     ]
    },
    {
     "name": "stdout",
     "output_type": "stream",
     "text": [
      "C:/Users/Lenovo/Documents/Education/Skripsi/Dataset/Dataset_Indonesia\\Kanan\\Kanan (4).wav: 0\n",
      "C:/Users/Lenovo/Documents/Education/Skripsi/Dataset/Dataset_Indonesia\\Kanan\\Kanan (40).wav: 0\n"
     ]
    },
    {
     "name": "stderr",
     "output_type": "stream",
     "text": [
      "C:\\Users\\Lenovo\\AppData\\Local\\Temp\\ipykernel_11612\\2861807924.py:31: FutureWarning: Pass y=[ 0.          0.          0.         ... -0.10839587 -0.11080501\n",
      " -0.11317035], sr=22050 as keyword args. From version 0.10 passing these as positional arguments will result in an error\n",
      "  MFCCs = librosa.feature.mfcc(signal, sample_rate, n_mfcc=num_mfcc, n_fft=n_fft, hop_length=hop_length)\n",
      "C:\\Users\\Lenovo\\AppData\\Local\\Temp\\ipykernel_11612\\2861807924.py:31: FutureWarning: Pass y=[0.         0.         0.         ... 0.0732954  0.05275927 0.04927678], sr=22050 as keyword args. From version 0.10 passing these as positional arguments will result in an error\n",
      "  MFCCs = librosa.feature.mfcc(signal, sample_rate, n_mfcc=num_mfcc, n_fft=n_fft, hop_length=hop_length)\n"
     ]
    },
    {
     "name": "stdout",
     "output_type": "stream",
     "text": [
      "C:/Users/Lenovo/Documents/Education/Skripsi/Dataset/Dataset_Indonesia\\Kanan\\Kanan (41).wav: 0\n",
      "C:/Users/Lenovo/Documents/Education/Skripsi/Dataset/Dataset_Indonesia\\Kanan\\Kanan (42).wav: 0\n"
     ]
    },
    {
     "name": "stderr",
     "output_type": "stream",
     "text": [
      "C:\\Users\\Lenovo\\AppData\\Local\\Temp\\ipykernel_11612\\2861807924.py:31: FutureWarning: Pass y=[ 0.          0.          0.         ... -0.0140054  -0.0221103\n",
      " -0.03129307], sr=22050 as keyword args. From version 0.10 passing these as positional arguments will result in an error\n",
      "  MFCCs = librosa.feature.mfcc(signal, sample_rate, n_mfcc=num_mfcc, n_fft=n_fft, hop_length=hop_length)\n",
      "C:\\Users\\Lenovo\\AppData\\Local\\Temp\\ipykernel_11612\\2861807924.py:31: FutureWarning: Pass y=[0.         0.         0.         ... 0.15646122 0.16177455 0.16569172], sr=22050 as keyword args. From version 0.10 passing these as positional arguments will result in an error\n",
      "  MFCCs = librosa.feature.mfcc(signal, sample_rate, n_mfcc=num_mfcc, n_fft=n_fft, hop_length=hop_length)\n",
      "C:\\Users\\Lenovo\\AppData\\Local\\Temp\\ipykernel_11612\\2861807924.py:31: FutureWarning: Pass y=[0.         0.         0.         ... 0.07199182 0.06801274 0.06514505], sr=22050 as keyword args. From version 0.10 passing these as positional arguments will result in an error\n",
      "  MFCCs = librosa.feature.mfcc(signal, sample_rate, n_mfcc=num_mfcc, n_fft=n_fft, hop_length=hop_length)\n"
     ]
    },
    {
     "name": "stdout",
     "output_type": "stream",
     "text": [
      "C:/Users/Lenovo/Documents/Education/Skripsi/Dataset/Dataset_Indonesia\\Kanan\\Kanan (43).wav: 0\n",
      "C:/Users/Lenovo/Documents/Education/Skripsi/Dataset/Dataset_Indonesia\\Kanan\\Kanan (44).wav: 0\n"
     ]
    },
    {
     "name": "stderr",
     "output_type": "stream",
     "text": [
      "C:\\Users\\Lenovo\\AppData\\Local\\Temp\\ipykernel_11612\\2861807924.py:31: FutureWarning: Pass y=[0.         0.         0.         ... 0.04958992 0.04869282 0.04765134], sr=22050 as keyword args. From version 0.10 passing these as positional arguments will result in an error\n",
      "  MFCCs = librosa.feature.mfcc(signal, sample_rate, n_mfcc=num_mfcc, n_fft=n_fft, hop_length=hop_length)\n",
      "C:\\Users\\Lenovo\\AppData\\Local\\Temp\\ipykernel_11612\\2861807924.py:31: FutureWarning: Pass y=[ 0.          0.          0.         ... -0.14719547 -0.13890803\n",
      " -0.11895896], sr=22050 as keyword args. From version 0.10 passing these as positional arguments will result in an error\n",
      "  MFCCs = librosa.feature.mfcc(signal, sample_rate, n_mfcc=num_mfcc, n_fft=n_fft, hop_length=hop_length)\n",
      "C:\\Users\\Lenovo\\AppData\\Local\\Temp\\ipykernel_11612\\2861807924.py:31: FutureWarning: Pass y=[0.         0.         0.         ... 0.07208694 0.0684033  0.06493004], sr=22050 as keyword args. From version 0.10 passing these as positional arguments will result in an error\n",
      "  MFCCs = librosa.feature.mfcc(signal, sample_rate, n_mfcc=num_mfcc, n_fft=n_fft, hop_length=hop_length)\n"
     ]
    },
    {
     "name": "stdout",
     "output_type": "stream",
     "text": [
      "C:/Users/Lenovo/Documents/Education/Skripsi/Dataset/Dataset_Indonesia\\Kanan\\Kanan (45).wav: 0\n",
      "C:/Users/Lenovo/Documents/Education/Skripsi/Dataset/Dataset_Indonesia\\Kanan\\Kanan (46).wav: 0\n",
      "C:/Users/Lenovo/Documents/Education/Skripsi/Dataset/Dataset_Indonesia\\Kanan\\Kanan (47).wav: 0\n",
      "C:/Users/Lenovo/Documents/Education/Skripsi/Dataset/Dataset_Indonesia\\Kanan\\Kanan (48).wav: 0\n"
     ]
    },
    {
     "name": "stderr",
     "output_type": "stream",
     "text": [
      "C:\\Users\\Lenovo\\AppData\\Local\\Temp\\ipykernel_11612\\2861807924.py:31: FutureWarning: Pass y=[0.         0.         0.         ... 0.05630667 0.08458793 0.10546929], sr=22050 as keyword args. From version 0.10 passing these as positional arguments will result in an error\n",
      "  MFCCs = librosa.feature.mfcc(signal, sample_rate, n_mfcc=num_mfcc, n_fft=n_fft, hop_length=hop_length)\n",
      "C:\\Users\\Lenovo\\AppData\\Local\\Temp\\ipykernel_11612\\2861807924.py:31: FutureWarning: Pass y=[ 0.          0.          0.         ... -0.0528428  -0.05565392\n",
      " -0.05956609], sr=22050 as keyword args. From version 0.10 passing these as positional arguments will result in an error\n",
      "  MFCCs = librosa.feature.mfcc(signal, sample_rate, n_mfcc=num_mfcc, n_fft=n_fft, hop_length=hop_length)\n"
     ]
    },
    {
     "name": "stdout",
     "output_type": "stream",
     "text": [
      "C:/Users/Lenovo/Documents/Education/Skripsi/Dataset/Dataset_Indonesia\\Kanan\\Kanan (49).wav: 0\n",
      "C:/Users/Lenovo/Documents/Education/Skripsi/Dataset/Dataset_Indonesia\\Kanan\\Kanan (5).wav: 0\n"
     ]
    },
    {
     "name": "stderr",
     "output_type": "stream",
     "text": [
      "C:\\Users\\Lenovo\\AppData\\Local\\Temp\\ipykernel_11612\\2861807924.py:31: FutureWarning: Pass y=[-4.7557096e-06 -4.9385167e-06  1.6930403e-06 ... -3.1831909e-03\n",
      " -3.1591069e-03 -1.8092892e-03], sr=22050 as keyword args. From version 0.10 passing these as positional arguments will result in an error\n",
      "  MFCCs = librosa.feature.mfcc(signal, sample_rate, n_mfcc=num_mfcc, n_fft=n_fft, hop_length=hop_length)\n",
      "C:\\Users\\Lenovo\\AppData\\Local\\Temp\\ipykernel_11612\\2861807924.py:31: FutureWarning: Pass y=[0.         0.         0.         ... 0.040396   0.02984484 0.01896916], sr=22050 as keyword args. From version 0.10 passing these as positional arguments will result in an error\n",
      "  MFCCs = librosa.feature.mfcc(signal, sample_rate, n_mfcc=num_mfcc, n_fft=n_fft, hop_length=hop_length)\n",
      "C:\\Users\\Lenovo\\AppData\\Local\\Temp\\ipykernel_11612\\2861807924.py:31: FutureWarning: Pass y=[-8.4681091e-08  4.1913349e-08  1.9935008e-08 ...  4.3847314e-03\n",
      "  4.6240408e-03  4.4903290e-03], sr=22050 as keyword args. From version 0.10 passing these as positional arguments will result in an error\n",
      "  MFCCs = librosa.feature.mfcc(signal, sample_rate, n_mfcc=num_mfcc, n_fft=n_fft, hop_length=hop_length)\n"
     ]
    },
    {
     "name": "stdout",
     "output_type": "stream",
     "text": [
      "C:/Users/Lenovo/Documents/Education/Skripsi/Dataset/Dataset_Indonesia\\Kanan\\Kanan (50).wav: 0\n",
      "C:/Users/Lenovo/Documents/Education/Skripsi/Dataset/Dataset_Indonesia\\Kanan\\Kanan (51).wav: 0\n",
      "C:/Users/Lenovo/Documents/Education/Skripsi/Dataset/Dataset_Indonesia\\Kanan\\Kanan (52).wav: 0\n"
     ]
    },
    {
     "name": "stderr",
     "output_type": "stream",
     "text": [
      "C:\\Users\\Lenovo\\AppData\\Local\\Temp\\ipykernel_11612\\2861807924.py:31: FutureWarning: Pass y=[-6.5801931e-10  5.1613380e-09 -1.0780733e-08 ... -7.0430450e-03\n",
      " -6.6996808e-03 -6.5486166e-03], sr=22050 as keyword args. From version 0.10 passing these as positional arguments will result in an error\n",
      "  MFCCs = librosa.feature.mfcc(signal, sample_rate, n_mfcc=num_mfcc, n_fft=n_fft, hop_length=hop_length)\n",
      "C:\\Users\\Lenovo\\AppData\\Local\\Temp\\ipykernel_11612\\2861807924.py:31: FutureWarning: Pass y=[ 0.          0.          0.         ... -0.02955515 -0.01094809\n",
      "  0.00900369], sr=22050 as keyword args. From version 0.10 passing these as positional arguments will result in an error\n",
      "  MFCCs = librosa.feature.mfcc(signal, sample_rate, n_mfcc=num_mfcc, n_fft=n_fft, hop_length=hop_length)\n"
     ]
    },
    {
     "name": "stdout",
     "output_type": "stream",
     "text": [
      "C:/Users/Lenovo/Documents/Education/Skripsi/Dataset/Dataset_Indonesia\\Kanan\\Kanan (53).wav: 0\n",
      "C:/Users/Lenovo/Documents/Education/Skripsi/Dataset/Dataset_Indonesia\\Kanan\\Kanan (54).wav: 0\n",
      "C:/Users/Lenovo/Documents/Education/Skripsi/Dataset/Dataset_Indonesia\\Kanan\\Kanan (55).wav: 0\n"
     ]
    },
    {
     "name": "stderr",
     "output_type": "stream",
     "text": [
      "C:\\Users\\Lenovo\\AppData\\Local\\Temp\\ipykernel_11612\\2861807924.py:31: FutureWarning: Pass y=[ 0.          0.          0.         ... -0.00611739 -0.00675873\n",
      " -0.00688655], sr=22050 as keyword args. From version 0.10 passing these as positional arguments will result in an error\n",
      "  MFCCs = librosa.feature.mfcc(signal, sample_rate, n_mfcc=num_mfcc, n_fft=n_fft, hop_length=hop_length)\n",
      "C:\\Users\\Lenovo\\AppData\\Local\\Temp\\ipykernel_11612\\2861807924.py:31: FutureWarning: Pass y=[0.         0.         0.         ... 0.00429115 0.00262141 0.00124783], sr=22050 as keyword args. From version 0.10 passing these as positional arguments will result in an error\n",
      "  MFCCs = librosa.feature.mfcc(signal, sample_rate, n_mfcc=num_mfcc, n_fft=n_fft, hop_length=hop_length)\n",
      "C:\\Users\\Lenovo\\AppData\\Local\\Temp\\ipykernel_11612\\2861807924.py:31: FutureWarning: Pass y=[ 0.          0.          0.         ... -0.00351452  0.00142963\n",
      "  0.004939  ], sr=22050 as keyword args. From version 0.10 passing these as positional arguments will result in an error\n",
      "  MFCCs = librosa.feature.mfcc(signal, sample_rate, n_mfcc=num_mfcc, n_fft=n_fft, hop_length=hop_length)\n"
     ]
    },
    {
     "name": "stdout",
     "output_type": "stream",
     "text": [
      "C:/Users/Lenovo/Documents/Education/Skripsi/Dataset/Dataset_Indonesia\\Kanan\\Kanan (56).wav: 0\n",
      "C:/Users/Lenovo/Documents/Education/Skripsi/Dataset/Dataset_Indonesia\\Kanan\\Kanan (57).wav: 0\n"
     ]
    },
    {
     "name": "stderr",
     "output_type": "stream",
     "text": [
      "C:\\Users\\Lenovo\\AppData\\Local\\Temp\\ipykernel_11612\\2861807924.py:31: FutureWarning: Pass y=[ 0.          0.          0.         ... -0.00293062 -0.00243719\n",
      " -0.00200664], sr=22050 as keyword args. From version 0.10 passing these as positional arguments will result in an error\n",
      "  MFCCs = librosa.feature.mfcc(signal, sample_rate, n_mfcc=num_mfcc, n_fft=n_fft, hop_length=hop_length)\n",
      "C:\\Users\\Lenovo\\AppData\\Local\\Temp\\ipykernel_11612\\2861807924.py:31: FutureWarning: Pass y=[0.         0.         0.         ... 0.00051086 0.00045943 0.00056076], sr=22050 as keyword args. From version 0.10 passing these as positional arguments will result in an error\n",
      "  MFCCs = librosa.feature.mfcc(signal, sample_rate, n_mfcc=num_mfcc, n_fft=n_fft, hop_length=hop_length)\n"
     ]
    },
    {
     "name": "stdout",
     "output_type": "stream",
     "text": [
      "C:/Users/Lenovo/Documents/Education/Skripsi/Dataset/Dataset_Indonesia\\Kanan\\Kanan (58).wav: 0\n",
      "C:/Users/Lenovo/Documents/Education/Skripsi/Dataset/Dataset_Indonesia\\Kanan\\Kanan (59).wav: 0\n"
     ]
    },
    {
     "name": "stderr",
     "output_type": "stream",
     "text": [
      "C:\\Users\\Lenovo\\AppData\\Local\\Temp\\ipykernel_11612\\2861807924.py:31: FutureWarning: Pass y=[ 0.          0.          0.         ... -0.00677987 -0.00623841\n",
      " -0.00572417], sr=22050 as keyword args. From version 0.10 passing these as positional arguments will result in an error\n",
      "  MFCCs = librosa.feature.mfcc(signal, sample_rate, n_mfcc=num_mfcc, n_fft=n_fft, hop_length=hop_length)\n"
     ]
    },
    {
     "name": "stdout",
     "output_type": "stream",
     "text": [
      "C:/Users/Lenovo/Documents/Education/Skripsi/Dataset/Dataset_Indonesia\\Kanan\\Kanan (6).wav: 0\n",
      "C:/Users/Lenovo/Documents/Education/Skripsi/Dataset/Dataset_Indonesia\\Kanan\\Kanan (60).wav: 0\n"
     ]
    },
    {
     "name": "stderr",
     "output_type": "stream",
     "text": [
      "C:\\Users\\Lenovo\\AppData\\Local\\Temp\\ipykernel_11612\\2861807924.py:31: FutureWarning: Pass y=[0.         0.         0.         ... 0.04309347 0.04230416 0.03534982], sr=22050 as keyword args. From version 0.10 passing these as positional arguments will result in an error\n",
      "  MFCCs = librosa.feature.mfcc(signal, sample_rate, n_mfcc=num_mfcc, n_fft=n_fft, hop_length=hop_length)\n",
      "C:\\Users\\Lenovo\\AppData\\Local\\Temp\\ipykernel_11612\\2861807924.py:31: FutureWarning: Pass y=[0.         0.         0.         ... 0.00475243 0.00544666 0.00610528], sr=22050 as keyword args. From version 0.10 passing these as positional arguments will result in an error\n",
      "  MFCCs = librosa.feature.mfcc(signal, sample_rate, n_mfcc=num_mfcc, n_fft=n_fft, hop_length=hop_length)\n",
      "C:\\Users\\Lenovo\\AppData\\Local\\Temp\\ipykernel_11612\\2861807924.py:31: FutureWarning: Pass y=[ 0.0000000e+00  0.0000000e+00  0.0000000e+00 ...  3.8237966e-05\n",
      " -1.1548604e-04  5.7918354e-05], sr=22050 as keyword args. From version 0.10 passing these as positional arguments will result in an error\n",
      "  MFCCs = librosa.feature.mfcc(signal, sample_rate, n_mfcc=num_mfcc, n_fft=n_fft, hop_length=hop_length)\n"
     ]
    },
    {
     "name": "stdout",
     "output_type": "stream",
     "text": [
      "C:/Users/Lenovo/Documents/Education/Skripsi/Dataset/Dataset_Indonesia\\Kanan\\Kanan (61).wav: 0\n",
      "C:/Users/Lenovo/Documents/Education/Skripsi/Dataset/Dataset_Indonesia\\Kanan\\Kanan (62).wav: 0\n",
      "C:/Users/Lenovo/Documents/Education/Skripsi/Dataset/Dataset_Indonesia\\Kanan\\Kanan (63).wav: 0\n"
     ]
    },
    {
     "name": "stderr",
     "output_type": "stream",
     "text": [
      "C:\\Users\\Lenovo\\AppData\\Local\\Temp\\ipykernel_11612\\2861807924.py:31: FutureWarning: Pass y=[ 0.          0.          0.         ... -0.00232964 -0.00211716\n",
      " -0.00201501], sr=22050 as keyword args. From version 0.10 passing these as positional arguments will result in an error\n",
      "  MFCCs = librosa.feature.mfcc(signal, sample_rate, n_mfcc=num_mfcc, n_fft=n_fft, hop_length=hop_length)\n",
      "C:\\Users\\Lenovo\\AppData\\Local\\Temp\\ipykernel_11612\\2861807924.py:31: FutureWarning: Pass y=[ 0.          0.          0.         ... -0.00526832 -0.00595724\n",
      " -0.00563614], sr=22050 as keyword args. From version 0.10 passing these as positional arguments will result in an error\n",
      "  MFCCs = librosa.feature.mfcc(signal, sample_rate, n_mfcc=num_mfcc, n_fft=n_fft, hop_length=hop_length)\n",
      "C:\\Users\\Lenovo\\AppData\\Local\\Temp\\ipykernel_11612\\2861807924.py:31: FutureWarning: Pass y=[ 0.          0.          0.         ... -0.00648995 -0.00572036\n",
      " -0.00544511], sr=22050 as keyword args. From version 0.10 passing these as positional arguments will result in an error\n",
      "  MFCCs = librosa.feature.mfcc(signal, sample_rate, n_mfcc=num_mfcc, n_fft=n_fft, hop_length=hop_length)\n"
     ]
    },
    {
     "name": "stdout",
     "output_type": "stream",
     "text": [
      "C:/Users/Lenovo/Documents/Education/Skripsi/Dataset/Dataset_Indonesia\\Kanan\\Kanan (64).wav: 0\n",
      "C:/Users/Lenovo/Documents/Education/Skripsi/Dataset/Dataset_Indonesia\\Kanan\\Kanan (65).wav: 0\n",
      "C:/Users/Lenovo/Documents/Education/Skripsi/Dataset/Dataset_Indonesia\\Kanan\\Kanan (66).wav: 0\n"
     ]
    },
    {
     "name": "stderr",
     "output_type": "stream",
     "text": [
      "C:\\Users\\Lenovo\\AppData\\Local\\Temp\\ipykernel_11612\\2861807924.py:31: FutureWarning: Pass y=[ 0.          0.          0.         ...  0.01264697  0.00300218\n",
      " -0.01448857], sr=22050 as keyword args. From version 0.10 passing these as positional arguments will result in an error\n",
      "  MFCCs = librosa.feature.mfcc(signal, sample_rate, n_mfcc=num_mfcc, n_fft=n_fft, hop_length=hop_length)\n",
      "C:\\Users\\Lenovo\\AppData\\Local\\Temp\\ipykernel_11612\\2861807924.py:31: FutureWarning: Pass y=[0.         0.         0.         ... 0.00264959 0.00233253 0.00237953], sr=22050 as keyword args. From version 0.10 passing these as positional arguments will result in an error\n",
      "  MFCCs = librosa.feature.mfcc(signal, sample_rate, n_mfcc=num_mfcc, n_fft=n_fft, hop_length=hop_length)\n",
      "C:\\Users\\Lenovo\\AppData\\Local\\Temp\\ipykernel_11612\\2861807924.py:31: FutureWarning: Pass y=[ 0.          0.          0.         ... -0.00470955 -0.00817068\n",
      " -0.01239779], sr=22050 as keyword args. From version 0.10 passing these as positional arguments will result in an error\n",
      "  MFCCs = librosa.feature.mfcc(signal, sample_rate, n_mfcc=num_mfcc, n_fft=n_fft, hop_length=hop_length)\n"
     ]
    },
    {
     "name": "stdout",
     "output_type": "stream",
     "text": [
      "C:/Users/Lenovo/Documents/Education/Skripsi/Dataset/Dataset_Indonesia\\Kanan\\Kanan (67).wav: 0\n",
      "C:/Users/Lenovo/Documents/Education/Skripsi/Dataset/Dataset_Indonesia\\Kanan\\Kanan (68).wav: 0\n"
     ]
    },
    {
     "name": "stderr",
     "output_type": "stream",
     "text": [
      "C:\\Users\\Lenovo\\AppData\\Local\\Temp\\ipykernel_11612\\2861807924.py:31: FutureWarning: Pass y=[0.         0.         0.         ... 0.01020695 0.0098045  0.00898641], sr=22050 as keyword args. From version 0.10 passing these as positional arguments will result in an error\n",
      "  MFCCs = librosa.feature.mfcc(signal, sample_rate, n_mfcc=num_mfcc, n_fft=n_fft, hop_length=hop_length)\n"
     ]
    },
    {
     "name": "stdout",
     "output_type": "stream",
     "text": [
      "C:/Users/Lenovo/Documents/Education/Skripsi/Dataset/Dataset_Indonesia\\Kanan\\Kanan (69).wav: 0\n",
      "C:/Users/Lenovo/Documents/Education/Skripsi/Dataset/Dataset_Indonesia\\Kanan\\Kanan (7).wav: 0\n"
     ]
    },
    {
     "name": "stderr",
     "output_type": "stream",
     "text": [
      "C:\\Users\\Lenovo\\AppData\\Local\\Temp\\ipykernel_11612\\2861807924.py:31: FutureWarning: Pass y=[-5.3826142e-08  7.9589505e-08 -1.0581892e-07 ...  7.4770503e-02\n",
      "  7.0837863e-02  6.5901533e-02], sr=22050 as keyword args. From version 0.10 passing these as positional arguments will result in an error\n",
      "  MFCCs = librosa.feature.mfcc(signal, sample_rate, n_mfcc=num_mfcc, n_fft=n_fft, hop_length=hop_length)\n",
      "C:\\Users\\Lenovo\\AppData\\Local\\Temp\\ipykernel_11612\\2861807924.py:31: FutureWarning: Pass y=[ 0.          0.          0.         ... -0.00222668 -0.00263647\n",
      " -0.00284639], sr=22050 as keyword args. From version 0.10 passing these as positional arguments will result in an error\n",
      "  MFCCs = librosa.feature.mfcc(signal, sample_rate, n_mfcc=num_mfcc, n_fft=n_fft, hop_length=hop_length)\n",
      "C:\\Users\\Lenovo\\AppData\\Local\\Temp\\ipykernel_11612\\2861807924.py:31: FutureWarning: Pass y=[ 0.          0.          0.         ... -0.0044693  -0.00515188\n",
      " -0.00580735], sr=22050 as keyword args. From version 0.10 passing these as positional arguments will result in an error\n",
      "  MFCCs = librosa.feature.mfcc(signal, sample_rate, n_mfcc=num_mfcc, n_fft=n_fft, hop_length=hop_length)\n"
     ]
    },
    {
     "name": "stdout",
     "output_type": "stream",
     "text": [
      "C:/Users/Lenovo/Documents/Education/Skripsi/Dataset/Dataset_Indonesia\\Kanan\\Kanan (70).wav: 0\n",
      "C:/Users/Lenovo/Documents/Education/Skripsi/Dataset/Dataset_Indonesia\\Kanan\\Kanan (71).wav: 0\n",
      "C:/Users/Lenovo/Documents/Education/Skripsi/Dataset/Dataset_Indonesia\\Kanan\\Kanan (72).wav: 0\n"
     ]
    },
    {
     "name": "stderr",
     "output_type": "stream",
     "text": [
      "C:\\Users\\Lenovo\\AppData\\Local\\Temp\\ipykernel_11612\\2861807924.py:31: FutureWarning: Pass y=[ 0.0000000e+00  0.0000000e+00  0.0000000e+00 ...  1.0098949e-05\n",
      " -1.1295457e-03 -1.5398903e-03], sr=22050 as keyword args. From version 0.10 passing these as positional arguments will result in an error\n",
      "  MFCCs = librosa.feature.mfcc(signal, sample_rate, n_mfcc=num_mfcc, n_fft=n_fft, hop_length=hop_length)\n",
      "C:\\Users\\Lenovo\\AppData\\Local\\Temp\\ipykernel_11612\\2861807924.py:31: FutureWarning: Pass y=[ 0.          0.          0.         ... -0.0335798  -0.03928217\n",
      " -0.0441267 ], sr=22050 as keyword args. From version 0.10 passing these as positional arguments will result in an error\n",
      "  MFCCs = librosa.feature.mfcc(signal, sample_rate, n_mfcc=num_mfcc, n_fft=n_fft, hop_length=hop_length)\n",
      "C:\\Users\\Lenovo\\AppData\\Local\\Temp\\ipykernel_11612\\2861807924.py:31: FutureWarning: Pass y=[ 0.0000000e+00  0.0000000e+00  0.0000000e+00 ... -9.4310686e-05\n",
      " -2.7696107e-04 -3.1795766e-04], sr=22050 as keyword args. From version 0.10 passing these as positional arguments will result in an error\n",
      "  MFCCs = librosa.feature.mfcc(signal, sample_rate, n_mfcc=num_mfcc, n_fft=n_fft, hop_length=hop_length)\n",
      "C:\\Users\\Lenovo\\AppData\\Local\\Temp\\ipykernel_11612\\2861807924.py:31: FutureWarning: Pass y=[ 0.          0.          0.         ... -0.00034408 -0.00025129\n",
      " -0.00031821], sr=22050 as keyword args. From version 0.10 passing these as positional arguments will result in an error\n",
      "  MFCCs = librosa.feature.mfcc(signal, sample_rate, n_mfcc=num_mfcc, n_fft=n_fft, hop_length=hop_length)\n"
     ]
    },
    {
     "name": "stdout",
     "output_type": "stream",
     "text": [
      "C:/Users/Lenovo/Documents/Education/Skripsi/Dataset/Dataset_Indonesia\\Kanan\\Kanan (73).wav: 0\n",
      "C:/Users/Lenovo/Documents/Education/Skripsi/Dataset/Dataset_Indonesia\\Kanan\\Kanan (74).wav: 0\n",
      "C:/Users/Lenovo/Documents/Education/Skripsi/Dataset/Dataset_Indonesia\\Kanan\\Kanan (75).wav: 0"
     ]
    },
    {
     "name": "stderr",
     "output_type": "stream",
     "text": [
      "C:\\Users\\Lenovo\\AppData\\Local\\Temp\\ipykernel_11612\\2861807924.py:31: FutureWarning: Pass y=[ 0.          0.          0.         ... -0.00698118 -0.00159542\n",
      "  0.00396601], sr=22050 as keyword args. From version 0.10 passing these as positional arguments will result in an error\n",
      "  MFCCs = librosa.feature.mfcc(signal, sample_rate, n_mfcc=num_mfcc, n_fft=n_fft, hop_length=hop_length)\n",
      "C:\\Users\\Lenovo\\AppData\\Local\\Temp\\ipykernel_11612\\2861807924.py:31: FutureWarning: Pass y=[0.         0.         0.         ... 0.0241115  0.02188135 0.02124399], sr=22050 as keyword args. From version 0.10 passing these as positional arguments will result in an error\n",
      "  MFCCs = librosa.feature.mfcc(signal, sample_rate, n_mfcc=num_mfcc, n_fft=n_fft, hop_length=hop_length)\n"
     ]
    },
    {
     "name": "stdout",
     "output_type": "stream",
     "text": [
      "\n",
      "C:/Users/Lenovo/Documents/Education/Skripsi/Dataset/Dataset_Indonesia\\Kanan\\Kanan (76).wav: 0\n",
      "C:/Users/Lenovo/Documents/Education/Skripsi/Dataset/Dataset_Indonesia\\Kanan\\Kanan (77).wav: 0\n",
      "C:/Users/Lenovo/Documents/Education/Skripsi/Dataset/Dataset_Indonesia\\Kanan\\Kanan (78).wav: 0\n"
     ]
    },
    {
     "name": "stderr",
     "output_type": "stream",
     "text": [
      "C:\\Users\\Lenovo\\AppData\\Local\\Temp\\ipykernel_11612\\2861807924.py:31: FutureWarning: Pass y=[ 0.          0.          0.         ... -0.08553143 -0.10033458\n",
      " -0.10135686], sr=22050 as keyword args. From version 0.10 passing these as positional arguments will result in an error\n",
      "  MFCCs = librosa.feature.mfcc(signal, sample_rate, n_mfcc=num_mfcc, n_fft=n_fft, hop_length=hop_length)\n",
      "C:\\Users\\Lenovo\\AppData\\Local\\Temp\\ipykernel_11612\\2861807924.py:31: FutureWarning: Pass y=[ 0.          0.          0.         ... -0.18280374 -0.16893153\n",
      " -0.13939454], sr=22050 as keyword args. From version 0.10 passing these as positional arguments will result in an error\n",
      "  MFCCs = librosa.feature.mfcc(signal, sample_rate, n_mfcc=num_mfcc, n_fft=n_fft, hop_length=hop_length)\n"
     ]
    },
    {
     "name": "stdout",
     "output_type": "stream",
     "text": [
      "C:/Users/Lenovo/Documents/Education/Skripsi/Dataset/Dataset_Indonesia\\Kanan\\Kanan (79).wav: 0\n",
      "C:/Users/Lenovo/Documents/Education/Skripsi/Dataset/Dataset_Indonesia\\Kanan\\Kanan (8).wav: 0\n"
     ]
    },
    {
     "name": "stderr",
     "output_type": "stream",
     "text": [
      "C:\\Users\\Lenovo\\AppData\\Local\\Temp\\ipykernel_11612\\2861807924.py:31: FutureWarning: Pass y=[-5.1886744e-08  8.0644362e-08 -1.1134588e-07 ...  3.4136396e-02\n",
      "  3.2350529e-02  3.1056603e-02], sr=22050 as keyword args. From version 0.10 passing these as positional arguments will result in an error\n",
      "  MFCCs = librosa.feature.mfcc(signal, sample_rate, n_mfcc=num_mfcc, n_fft=n_fft, hop_length=hop_length)\n",
      "C:\\Users\\Lenovo\\AppData\\Local\\Temp\\ipykernel_11612\\2861807924.py:31: FutureWarning: Pass y=[0.         0.         0.         ... 0.15078217 0.14228918 0.13419266], sr=22050 as keyword args. From version 0.10 passing these as positional arguments will result in an error\n",
      "  MFCCs = librosa.feature.mfcc(signal, sample_rate, n_mfcc=num_mfcc, n_fft=n_fft, hop_length=hop_length)\n",
      "C:\\Users\\Lenovo\\AppData\\Local\\Temp\\ipykernel_11612\\2861807924.py:31: FutureWarning: Pass y=[0.         0.         0.         ... 0.12747797 0.11132926 0.09693947], sr=22050 as keyword args. From version 0.10 passing these as positional arguments will result in an error\n",
      "  MFCCs = librosa.feature.mfcc(signal, sample_rate, n_mfcc=num_mfcc, n_fft=n_fft, hop_length=hop_length)\n"
     ]
    },
    {
     "name": "stdout",
     "output_type": "stream",
     "text": [
      "C:/Users/Lenovo/Documents/Education/Skripsi/Dataset/Dataset_Indonesia\\Kanan\\Kanan (80).wav: 0\n",
      "C:/Users/Lenovo/Documents/Education/Skripsi/Dataset/Dataset_Indonesia\\Kanan\\Kanan (81).wav: 0\n"
     ]
    },
    {
     "name": "stderr",
     "output_type": "stream",
     "text": [
      "C:\\Users\\Lenovo\\AppData\\Local\\Temp\\ipykernel_11612\\2861807924.py:31: FutureWarning: Pass y=[ 0.          0.          0.         ... -0.06709763 -0.06561865\n",
      " -0.06360906], sr=22050 as keyword args. From version 0.10 passing these as positional arguments will result in an error\n",
      "  MFCCs = librosa.feature.mfcc(signal, sample_rate, n_mfcc=num_mfcc, n_fft=n_fft, hop_length=hop_length)\n",
      "C:\\Users\\Lenovo\\AppData\\Local\\Temp\\ipykernel_11612\\2861807924.py:31: FutureWarning: Pass y=[ 0.          0.          0.         ... -0.01338618 -0.0228048\n",
      " -0.03496848], sr=22050 as keyword args. From version 0.10 passing these as positional arguments will result in an error\n",
      "  MFCCs = librosa.feature.mfcc(signal, sample_rate, n_mfcc=num_mfcc, n_fft=n_fft, hop_length=hop_length)\n",
      "C:\\Users\\Lenovo\\AppData\\Local\\Temp\\ipykernel_11612\\2861807924.py:31: FutureWarning: Pass y=[ 0.          0.          0.         ... -0.17214085 -0.08982618\n",
      "  0.01177254], sr=22050 as keyword args. From version 0.10 passing these as positional arguments will result in an error\n",
      "  MFCCs = librosa.feature.mfcc(signal, sample_rate, n_mfcc=num_mfcc, n_fft=n_fft, hop_length=hop_length)\n"
     ]
    },
    {
     "name": "stdout",
     "output_type": "stream",
     "text": [
      "C:/Users/Lenovo/Documents/Education/Skripsi/Dataset/Dataset_Indonesia\\Kanan\\Kanan (82).wav: 0\n",
      "C:/Users/Lenovo/Documents/Education/Skripsi/Dataset/Dataset_Indonesia\\Kanan\\Kanan (83).wav: 0\n",
      "C:/Users/Lenovo/Documents/Education/Skripsi/Dataset/Dataset_Indonesia\\Kanan\\Kanan (84).wav: 0\n",
      "C:/Users/Lenovo/Documents/Education/Skripsi/Dataset/Dataset_Indonesia\\Kanan\\Kanan (85).wav: 0\n"
     ]
    },
    {
     "name": "stderr",
     "output_type": "stream",
     "text": [
      "C:\\Users\\Lenovo\\AppData\\Local\\Temp\\ipykernel_11612\\2861807924.py:31: FutureWarning: Pass y=[0.         0.         0.         ... 0.12509763 0.07629115 0.03002792], sr=22050 as keyword args. From version 0.10 passing these as positional arguments will result in an error\n",
      "  MFCCs = librosa.feature.mfcc(signal, sample_rate, n_mfcc=num_mfcc, n_fft=n_fft, hop_length=hop_length)\n",
      "C:\\Users\\Lenovo\\AppData\\Local\\Temp\\ipykernel_11612\\2861807924.py:31: FutureWarning: Pass y=[ 0.          0.          0.         ... -0.06552062 -0.07619823\n",
      " -0.07934174], sr=22050 as keyword args. From version 0.10 passing these as positional arguments will result in an error\n",
      "  MFCCs = librosa.feature.mfcc(signal, sample_rate, n_mfcc=num_mfcc, n_fft=n_fft, hop_length=hop_length)\n",
      "C:\\Users\\Lenovo\\AppData\\Local\\Temp\\ipykernel_11612\\2861807924.py:31: FutureWarning: Pass y=[ 0.          0.          0.         ...  0.02838438  0.01359752\n",
      " -0.02351449], sr=22050 as keyword args. From version 0.10 passing these as positional arguments will result in an error\n",
      "  MFCCs = librosa.feature.mfcc(signal, sample_rate, n_mfcc=num_mfcc, n_fft=n_fft, hop_length=hop_length)\n"
     ]
    },
    {
     "name": "stdout",
     "output_type": "stream",
     "text": [
      "C:/Users/Lenovo/Documents/Education/Skripsi/Dataset/Dataset_Indonesia\\Kanan\\Kanan (86).wav: 0\n",
      "C:/Users/Lenovo/Documents/Education/Skripsi/Dataset/Dataset_Indonesia\\Kanan\\Kanan (87).wav: 0\n"
     ]
    },
    {
     "name": "stderr",
     "output_type": "stream",
     "text": [
      "C:\\Users\\Lenovo\\AppData\\Local\\Temp\\ipykernel_11612\\2861807924.py:31: FutureWarning: Pass y=[0.         0.         0.         ... 0.15947282 0.13764141 0.13013603], sr=22050 as keyword args. From version 0.10 passing these as positional arguments will result in an error\n",
      "  MFCCs = librosa.feature.mfcc(signal, sample_rate, n_mfcc=num_mfcc, n_fft=n_fft, hop_length=hop_length)\n",
      "C:\\Users\\Lenovo\\AppData\\Local\\Temp\\ipykernel_11612\\2861807924.py:31: FutureWarning: Pass y=[ 0.          0.          0.         ...  0.18671782  0.0765684\n",
      " -0.00064676], sr=22050 as keyword args. From version 0.10 passing these as positional arguments will result in an error\n",
      "  MFCCs = librosa.feature.mfcc(signal, sample_rate, n_mfcc=num_mfcc, n_fft=n_fft, hop_length=hop_length)\n"
     ]
    },
    {
     "name": "stdout",
     "output_type": "stream",
     "text": [
      "C:/Users/Lenovo/Documents/Education/Skripsi/Dataset/Dataset_Indonesia\\Kanan\\Kanan (88).wav: 0\n",
      "C:/Users/Lenovo/Documents/Education/Skripsi/Dataset/Dataset_Indonesia\\Kanan\\Kanan (89).wav: 0\n"
     ]
    },
    {
     "name": "stderr",
     "output_type": "stream",
     "text": [
      "C:\\Users\\Lenovo\\AppData\\Local\\Temp\\ipykernel_11612\\2861807924.py:31: FutureWarning: Pass y=[-3.4083804e-08  7.2141980e-08 -1.1630247e-07 ...  5.5866200e-04\n",
      " -3.6102856e-04 -1.4701240e-03], sr=22050 as keyword args. From version 0.10 passing these as positional arguments will result in an error\n",
      "  MFCCs = librosa.feature.mfcc(signal, sample_rate, n_mfcc=num_mfcc, n_fft=n_fft, hop_length=hop_length)\n",
      "C:\\Users\\Lenovo\\AppData\\Local\\Temp\\ipykernel_11612\\2861807924.py:31: FutureWarning: Pass y=[ 0.          0.          0.         ... -0.23288803 -0.19845366\n",
      " -0.1462675 ], sr=22050 as keyword args. From version 0.10 passing these as positional arguments will result in an error\n",
      "  MFCCs = librosa.feature.mfcc(signal, sample_rate, n_mfcc=num_mfcc, n_fft=n_fft, hop_length=hop_length)\n",
      "C:\\Users\\Lenovo\\AppData\\Local\\Temp\\ipykernel_11612\\2861807924.py:31: FutureWarning: Pass y=[ 0.          0.          0.         ... -0.03484529 -0.03192771\n",
      " -0.02517155], sr=22050 as keyword args. From version 0.10 passing these as positional arguments will result in an error\n",
      "  MFCCs = librosa.feature.mfcc(signal, sample_rate, n_mfcc=num_mfcc, n_fft=n_fft, hop_length=hop_length)\n"
     ]
    },
    {
     "name": "stdout",
     "output_type": "stream",
     "text": [
      "C:/Users/Lenovo/Documents/Education/Skripsi/Dataset/Dataset_Indonesia\\Kanan\\Kanan (9).wav: 0\n",
      "C:/Users/Lenovo/Documents/Education/Skripsi/Dataset/Dataset_Indonesia\\Kanan\\Kanan (90).wav: 0\n",
      "C:/Users/Lenovo/Documents/Education/Skripsi/Dataset/Dataset_Indonesia\\Kanan\\Kanan (91).wav: 0\n"
     ]
    },
    {
     "name": "stderr",
     "output_type": "stream",
     "text": [
      "C:\\Users\\Lenovo\\AppData\\Local\\Temp\\ipykernel_11612\\2861807924.py:31: FutureWarning: Pass y=[ 0.          0.          0.         ...  0.00332401 -0.01075469\n",
      " -0.0241142 ], sr=22050 as keyword args. From version 0.10 passing these as positional arguments will result in an error\n",
      "  MFCCs = librosa.feature.mfcc(signal, sample_rate, n_mfcc=num_mfcc, n_fft=n_fft, hop_length=hop_length)\n",
      "C:\\Users\\Lenovo\\AppData\\Local\\Temp\\ipykernel_11612\\2861807924.py:31: FutureWarning: Pass y=[0.         0.         0.         ... 0.14143574 0.13364792 0.12713547], sr=22050 as keyword args. From version 0.10 passing these as positional arguments will result in an error\n",
      "  MFCCs = librosa.feature.mfcc(signal, sample_rate, n_mfcc=num_mfcc, n_fft=n_fft, hop_length=hop_length)\n"
     ]
    },
    {
     "name": "stdout",
     "output_type": "stream",
     "text": [
      "C:/Users/Lenovo/Documents/Education/Skripsi/Dataset/Dataset_Indonesia\\Kanan\\Kanan (92).wav: 0\n",
      "C:/Users/Lenovo/Documents/Education/Skripsi/Dataset/Dataset_Indonesia\\Kanan\\Kanan (93).wav: 0\n"
     ]
    },
    {
     "name": "stderr",
     "output_type": "stream",
     "text": [
      "C:\\Users\\Lenovo\\AppData\\Local\\Temp\\ipykernel_11612\\2861807924.py:31: FutureWarning: Pass y=[ 0.          0.          0.         ... -0.06640246 -0.05635481\n",
      " -0.04546987], sr=22050 as keyword args. From version 0.10 passing these as positional arguments will result in an error\n",
      "  MFCCs = librosa.feature.mfcc(signal, sample_rate, n_mfcc=num_mfcc, n_fft=n_fft, hop_length=hop_length)\n",
      "C:\\Users\\Lenovo\\AppData\\Local\\Temp\\ipykernel_11612\\2861807924.py:31: FutureWarning: Pass y=[ 0.          0.          0.         ... -0.0979577  -0.11289118\n",
      " -0.1288223 ], sr=22050 as keyword args. From version 0.10 passing these as positional arguments will result in an error\n",
      "  MFCCs = librosa.feature.mfcc(signal, sample_rate, n_mfcc=num_mfcc, n_fft=n_fft, hop_length=hop_length)\n"
     ]
    },
    {
     "name": "stdout",
     "output_type": "stream",
     "text": [
      "C:/Users/Lenovo/Documents/Education/Skripsi/Dataset/Dataset_Indonesia\\Kanan\\Kanan (94).wav: 0\n",
      "C:/Users/Lenovo/Documents/Education/Skripsi/Dataset/Dataset_Indonesia\\Kanan\\Kanan (95).wav: 0\n"
     ]
    },
    {
     "name": "stderr",
     "output_type": "stream",
     "text": [
      "C:\\Users\\Lenovo\\AppData\\Local\\Temp\\ipykernel_11612\\2861807924.py:31: FutureWarning: Pass y=[0.         0.         0.         ... 0.0147456  0.02149072 0.03415681], sr=22050 as keyword args. From version 0.10 passing these as positional arguments will result in an error\n",
      "  MFCCs = librosa.feature.mfcc(signal, sample_rate, n_mfcc=num_mfcc, n_fft=n_fft, hop_length=hop_length)\n",
      "C:\\Users\\Lenovo\\AppData\\Local\\Temp\\ipykernel_11612\\2861807924.py:31: FutureWarning: Pass y=[ 0.          0.          0.         ... -0.00772243 -0.00458367\n",
      " -0.00146815], sr=22050 as keyword args. From version 0.10 passing these as positional arguments will result in an error\n",
      "  MFCCs = librosa.feature.mfcc(signal, sample_rate, n_mfcc=num_mfcc, n_fft=n_fft, hop_length=hop_length)\n"
     ]
    },
    {
     "name": "stdout",
     "output_type": "stream",
     "text": [
      "C:/Users/Lenovo/Documents/Education/Skripsi/Dataset/Dataset_Indonesia\\Kanan\\Kanan (96).wav: 0\n",
      "C:/Users/Lenovo/Documents/Education/Skripsi/Dataset/Dataset_Indonesia\\Kanan\\Kanan (97).wav: 0\n"
     ]
    },
    {
     "name": "stderr",
     "output_type": "stream",
     "text": [
      "C:\\Users\\Lenovo\\AppData\\Local\\Temp\\ipykernel_11612\\2861807924.py:31: FutureWarning: Pass y=[0.         0.         0.         ... 0.00357641 0.00337365 0.00296354], sr=22050 as keyword args. From version 0.10 passing these as positional arguments will result in an error\n",
      "  MFCCs = librosa.feature.mfcc(signal, sample_rate, n_mfcc=num_mfcc, n_fft=n_fft, hop_length=hop_length)\n",
      "C:\\Users\\Lenovo\\AppData\\Local\\Temp\\ipykernel_11612\\2861807924.py:31: FutureWarning: Pass y=[ 0.          0.          0.         ... -0.00878742 -0.00825915\n",
      " -0.00760608], sr=22050 as keyword args. From version 0.10 passing these as positional arguments will result in an error\n",
      "  MFCCs = librosa.feature.mfcc(signal, sample_rate, n_mfcc=num_mfcc, n_fft=n_fft, hop_length=hop_length)\n"
     ]
    },
    {
     "name": "stdout",
     "output_type": "stream",
     "text": [
      "C:/Users/Lenovo/Documents/Education/Skripsi/Dataset/Dataset_Indonesia\\Kanan\\Kanan (98).wav: 0\n",
      "C:/Users/Lenovo/Documents/Education/Skripsi/Dataset/Dataset_Indonesia\\Kanan\\Kanan (99).wav: 0\n",
      "\n",
      "Processing: 'Kiri'\n"
     ]
    },
    {
     "name": "stderr",
     "output_type": "stream",
     "text": [
      "C:\\Users\\Lenovo\\AppData\\Local\\Temp\\ipykernel_11612\\2861807924.py:31: FutureWarning: Pass y=[-4.7378066e-06 -4.9169776e-06  1.6205487e-06 ...  8.6026732e-03\n",
      " -4.8656881e-02 -9.3115479e-02], sr=22050 as keyword args. From version 0.10 passing these as positional arguments will result in an error\n",
      "  MFCCs = librosa.feature.mfcc(signal, sample_rate, n_mfcc=num_mfcc, n_fft=n_fft, hop_length=hop_length)\n",
      "C:\\Users\\Lenovo\\AppData\\Local\\Temp\\ipykernel_11612\\2861807924.py:31: FutureWarning: Pass y=[-5.2253352e-08  7.9154972e-08 -1.0723828e-07 ... -1.0358222e-02\n",
      " -3.4909374e-03 -7.0145307e-03], sr=22050 as keyword args. From version 0.10 passing these as positional arguments will result in an error\n",
      "  MFCCs = librosa.feature.mfcc(signal, sample_rate, n_mfcc=num_mfcc, n_fft=n_fft, hop_length=hop_length)\n"
     ]
    },
    {
     "name": "stdout",
     "output_type": "stream",
     "text": [
      "C:/Users/Lenovo/Documents/Education/Skripsi/Dataset/Dataset_Indonesia\\Kiri\\1 (1).wav: 1\n",
      "C:/Users/Lenovo/Documents/Education/Skripsi/Dataset/Dataset_Indonesia\\Kiri\\10 (1).wav: 1\n"
     ]
    },
    {
     "name": "stderr",
     "output_type": "stream",
     "text": [
      "C:\\Users\\Lenovo\\AppData\\Local\\Temp\\ipykernel_11612\\2861807924.py:31: FutureWarning: Pass y=[-7.3955891e-07 -6.9152670e-06 -6.5132133e-07 ... -2.4678735e-03\n",
      " -2.7822510e-03 -3.1822000e-03], sr=22050 as keyword args. From version 0.10 passing these as positional arguments will result in an error\n",
      "  MFCCs = librosa.feature.mfcc(signal, sample_rate, n_mfcc=num_mfcc, n_fft=n_fft, hop_length=hop_length)\n",
      "C:\\Users\\Lenovo\\AppData\\Local\\Temp\\ipykernel_11612\\2861807924.py:31: FutureWarning: Pass y=[-2.3139376e-07  2.3625293e-07 -2.1908097e-07 ... -6.8037644e-02\n",
      " -6.0982883e-02 -4.5009580e-02], sr=22050 as keyword args. From version 0.10 passing these as positional arguments will result in an error\n",
      "  MFCCs = librosa.feature.mfcc(signal, sample_rate, n_mfcc=num_mfcc, n_fft=n_fft, hop_length=hop_length)\n"
     ]
    },
    {
     "name": "stdout",
     "output_type": "stream",
     "text": [
      "C:/Users/Lenovo/Documents/Education/Skripsi/Dataset/Dataset_Indonesia\\Kiri\\11 (1).wav: 1\n",
      "C:/Users/Lenovo/Documents/Education/Skripsi/Dataset/Dataset_Indonesia\\Kiri\\12 (1).wav: 1\n"
     ]
    },
    {
     "name": "stderr",
     "output_type": "stream",
     "text": [
      "C:\\Users\\Lenovo\\AppData\\Local\\Temp\\ipykernel_11612\\2861807924.py:31: FutureWarning: Pass y=[-1.6653173e-07  1.5794650e-07 -1.3025284e-07 ... -2.1797635e-03\n",
      " -1.3090731e-03 -1.2426799e-03], sr=22050 as keyword args. From version 0.10 passing these as positional arguments will result in an error\n",
      "  MFCCs = librosa.feature.mfcc(signal, sample_rate, n_mfcc=num_mfcc, n_fft=n_fft, hop_length=hop_length)\n",
      "C:\\Users\\Lenovo\\AppData\\Local\\Temp\\ipykernel_11612\\2861807924.py:31: FutureWarning: Pass y=[-1.3377415e-07  1.8579911e-07 -2.3622695e-07 ...  8.5050298e-05\n",
      " -2.3139464e-03  6.3955891e-03], sr=22050 as keyword args. From version 0.10 passing these as positional arguments will result in an error\n",
      "  MFCCs = librosa.feature.mfcc(signal, sample_rate, n_mfcc=num_mfcc, n_fft=n_fft, hop_length=hop_length)\n"
     ]
    },
    {
     "name": "stdout",
     "output_type": "stream",
     "text": [
      "C:/Users/Lenovo/Documents/Education/Skripsi/Dataset/Dataset_Indonesia\\Kiri\\13 (1).wav: 1\n",
      "C:/Users/Lenovo/Documents/Education/Skripsi/Dataset/Dataset_Indonesia\\Kiri\\14 (1).wav: 1\n"
     ]
    },
    {
     "name": "stderr",
     "output_type": "stream",
     "text": [
      "C:\\Users\\Lenovo\\AppData\\Local\\Temp\\ipykernel_11612\\2861807924.py:31: FutureWarning: Pass y=[-5.0831883e-08  7.5117406e-08 -9.9818649e-08 ... -8.6419820e-04\n",
      "  2.5414908e-04  2.2016182e-03], sr=22050 as keyword args. From version 0.10 passing these as positional arguments will result in an error\n",
      "  MFCCs = librosa.feature.mfcc(signal, sample_rate, n_mfcc=num_mfcc, n_fft=n_fft, hop_length=hop_length)\n",
      "C:\\Users\\Lenovo\\AppData\\Local\\Temp\\ipykernel_11612\\2861807924.py:31: FutureWarning: Pass y=[-6.28574739e-08  1.09589365e-07 -1.61097276e-07 ... -8.22992343e-03\n",
      " -6.64180377e-03 -5.91484737e-03], sr=22050 as keyword args. From version 0.10 passing these as positional arguments will result in an error\n",
      "  MFCCs = librosa.feature.mfcc(signal, sample_rate, n_mfcc=num_mfcc, n_fft=n_fft, hop_length=hop_length)\n"
     ]
    },
    {
     "name": "stdout",
     "output_type": "stream",
     "text": [
      "C:/Users/Lenovo/Documents/Education/Skripsi/Dataset/Dataset_Indonesia\\Kiri\\15 (1).wav: 1\n",
      "C:/Users/Lenovo/Documents/Education/Skripsi/Dataset/Dataset_Indonesia\\Kiri\\16 (1).wav: 1\n"
     ]
    },
    {
     "name": "stderr",
     "output_type": "stream",
     "text": [
      "C:\\Users\\Lenovo\\AppData\\Local\\Temp\\ipykernel_11612\\2861807924.py:31: FutureWarning: Pass y=[-4.9717441e-06 -4.3100695e-06  2.3769192e-07 ...  5.7770950e-03\n",
      "  4.1850144e-03  4.1202302e-03], sr=22050 as keyword args. From version 0.10 passing these as positional arguments will result in an error\n",
      "  MFCCs = librosa.feature.mfcc(signal, sample_rate, n_mfcc=num_mfcc, n_fft=n_fft, hop_length=hop_length)\n",
      "C:\\Users\\Lenovo\\AppData\\Local\\Temp\\ipykernel_11612\\2861807924.py:31: FutureWarning: Pass y=[-5.3826142e-08  7.9589505e-08 -1.0581892e-07 ...  5.2573360e-03\n",
      "  4.7089169e-03  2.4125001e-03], sr=22050 as keyword args. From version 0.10 passing these as positional arguments will result in an error\n",
      "  MFCCs = librosa.feature.mfcc(signal, sample_rate, n_mfcc=num_mfcc, n_fft=n_fft, hop_length=hop_length)\n"
     ]
    },
    {
     "name": "stdout",
     "output_type": "stream",
     "text": [
      "C:/Users/Lenovo/Documents/Education/Skripsi/Dataset/Dataset_Indonesia\\Kiri\\17 (1).wav: 1\n",
      "C:/Users/Lenovo/Documents/Education/Skripsi/Dataset/Dataset_Indonesia\\Kiri\\18 (1).wav: 1\n"
     ]
    },
    {
     "name": "stderr",
     "output_type": "stream",
     "text": [
      "C:\\Users\\Lenovo\\AppData\\Local\\Temp\\ipykernel_11612\\2861807924.py:31: FutureWarning: Pass y=[-5.3826142e-08  7.9589505e-08 -1.0581892e-07 ...  2.1557407e-02\n",
      "  2.4339033e-02  4.4146333e-02], sr=22050 as keyword args. From version 0.10 passing these as positional arguments will result in an error\n",
      "  MFCCs = librosa.feature.mfcc(signal, sample_rate, n_mfcc=num_mfcc, n_fft=n_fft, hop_length=hop_length)\n",
      "C:\\Users\\Lenovo\\AppData\\Local\\Temp\\ipykernel_11612\\2861807924.py:31: FutureWarning: Pass y=[-4.7707672e-06 -4.8769402e-06  1.5751390e-06 ...  1.2281075e-03\n",
      "  1.1992442e-03  2.6050911e-03], sr=22050 as keyword args. From version 0.10 passing these as positional arguments will result in an error\n",
      "  MFCCs = librosa.feature.mfcc(signal, sample_rate, n_mfcc=num_mfcc, n_fft=n_fft, hop_length=hop_length)\n"
     ]
    },
    {
     "name": "stdout",
     "output_type": "stream",
     "text": [
      "C:/Users/Lenovo/Documents/Education/Skripsi/Dataset/Dataset_Indonesia\\Kiri\\19 (1).wav: 1\n",
      "C:/Users/Lenovo/Documents/Education/Skripsi/Dataset/Dataset_Indonesia\\Kiri\\2 (1).wav: 1\n"
     ]
    },
    {
     "name": "stderr",
     "output_type": "stream",
     "text": [
      "C:\\Users\\Lenovo\\AppData\\Local\\Temp\\ipykernel_11612\\2861807924.py:31: FutureWarning: Pass y=[-4.6260334e-06 -5.0331146e-06  1.7310332e-06 ...  6.5908427e-03\n",
      "  6.2634419e-03  5.2108103e-03], sr=22050 as keyword args. From version 0.10 passing these as positional arguments will result in an error\n",
      "  MFCCs = librosa.feature.mfcc(signal, sample_rate, n_mfcc=num_mfcc, n_fft=n_fft, hop_length=hop_length)\n",
      "C:\\Users\\Lenovo\\AppData\\Local\\Temp\\ipykernel_11612\\2861807924.py:31: FutureWarning: Pass y=[-5.3826142e-08  7.9589505e-08 -1.0581892e-07 ... -6.2840963e-03\n",
      " -6.1890231e-03 -7.6214531e-03], sr=22050 as keyword args. From version 0.10 passing these as positional arguments will result in an error\n",
      "  MFCCs = librosa.feature.mfcc(signal, sample_rate, n_mfcc=num_mfcc, n_fft=n_fft, hop_length=hop_length)\n"
     ]
    },
    {
     "name": "stdout",
     "output_type": "stream",
     "text": [
      "C:/Users/Lenovo/Documents/Education/Skripsi/Dataset/Dataset_Indonesia\\Kiri\\20 (1).wav: 1\n",
      "C:/Users/Lenovo/Documents/Education/Skripsi/Dataset/Dataset_Indonesia\\Kiri\\21 (1).wav: 1\n"
     ]
    },
    {
     "name": "stderr",
     "output_type": "stream",
     "text": [
      "C:\\Users\\Lenovo\\AppData\\Local\\Temp\\ipykernel_11612\\2861807924.py:31: FutureWarning: Pass y=[-5.3826142e-08  7.9589505e-08 -1.0581892e-07 ...  2.2703861e-03\n",
      " -2.0163704e-03 -1.0966591e-02], sr=22050 as keyword args. From version 0.10 passing these as positional arguments will result in an error\n",
      "  MFCCs = librosa.feature.mfcc(signal, sample_rate, n_mfcc=num_mfcc, n_fft=n_fft, hop_length=hop_length)\n"
     ]
    },
    {
     "name": "stdout",
     "output_type": "stream",
     "text": [
      "C:/Users/Lenovo/Documents/Education/Skripsi/Dataset/Dataset_Indonesia\\Kiri\\22 (1).wav: 1\n",
      "C:/Users/Lenovo/Documents/Education/Skripsi/Dataset/Dataset_Indonesia\\Kiri\\23 (1).wav: 1\n",
      "C:/Users/Lenovo/Documents/Education/Skripsi/Dataset/Dataset_Indonesia\\Kiri\\24 (1).wav: 1\n",
      "C:/Users/Lenovo/Documents/Education/Skripsi/Dataset/Dataset_Indonesia\\Kiri\\25 (1).wav: 1\n"
     ]
    },
    {
     "name": "stderr",
     "output_type": "stream",
     "text": [
      "C:\\Users\\Lenovo\\AppData\\Local\\Temp\\ipykernel_11612\\2861807924.py:31: FutureWarning: Pass y=[-4.7608460e-06 -4.8901288e-06  1.5913010e-06 ... -4.0896568e-03\n",
      " -3.4516349e-03 -5.3085377e-03], sr=22050 as keyword args. From version 0.10 passing these as positional arguments will result in an error\n",
      "  MFCCs = librosa.feature.mfcc(signal, sample_rate, n_mfcc=num_mfcc, n_fft=n_fft, hop_length=hop_length)\n",
      "C:\\Users\\Lenovo\\AppData\\Local\\Temp\\ipykernel_11612\\2861807924.py:31: FutureWarning: Pass y=[ 1.1160338e-07  8.7925152e-08 -3.6694476e-07 ... -4.5648560e-02\n",
      " -2.4639983e-02 -3.7294280e-02], sr=22050 as keyword args. From version 0.10 passing these as positional arguments will result in an error\n",
      "  MFCCs = librosa.feature.mfcc(signal, sample_rate, n_mfcc=num_mfcc, n_fft=n_fft, hop_length=hop_length)\n"
     ]
    },
    {
     "name": "stdout",
     "output_type": "stream",
     "text": [
      "C:/Users/Lenovo/Documents/Education/Skripsi/Dataset/Dataset_Indonesia\\Kiri\\3 (1).wav: 1\n",
      "C:/Users/Lenovo/Documents/Education/Skripsi/Dataset/Dataset_Indonesia\\Kiri\\4 (1).wav: 1\n"
     ]
    },
    {
     "name": "stderr",
     "output_type": "stream",
     "text": [
      "C:\\Users\\Lenovo\\AppData\\Local\\Temp\\ipykernel_11612\\2861807924.py:31: FutureWarning: Pass y=[-4.7458616e-06 -4.9093583e-06  1.6141698e-06 ... -2.1457143e-01\n",
      " -2.1248370e-01 -1.6439231e-01], sr=22050 as keyword args. From version 0.10 passing these as positional arguments will result in an error\n",
      "  MFCCs = librosa.feature.mfcc(signal, sample_rate, n_mfcc=num_mfcc, n_fft=n_fft, hop_length=hop_length)\n",
      "C:\\Users\\Lenovo\\AppData\\Local\\Temp\\ipykernel_11612\\2861807924.py:31: FutureWarning: Pass y=[-6.9606003e-08  9.9610673e-08 -1.2940151e-07 ...  8.1808434e-04\n",
      " -4.1943425e-04 -1.1633815e-03], sr=22050 as keyword args. From version 0.10 passing these as positional arguments will result in an error\n",
      "  MFCCs = librosa.feature.mfcc(signal, sample_rate, n_mfcc=num_mfcc, n_fft=n_fft, hop_length=hop_length)\n"
     ]
    },
    {
     "name": "stdout",
     "output_type": "stream",
     "text": [
      "C:/Users/Lenovo/Documents/Education/Skripsi/Dataset/Dataset_Indonesia\\Kiri\\5 (1).wav: 1\n",
      "C:/Users/Lenovo/Documents/Education/Skripsi/Dataset/Dataset_Indonesia\\Kiri\\6 (1).wav: 1\n"
     ]
    },
    {
     "name": "stderr",
     "output_type": "stream",
     "text": [
      "C:\\Users\\Lenovo\\AppData\\Local\\Temp\\ipykernel_11612\\2861807924.py:31: FutureWarning: Pass y=[-5.3826142e-08  7.9589505e-08 -1.0581892e-07 ... -1.1149518e-02\n",
      " -2.7680689e-02 -1.5884880e-02], sr=22050 as keyword args. From version 0.10 passing these as positional arguments will result in an error\n",
      "  MFCCs = librosa.feature.mfcc(signal, sample_rate, n_mfcc=num_mfcc, n_fft=n_fft, hop_length=hop_length)\n",
      "C:\\Users\\Lenovo\\AppData\\Local\\Temp\\ipykernel_11612\\2861807924.py:31: FutureWarning: Pass y=[-4.7524541e-06 -4.8965085e-06  1.5940226e-06 ... -9.9665681e-03\n",
      " -1.1340888e-02 -1.2200839e-02], sr=22050 as keyword args. From version 0.10 passing these as positional arguments will result in an error\n",
      "  MFCCs = librosa.feature.mfcc(signal, sample_rate, n_mfcc=num_mfcc, n_fft=n_fft, hop_length=hop_length)\n"
     ]
    },
    {
     "name": "stdout",
     "output_type": "stream",
     "text": [
      "C:/Users/Lenovo/Documents/Education/Skripsi/Dataset/Dataset_Indonesia\\Kiri\\7 (1).wav: 1\n",
      "C:/Users/Lenovo/Documents/Education/Skripsi/Dataset/Dataset_Indonesia\\Kiri\\8 (1).wav: 1\n"
     ]
    },
    {
     "name": "stderr",
     "output_type": "stream",
     "text": [
      "C:\\Users\\Lenovo\\AppData\\Local\\Temp\\ipykernel_11612\\2861807924.py:31: FutureWarning: Pass y=[-5.3826142e-08  7.9589505e-08 -1.0581892e-07 ...  9.6634766e-03\n",
      "  9.8498845e-03  1.1416253e-02], sr=22050 as keyword args. From version 0.10 passing these as positional arguments will result in an error\n",
      "  MFCCs = librosa.feature.mfcc(signal, sample_rate, n_mfcc=num_mfcc, n_fft=n_fft, hop_length=hop_length)\n",
      "C:\\Users\\Lenovo\\AppData\\Local\\Temp\\ipykernel_11612\\2861807924.py:31: FutureWarning: Pass y=[ 0.          0.          0.         ... -0.17456146 -0.17076352\n",
      " -0.1486635 ], sr=22050 as keyword args. From version 0.10 passing these as positional arguments will result in an error\n",
      "  MFCCs = librosa.feature.mfcc(signal, sample_rate, n_mfcc=num_mfcc, n_fft=n_fft, hop_length=hop_length)\n",
      "C:\\Users\\Lenovo\\AppData\\Local\\Temp\\ipykernel_11612\\2861807924.py:31: FutureWarning: Pass y=[0.         0.         0.         ... 0.01292153 0.00221725 0.0033862 ], sr=22050 as keyword args. From version 0.10 passing these as positional arguments will result in an error\n",
      "  MFCCs = librosa.feature.mfcc(signal, sample_rate, n_mfcc=num_mfcc, n_fft=n_fft, hop_length=hop_length)\n"
     ]
    },
    {
     "name": "stdout",
     "output_type": "stream",
     "text": [
      "C:/Users/Lenovo/Documents/Education/Skripsi/Dataset/Dataset_Indonesia\\Kiri\\9 (1).wav: 1\n",
      "C:/Users/Lenovo/Documents/Education/Skripsi/Dataset/Dataset_Indonesia\\Kiri\\Ki1 (3).wav: 1\n",
      "C:/Users/Lenovo/Documents/Education/Skripsi/Dataset/Dataset_Indonesia\\Kiri\\Ki10 (3).wav: 1\n"
     ]
    },
    {
     "name": "stderr",
     "output_type": "stream",
     "text": [
      "C:\\Users\\Lenovo\\AppData\\Local\\Temp\\ipykernel_11612\\2861807924.py:31: FutureWarning: Pass y=[ 0.          0.          0.         ... -0.06094997 -0.06476126\n",
      " -0.06675902], sr=22050 as keyword args. From version 0.10 passing these as positional arguments will result in an error\n",
      "  MFCCs = librosa.feature.mfcc(signal, sample_rate, n_mfcc=num_mfcc, n_fft=n_fft, hop_length=hop_length)\n"
     ]
    },
    {
     "name": "stdout",
     "output_type": "stream",
     "text": [
      "C:/Users/Lenovo/Documents/Education/Skripsi/Dataset/Dataset_Indonesia\\Kiri\\Ki11 (3).wav: 1\n",
      "C:/Users/Lenovo/Documents/Education/Skripsi/Dataset/Dataset_Indonesia\\Kiri\\Ki12 (3).wav: 1\n"
     ]
    },
    {
     "name": "stderr",
     "output_type": "stream",
     "text": [
      "C:\\Users\\Lenovo\\AppData\\Local\\Temp\\ipykernel_11612\\2861807924.py:31: FutureWarning: Pass y=[ 0.          0.          0.         ... -0.01524207 -0.02523557\n",
      " -0.0379677 ], sr=22050 as keyword args. From version 0.10 passing these as positional arguments will result in an error\n",
      "  MFCCs = librosa.feature.mfcc(signal, sample_rate, n_mfcc=num_mfcc, n_fft=n_fft, hop_length=hop_length)\n",
      "C:\\Users\\Lenovo\\AppData\\Local\\Temp\\ipykernel_11612\\2861807924.py:31: FutureWarning: Pass y=[0.         0.         0.         ... 0.02044455 0.00977817 0.00477691], sr=22050 as keyword args. From version 0.10 passing these as positional arguments will result in an error\n",
      "  MFCCs = librosa.feature.mfcc(signal, sample_rate, n_mfcc=num_mfcc, n_fft=n_fft, hop_length=hop_length)\n"
     ]
    },
    {
     "name": "stdout",
     "output_type": "stream",
     "text": [
      "C:/Users/Lenovo/Documents/Education/Skripsi/Dataset/Dataset_Indonesia\\Kiri\\Ki13 (3).wav: 1\n",
      "C:/Users/Lenovo/Documents/Education/Skripsi/Dataset/Dataset_Indonesia\\Kiri\\Ki14 (3).wav: 1\n"
     ]
    },
    {
     "name": "stderr",
     "output_type": "stream",
     "text": [
      "C:\\Users\\Lenovo\\AppData\\Local\\Temp\\ipykernel_11612\\2861807924.py:31: FutureWarning: Pass y=[0.0000000e+00 0.0000000e+00 0.0000000e+00 ... 3.3608372e-05 5.3993863e-06\n",
      " 1.6075838e-04], sr=22050 as keyword args. From version 0.10 passing these as positional arguments will result in an error\n",
      "  MFCCs = librosa.feature.mfcc(signal, sample_rate, n_mfcc=num_mfcc, n_fft=n_fft, hop_length=hop_length)\n",
      "C:\\Users\\Lenovo\\AppData\\Local\\Temp\\ipykernel_11612\\2861807924.py:31: FutureWarning: Pass y=[0.         0.         0.         ... 0.04815168 0.03723361 0.03249414], sr=22050 as keyword args. From version 0.10 passing these as positional arguments will result in an error\n",
      "  MFCCs = librosa.feature.mfcc(signal, sample_rate, n_mfcc=num_mfcc, n_fft=n_fft, hop_length=hop_length)\n"
     ]
    },
    {
     "name": "stdout",
     "output_type": "stream",
     "text": [
      "C:/Users/Lenovo/Documents/Education/Skripsi/Dataset/Dataset_Indonesia\\Kiri\\Ki15 (3).wav: 1\n",
      "C:/Users/Lenovo/Documents/Education/Skripsi/Dataset/Dataset_Indonesia\\Kiri\\Ki16 (3).wav: 1\n"
     ]
    },
    {
     "name": "stderr",
     "output_type": "stream",
     "text": [
      "C:\\Users\\Lenovo\\AppData\\Local\\Temp\\ipykernel_11612\\2861807924.py:31: FutureWarning: Pass y=[0.         0.         0.         ... 0.07650198 0.0903609  0.0692549 ], sr=22050 as keyword args. From version 0.10 passing these as positional arguments will result in an error\n",
      "  MFCCs = librosa.feature.mfcc(signal, sample_rate, n_mfcc=num_mfcc, n_fft=n_fft, hop_length=hop_length)\n",
      "C:\\Users\\Lenovo\\AppData\\Local\\Temp\\ipykernel_11612\\2861807924.py:31: FutureWarning: Pass y=[0.         0.         0.         ... 0.07097387 0.08487404 0.05902073], sr=22050 as keyword args. From version 0.10 passing these as positional arguments will result in an error\n",
      "  MFCCs = librosa.feature.mfcc(signal, sample_rate, n_mfcc=num_mfcc, n_fft=n_fft, hop_length=hop_length)\n"
     ]
    },
    {
     "name": "stdout",
     "output_type": "stream",
     "text": [
      "C:/Users/Lenovo/Documents/Education/Skripsi/Dataset/Dataset_Indonesia\\Kiri\\Ki17 (3).wav: 1\n",
      "C:/Users/Lenovo/Documents/Education/Skripsi/Dataset/Dataset_Indonesia\\Kiri\\Ki18(1) (3).wav: 1\n"
     ]
    },
    {
     "name": "stderr",
     "output_type": "stream",
     "text": [
      "C:\\Users\\Lenovo\\AppData\\Local\\Temp\\ipykernel_11612\\2861807924.py:31: FutureWarning: Pass y=[0.         0.         0.         ... 0.05777005 0.03900953 0.01034671], sr=22050 as keyword args. From version 0.10 passing these as positional arguments will result in an error\n",
      "  MFCCs = librosa.feature.mfcc(signal, sample_rate, n_mfcc=num_mfcc, n_fft=n_fft, hop_length=hop_length)\n"
     ]
    },
    {
     "name": "stdout",
     "output_type": "stream",
     "text": [
      "C:/Users/Lenovo/Documents/Education/Skripsi/Dataset/Dataset_Indonesia\\Kiri\\Ki18(1) (4).wav: 1\n",
      "C:/Users/Lenovo/Documents/Education/Skripsi/Dataset/Dataset_Indonesia\\Kiri\\Ki19 (3).wav: 1\n"
     ]
    },
    {
     "name": "stderr",
     "output_type": "stream",
     "text": [
      "C:\\Users\\Lenovo\\AppData\\Local\\Temp\\ipykernel_11612\\2861807924.py:31: FutureWarning: Pass y=[ 0.          0.          0.         ... -0.00027754 -0.00048865\n",
      " -0.00043126], sr=22050 as keyword args. From version 0.10 passing these as positional arguments will result in an error\n",
      "  MFCCs = librosa.feature.mfcc(signal, sample_rate, n_mfcc=num_mfcc, n_fft=n_fft, hop_length=hop_length)\n",
      "C:\\Users\\Lenovo\\AppData\\Local\\Temp\\ipykernel_11612\\2861807924.py:31: FutureWarning: Pass y=[0.         0.         0.         ... 0.05032737 0.04476364 0.04957933], sr=22050 as keyword args. From version 0.10 passing these as positional arguments will result in an error\n",
      "  MFCCs = librosa.feature.mfcc(signal, sample_rate, n_mfcc=num_mfcc, n_fft=n_fft, hop_length=hop_length)\n"
     ]
    },
    {
     "name": "stdout",
     "output_type": "stream",
     "text": [
      "C:/Users/Lenovo/Documents/Education/Skripsi/Dataset/Dataset_Indonesia\\Kiri\\Ki2 (3).wav: 1\n",
      "C:/Users/Lenovo/Documents/Education/Skripsi/Dataset/Dataset_Indonesia\\Kiri\\Ki20 (3).wav: 1\n"
     ]
    },
    {
     "name": "stderr",
     "output_type": "stream",
     "text": [
      "C:\\Users\\Lenovo\\AppData\\Local\\Temp\\ipykernel_11612\\2861807924.py:31: FutureWarning: Pass y=[0.         0.         0.         ... 0.00716736 0.00555728 0.002111  ], sr=22050 as keyword args. From version 0.10 passing these as positional arguments will result in an error\n",
      "  MFCCs = librosa.feature.mfcc(signal, sample_rate, n_mfcc=num_mfcc, n_fft=n_fft, hop_length=hop_length)\n",
      "C:\\Users\\Lenovo\\AppData\\Local\\Temp\\ipykernel_11612\\2861807924.py:31: FutureWarning: Pass y=[ 0.          0.          0.         ... -0.05712757 -0.06798225\n",
      " -0.0629686 ], sr=22050 as keyword args. From version 0.10 passing these as positional arguments will result in an error\n",
      "  MFCCs = librosa.feature.mfcc(signal, sample_rate, n_mfcc=num_mfcc, n_fft=n_fft, hop_length=hop_length)\n"
     ]
    },
    {
     "name": "stdout",
     "output_type": "stream",
     "text": [
      "C:/Users/Lenovo/Documents/Education/Skripsi/Dataset/Dataset_Indonesia\\Kiri\\Ki21 (3).wav: 1\n",
      "C:/Users/Lenovo/Documents/Education/Skripsi/Dataset/Dataset_Indonesia\\Kiri\\Ki22 (3).wav: 1\n"
     ]
    },
    {
     "name": "stderr",
     "output_type": "stream",
     "text": [
      "C:\\Users\\Lenovo\\AppData\\Local\\Temp\\ipykernel_11612\\2861807924.py:31: FutureWarning: Pass y=[0.         0.         0.         ... 0.17207496 0.18182805 0.17479083], sr=22050 as keyword args. From version 0.10 passing these as positional arguments will result in an error\n",
      "  MFCCs = librosa.feature.mfcc(signal, sample_rate, n_mfcc=num_mfcc, n_fft=n_fft, hop_length=hop_length)\n",
      "C:\\Users\\Lenovo\\AppData\\Local\\Temp\\ipykernel_11612\\2861807924.py:31: FutureWarning: Pass y=[ 0.0000000e+00  0.0000000e+00  0.0000000e+00 ...  7.0933587e-05\n",
      " -1.0363645e-05 -7.1794498e-06], sr=22050 as keyword args. From version 0.10 passing these as positional arguments will result in an error\n",
      "  MFCCs = librosa.feature.mfcc(signal, sample_rate, n_mfcc=num_mfcc, n_fft=n_fft, hop_length=hop_length)\n"
     ]
    },
    {
     "name": "stdout",
     "output_type": "stream",
     "text": [
      "C:/Users/Lenovo/Documents/Education/Skripsi/Dataset/Dataset_Indonesia\\Kiri\\Ki23 (3).wav: 1\n",
      "C:/Users/Lenovo/Documents/Education/Skripsi/Dataset/Dataset_Indonesia\\Kiri\\Ki24 (3).wav: 1\n"
     ]
    },
    {
     "name": "stderr",
     "output_type": "stream",
     "text": [
      "C:\\Users\\Lenovo\\AppData\\Local\\Temp\\ipykernel_11612\\2861807924.py:31: FutureWarning: Pass y=[0.         0.         0.         ... 0.00582291 0.00570083 0.00473166], sr=22050 as keyword args. From version 0.10 passing these as positional arguments will result in an error\n",
      "  MFCCs = librosa.feature.mfcc(signal, sample_rate, n_mfcc=num_mfcc, n_fft=n_fft, hop_length=hop_length)\n",
      "C:\\Users\\Lenovo\\AppData\\Local\\Temp\\ipykernel_11612\\2861807924.py:31: FutureWarning: Pass y=[0.         0.         0.         ... 0.00017152 0.00032561 0.00065918], sr=22050 as keyword args. From version 0.10 passing these as positional arguments will result in an error\n",
      "  MFCCs = librosa.feature.mfcc(signal, sample_rate, n_mfcc=num_mfcc, n_fft=n_fft, hop_length=hop_length)\n"
     ]
    },
    {
     "name": "stdout",
     "output_type": "stream",
     "text": [
      "C:/Users/Lenovo/Documents/Education/Skripsi/Dataset/Dataset_Indonesia\\Kiri\\Ki25 (3).wav: 1\n",
      "C:/Users/Lenovo/Documents/Education/Skripsi/Dataset/Dataset_Indonesia\\Kiri\\Ki3 (3).wav: 1\n"
     ]
    },
    {
     "name": "stderr",
     "output_type": "stream",
     "text": [
      "C:\\Users\\Lenovo\\AppData\\Local\\Temp\\ipykernel_11612\\2861807924.py:31: FutureWarning: Pass y=[0.         0.         0.         ... 0.10751898 0.0951076  0.08038733], sr=22050 as keyword args. From version 0.10 passing these as positional arguments will result in an error\n",
      "  MFCCs = librosa.feature.mfcc(signal, sample_rate, n_mfcc=num_mfcc, n_fft=n_fft, hop_length=hop_length)\n",
      "C:\\Users\\Lenovo\\AppData\\Local\\Temp\\ipykernel_11612\\2861807924.py:31: FutureWarning: Pass y=[0.         0.         0.         ... 0.04117809 0.04044049 0.0386195 ], sr=22050 as keyword args. From version 0.10 passing these as positional arguments will result in an error\n",
      "  MFCCs = librosa.feature.mfcc(signal, sample_rate, n_mfcc=num_mfcc, n_fft=n_fft, hop_length=hop_length)\n"
     ]
    },
    {
     "name": "stdout",
     "output_type": "stream",
     "text": [
      "C:/Users/Lenovo/Documents/Education/Skripsi/Dataset/Dataset_Indonesia\\Kiri\\Ki4 (3).wav: 1\n",
      "C:/Users/Lenovo/Documents/Education/Skripsi/Dataset/Dataset_Indonesia\\Kiri\\Ki5 (3).wav: 1\n"
     ]
    },
    {
     "name": "stderr",
     "output_type": "stream",
     "text": [
      "C:\\Users\\Lenovo\\AppData\\Local\\Temp\\ipykernel_11612\\2861807924.py:31: FutureWarning: Pass y=[0.         0.         0.         ... 0.01099973 0.01202817 0.0164048 ], sr=22050 as keyword args. From version 0.10 passing these as positional arguments will result in an error\n",
      "  MFCCs = librosa.feature.mfcc(signal, sample_rate, n_mfcc=num_mfcc, n_fft=n_fft, hop_length=hop_length)\n",
      "C:\\Users\\Lenovo\\AppData\\Local\\Temp\\ipykernel_11612\\2861807924.py:31: FutureWarning: Pass y=[0.         0.         0.         ... 0.03737452 0.0370713  0.03530208], sr=22050 as keyword args. From version 0.10 passing these as positional arguments will result in an error\n",
      "  MFCCs = librosa.feature.mfcc(signal, sample_rate, n_mfcc=num_mfcc, n_fft=n_fft, hop_length=hop_length)\n"
     ]
    },
    {
     "name": "stdout",
     "output_type": "stream",
     "text": [
      "C:/Users/Lenovo/Documents/Education/Skripsi/Dataset/Dataset_Indonesia\\Kiri\\Ki6 (3).wav: 1\n",
      "C:/Users/Lenovo/Documents/Education/Skripsi/Dataset/Dataset_Indonesia\\Kiri\\Ki7 (3).wav: 1\n"
     ]
    },
    {
     "name": "stderr",
     "output_type": "stream",
     "text": [
      "C:\\Users\\Lenovo\\AppData\\Local\\Temp\\ipykernel_11612\\2861807924.py:31: FutureWarning: Pass y=[ 0.          0.          0.         ... -0.00215616 -0.00474987\n",
      " -0.01069059], sr=22050 as keyword args. From version 0.10 passing these as positional arguments will result in an error\n",
      "  MFCCs = librosa.feature.mfcc(signal, sample_rate, n_mfcc=num_mfcc, n_fft=n_fft, hop_length=hop_length)\n",
      "C:\\Users\\Lenovo\\AppData\\Local\\Temp\\ipykernel_11612\\2861807924.py:31: FutureWarning: Pass y=[0.         0.         0.         ... 0.19627717 0.21304016 0.19441524], sr=22050 as keyword args. From version 0.10 passing these as positional arguments will result in an error\n",
      "  MFCCs = librosa.feature.mfcc(signal, sample_rate, n_mfcc=num_mfcc, n_fft=n_fft, hop_length=hop_length)\n"
     ]
    },
    {
     "name": "stdout",
     "output_type": "stream",
     "text": [
      "C:/Users/Lenovo/Documents/Education/Skripsi/Dataset/Dataset_Indonesia\\Kiri\\Ki8 (3).wav: 1\n",
      "C:/Users/Lenovo/Documents/Education/Skripsi/Dataset/Dataset_Indonesia\\Kiri\\Ki9 (3).wav: 1\n"
     ]
    },
    {
     "name": "stderr",
     "output_type": "stream",
     "text": [
      "C:\\Users\\Lenovo\\AppData\\Local\\Temp\\ipykernel_11612\\2861807924.py:31: FutureWarning: Pass y=[ 0.          0.          0.         ... -0.09535159 -0.09811494\n",
      " -0.08059083], sr=22050 as keyword args. From version 0.10 passing these as positional arguments will result in an error\n",
      "  MFCCs = librosa.feature.mfcc(signal, sample_rate, n_mfcc=num_mfcc, n_fft=n_fft, hop_length=hop_length)\n",
      "C:\\Users\\Lenovo\\AppData\\Local\\Temp\\ipykernel_11612\\2861807924.py:31: FutureWarning: Pass y=[ 0.          0.          0.         ... -0.00521939 -0.00368235\n",
      " -0.0003519 ], sr=22050 as keyword args. From version 0.10 passing these as positional arguments will result in an error\n",
      "  MFCCs = librosa.feature.mfcc(signal, sample_rate, n_mfcc=num_mfcc, n_fft=n_fft, hop_length=hop_length)\n"
     ]
    },
    {
     "name": "stdout",
     "output_type": "stream",
     "text": [
      "C:/Users/Lenovo/Documents/Education/Skripsi/Dataset/Dataset_Indonesia\\Kiri\\kiri 1.wav: 1\n"
     ]
    },
    {
     "name": "stderr",
     "output_type": "stream",
     "text": [
      "C:\\Users\\Lenovo\\AppData\\Local\\Temp\\ipykernel_11612\\2861807924.py:31: FutureWarning: Pass y=[0.         0.         0.         ... 0.03437793 0.0250935  0.01658367], sr=22050 as keyword args. From version 0.10 passing these as positional arguments will result in an error\n",
      "  MFCCs = librosa.feature.mfcc(signal, sample_rate, n_mfcc=num_mfcc, n_fft=n_fft, hop_length=hop_length)\n"
     ]
    },
    {
     "name": "stdout",
     "output_type": "stream",
     "text": [
      "C:/Users/Lenovo/Documents/Education/Skripsi/Dataset/Dataset_Indonesia\\Kiri\\kiri 10.wav: 1\n"
     ]
    },
    {
     "name": "stderr",
     "output_type": "stream",
     "text": [
      "C:\\Users\\Lenovo\\AppData\\Local\\Temp\\ipykernel_11612\\2861807924.py:31: FutureWarning: Pass y=[ 0.          0.          0.         ... -0.02484741 -0.01731341\n",
      "  0.01123647], sr=22050 as keyword args. From version 0.10 passing these as positional arguments will result in an error\n",
      "  MFCCs = librosa.feature.mfcc(signal, sample_rate, n_mfcc=num_mfcc, n_fft=n_fft, hop_length=hop_length)\n"
     ]
    },
    {
     "name": "stdout",
     "output_type": "stream",
     "text": [
      "C:/Users/Lenovo/Documents/Education/Skripsi/Dataset/Dataset_Indonesia\\Kiri\\kiri 11.wav: 1\n"
     ]
    },
    {
     "name": "stderr",
     "output_type": "stream",
     "text": [
      "C:\\Users\\Lenovo\\AppData\\Local\\Temp\\ipykernel_11612\\2861807924.py:31: FutureWarning: Pass y=[0.         0.         0.         ... 0.0759976  0.05255393 0.03829189], sr=22050 as keyword args. From version 0.10 passing these as positional arguments will result in an error\n",
      "  MFCCs = librosa.feature.mfcc(signal, sample_rate, n_mfcc=num_mfcc, n_fft=n_fft, hop_length=hop_length)\n"
     ]
    },
    {
     "name": "stdout",
     "output_type": "stream",
     "text": [
      "C:/Users/Lenovo/Documents/Education/Skripsi/Dataset/Dataset_Indonesia\\Kiri\\kiri 12.wav: 1\n"
     ]
    },
    {
     "name": "stderr",
     "output_type": "stream",
     "text": [
      "C:\\Users\\Lenovo\\AppData\\Local\\Temp\\ipykernel_11612\\2861807924.py:31: FutureWarning: Pass y=[ 0.          0.          0.         ... -0.00181769  0.00326963\n",
      "  0.00762461], sr=22050 as keyword args. From version 0.10 passing these as positional arguments will result in an error\n",
      "  MFCCs = librosa.feature.mfcc(signal, sample_rate, n_mfcc=num_mfcc, n_fft=n_fft, hop_length=hop_length)\n"
     ]
    },
    {
     "name": "stdout",
     "output_type": "stream",
     "text": [
      "C:/Users/Lenovo/Documents/Education/Skripsi/Dataset/Dataset_Indonesia\\Kiri\\kiri 13.wav: 1\n"
     ]
    },
    {
     "name": "stderr",
     "output_type": "stream",
     "text": [
      "C:\\Users\\Lenovo\\AppData\\Local\\Temp\\ipykernel_11612\\2861807924.py:31: FutureWarning: Pass y=[ 0.          0.          0.         ... -0.15195636 -0.02105263\n",
      "  0.03596476], sr=22050 as keyword args. From version 0.10 passing these as positional arguments will result in an error\n",
      "  MFCCs = librosa.feature.mfcc(signal, sample_rate, n_mfcc=num_mfcc, n_fft=n_fft, hop_length=hop_length)\n"
     ]
    },
    {
     "name": "stdout",
     "output_type": "stream",
     "text": [
      "C:/Users/Lenovo/Documents/Education/Skripsi/Dataset/Dataset_Indonesia\\Kiri\\kiri 14.wav: 1\n"
     ]
    },
    {
     "name": "stderr",
     "output_type": "stream",
     "text": [
      "C:\\Users\\Lenovo\\AppData\\Local\\Temp\\ipykernel_11612\\2861807924.py:31: FutureWarning: Pass y=[0.         0.         0.         ... 0.05359747 0.03857149 0.02409078], sr=22050 as keyword args. From version 0.10 passing these as positional arguments will result in an error\n",
      "  MFCCs = librosa.feature.mfcc(signal, sample_rate, n_mfcc=num_mfcc, n_fft=n_fft, hop_length=hop_length)\n"
     ]
    },
    {
     "name": "stdout",
     "output_type": "stream",
     "text": [
      "C:/Users/Lenovo/Documents/Education/Skripsi/Dataset/Dataset_Indonesia\\Kiri\\kiri 15.wav: 1\n"
     ]
    },
    {
     "name": "stderr",
     "output_type": "stream",
     "text": [
      "C:\\Users\\Lenovo\\AppData\\Local\\Temp\\ipykernel_11612\\2861807924.py:31: FutureWarning: Pass y=[ 0.          0.          0.         ... -0.18560189 -0.19765759\n",
      " -0.12549476], sr=22050 as keyword args. From version 0.10 passing these as positional arguments will result in an error\n",
      "  MFCCs = librosa.feature.mfcc(signal, sample_rate, n_mfcc=num_mfcc, n_fft=n_fft, hop_length=hop_length)\n"
     ]
    },
    {
     "name": "stdout",
     "output_type": "stream",
     "text": [
      "C:/Users/Lenovo/Documents/Education/Skripsi/Dataset/Dataset_Indonesia\\Kiri\\kiri 16.wav: 1\n"
     ]
    },
    {
     "name": "stderr",
     "output_type": "stream",
     "text": [
      "C:\\Users\\Lenovo\\AppData\\Local\\Temp\\ipykernel_11612\\2861807924.py:31: FutureWarning: Pass y=[0.         0.         0.         ... 0.2992862  0.25976136 0.21692462], sr=22050 as keyword args. From version 0.10 passing these as positional arguments will result in an error\n",
      "  MFCCs = librosa.feature.mfcc(signal, sample_rate, n_mfcc=num_mfcc, n_fft=n_fft, hop_length=hop_length)\n"
     ]
    },
    {
     "name": "stdout",
     "output_type": "stream",
     "text": [
      "C:/Users/Lenovo/Documents/Education/Skripsi/Dataset/Dataset_Indonesia\\Kiri\\kiri 17.wav: 1\n"
     ]
    },
    {
     "name": "stderr",
     "output_type": "stream",
     "text": [
      "C:\\Users\\Lenovo\\AppData\\Local\\Temp\\ipykernel_11612\\2861807924.py:31: FutureWarning: Pass y=[ 0.          0.          0.         ... -0.13873053 -0.17135547\n",
      " -0.19503249], sr=22050 as keyword args. From version 0.10 passing these as positional arguments will result in an error\n",
      "  MFCCs = librosa.feature.mfcc(signal, sample_rate, n_mfcc=num_mfcc, n_fft=n_fft, hop_length=hop_length)\n"
     ]
    },
    {
     "name": "stdout",
     "output_type": "stream",
     "text": [
      "C:/Users/Lenovo/Documents/Education/Skripsi/Dataset/Dataset_Indonesia\\Kiri\\kiri 18.wav: 1\n"
     ]
    },
    {
     "name": "stderr",
     "output_type": "stream",
     "text": [
      "C:\\Users\\Lenovo\\AppData\\Local\\Temp\\ipykernel_11612\\2861807924.py:31: FutureWarning: Pass y=[0.         0.         0.         ... 0.09259132 0.12025365 0.14205171], sr=22050 as keyword args. From version 0.10 passing these as positional arguments will result in an error\n",
      "  MFCCs = librosa.feature.mfcc(signal, sample_rate, n_mfcc=num_mfcc, n_fft=n_fft, hop_length=hop_length)\n"
     ]
    },
    {
     "name": "stdout",
     "output_type": "stream",
     "text": [
      "C:/Users/Lenovo/Documents/Education/Skripsi/Dataset/Dataset_Indonesia\\Kiri\\kiri 19.wav: 1\n"
     ]
    },
    {
     "name": "stderr",
     "output_type": "stream",
     "text": [
      "C:\\Users\\Lenovo\\AppData\\Local\\Temp\\ipykernel_11612\\2861807924.py:31: FutureWarning: Pass y=[-6.5445079e-07  7.7726150e-07 -9.8371765e-07 ... -5.1610671e-02\n",
      " -5.0043143e-02 -4.6260800e-02], sr=22050 as keyword args. From version 0.10 passing these as positional arguments will result in an error\n",
      "  MFCCs = librosa.feature.mfcc(signal, sample_rate, n_mfcc=num_mfcc, n_fft=n_fft, hop_length=hop_length)\n"
     ]
    },
    {
     "name": "stdout",
     "output_type": "stream",
     "text": [
      "C:/Users/Lenovo/Documents/Education/Skripsi/Dataset/Dataset_Indonesia\\Kiri\\kiri 2.wav: 1\n"
     ]
    },
    {
     "name": "stderr",
     "output_type": "stream",
     "text": [
      "C:\\Users\\Lenovo\\AppData\\Local\\Temp\\ipykernel_11612\\2861807924.py:31: FutureWarning: Pass y=[0.         0.         0.         ... 0.15485781 0.15231737 0.1437571 ], sr=22050 as keyword args. From version 0.10 passing these as positional arguments will result in an error\n",
      "  MFCCs = librosa.feature.mfcc(signal, sample_rate, n_mfcc=num_mfcc, n_fft=n_fft, hop_length=hop_length)\n"
     ]
    },
    {
     "name": "stdout",
     "output_type": "stream",
     "text": [
      "C:/Users/Lenovo/Documents/Education/Skripsi/Dataset/Dataset_Indonesia\\Kiri\\kiri 20.wav: 1\n"
     ]
    },
    {
     "name": "stderr",
     "output_type": "stream",
     "text": [
      "C:\\Users\\Lenovo\\AppData\\Local\\Temp\\ipykernel_11612\\2861807924.py:31: FutureWarning: Pass y=[ 0.          0.          0.         ... -0.05268003 -0.05332502\n",
      " -0.02065394], sr=22050 as keyword args. From version 0.10 passing these as positional arguments will result in an error\n",
      "  MFCCs = librosa.feature.mfcc(signal, sample_rate, n_mfcc=num_mfcc, n_fft=n_fft, hop_length=hop_length)\n"
     ]
    },
    {
     "name": "stdout",
     "output_type": "stream",
     "text": [
      "C:/Users/Lenovo/Documents/Education/Skripsi/Dataset/Dataset_Indonesia\\Kiri\\kiri 21.wav: 1\n"
     ]
    },
    {
     "name": "stderr",
     "output_type": "stream",
     "text": [
      "C:\\Users\\Lenovo\\AppData\\Local\\Temp\\ipykernel_11612\\2861807924.py:31: FutureWarning: Pass y=[0.         0.         0.         ... 0.07510339 0.07315507 0.07765307], sr=22050 as keyword args. From version 0.10 passing these as positional arguments will result in an error\n",
      "  MFCCs = librosa.feature.mfcc(signal, sample_rate, n_mfcc=num_mfcc, n_fft=n_fft, hop_length=hop_length)\n"
     ]
    },
    {
     "name": "stdout",
     "output_type": "stream",
     "text": [
      "C:/Users/Lenovo/Documents/Education/Skripsi/Dataset/Dataset_Indonesia\\Kiri\\kiri 22.wav: 1\n"
     ]
    },
    {
     "name": "stderr",
     "output_type": "stream",
     "text": [
      "C:\\Users\\Lenovo\\AppData\\Local\\Temp\\ipykernel_11612\\2861807924.py:31: FutureWarning: Pass y=[ 0.          0.          0.         ... -0.02262131 -0.03556471\n",
      " -0.04753351], sr=22050 as keyword args. From version 0.10 passing these as positional arguments will result in an error\n",
      "  MFCCs = librosa.feature.mfcc(signal, sample_rate, n_mfcc=num_mfcc, n_fft=n_fft, hop_length=hop_length)\n"
     ]
    },
    {
     "name": "stdout",
     "output_type": "stream",
     "text": [
      "C:/Users/Lenovo/Documents/Education/Skripsi/Dataset/Dataset_Indonesia\\Kiri\\kiri 23.wav: 1\n"
     ]
    },
    {
     "name": "stderr",
     "output_type": "stream",
     "text": [
      "C:\\Users\\Lenovo\\AppData\\Local\\Temp\\ipykernel_11612\\2861807924.py:31: FutureWarning: Pass y=[ 0.          0.          0.         ... -0.08241881 -0.0709394\n",
      " -0.0638485 ], sr=22050 as keyword args. From version 0.10 passing these as positional arguments will result in an error\n",
      "  MFCCs = librosa.feature.mfcc(signal, sample_rate, n_mfcc=num_mfcc, n_fft=n_fft, hop_length=hop_length)\n"
     ]
    },
    {
     "name": "stdout",
     "output_type": "stream",
     "text": [
      "C:/Users/Lenovo/Documents/Education/Skripsi/Dataset/Dataset_Indonesia\\Kiri\\kiri 24.wav: 1\n"
     ]
    },
    {
     "name": "stderr",
     "output_type": "stream",
     "text": [
      "C:\\Users\\Lenovo\\AppData\\Local\\Temp\\ipykernel_11612\\2861807924.py:31: FutureWarning: Pass y=[0.         0.         0.         ... 0.18421975 0.16036533 0.13385656], sr=22050 as keyword args. From version 0.10 passing these as positional arguments will result in an error\n",
      "  MFCCs = librosa.feature.mfcc(signal, sample_rate, n_mfcc=num_mfcc, n_fft=n_fft, hop_length=hop_length)\n"
     ]
    },
    {
     "name": "stdout",
     "output_type": "stream",
     "text": [
      "C:/Users/Lenovo/Documents/Education/Skripsi/Dataset/Dataset_Indonesia\\Kiri\\kiri 25.wav: 1\n"
     ]
    },
    {
     "name": "stderr",
     "output_type": "stream",
     "text": [
      "C:\\Users\\Lenovo\\AppData\\Local\\Temp\\ipykernel_11612\\2861807924.py:31: FutureWarning: Pass y=[-6.2653733e-08 -1.0951030e-07  4.4803065e-07 ...  2.3154709e-02\n",
      " -1.5333419e-02 -4.7717467e-02], sr=22050 as keyword args. From version 0.10 passing these as positional arguments will result in an error\n",
      "  MFCCs = librosa.feature.mfcc(signal, sample_rate, n_mfcc=num_mfcc, n_fft=n_fft, hop_length=hop_length)\n"
     ]
    },
    {
     "name": "stdout",
     "output_type": "stream",
     "text": [
      "C:/Users/Lenovo/Documents/Education/Skripsi/Dataset/Dataset_Indonesia\\Kiri\\kiri 3.wav: 1\n"
     ]
    },
    {
     "name": "stderr",
     "output_type": "stream",
     "text": [
      "C:\\Users\\Lenovo\\AppData\\Local\\Temp\\ipykernel_11612\\2861807924.py:31: FutureWarning: Pass y=[ 3.45316352e-07 -4.55923157e-07 -1.25846445e-05 ... -4.04485725e-02\n",
      " -5.02026789e-02 -4.72329035e-02], sr=22050 as keyword args. From version 0.10 passing these as positional arguments will result in an error\n",
      "  MFCCs = librosa.feature.mfcc(signal, sample_rate, n_mfcc=num_mfcc, n_fft=n_fft, hop_length=hop_length)\n"
     ]
    },
    {
     "name": "stdout",
     "output_type": "stream",
     "text": [
      "C:/Users/Lenovo/Documents/Education/Skripsi/Dataset/Dataset_Indonesia\\Kiri\\kiri 4.wav: 1\n"
     ]
    },
    {
     "name": "stderr",
     "output_type": "stream",
     "text": [
      "C:\\Users\\Lenovo\\AppData\\Local\\Temp\\ipykernel_11612\\2861807924.py:31: FutureWarning: Pass y=[ 1.3324654e-07  9.1459036e-08 -5.0248627e-07 ... -1.3528481e-01\n",
      " -1.3051778e-01 -1.2701099e-01], sr=22050 as keyword args. From version 0.10 passing these as positional arguments will result in an error\n",
      "  MFCCs = librosa.feature.mfcc(signal, sample_rate, n_mfcc=num_mfcc, n_fft=n_fft, hop_length=hop_length)\n"
     ]
    },
    {
     "name": "stdout",
     "output_type": "stream",
     "text": [
      "C:/Users/Lenovo/Documents/Education/Skripsi/Dataset/Dataset_Indonesia\\Kiri\\kiri 5.wav: 1\n"
     ]
    },
    {
     "name": "stderr",
     "output_type": "stream",
     "text": [
      "C:\\Users\\Lenovo\\AppData\\Local\\Temp\\ipykernel_11612\\2861807924.py:31: FutureWarning: Pass y=[-1.5033577e-06  5.6935983e-06  1.6044905e-05 ... -2.2195179e-02\n",
      " -3.4503516e-02 -4.3198455e-02], sr=22050 as keyword args. From version 0.10 passing these as positional arguments will result in an error\n",
      "  MFCCs = librosa.feature.mfcc(signal, sample_rate, n_mfcc=num_mfcc, n_fft=n_fft, hop_length=hop_length)\n"
     ]
    },
    {
     "name": "stdout",
     "output_type": "stream",
     "text": [
      "C:/Users/Lenovo/Documents/Education/Skripsi/Dataset/Dataset_Indonesia\\Kiri\\kiri 6.wav: 1\n"
     ]
    },
    {
     "name": "stderr",
     "output_type": "stream",
     "text": [
      "C:\\Users\\Lenovo\\AppData\\Local\\Temp\\ipykernel_11612\\2861807924.py:31: FutureWarning: Pass y=[ 0.          0.          0.         ... -0.03239444 -0.04732112\n",
      " -0.0681215 ], sr=22050 as keyword args. From version 0.10 passing these as positional arguments will result in an error\n",
      "  MFCCs = librosa.feature.mfcc(signal, sample_rate, n_mfcc=num_mfcc, n_fft=n_fft, hop_length=hop_length)\n"
     ]
    },
    {
     "name": "stdout",
     "output_type": "stream",
     "text": [
      "C:/Users/Lenovo/Documents/Education/Skripsi/Dataset/Dataset_Indonesia\\Kiri\\kiri 7.wav: 1\n"
     ]
    },
    {
     "name": "stderr",
     "output_type": "stream",
     "text": [
      "C:\\Users\\Lenovo\\AppData\\Local\\Temp\\ipykernel_11612\\2861807924.py:31: FutureWarning: Pass y=[0.         0.         0.         ... 0.03292653 0.02955441 0.06207402], sr=22050 as keyword args. From version 0.10 passing these as positional arguments will result in an error\n",
      "  MFCCs = librosa.feature.mfcc(signal, sample_rate, n_mfcc=num_mfcc, n_fft=n_fft, hop_length=hop_length)\n"
     ]
    },
    {
     "name": "stdout",
     "output_type": "stream",
     "text": [
      "C:/Users/Lenovo/Documents/Education/Skripsi/Dataset/Dataset_Indonesia\\Kiri\\kiri 8.wav: 1\n"
     ]
    },
    {
     "name": "stderr",
     "output_type": "stream",
     "text": [
      "C:\\Users\\Lenovo\\AppData\\Local\\Temp\\ipykernel_11612\\2861807924.py:31: FutureWarning: Pass y=[ 0.          0.          0.         ... -0.40203857 -0.3956607\n",
      " -0.31059256], sr=22050 as keyword args. From version 0.10 passing these as positional arguments will result in an error\n",
      "  MFCCs = librosa.feature.mfcc(signal, sample_rate, n_mfcc=num_mfcc, n_fft=n_fft, hop_length=hop_length)\n",
      "C:\\Users\\Lenovo\\AppData\\Local\\Temp\\ipykernel_11612\\2861807924.py:31: FutureWarning: Pass y=[ 0.          0.          0.         ... -0.2024675  -0.13589908\n",
      " -0.05710631], sr=22050 as keyword args. From version 0.10 passing these as positional arguments will result in an error\n",
      "  MFCCs = librosa.feature.mfcc(signal, sample_rate, n_mfcc=num_mfcc, n_fft=n_fft, hop_length=hop_length)\n"
     ]
    },
    {
     "name": "stdout",
     "output_type": "stream",
     "text": [
      "C:/Users/Lenovo/Documents/Education/Skripsi/Dataset/Dataset_Indonesia\\Kiri\\kiri 9.wav: 1\n",
      "C:/Users/Lenovo/Documents/Education/Skripsi/Dataset/Dataset_Indonesia\\Kiri\\Kiris1.wav: 1\n",
      "C:/Users/Lenovo/Documents/Education/Skripsi/Dataset/Dataset_Indonesia\\Kiri\\Kiris10.wav: 1\n"
     ]
    },
    {
     "name": "stderr",
     "output_type": "stream",
     "text": [
      "C:\\Users\\Lenovo\\AppData\\Local\\Temp\\ipykernel_11612\\2861807924.py:31: FutureWarning: Pass y=[ 0.          0.          0.         ... -0.13052008 -0.12719987\n",
      " -0.12594517], sr=22050 as keyword args. From version 0.10 passing these as positional arguments will result in an error\n",
      "  MFCCs = librosa.feature.mfcc(signal, sample_rate, n_mfcc=num_mfcc, n_fft=n_fft, hop_length=hop_length)\n",
      "C:\\Users\\Lenovo\\AppData\\Local\\Temp\\ipykernel_11612\\2861807924.py:31: FutureWarning: Pass y=[0.         0.         0.         ... 0.05816557 0.06580036 0.06346492], sr=22050 as keyword args. From version 0.10 passing these as positional arguments will result in an error\n",
      "  MFCCs = librosa.feature.mfcc(signal, sample_rate, n_mfcc=num_mfcc, n_fft=n_fft, hop_length=hop_length)\n"
     ]
    },
    {
     "name": "stdout",
     "output_type": "stream",
     "text": [
      "C:/Users/Lenovo/Documents/Education/Skripsi/Dataset/Dataset_Indonesia\\Kiri\\Kiris11.wav: 1\n",
      "C:/Users/Lenovo/Documents/Education/Skripsi/Dataset/Dataset_Indonesia\\Kiri\\Kiris12.wav: 1\n"
     ]
    },
    {
     "name": "stderr",
     "output_type": "stream",
     "text": [
      "C:\\Users\\Lenovo\\AppData\\Local\\Temp\\ipykernel_11612\\2861807924.py:31: FutureWarning: Pass y=[ 0.          0.          0.         ... -0.01017149 -0.0106687\n",
      " -0.01211157], sr=22050 as keyword args. From version 0.10 passing these as positional arguments will result in an error\n",
      "  MFCCs = librosa.feature.mfcc(signal, sample_rate, n_mfcc=num_mfcc, n_fft=n_fft, hop_length=hop_length)\n",
      "C:\\Users\\Lenovo\\AppData\\Local\\Temp\\ipykernel_11612\\2861807924.py:31: FutureWarning: Pass y=[0.         0.         0.         ... 0.00052874 0.00055641 0.00049704], sr=22050 as keyword args. From version 0.10 passing these as positional arguments will result in an error\n",
      "  MFCCs = librosa.feature.mfcc(signal, sample_rate, n_mfcc=num_mfcc, n_fft=n_fft, hop_length=hop_length)\n"
     ]
    },
    {
     "name": "stdout",
     "output_type": "stream",
     "text": [
      "C:/Users/Lenovo/Documents/Education/Skripsi/Dataset/Dataset_Indonesia\\Kiri\\Kiris13.wav: 1\n",
      "C:/Users/Lenovo/Documents/Education/Skripsi/Dataset/Dataset_Indonesia\\Kiri\\Kiris14.wav: 1\n"
     ]
    },
    {
     "name": "stderr",
     "output_type": "stream",
     "text": [
      "C:\\Users\\Lenovo\\AppData\\Local\\Temp\\ipykernel_11612\\2861807924.py:31: FutureWarning: Pass y=[ 0.          0.          0.         ... -0.03627821 -0.04131109\n",
      " -0.04526555], sr=22050 as keyword args. From version 0.10 passing these as positional arguments will result in an error\n",
      "  MFCCs = librosa.feature.mfcc(signal, sample_rate, n_mfcc=num_mfcc, n_fft=n_fft, hop_length=hop_length)\n",
      "C:\\Users\\Lenovo\\AppData\\Local\\Temp\\ipykernel_11612\\2861807924.py:31: FutureWarning: Pass y=[0.         0.         0.         ... 0.00591972 0.00573112 0.00558775], sr=22050 as keyword args. From version 0.10 passing these as positional arguments will result in an error\n",
      "  MFCCs = librosa.feature.mfcc(signal, sample_rate, n_mfcc=num_mfcc, n_fft=n_fft, hop_length=hop_length)\n"
     ]
    },
    {
     "name": "stdout",
     "output_type": "stream",
     "text": [
      "C:/Users/Lenovo/Documents/Education/Skripsi/Dataset/Dataset_Indonesia\\Kiri\\Kiris15.wav: 1\n",
      "C:/Users/Lenovo/Documents/Education/Skripsi/Dataset/Dataset_Indonesia\\Kiri\\Kiris16.wav: 1\n"
     ]
    },
    {
     "name": "stderr",
     "output_type": "stream",
     "text": [
      "C:\\Users\\Lenovo\\AppData\\Local\\Temp\\ipykernel_11612\\2861807924.py:31: FutureWarning: Pass y=[ 0.          0.          0.         ... -0.09844133 -0.09388166\n",
      " -0.08073245], sr=22050 as keyword args. From version 0.10 passing these as positional arguments will result in an error\n",
      "  MFCCs = librosa.feature.mfcc(signal, sample_rate, n_mfcc=num_mfcc, n_fft=n_fft, hop_length=hop_length)\n",
      "C:\\Users\\Lenovo\\AppData\\Local\\Temp\\ipykernel_11612\\2861807924.py:31: FutureWarning: Pass y=[ 0.          0.          0.         ... -0.13296245 -0.13502838\n",
      " -0.13227934], sr=22050 as keyword args. From version 0.10 passing these as positional arguments will result in an error\n",
      "  MFCCs = librosa.feature.mfcc(signal, sample_rate, n_mfcc=num_mfcc, n_fft=n_fft, hop_length=hop_length)\n"
     ]
    },
    {
     "name": "stdout",
     "output_type": "stream",
     "text": [
      "C:/Users/Lenovo/Documents/Education/Skripsi/Dataset/Dataset_Indonesia\\Kiri\\Kiris17.wav: 1\n",
      "C:/Users/Lenovo/Documents/Education/Skripsi/Dataset/Dataset_Indonesia\\Kiri\\Kiris18.wav: 1\n"
     ]
    },
    {
     "name": "stderr",
     "output_type": "stream",
     "text": [
      "C:\\Users\\Lenovo\\AppData\\Local\\Temp\\ipykernel_11612\\2861807924.py:31: FutureWarning: Pass y=[0.         0.         0.         ... 0.21568194 0.2121014  0.19604385], sr=22050 as keyword args. From version 0.10 passing these as positional arguments will result in an error\n",
      "  MFCCs = librosa.feature.mfcc(signal, sample_rate, n_mfcc=num_mfcc, n_fft=n_fft, hop_length=hop_length)\n",
      "C:\\Users\\Lenovo\\AppData\\Local\\Temp\\ipykernel_11612\\2861807924.py:31: FutureWarning: Pass y=[ 0.          0.          0.         ... -0.04820035 -0.04759041\n",
      " -0.05287847], sr=22050 as keyword args. From version 0.10 passing these as positional arguments will result in an error\n",
      "  MFCCs = librosa.feature.mfcc(signal, sample_rate, n_mfcc=num_mfcc, n_fft=n_fft, hop_length=hop_length)\n"
     ]
    },
    {
     "name": "stdout",
     "output_type": "stream",
     "text": [
      "C:/Users/Lenovo/Documents/Education/Skripsi/Dataset/Dataset_Indonesia\\Kiri\\Kiris19.wav: 1\n",
      "C:/Users/Lenovo/Documents/Education/Skripsi/Dataset/Dataset_Indonesia\\Kiri\\Kiris2.wav: 1\n"
     ]
    },
    {
     "name": "stderr",
     "output_type": "stream",
     "text": [
      "C:\\Users\\Lenovo\\AppData\\Local\\Temp\\ipykernel_11612\\2861807924.py:31: FutureWarning: Pass y=[ 0.          0.          0.         ... -0.02593015 -0.03849382\n",
      " -0.04095399], sr=22050 as keyword args. From version 0.10 passing these as positional arguments will result in an error\n",
      "  MFCCs = librosa.feature.mfcc(signal, sample_rate, n_mfcc=num_mfcc, n_fft=n_fft, hop_length=hop_length)\n",
      "C:\\Users\\Lenovo\\AppData\\Local\\Temp\\ipykernel_11612\\2861807924.py:31: FutureWarning: Pass y=[ 0.          0.          0.         ... -0.04722439 -0.04788027\n",
      " -0.05052988], sr=22050 as keyword args. From version 0.10 passing these as positional arguments will result in an error\n",
      "  MFCCs = librosa.feature.mfcc(signal, sample_rate, n_mfcc=num_mfcc, n_fft=n_fft, hop_length=hop_length)\n"
     ]
    },
    {
     "name": "stdout",
     "output_type": "stream",
     "text": [
      "C:/Users/Lenovo/Documents/Education/Skripsi/Dataset/Dataset_Indonesia\\Kiri\\Kiris20.wav: 1\n",
      "C:/Users/Lenovo/Documents/Education/Skripsi/Dataset/Dataset_Indonesia\\Kiri\\Kiris21.wav: 1\n"
     ]
    },
    {
     "name": "stderr",
     "output_type": "stream",
     "text": [
      "C:\\Users\\Lenovo\\AppData\\Local\\Temp\\ipykernel_11612\\2861807924.py:31: FutureWarning: Pass y=[0.         0.         0.         ... 0.06785226 0.10509472 0.14171514], sr=22050 as keyword args. From version 0.10 passing these as positional arguments will result in an error\n",
      "  MFCCs = librosa.feature.mfcc(signal, sample_rate, n_mfcc=num_mfcc, n_fft=n_fft, hop_length=hop_length)\n",
      "C:\\Users\\Lenovo\\AppData\\Local\\Temp\\ipykernel_11612\\2861807924.py:31: FutureWarning: Pass y=[0.         0.         0.         ... 0.06917297 0.07639151 0.07531564], sr=22050 as keyword args. From version 0.10 passing these as positional arguments will result in an error\n",
      "  MFCCs = librosa.feature.mfcc(signal, sample_rate, n_mfcc=num_mfcc, n_fft=n_fft, hop_length=hop_length)\n"
     ]
    },
    {
     "name": "stdout",
     "output_type": "stream",
     "text": [
      "C:/Users/Lenovo/Documents/Education/Skripsi/Dataset/Dataset_Indonesia\\Kiri\\Kiris22.wav: 1\n",
      "C:/Users/Lenovo/Documents/Education/Skripsi/Dataset/Dataset_Indonesia\\Kiri\\Kiris23.wav: 1\n"
     ]
    },
    {
     "name": "stderr",
     "output_type": "stream",
     "text": [
      "C:\\Users\\Lenovo\\AppData\\Local\\Temp\\ipykernel_11612\\2861807924.py:31: FutureWarning: Pass y=[ 0.          0.          0.         ... -0.08263224 -0.07905041\n",
      " -0.07687868], sr=22050 as keyword args. From version 0.10 passing these as positional arguments will result in an error\n",
      "  MFCCs = librosa.feature.mfcc(signal, sample_rate, n_mfcc=num_mfcc, n_fft=n_fft, hop_length=hop_length)\n",
      "C:\\Users\\Lenovo\\AppData\\Local\\Temp\\ipykernel_11612\\2861807924.py:31: FutureWarning: Pass y=[0.         0.         0.         ... 0.11327779 0.11600373 0.13323817], sr=22050 as keyword args. From version 0.10 passing these as positional arguments will result in an error\n",
      "  MFCCs = librosa.feature.mfcc(signal, sample_rate, n_mfcc=num_mfcc, n_fft=n_fft, hop_length=hop_length)\n"
     ]
    },
    {
     "name": "stdout",
     "output_type": "stream",
     "text": [
      "C:/Users/Lenovo/Documents/Education/Skripsi/Dataset/Dataset_Indonesia\\Kiri\\Kiris24.wav: 1\n",
      "C:/Users/Lenovo/Documents/Education/Skripsi/Dataset/Dataset_Indonesia\\Kiri\\Kiris25.wav: 1"
     ]
    },
    {
     "name": "stderr",
     "output_type": "stream",
     "text": [
      "C:\\Users\\Lenovo\\AppData\\Local\\Temp\\ipykernel_11612\\2861807924.py:31: FutureWarning: Pass y=[0.         0.         0.         ... 0.04997367 0.05143462 0.05508967], sr=22050 as keyword args. From version 0.10 passing these as positional arguments will result in an error\n",
      "  MFCCs = librosa.feature.mfcc(signal, sample_rate, n_mfcc=num_mfcc, n_fft=n_fft, hop_length=hop_length)\n",
      "C:\\Users\\Lenovo\\AppData\\Local\\Temp\\ipykernel_11612\\2861807924.py:31: FutureWarning: Pass y=[ 0.          0.          0.         ... -0.11979171 -0.07614868\n",
      "  0.00611235], sr=22050 as keyword args. From version 0.10 passing these as positional arguments will result in an error\n",
      "  MFCCs = librosa.feature.mfcc(signal, sample_rate, n_mfcc=num_mfcc, n_fft=n_fft, hop_length=hop_length)\n"
     ]
    },
    {
     "name": "stdout",
     "output_type": "stream",
     "text": [
      "\n",
      "C:/Users/Lenovo/Documents/Education/Skripsi/Dataset/Dataset_Indonesia\\Kiri\\Kiris3.wav: 1\n"
     ]
    },
    {
     "name": "stderr",
     "output_type": "stream",
     "text": [
      "C:\\Users\\Lenovo\\AppData\\Local\\Temp\\ipykernel_11612\\2861807924.py:31: FutureWarning: Pass y=[0.         0.         0.         ... 0.16545743 0.16982889 0.16189364], sr=22050 as keyword args. From version 0.10 passing these as positional arguments will result in an error\n",
      "  MFCCs = librosa.feature.mfcc(signal, sample_rate, n_mfcc=num_mfcc, n_fft=n_fft, hop_length=hop_length)\n",
      "C:\\Users\\Lenovo\\AppData\\Local\\Temp\\ipykernel_11612\\2861807924.py:31: FutureWarning: Pass y=[0.         0.         0.         ... 0.01736481 0.01731003 0.01094112], sr=22050 as keyword args. From version 0.10 passing these as positional arguments will result in an error\n",
      "  MFCCs = librosa.feature.mfcc(signal, sample_rate, n_mfcc=num_mfcc, n_fft=n_fft, hop_length=hop_length)\n"
     ]
    },
    {
     "name": "stdout",
     "output_type": "stream",
     "text": [
      "C:/Users/Lenovo/Documents/Education/Skripsi/Dataset/Dataset_Indonesia\\Kiri\\Kiris4.wav: 1\n",
      "C:/Users/Lenovo/Documents/Education/Skripsi/Dataset/Dataset_Indonesia\\Kiri\\Kiris5.wav: 1\n"
     ]
    },
    {
     "name": "stderr",
     "output_type": "stream",
     "text": [
      "C:\\Users\\Lenovo\\AppData\\Local\\Temp\\ipykernel_11612\\2861807924.py:31: FutureWarning: Pass y=[0.         0.         0.         ... 0.11085339 0.11154552 0.11911523], sr=22050 as keyword args. From version 0.10 passing these as positional arguments will result in an error\n",
      "  MFCCs = librosa.feature.mfcc(signal, sample_rate, n_mfcc=num_mfcc, n_fft=n_fft, hop_length=hop_length)\n",
      "C:\\Users\\Lenovo\\AppData\\Local\\Temp\\ipykernel_11612\\2861807924.py:31: FutureWarning: Pass y=[0.         0.         0.         ... 0.1659752  0.14600223 0.14367366], sr=22050 as keyword args. From version 0.10 passing these as positional arguments will result in an error\n",
      "  MFCCs = librosa.feature.mfcc(signal, sample_rate, n_mfcc=num_mfcc, n_fft=n_fft, hop_length=hop_length)\n"
     ]
    },
    {
     "name": "stdout",
     "output_type": "stream",
     "text": [
      "C:/Users/Lenovo/Documents/Education/Skripsi/Dataset/Dataset_Indonesia\\Kiri\\Kiris6.wav: 1\n",
      "C:/Users/Lenovo/Documents/Education/Skripsi/Dataset/Dataset_Indonesia\\Kiri\\Kiris7.wav: 1\n"
     ]
    },
    {
     "name": "stderr",
     "output_type": "stream",
     "text": [
      "C:\\Users\\Lenovo\\AppData\\Local\\Temp\\ipykernel_11612\\2861807924.py:31: FutureWarning: Pass y=[ 0.          0.          0.         ... -0.01863865 -0.03294691\n",
      " -0.03144646], sr=22050 as keyword args. From version 0.10 passing these as positional arguments will result in an error\n",
      "  MFCCs = librosa.feature.mfcc(signal, sample_rate, n_mfcc=num_mfcc, n_fft=n_fft, hop_length=hop_length)\n",
      "C:\\Users\\Lenovo\\AppData\\Local\\Temp\\ipykernel_11612\\2861807924.py:31: FutureWarning: Pass y=[ 0.          0.          0.         ... -0.26933843 -0.3007082\n",
      " -0.30019635], sr=22050 as keyword args. From version 0.10 passing these as positional arguments will result in an error\n",
      "  MFCCs = librosa.feature.mfcc(signal, sample_rate, n_mfcc=num_mfcc, n_fft=n_fft, hop_length=hop_length)\n"
     ]
    },
    {
     "name": "stdout",
     "output_type": "stream",
     "text": [
      "C:/Users/Lenovo/Documents/Education/Skripsi/Dataset/Dataset_Indonesia\\Kiri\\Kiris8.wav: 1\n",
      "C:/Users/Lenovo/Documents/Education/Skripsi/Dataset/Dataset_Indonesia\\Kiri\\Kiris9.wav: 1\n"
     ]
    },
    {
     "name": "stderr",
     "output_type": "stream",
     "text": [
      "C:\\Users\\Lenovo\\AppData\\Local\\Temp\\ipykernel_11612\\2861807924.py:31: FutureWarning: Pass y=[ 1.13028385e-07 -1.04574191e-07  8.10405396e-08 ... -1.03200111e-03\n",
      " -9.46082757e-04 -7.67903752e-04], sr=22050 as keyword args. From version 0.10 passing these as positional arguments will result in an error\n",
      "  MFCCs = librosa.feature.mfcc(signal, sample_rate, n_mfcc=num_mfcc, n_fft=n_fft, hop_length=hop_length)\n",
      "C:\\Users\\Lenovo\\AppData\\Local\\Temp\\ipykernel_11612\\2861807924.py:31: FutureWarning: Pass y=[ 1.13028385e-07 -1.04574191e-07  8.10405396e-08 ... -1.04762383e-01\n",
      " -8.12839493e-02 -4.18407731e-02], sr=22050 as keyword args. From version 0.10 passing these as positional arguments will result in an error\n",
      "  MFCCs = librosa.feature.mfcc(signal, sample_rate, n_mfcc=num_mfcc, n_fft=n_fft, hop_length=hop_length)\n"
     ]
    },
    {
     "name": "stdout",
     "output_type": "stream",
     "text": [
      "C:/Users/Lenovo/Documents/Education/Skripsi/Dataset/Dataset_Indonesia\\Kiri\\WhatsApp Ptt 2021-09-15 at 17.11.14.wav: 1\n",
      "C:/Users/Lenovo/Documents/Education/Skripsi/Dataset/Dataset_Indonesia\\Kiri\\WhatsApp Ptt 2021-09-15 at 17.11.25.wav: 1\n"
     ]
    },
    {
     "name": "stderr",
     "output_type": "stream",
     "text": [
      "C:\\Users\\Lenovo\\AppData\\Local\\Temp\\ipykernel_11612\\2861807924.py:31: FutureWarning: Pass y=[ 1.13028385e-07 -1.04574191e-07  8.10405396e-08 ... -2.19297523e-04\n",
      " -3.74205963e-04 -4.31464461e-04], sr=22050 as keyword args. From version 0.10 passing these as positional arguments will result in an error\n",
      "  MFCCs = librosa.feature.mfcc(signal, sample_rate, n_mfcc=num_mfcc, n_fft=n_fft, hop_length=hop_length)\n",
      "C:\\Users\\Lenovo\\AppData\\Local\\Temp\\ipykernel_11612\\2861807924.py:31: FutureWarning: Pass y=[ 1.13028385e-07 -1.04574191e-07  8.10405396e-08 ...  1.54270818e-02\n",
      "  7.44226528e-03 -1.49702455e-03], sr=22050 as keyword args. From version 0.10 passing these as positional arguments will result in an error\n",
      "  MFCCs = librosa.feature.mfcc(signal, sample_rate, n_mfcc=num_mfcc, n_fft=n_fft, hop_length=hop_length)\n"
     ]
    },
    {
     "name": "stdout",
     "output_type": "stream",
     "text": [
      "C:/Users/Lenovo/Documents/Education/Skripsi/Dataset/Dataset_Indonesia\\Kiri\\WhatsApp Ptt 2021-09-15 at 17.11.33.wav: 1\n",
      "C:/Users/Lenovo/Documents/Education/Skripsi/Dataset/Dataset_Indonesia\\Kiri\\WhatsApp Ptt 2021-09-15 at 17.11.39.wav: 1\n"
     ]
    },
    {
     "name": "stderr",
     "output_type": "stream",
     "text": [
      "C:\\Users\\Lenovo\\AppData\\Local\\Temp\\ipykernel_11612\\2861807924.py:31: FutureWarning: Pass y=[ 1.13028385e-07 -1.04574191e-07  8.10405396e-08 ... -9.46069788e-03\n",
      " -1.07800169e-02 -1.80343539e-02], sr=22050 as keyword args. From version 0.10 passing these as positional arguments will result in an error\n",
      "  MFCCs = librosa.feature.mfcc(signal, sample_rate, n_mfcc=num_mfcc, n_fft=n_fft, hop_length=hop_length)\n",
      "C:\\Users\\Lenovo\\AppData\\Local\\Temp\\ipykernel_11612\\2861807924.py:31: FutureWarning: Pass y=[ 1.13028385e-07 -1.04574191e-07  8.10405396e-08 ...  9.08662472e-03\n",
      "  2.15535518e-02  3.78668979e-02], sr=22050 as keyword args. From version 0.10 passing these as positional arguments will result in an error\n",
      "  MFCCs = librosa.feature.mfcc(signal, sample_rate, n_mfcc=num_mfcc, n_fft=n_fft, hop_length=hop_length)\n"
     ]
    },
    {
     "name": "stdout",
     "output_type": "stream",
     "text": [
      "C:/Users/Lenovo/Documents/Education/Skripsi/Dataset/Dataset_Indonesia\\Kiri\\WhatsApp Ptt 2021-09-15 at 17.12.04.wav: 1\n",
      "C:/Users/Lenovo/Documents/Education/Skripsi/Dataset/Dataset_Indonesia\\Kiri\\WhatsApp Ptt 2021-09-15 at 17.12.21.wav: 1\n"
     ]
    },
    {
     "name": "stderr",
     "output_type": "stream",
     "text": [
      "C:\\Users\\Lenovo\\AppData\\Local\\Temp\\ipykernel_11612\\2861807924.py:31: FutureWarning: Pass y=[ 1.13028385e-07 -1.04574191e-07  8.10405396e-08 ... -1.45912592e-04\n",
      " -5.64693590e-04 -6.36930927e-04], sr=22050 as keyword args. From version 0.10 passing these as positional arguments will result in an error\n",
      "  MFCCs = librosa.feature.mfcc(signal, sample_rate, n_mfcc=num_mfcc, n_fft=n_fft, hop_length=hop_length)\n",
      "C:\\Users\\Lenovo\\AppData\\Local\\Temp\\ipykernel_11612\\2861807924.py:31: FutureWarning: Pass y=[ 1.13028385e-07 -1.04574191e-07  8.10405396e-08 ...  2.47201859e-03\n",
      "  5.12225181e-03  4.46536345e-03], sr=22050 as keyword args. From version 0.10 passing these as positional arguments will result in an error\n",
      "  MFCCs = librosa.feature.mfcc(signal, sample_rate, n_mfcc=num_mfcc, n_fft=n_fft, hop_length=hop_length)\n"
     ]
    },
    {
     "name": "stdout",
     "output_type": "stream",
     "text": [
      "C:/Users/Lenovo/Documents/Education/Skripsi/Dataset/Dataset_Indonesia\\Kiri\\WhatsApp Ptt 2021-09-15 at 17.12.28.wav: 1\n",
      "C:/Users/Lenovo/Documents/Education/Skripsi/Dataset/Dataset_Indonesia\\Kiri\\WhatsApp Ptt 2021-09-15 at 17.12.32.wav: 1\n"
     ]
    },
    {
     "name": "stderr",
     "output_type": "stream",
     "text": [
      "C:\\Users\\Lenovo\\AppData\\Local\\Temp\\ipykernel_11612\\2861807924.py:31: FutureWarning: Pass y=[ 1.13028385e-07 -1.04574191e-07  8.10405396e-08 ...  5.05989883e-03\n",
      "  4.48641833e-03  3.45996907e-03], sr=22050 as keyword args. From version 0.10 passing these as positional arguments will result in an error\n",
      "  MFCCs = librosa.feature.mfcc(signal, sample_rate, n_mfcc=num_mfcc, n_fft=n_fft, hop_length=hop_length)\n",
      "C:\\Users\\Lenovo\\AppData\\Local\\Temp\\ipykernel_11612\\2861807924.py:31: FutureWarning: Pass y=[ 1.13028385e-07 -1.04574191e-07  8.10405396e-08 ... -3.32924479e-04\n",
      "  2.35583028e-03  1.13826878e-02], sr=22050 as keyword args. From version 0.10 passing these as positional arguments will result in an error\n",
      "  MFCCs = librosa.feature.mfcc(signal, sample_rate, n_mfcc=num_mfcc, n_fft=n_fft, hop_length=hop_length)\n"
     ]
    },
    {
     "name": "stdout",
     "output_type": "stream",
     "text": [
      "C:/Users/Lenovo/Documents/Education/Skripsi/Dataset/Dataset_Indonesia\\Kiri\\WhatsApp Ptt 2021-09-15 at 17.12.36.wav: 1\n",
      "C:/Users/Lenovo/Documents/Education/Skripsi/Dataset/Dataset_Indonesia\\Kiri\\WhatsApp Ptt 2021-09-15 at 17.12.45.wav: 1\n"
     ]
    },
    {
     "name": "stderr",
     "output_type": "stream",
     "text": [
      "C:\\Users\\Lenovo\\AppData\\Local\\Temp\\ipykernel_11612\\2861807924.py:31: FutureWarning: Pass y=[ 1.13028385e-07 -1.04574191e-07  8.10405396e-08 ... -3.36606987e-04\n",
      " -1.53830479e-04 -1.30126864e-04], sr=22050 as keyword args. From version 0.10 passing these as positional arguments will result in an error\n",
      "  MFCCs = librosa.feature.mfcc(signal, sample_rate, n_mfcc=num_mfcc, n_fft=n_fft, hop_length=hop_length)\n",
      "C:\\Users\\Lenovo\\AppData\\Local\\Temp\\ipykernel_11612\\2861807924.py:31: FutureWarning: Pass y=[ 1.13028385e-07 -1.04574191e-07  8.10405396e-08 ...  9.08759162e-02\n",
      "  9.06445086e-02  7.70513043e-02], sr=22050 as keyword args. From version 0.10 passing these as positional arguments will result in an error\n",
      "  MFCCs = librosa.feature.mfcc(signal, sample_rate, n_mfcc=num_mfcc, n_fft=n_fft, hop_length=hop_length)\n"
     ]
    },
    {
     "name": "stdout",
     "output_type": "stream",
     "text": [
      "C:/Users/Lenovo/Documents/Education/Skripsi/Dataset/Dataset_Indonesia\\Kiri\\WhatsApp Ptt 2021-09-15 at 17.12.52.wav: 1\n",
      "C:/Users/Lenovo/Documents/Education/Skripsi/Dataset/Dataset_Indonesia\\Kiri\\WhatsApp Ptt 2021-09-15 at 17.12.59.wav: 1\n"
     ]
    },
    {
     "name": "stderr",
     "output_type": "stream",
     "text": [
      "C:\\Users\\Lenovo\\AppData\\Local\\Temp\\ipykernel_11612\\2861807924.py:31: FutureWarning: Pass y=[ 1.13028385e-07 -1.04574191e-07  8.10405396e-08 ...  2.71957852e-02\n",
      "  2.30525862e-02  3.03733665e-02], sr=22050 as keyword args. From version 0.10 passing these as positional arguments will result in an error\n",
      "  MFCCs = librosa.feature.mfcc(signal, sample_rate, n_mfcc=num_mfcc, n_fft=n_fft, hop_length=hop_length)\n",
      "C:\\Users\\Lenovo\\AppData\\Local\\Temp\\ipykernel_11612\\2861807924.py:31: FutureWarning: Pass y=[ 1.13028385e-07 -1.04574191e-07  8.10405396e-08 ... -8.72383098e-05\n",
      "  2.40565123e-06 -3.32174932e-05], sr=22050 as keyword args. From version 0.10 passing these as positional arguments will result in an error\n",
      "  MFCCs = librosa.feature.mfcc(signal, sample_rate, n_mfcc=num_mfcc, n_fft=n_fft, hop_length=hop_length)\n"
     ]
    },
    {
     "name": "stdout",
     "output_type": "stream",
     "text": [
      "C:/Users/Lenovo/Documents/Education/Skripsi/Dataset/Dataset_Indonesia\\Kiri\\WhatsApp Ptt 2021-09-15 at 17.13.08.wav: 1\n",
      "C:/Users/Lenovo/Documents/Education/Skripsi/Dataset/Dataset_Indonesia\\Kiri\\WhatsApp Ptt 2021-09-15 at 17.13.54.wav: 1\n"
     ]
    },
    {
     "name": "stderr",
     "output_type": "stream",
     "text": [
      "C:\\Users\\Lenovo\\AppData\\Local\\Temp\\ipykernel_11612\\2861807924.py:31: FutureWarning: Pass y=[ 1.13028385e-07 -1.04574191e-07  8.10405396e-08 ... -1.34828985e-01\n",
      " -1.06212355e-01 -8.78114700e-02], sr=22050 as keyword args. From version 0.10 passing these as positional arguments will result in an error\n",
      "  MFCCs = librosa.feature.mfcc(signal, sample_rate, n_mfcc=num_mfcc, n_fft=n_fft, hop_length=hop_length)\n",
      "C:\\Users\\Lenovo\\AppData\\Local\\Temp\\ipykernel_11612\\2861807924.py:31: FutureWarning: Pass y=[ 1.13028385e-07 -1.04574191e-07  8.10405396e-08 ... -5.24761737e-04\n",
      " -5.22892864e-04 -4.32304951e-04], sr=22050 as keyword args. From version 0.10 passing these as positional arguments will result in an error\n",
      "  MFCCs = librosa.feature.mfcc(signal, sample_rate, n_mfcc=num_mfcc, n_fft=n_fft, hop_length=hop_length)\n"
     ]
    },
    {
     "name": "stdout",
     "output_type": "stream",
     "text": [
      "C:/Users/Lenovo/Documents/Education/Skripsi/Dataset/Dataset_Indonesia\\Kiri\\WhatsApp Ptt 2021-09-15 at 17.14.06.wav: 1\n",
      "C:/Users/Lenovo/Documents/Education/Skripsi/Dataset/Dataset_Indonesia\\Kiri\\WhatsApp Ptt 2021-09-15 at 17.14.12.wav: 1\n"
     ]
    },
    {
     "name": "stderr",
     "output_type": "stream",
     "text": [
      "C:\\Users\\Lenovo\\AppData\\Local\\Temp\\ipykernel_11612\\2861807924.py:31: FutureWarning: Pass y=[ 1.13028385e-07 -1.04574191e-07  8.10405396e-08 ...  7.45151266e-02\n",
      "  6.43866360e-02  4.82817404e-02], sr=22050 as keyword args. From version 0.10 passing these as positional arguments will result in an error\n",
      "  MFCCs = librosa.feature.mfcc(signal, sample_rate, n_mfcc=num_mfcc, n_fft=n_fft, hop_length=hop_length)\n",
      "C:\\Users\\Lenovo\\AppData\\Local\\Temp\\ipykernel_11612\\2861807924.py:31: FutureWarning: Pass y=[ 1.13028385e-07 -1.04574191e-07  8.10405396e-08 ...  1.76840893e-03\n",
      "  1.64725177e-03  1.71485206e-03], sr=22050 as keyword args. From version 0.10 passing these as positional arguments will result in an error\n",
      "  MFCCs = librosa.feature.mfcc(signal, sample_rate, n_mfcc=num_mfcc, n_fft=n_fft, hop_length=hop_length)\n"
     ]
    },
    {
     "name": "stdout",
     "output_type": "stream",
     "text": [
      "C:/Users/Lenovo/Documents/Education/Skripsi/Dataset/Dataset_Indonesia\\Kiri\\WhatsApp Ptt 2021-09-15 at 17.14.20.wav: 1\n",
      "C:/Users/Lenovo/Documents/Education/Skripsi/Dataset/Dataset_Indonesia\\Kiri\\WhatsApp Ptt 2021-09-15 at 17.14.34.wav: 1\n"
     ]
    },
    {
     "name": "stderr",
     "output_type": "stream",
     "text": [
      "C:\\Users\\Lenovo\\AppData\\Local\\Temp\\ipykernel_11612\\2861807924.py:31: FutureWarning: Pass y=[ 1.13028385e-07 -1.04574191e-07  8.10405396e-08 ... -1.46337971e-01\n",
      " -1.48458600e-01 -1.49502486e-01], sr=22050 as keyword args. From version 0.10 passing these as positional arguments will result in an error\n",
      "  MFCCs = librosa.feature.mfcc(signal, sample_rate, n_mfcc=num_mfcc, n_fft=n_fft, hop_length=hop_length)\n",
      "C:\\Users\\Lenovo\\AppData\\Local\\Temp\\ipykernel_11612\\2861807924.py:31: FutureWarning: Pass y=[ 1.13028385e-07 -1.04574191e-07  8.10405396e-08 ...  2.04857951e-03\n",
      "  2.10553454e-03  2.56073638e-03], sr=22050 as keyword args. From version 0.10 passing these as positional arguments will result in an error\n",
      "  MFCCs = librosa.feature.mfcc(signal, sample_rate, n_mfcc=num_mfcc, n_fft=n_fft, hop_length=hop_length)\n"
     ]
    },
    {
     "name": "stdout",
     "output_type": "stream",
     "text": [
      "C:/Users/Lenovo/Documents/Education/Skripsi/Dataset/Dataset_Indonesia\\Kiri\\WhatsApp Ptt 2021-09-15 at 17.14.45.wav: 1\n",
      "C:/Users/Lenovo/Documents/Education/Skripsi/Dataset/Dataset_Indonesia\\Kiri\\WhatsApp Ptt 2021-09-15 at 17.14.52.wav: 1\n"
     ]
    },
    {
     "name": "stderr",
     "output_type": "stream",
     "text": [
      "C:\\Users\\Lenovo\\AppData\\Local\\Temp\\ipykernel_11612\\2861807924.py:31: FutureWarning: Pass y=[ 1.13028385e-07 -1.04574191e-07  8.10405396e-08 ... -8.90410374e-05\n",
      " -4.21777941e-06  1.20526842e-04], sr=22050 as keyword args. From version 0.10 passing these as positional arguments will result in an error\n",
      "  MFCCs = librosa.feature.mfcc(signal, sample_rate, n_mfcc=num_mfcc, n_fft=n_fft, hop_length=hop_length)\n",
      "C:\\Users\\Lenovo\\AppData\\Local\\Temp\\ipykernel_11612\\2861807924.py:31: FutureWarning: Pass y=[ 1.13028385e-07 -1.04574191e-07  8.10405396e-08 ...  1.43268600e-03\n",
      "  1.60170021e-03  1.71371130e-03], sr=22050 as keyword args. From version 0.10 passing these as positional arguments will result in an error\n",
      "  MFCCs = librosa.feature.mfcc(signal, sample_rate, n_mfcc=num_mfcc, n_fft=n_fft, hop_length=hop_length)\n"
     ]
    },
    {
     "name": "stdout",
     "output_type": "stream",
     "text": [
      "C:/Users/Lenovo/Documents/Education/Skripsi/Dataset/Dataset_Indonesia\\Kiri\\WhatsApp Ptt 2021-09-15 at 17.14.58.wav: 1\n",
      "C:/Users/Lenovo/Documents/Education/Skripsi/Dataset/Dataset_Indonesia\\Kiri\\WhatsApp Ptt 2021-09-15 at 17.15.06.wav: 1\n"
     ]
    },
    {
     "name": "stderr",
     "output_type": "stream",
     "text": [
      "C:\\Users\\Lenovo\\AppData\\Local\\Temp\\ipykernel_11612\\2861807924.py:31: FutureWarning: Pass y=[ 1.13028385e-07 -1.04574191e-07  8.10405396e-08 ...  3.68936844e-02\n",
      "  3.10599152e-02  3.05316262e-02], sr=22050 as keyword args. From version 0.10 passing these as positional arguments will result in an error\n",
      "  MFCCs = librosa.feature.mfcc(signal, sample_rate, n_mfcc=num_mfcc, n_fft=n_fft, hop_length=hop_length)\n",
      "C:\\Users\\Lenovo\\AppData\\Local\\Temp\\ipykernel_11612\\2861807924.py:31: FutureWarning: Pass y=[ 1.13028385e-07 -1.04574191e-07  8.10405396e-08 ... -1.18549176e-01\n",
      " -1.32639989e-01 -1.58996925e-01], sr=22050 as keyword args. From version 0.10 passing these as positional arguments will result in an error\n",
      "  MFCCs = librosa.feature.mfcc(signal, sample_rate, n_mfcc=num_mfcc, n_fft=n_fft, hop_length=hop_length)\n"
     ]
    },
    {
     "name": "stdout",
     "output_type": "stream",
     "text": [
      "C:/Users/Lenovo/Documents/Education/Skripsi/Dataset/Dataset_Indonesia\\Kiri\\WhatsApp Ptt 2021-09-15 at 17.15.16.wav: 1\n",
      "C:/Users/Lenovo/Documents/Education/Skripsi/Dataset/Dataset_Indonesia\\Kiri\\WhatsApp Ptt 2021-09-15 at 17.22.18.wav: 1\n"
     ]
    },
    {
     "name": "stderr",
     "output_type": "stream",
     "text": [
      "C:\\Users\\Lenovo\\AppData\\Local\\Temp\\ipykernel_11612\\2861807924.py:31: FutureWarning: Pass y=[ 1.13028385e-07 -1.04574191e-07  8.10405396e-08 ...  3.08112660e-03\n",
      "  5.19486517e-03  6.31701434e-03], sr=22050 as keyword args. From version 0.10 passing these as positional arguments will result in an error\n",
      "  MFCCs = librosa.feature.mfcc(signal, sample_rate, n_mfcc=num_mfcc, n_fft=n_fft, hop_length=hop_length)\n",
      "C:\\Users\\Lenovo\\AppData\\Local\\Temp\\ipykernel_11612\\2861807924.py:31: FutureWarning: Pass y=[ 1.13028385e-07 -1.04574191e-07  8.10405396e-08 ... -3.53425392e-03\n",
      " -3.97199439e-03 -4.11975943e-03], sr=22050 as keyword args. From version 0.10 passing these as positional arguments will result in an error\n",
      "  MFCCs = librosa.feature.mfcc(signal, sample_rate, n_mfcc=num_mfcc, n_fft=n_fft, hop_length=hop_length)\n"
     ]
    },
    {
     "name": "stdout",
     "output_type": "stream",
     "text": [
      "C:/Users/Lenovo/Documents/Education/Skripsi/Dataset/Dataset_Indonesia\\Kiri\\WhatsApp Ptt 2021-09-15 at 17.22.21.wav: 1\n",
      "C:/Users/Lenovo/Documents/Education/Skripsi/Dataset/Dataset_Indonesia\\Kiri\\WhatsApp Ptt 2021-09-15 at 22.23.00(1).wav: 1\n",
      "C:/Users/Lenovo/Documents/Education/Skripsi/Dataset/Dataset_Indonesia\\Kiri\\WhatsApp Ptt 2021-09-15 at 22.23.00.wav: 1\n",
      "C:/Users/Lenovo/Documents/Education/Skripsi/Dataset/Dataset_Indonesia\\Kiri\\WhatsApp Ptt 2021-09-15 at 22.23.04(1).wav: 1\n"
     ]
    },
    {
     "name": "stderr",
     "output_type": "stream",
     "text": [
      "C:\\Users\\Lenovo\\AppData\\Local\\Temp\\ipykernel_11612\\2861807924.py:31: FutureWarning: Pass y=[ 1.13028385e-07 -1.04574191e-07  8.10405396e-08 ... -1.07072778e-02\n",
      " -1.06770396e-02 -1.04735726e-02], sr=22050 as keyword args. From version 0.10 passing these as positional arguments will result in an error\n",
      "  MFCCs = librosa.feature.mfcc(signal, sample_rate, n_mfcc=num_mfcc, n_fft=n_fft, hop_length=hop_length)\n"
     ]
    },
    {
     "name": "stdout",
     "output_type": "stream",
     "text": [
      "C:/Users/Lenovo/Documents/Education/Skripsi/Dataset/Dataset_Indonesia\\Kiri\\WhatsApp Ptt 2021-09-15 at 22.23.04.wav: 1\n",
      "C:/Users/Lenovo/Documents/Education/Skripsi/Dataset/Dataset_Indonesia\\Kiri\\WhatsApp Ptt 2021-09-15 at 22.23.07(1).wav: 1\n"
     ]
    },
    {
     "name": "stderr",
     "output_type": "stream",
     "text": [
      "C:\\Users\\Lenovo\\AppData\\Local\\Temp\\ipykernel_11612\\2861807924.py:31: FutureWarning: Pass y=[ 1.13028385e-07 -1.04574191e-07  8.10405396e-08 ... -1.07363686e-02\n",
      " -1.08990176e-02 -1.06488643e-02], sr=22050 as keyword args. From version 0.10 passing these as positional arguments will result in an error\n",
      "  MFCCs = librosa.feature.mfcc(signal, sample_rate, n_mfcc=num_mfcc, n_fft=n_fft, hop_length=hop_length)\n"
     ]
    },
    {
     "name": "stdout",
     "output_type": "stream",
     "text": [
      "C:/Users/Lenovo/Documents/Education/Skripsi/Dataset/Dataset_Indonesia\\Kiri\\WhatsApp Ptt 2021-09-15 at 22.23.07.wav: 1\n",
      "C:/Users/Lenovo/Documents/Education/Skripsi/Dataset/Dataset_Indonesia\\Kiri\\WhatsApp Ptt 2021-09-15 at 22.23.14(1).wav: 1\n"
     ]
    },
    {
     "name": "stderr",
     "output_type": "stream",
     "text": [
      "C:\\Users\\Lenovo\\AppData\\Local\\Temp\\ipykernel_11612\\2861807924.py:31: FutureWarning: Pass y=[ 1.13028385e-07 -1.04574191e-07  8.10405396e-08 ... -4.05515507e-02\n",
      " -4.15891409e-02 -4.30994108e-02], sr=22050 as keyword args. From version 0.10 passing these as positional arguments will result in an error\n",
      "  MFCCs = librosa.feature.mfcc(signal, sample_rate, n_mfcc=num_mfcc, n_fft=n_fft, hop_length=hop_length)\n"
     ]
    },
    {
     "name": "stdout",
     "output_type": "stream",
     "text": [
      "C:/Users/Lenovo/Documents/Education/Skripsi/Dataset/Dataset_Indonesia\\Kiri\\WhatsApp Ptt 2021-09-15 at 22.23.14.wav: 1\n",
      "C:/Users/Lenovo/Documents/Education/Skripsi/Dataset/Dataset_Indonesia\\Kiri\\WhatsApp Ptt 2021-09-15 at 22.23.17(1).wav: 1\n"
     ]
    },
    {
     "name": "stderr",
     "output_type": "stream",
     "text": [
      "C:\\Users\\Lenovo\\AppData\\Local\\Temp\\ipykernel_11612\\2861807924.py:31: FutureWarning: Pass y=[ 1.13028385e-07 -1.04574191e-07  8.10405396e-08 ... -7.75200576e-02\n",
      " -8.15173909e-02 -8.47261176e-02], sr=22050 as keyword args. From version 0.10 passing these as positional arguments will result in an error\n",
      "  MFCCs = librosa.feature.mfcc(signal, sample_rate, n_mfcc=num_mfcc, n_fft=n_fft, hop_length=hop_length)\n"
     ]
    },
    {
     "name": "stdout",
     "output_type": "stream",
     "text": [
      "C:/Users/Lenovo/Documents/Education/Skripsi/Dataset/Dataset_Indonesia\\Kiri\\WhatsApp Ptt 2021-09-15 at 22.23.17.wav: 1\n",
      "C:/Users/Lenovo/Documents/Education/Skripsi/Dataset/Dataset_Indonesia\\Kiri\\WhatsApp Ptt 2021-09-15 at 22.23.20(1).wav: 1\n"
     ]
    },
    {
     "name": "stderr",
     "output_type": "stream",
     "text": [
      "C:\\Users\\Lenovo\\AppData\\Local\\Temp\\ipykernel_11612\\2861807924.py:31: FutureWarning: Pass y=[ 1.13028385e-07 -1.04574191e-07  8.10405396e-08 ... -2.04094201e-02\n",
      " -2.04161741e-02 -1.89943165e-02], sr=22050 as keyword args. From version 0.10 passing these as positional arguments will result in an error\n",
      "  MFCCs = librosa.feature.mfcc(signal, sample_rate, n_mfcc=num_mfcc, n_fft=n_fft, hop_length=hop_length)\n"
     ]
    },
    {
     "name": "stdout",
     "output_type": "stream",
     "text": [
      "C:/Users/Lenovo/Documents/Education/Skripsi/Dataset/Dataset_Indonesia\\Kiri\\WhatsApp Ptt 2021-09-15 at 22.23.20.wav: 1\n",
      "C:/Users/Lenovo/Documents/Education/Skripsi/Dataset/Dataset_Indonesia\\Kiri\\WhatsApp Ptt 2021-09-15 at 22.23.23.wav: 1\n"
     ]
    },
    {
     "name": "stderr",
     "output_type": "stream",
     "text": [
      "C:\\Users\\Lenovo\\AppData\\Local\\Temp\\ipykernel_11612\\2861807924.py:31: FutureWarning: Pass y=[ 1.13028385e-07 -1.04574191e-07  8.10405396e-08 ...  7.95710366e-03\n",
      "  6.92977104e-03  7.62906345e-03], sr=22050 as keyword args. From version 0.10 passing these as positional arguments will result in an error\n",
      "  MFCCs = librosa.feature.mfcc(signal, sample_rate, n_mfcc=num_mfcc, n_fft=n_fft, hop_length=hop_length)\n",
      "C:\\Users\\Lenovo\\AppData\\Local\\Temp\\ipykernel_11612\\2861807924.py:31: FutureWarning: Pass y=[ 1.13028385e-07 -1.04574191e-07  8.10405396e-08 ...  8.82187951e-03\n",
      "  6.27620332e-03  3.09267757e-03], sr=22050 as keyword args. From version 0.10 passing these as positional arguments will result in an error\n",
      "  MFCCs = librosa.feature.mfcc(signal, sample_rate, n_mfcc=num_mfcc, n_fft=n_fft, hop_length=hop_length)\n"
     ]
    },
    {
     "name": "stdout",
     "output_type": "stream",
     "text": [
      "C:/Users/Lenovo/Documents/Education/Skripsi/Dataset/Dataset_Indonesia\\Kiri\\WhatsApp Ptt 2021-09-15 at 22.23.27(1).wav: 1\n",
      "C:/Users/Lenovo/Documents/Education/Skripsi/Dataset/Dataset_Indonesia\\Kiri\\WhatsApp Ptt 2021-09-15 at 22.23.27.wav: 1\n"
     ]
    },
    {
     "name": "stderr",
     "output_type": "stream",
     "text": [
      "C:\\Users\\Lenovo\\AppData\\Local\\Temp\\ipykernel_11612\\2861807924.py:31: FutureWarning: Pass y=[ 1.13028385e-07 -1.04574191e-07  8.10405396e-08 ...  8.73312075e-03\n",
      "  8.78946017e-03  7.88686052e-03], sr=22050 as keyword args. From version 0.10 passing these as positional arguments will result in an error\n",
      "  MFCCs = librosa.feature.mfcc(signal, sample_rate, n_mfcc=num_mfcc, n_fft=n_fft, hop_length=hop_length)\n"
     ]
    },
    {
     "name": "stdout",
     "output_type": "stream",
     "text": [
      "C:/Users/Lenovo/Documents/Education/Skripsi/Dataset/Dataset_Indonesia\\Kiri\\WhatsApp Ptt 2021-09-15 at 22.23.31(1).wav: 1\n",
      "C:/Users/Lenovo/Documents/Education/Skripsi/Dataset/Dataset_Indonesia\\Kiri\\WhatsApp Ptt 2021-09-15 at 22.23.31.wav: 1\n"
     ]
    },
    {
     "name": "stderr",
     "output_type": "stream",
     "text": [
      "C:\\Users\\Lenovo\\AppData\\Local\\Temp\\ipykernel_11612\\2861807924.py:31: FutureWarning: Pass y=[ 1.13028385e-07 -1.04574191e-07  8.10405396e-08 ... -3.12561658e-03\n",
      " -2.62422790e-03 -2.01583421e-03], sr=22050 as keyword args. From version 0.10 passing these as positional arguments will result in an error\n",
      "  MFCCs = librosa.feature.mfcc(signal, sample_rate, n_mfcc=num_mfcc, n_fft=n_fft, hop_length=hop_length)\n"
     ]
    },
    {
     "name": "stdout",
     "output_type": "stream",
     "text": [
      "C:/Users/Lenovo/Documents/Education/Skripsi/Dataset/Dataset_Indonesia\\Kiri\\WhatsApp Ptt 2021-09-15 at 22.23.36(1).wav: 1\n",
      "C:/Users/Lenovo/Documents/Education/Skripsi/Dataset/Dataset_Indonesia\\Kiri\\WhatsApp Ptt 2021-09-15 at 22.23.36.wav: 1\n"
     ]
    },
    {
     "name": "stderr",
     "output_type": "stream",
     "text": [
      "C:\\Users\\Lenovo\\AppData\\Local\\Temp\\ipykernel_11612\\2861807924.py:31: FutureWarning: Pass y=[ 1.13028385e-07 -1.04574191e-07  8.10405396e-08 ...  7.54419947e-04\n",
      " -7.86965902e-05  4.49444778e-04], sr=22050 as keyword args. From version 0.10 passing these as positional arguments will result in an error\n",
      "  MFCCs = librosa.feature.mfcc(signal, sample_rate, n_mfcc=num_mfcc, n_fft=n_fft, hop_length=hop_length)\n",
      "C:\\Users\\Lenovo\\AppData\\Local\\Temp\\ipykernel_11612\\2861807924.py:31: FutureWarning: Pass y=[ 1.13028385e-07 -1.04574191e-07  8.10405396e-08 ...  4.47546225e-03\n",
      "  3.59867699e-03  2.56201765e-03], sr=22050 as keyword args. From version 0.10 passing these as positional arguments will result in an error\n",
      "  MFCCs = librosa.feature.mfcc(signal, sample_rate, n_mfcc=num_mfcc, n_fft=n_fft, hop_length=hop_length)\n"
     ]
    },
    {
     "name": "stdout",
     "output_type": "stream",
     "text": [
      "C:/Users/Lenovo/Documents/Education/Skripsi/Dataset/Dataset_Indonesia\\Kiri\\WhatsApp Ptt 2021-09-15 at 22.23.39.wav: 1\n",
      "C:/Users/Lenovo/Documents/Education/Skripsi/Dataset/Dataset_Indonesia\\Kiri\\WhatsApp Ptt 2021-09-15 at 22.23.42.wav: 1\n"
     ]
    },
    {
     "name": "stderr",
     "output_type": "stream",
     "text": [
      "C:\\Users\\Lenovo\\AppData\\Local\\Temp\\ipykernel_11612\\2861807924.py:31: FutureWarning: Pass y=[ 1.13028385e-07 -1.04574191e-07  8.10405396e-08 ...  2.15765467e-04\n",
      " -2.08985985e-05 -4.63643635e-04], sr=22050 as keyword args. From version 0.10 passing these as positional arguments will result in an error\n",
      "  MFCCs = librosa.feature.mfcc(signal, sample_rate, n_mfcc=num_mfcc, n_fft=n_fft, hop_length=hop_length)\n",
      "C:\\Users\\Lenovo\\AppData\\Local\\Temp\\ipykernel_11612\\2861807924.py:31: FutureWarning: Pass y=[ 1.13028385e-07 -1.04574191e-07  8.10405396e-08 ... -3.16262449e-04\n",
      " -7.66378071e-04 -1.18218071e-03], sr=22050 as keyword args. From version 0.10 passing these as positional arguments will result in an error\n",
      "  MFCCs = librosa.feature.mfcc(signal, sample_rate, n_mfcc=num_mfcc, n_fft=n_fft, hop_length=hop_length)\n"
     ]
    },
    {
     "name": "stdout",
     "output_type": "stream",
     "text": [
      "C:/Users/Lenovo/Documents/Education/Skripsi/Dataset/Dataset_Indonesia\\Kiri\\WhatsApp Ptt 2021-09-15 at 22.23.46.wav: 1\n",
      "C:/Users/Lenovo/Documents/Education/Skripsi/Dataset/Dataset_Indonesia\\Kiri\\WhatsApp Ptt 2021-09-15 at 22.23.54.wav: 1\n"
     ]
    },
    {
     "name": "stderr",
     "output_type": "stream",
     "text": [
      "C:\\Users\\Lenovo\\AppData\\Local\\Temp\\ipykernel_11612\\2861807924.py:31: FutureWarning: Pass y=[ 1.13028385e-07 -1.04574191e-07  8.10405396e-08 ...  5.87926572e-03\n",
      "  6.85591111e-03  8.25671665e-03], sr=22050 as keyword args. From version 0.10 passing these as positional arguments will result in an error\n",
      "  MFCCs = librosa.feature.mfcc(signal, sample_rate, n_mfcc=num_mfcc, n_fft=n_fft, hop_length=hop_length)\n",
      "C:\\Users\\Lenovo\\AppData\\Local\\Temp\\ipykernel_11612\\2861807924.py:31: FutureWarning: Pass y=[ 1.13028385e-07 -1.04574191e-07  8.10405396e-08 ... -3.68905789e-03\n",
      " -3.80910817e-03 -3.77095211e-03], sr=22050 as keyword args. From version 0.10 passing these as positional arguments will result in an error\n",
      "  MFCCs = librosa.feature.mfcc(signal, sample_rate, n_mfcc=num_mfcc, n_fft=n_fft, hop_length=hop_length)\n"
     ]
    },
    {
     "name": "stdout",
     "output_type": "stream",
     "text": [
      "C:/Users/Lenovo/Documents/Education/Skripsi/Dataset/Dataset_Indonesia\\Kiri\\WhatsApp Ptt 2021-09-15 at 22.23.57.wav: 1\n",
      "C:/Users/Lenovo/Documents/Education/Skripsi/Dataset/Dataset_Indonesia\\Kiri\\WhatsApp Ptt 2021-09-15 at 22.24.03.wav: 1\n"
     ]
    },
    {
     "name": "stderr",
     "output_type": "stream",
     "text": [
      "C:\\Users\\Lenovo\\AppData\\Local\\Temp\\ipykernel_11612\\2861807924.py:31: FutureWarning: Pass y=[ 1.13028385e-07 -1.04574191e-07  8.10405396e-08 ... -1.28611701e-03\n",
      " -9.13049676e-04  1.23249716e-04], sr=22050 as keyword args. From version 0.10 passing these as positional arguments will result in an error\n",
      "  MFCCs = librosa.feature.mfcc(signal, sample_rate, n_mfcc=num_mfcc, n_fft=n_fft, hop_length=hop_length)\n",
      "C:\\Users\\Lenovo\\AppData\\Local\\Temp\\ipykernel_11612\\2861807924.py:31: FutureWarning: Pass y=[ 1.13028385e-07 -1.04574191e-07  8.10405396e-08 ...  1.49056708e-04\n",
      "  6.68197463e-04  8.80618638e-04], sr=22050 as keyword args. From version 0.10 passing these as positional arguments will result in an error\n",
      "  MFCCs = librosa.feature.mfcc(signal, sample_rate, n_mfcc=num_mfcc, n_fft=n_fft, hop_length=hop_length)\n"
     ]
    },
    {
     "name": "stdout",
     "output_type": "stream",
     "text": [
      "C:/Users/Lenovo/Documents/Education/Skripsi/Dataset/Dataset_Indonesia\\Kiri\\WhatsApp Ptt 2021-09-15 at 22.24.07.wav: 1\n",
      "C:/Users/Lenovo/Documents/Education/Skripsi/Dataset/Dataset_Indonesia\\Kiri\\WhatsApp Ptt 2021-09-15 at 22.24.11.wav: 1\n"
     ]
    },
    {
     "name": "stderr",
     "output_type": "stream",
     "text": [
      "C:\\Users\\Lenovo\\AppData\\Local\\Temp\\ipykernel_11612\\2861807924.py:31: FutureWarning: Pass y=[ 1.13028385e-07 -1.04574191e-07  8.10405396e-08 ...  4.02701739e-03\n",
      "  4.06682491e-03  4.01963899e-03], sr=22050 as keyword args. From version 0.10 passing these as positional arguments will result in an error\n",
      "  MFCCs = librosa.feature.mfcc(signal, sample_rate, n_mfcc=num_mfcc, n_fft=n_fft, hop_length=hop_length)\n",
      "C:\\Users\\Lenovo\\AppData\\Local\\Temp\\ipykernel_11612\\2861807924.py:31: FutureWarning: Pass y=[ 1.13028385e-07 -1.04574191e-07  8.10405396e-08 ... -4.76348121e-03\n",
      " -4.53729602e-03 -4.64151753e-03], sr=22050 as keyword args. From version 0.10 passing these as positional arguments will result in an error\n",
      "  MFCCs = librosa.feature.mfcc(signal, sample_rate, n_mfcc=num_mfcc, n_fft=n_fft, hop_length=hop_length)\n"
     ]
    },
    {
     "name": "stdout",
     "output_type": "stream",
     "text": [
      "C:/Users/Lenovo/Documents/Education/Skripsi/Dataset/Dataset_Indonesia\\Kiri\\WhatsApp Ptt 2021-09-15 at 22.24.15.wav: 1\n",
      "C:/Users/Lenovo/Documents/Education/Skripsi/Dataset/Dataset_Indonesia\\Kiri\\WhatsApp Ptt 2021-09-15 at 22.24.19.wav: 1\n"
     ]
    },
    {
     "name": "stderr",
     "output_type": "stream",
     "text": [
      "C:\\Users\\Lenovo\\AppData\\Local\\Temp\\ipykernel_11612\\2861807924.py:31: FutureWarning: Pass y=[ 1.13028385e-07 -1.04574191e-07  8.10405396e-08 ...  4.86154691e-04\n",
      "  7.65319506e-04  7.92984269e-04], sr=22050 as keyword args. From version 0.10 passing these as positional arguments will result in an error\n",
      "  MFCCs = librosa.feature.mfcc(signal, sample_rate, n_mfcc=num_mfcc, n_fft=n_fft, hop_length=hop_length)\n",
      "C:\\Users\\Lenovo\\AppData\\Local\\Temp\\ipykernel_11612\\2861807924.py:31: FutureWarning: Pass y=[ 1.13028385e-07 -1.04574191e-07  8.10405396e-08 ... -1.06458310e-02\n",
      " -9.85225569e-03 -8.02993774e-03], sr=22050 as keyword args. From version 0.10 passing these as positional arguments will result in an error\n",
      "  MFCCs = librosa.feature.mfcc(signal, sample_rate, n_mfcc=num_mfcc, n_fft=n_fft, hop_length=hop_length)\n"
     ]
    },
    {
     "name": "stdout",
     "output_type": "stream",
     "text": [
      "C:/Users/Lenovo/Documents/Education/Skripsi/Dataset/Dataset_Indonesia\\Kiri\\WhatsApp Ptt 2021-09-15 at 22.24.22.wav: 1\n",
      "C:/Users/Lenovo/Documents/Education/Skripsi/Dataset/Dataset_Indonesia\\Kiri\\WhatsApp Ptt 2021-09-15 at 22.24.25.wav: 1\n"
     ]
    },
    {
     "name": "stderr",
     "output_type": "stream",
     "text": [
      "C:\\Users\\Lenovo\\AppData\\Local\\Temp\\ipykernel_11612\\2861807924.py:31: FutureWarning: Pass y=[ 1.13028385e-07 -1.04574191e-07  8.10405396e-08 ...  5.22213173e-04\n",
      "  5.40212030e-04  1.80242889e-04], sr=22050 as keyword args. From version 0.10 passing these as positional arguments will result in an error\n",
      "  MFCCs = librosa.feature.mfcc(signal, sample_rate, n_mfcc=num_mfcc, n_fft=n_fft, hop_length=hop_length)\n",
      "C:\\Users\\Lenovo\\AppData\\Local\\Temp\\ipykernel_11612\\2861807924.py:31: FutureWarning: Pass y=[ 0.          0.          0.         ... -0.28310975 -0.22661488\n",
      " -0.18626904], sr=22050 as keyword args. From version 0.10 passing these as positional arguments will result in an error\n",
      "  MFCCs = librosa.feature.mfcc(signal, sample_rate, n_mfcc=num_mfcc, n_fft=n_fft, hop_length=hop_length)\n"
     ]
    },
    {
     "name": "stdout",
     "output_type": "stream",
     "text": [
      "C:/Users/Lenovo/Documents/Education/Skripsi/Dataset/Dataset_Indonesia\\Kiri\\WhatsApp Ptt 2021-09-15 at 22.24.29.wav: 1\n",
      "\n",
      "Processing: 'Maju'\n",
      "C:/Users/Lenovo/Documents/Education/Skripsi/Dataset/Dataset_Indonesia\\Maju\\maju 1.wav: 2\n"
     ]
    },
    {
     "name": "stderr",
     "output_type": "stream",
     "text": [
      "C:\\Users\\Lenovo\\AppData\\Local\\Temp\\ipykernel_11612\\2861807924.py:31: FutureWarning: Pass y=[ 0.          0.          0.         ... -0.10441002 -0.10380664\n",
      " -0.11781333], sr=22050 as keyword args. From version 0.10 passing these as positional arguments will result in an error\n",
      "  MFCCs = librosa.feature.mfcc(signal, sample_rate, n_mfcc=num_mfcc, n_fft=n_fft, hop_length=hop_length)\n",
      "C:\\Users\\Lenovo\\AppData\\Local\\Temp\\ipykernel_11612\\2861807924.py:31: FutureWarning: Pass y=[ 0.          0.          0.         ...  0.08024292  0.03491488\n",
      " -0.01304055], sr=22050 as keyword args. From version 0.10 passing these as positional arguments will result in an error\n",
      "  MFCCs = librosa.feature.mfcc(signal, sample_rate, n_mfcc=num_mfcc, n_fft=n_fft, hop_length=hop_length)\n"
     ]
    },
    {
     "name": "stdout",
     "output_type": "stream",
     "text": [
      "C:/Users/Lenovo/Documents/Education/Skripsi/Dataset/Dataset_Indonesia\\Maju\\maju 10.wav: 2\n",
      "C:/Users/Lenovo/Documents/Education/Skripsi/Dataset/Dataset_Indonesia\\Maju\\maju 11.wav: 2\n"
     ]
    },
    {
     "name": "stderr",
     "output_type": "stream",
     "text": [
      "C:\\Users\\Lenovo\\AppData\\Local\\Temp\\ipykernel_11612\\2861807924.py:31: FutureWarning: Pass y=[0.         0.         0.         ... 0.46415254 0.43354174 0.3975668 ], sr=22050 as keyword args. From version 0.10 passing these as positional arguments will result in an error\n",
      "  MFCCs = librosa.feature.mfcc(signal, sample_rate, n_mfcc=num_mfcc, n_fft=n_fft, hop_length=hop_length)\n",
      "C:\\Users\\Lenovo\\AppData\\Local\\Temp\\ipykernel_11612\\2861807924.py:31: FutureWarning: Pass y=[ 0.          0.          0.         ... -0.11464614 -0.08452977\n",
      " -0.05022207], sr=22050 as keyword args. From version 0.10 passing these as positional arguments will result in an error\n",
      "  MFCCs = librosa.feature.mfcc(signal, sample_rate, n_mfcc=num_mfcc, n_fft=n_fft, hop_length=hop_length)\n"
     ]
    },
    {
     "name": "stdout",
     "output_type": "stream",
     "text": [
      "C:/Users/Lenovo/Documents/Education/Skripsi/Dataset/Dataset_Indonesia\\Maju\\maju 12.wav: 2\n",
      "C:/Users/Lenovo/Documents/Education/Skripsi/Dataset/Dataset_Indonesia\\Maju\\maju 13.wav: 2\n"
     ]
    },
    {
     "name": "stderr",
     "output_type": "stream",
     "text": [
      "C:\\Users\\Lenovo\\AppData\\Local\\Temp\\ipykernel_11612\\2861807924.py:31: FutureWarning: Pass y=[ 0.          0.          0.         ... -0.24258754 -0.24219787\n",
      " -0.2395531 ], sr=22050 as keyword args. From version 0.10 passing these as positional arguments will result in an error\n",
      "  MFCCs = librosa.feature.mfcc(signal, sample_rate, n_mfcc=num_mfcc, n_fft=n_fft, hop_length=hop_length)\n",
      "C:\\Users\\Lenovo\\AppData\\Local\\Temp\\ipykernel_11612\\2861807924.py:31: FutureWarning: Pass y=[0.         0.         0.         ... 0.19368236 0.19106084 0.18366951], sr=22050 as keyword args. From version 0.10 passing these as positional arguments will result in an error\n",
      "  MFCCs = librosa.feature.mfcc(signal, sample_rate, n_mfcc=num_mfcc, n_fft=n_fft, hop_length=hop_length)\n"
     ]
    },
    {
     "name": "stdout",
     "output_type": "stream",
     "text": [
      "C:/Users/Lenovo/Documents/Education/Skripsi/Dataset/Dataset_Indonesia\\Maju\\maju 14.wav: 2\n",
      "C:/Users/Lenovo/Documents/Education/Skripsi/Dataset/Dataset_Indonesia\\Maju\\maju 15.wav: 2\n"
     ]
    },
    {
     "name": "stderr",
     "output_type": "stream",
     "text": [
      "C:\\Users\\Lenovo\\AppData\\Local\\Temp\\ipykernel_11612\\2861807924.py:31: FutureWarning: Pass y=[ 0.          0.          0.         ... -0.0146858  -0.01242226\n",
      " -0.00964396], sr=22050 as keyword args. From version 0.10 passing these as positional arguments will result in an error\n",
      "  MFCCs = librosa.feature.mfcc(signal, sample_rate, n_mfcc=num_mfcc, n_fft=n_fft, hop_length=hop_length)\n",
      "C:\\Users\\Lenovo\\AppData\\Local\\Temp\\ipykernel_11612\\2861807924.py:31: FutureWarning: Pass y=[0.         0.         0.         ... 0.06520002 0.06418625 0.05076462], sr=22050 as keyword args. From version 0.10 passing these as positional arguments will result in an error\n",
      "  MFCCs = librosa.feature.mfcc(signal, sample_rate, n_mfcc=num_mfcc, n_fft=n_fft, hop_length=hop_length)\n"
     ]
    },
    {
     "name": "stdout",
     "output_type": "stream",
     "text": [
      "C:/Users/Lenovo/Documents/Education/Skripsi/Dataset/Dataset_Indonesia\\Maju\\maju 16.wav: 2\n",
      "C:/Users/Lenovo/Documents/Education/Skripsi/Dataset/Dataset_Indonesia\\Maju\\maju 17.wav: 2\n"
     ]
    },
    {
     "name": "stderr",
     "output_type": "stream",
     "text": [
      "C:\\Users\\Lenovo\\AppData\\Local\\Temp\\ipykernel_11612\\2861807924.py:31: FutureWarning: Pass y=[ 0.          0.          0.         ... -0.07189265 -0.07740721\n",
      " -0.08589542], sr=22050 as keyword args. From version 0.10 passing these as positional arguments will result in an error\n",
      "  MFCCs = librosa.feature.mfcc(signal, sample_rate, n_mfcc=num_mfcc, n_fft=n_fft, hop_length=hop_length)\n",
      "C:\\Users\\Lenovo\\AppData\\Local\\Temp\\ipykernel_11612\\2861807924.py:31: FutureWarning: Pass y=[ 0.          0.          0.         ... -0.24766134 -0.22132812\n",
      " -0.18760312], sr=22050 as keyword args. From version 0.10 passing these as positional arguments will result in an error\n",
      "  MFCCs = librosa.feature.mfcc(signal, sample_rate, n_mfcc=num_mfcc, n_fft=n_fft, hop_length=hop_length)\n"
     ]
    },
    {
     "name": "stdout",
     "output_type": "stream",
     "text": [
      "C:/Users/Lenovo/Documents/Education/Skripsi/Dataset/Dataset_Indonesia\\Maju\\maju 18.wav: 2\n",
      "C:/Users/Lenovo/Documents/Education/Skripsi/Dataset/Dataset_Indonesia\\Maju\\maju 19.wav: 2\n"
     ]
    },
    {
     "name": "stderr",
     "output_type": "stream",
     "text": [
      "C:\\Users\\Lenovo\\AppData\\Local\\Temp\\ipykernel_11612\\2861807924.py:31: FutureWarning: Pass y=[0.         0.         0.         ... 0.08125903 0.05087914 0.00901058], sr=22050 as keyword args. From version 0.10 passing these as positional arguments will result in an error\n",
      "  MFCCs = librosa.feature.mfcc(signal, sample_rate, n_mfcc=num_mfcc, n_fft=n_fft, hop_length=hop_length)\n"
     ]
    },
    {
     "name": "stdout",
     "output_type": "stream",
     "text": [
      "C:/Users/Lenovo/Documents/Education/Skripsi/Dataset/Dataset_Indonesia\\Maju\\maju 2.wav: 2\n",
      "C:/Users/Lenovo/Documents/Education/Skripsi/Dataset/Dataset_Indonesia\\Maju\\maju 20.wav: 2\n"
     ]
    },
    {
     "name": "stderr",
     "output_type": "stream",
     "text": [
      "C:\\Users\\Lenovo\\AppData\\Local\\Temp\\ipykernel_11612\\2861807924.py:31: FutureWarning: Pass y=[ 0.          0.          0.         ... -0.25342676 -0.26531315\n",
      " -0.27758026], sr=22050 as keyword args. From version 0.10 passing these as positional arguments will result in an error\n",
      "  MFCCs = librosa.feature.mfcc(signal, sample_rate, n_mfcc=num_mfcc, n_fft=n_fft, hop_length=hop_length)\n",
      "C:\\Users\\Lenovo\\AppData\\Local\\Temp\\ipykernel_11612\\2861807924.py:31: FutureWarning: Pass y=[ 0.          0.          0.         ... -0.00050982  0.00041322\n",
      "  0.00172372], sr=22050 as keyword args. From version 0.10 passing these as positional arguments will result in an error\n",
      "  MFCCs = librosa.feature.mfcc(signal, sample_rate, n_mfcc=num_mfcc, n_fft=n_fft, hop_length=hop_length)\n"
     ]
    },
    {
     "name": "stdout",
     "output_type": "stream",
     "text": [
      "C:/Users/Lenovo/Documents/Education/Skripsi/Dataset/Dataset_Indonesia\\Maju\\maju 21.wav: 2\n"
     ]
    },
    {
     "name": "stderr",
     "output_type": "stream",
     "text": [
      "C:\\Users\\Lenovo\\AppData\\Local\\Temp\\ipykernel_11612\\2861807924.py:31: FutureWarning: Pass y=[ 0.          0.          0.         ... -0.07921059 -0.12173723\n",
      " -0.15010147], sr=22050 as keyword args. From version 0.10 passing these as positional arguments will result in an error\n",
      "  MFCCs = librosa.feature.mfcc(signal, sample_rate, n_mfcc=num_mfcc, n_fft=n_fft, hop_length=hop_length)\n",
      "C:\\Users\\Lenovo\\AppData\\Local\\Temp\\ipykernel_11612\\2861807924.py:31: FutureWarning: Pass y=[0.         0.         0.         ... 0.23085232 0.2518115  0.27025706], sr=22050 as keyword args. From version 0.10 passing these as positional arguments will result in an error\n",
      "  MFCCs = librosa.feature.mfcc(signal, sample_rate, n_mfcc=num_mfcc, n_fft=n_fft, hop_length=hop_length)\n"
     ]
    },
    {
     "name": "stdout",
     "output_type": "stream",
     "text": [
      "C:/Users/Lenovo/Documents/Education/Skripsi/Dataset/Dataset_Indonesia\\Maju\\maju 22.wav: 2\n",
      "C:/Users/Lenovo/Documents/Education/Skripsi/Dataset/Dataset_Indonesia\\Maju\\maju 23.wav: 2\n"
     ]
    },
    {
     "name": "stderr",
     "output_type": "stream",
     "text": [
      "C:\\Users\\Lenovo\\AppData\\Local\\Temp\\ipykernel_11612\\2861807924.py:31: FutureWarning: Pass y=[ 0.          0.          0.         ... -0.16840355 -0.18308946\n",
      " -0.20072713], sr=22050 as keyword args. From version 0.10 passing these as positional arguments will result in an error\n",
      "  MFCCs = librosa.feature.mfcc(signal, sample_rate, n_mfcc=num_mfcc, n_fft=n_fft, hop_length=hop_length)\n"
     ]
    },
    {
     "name": "stdout",
     "output_type": "stream",
     "text": [
      "C:/Users/Lenovo/Documents/Education/Skripsi/Dataset/Dataset_Indonesia\\Maju\\maju 24.wav: 2\n",
      "C:/Users/Lenovo/Documents/Education/Skripsi/Dataset/Dataset_Indonesia\\Maju\\maju 25.wav: 2\n"
     ]
    },
    {
     "name": "stderr",
     "output_type": "stream",
     "text": [
      "C:\\Users\\Lenovo\\AppData\\Local\\Temp\\ipykernel_11612\\2861807924.py:31: FutureWarning: Pass y=[ 2.25974631e-07 -6.67667166e-07  1.08597405e-05 ... -1.42660514e-02\n",
      "  2.79302187e-02  7.58864954e-02], sr=22050 as keyword args. From version 0.10 passing these as positional arguments will result in an error\n",
      "  MFCCs = librosa.feature.mfcc(signal, sample_rate, n_mfcc=num_mfcc, n_fft=n_fft, hop_length=hop_length)\n",
      "C:\\Users\\Lenovo\\AppData\\Local\\Temp\\ipykernel_11612\\2861807924.py:31: FutureWarning: Pass y=[ 0.          0.          0.         ...  0.01194566 -0.03441046\n",
      " -0.04199908], sr=22050 as keyword args. From version 0.10 passing these as positional arguments will result in an error\n",
      "  MFCCs = librosa.feature.mfcc(signal, sample_rate, n_mfcc=num_mfcc, n_fft=n_fft, hop_length=hop_length)\n"
     ]
    },
    {
     "name": "stdout",
     "output_type": "stream",
     "text": [
      "C:/Users/Lenovo/Documents/Education/Skripsi/Dataset/Dataset_Indonesia\\Maju\\maju 3.wav: 2\n",
      "C:/Users/Lenovo/Documents/Education/Skripsi/Dataset/Dataset_Indonesia\\Maju\\maju 4.wav: 2\n"
     ]
    },
    {
     "name": "stderr",
     "output_type": "stream",
     "text": [
      "C:\\Users\\Lenovo\\AppData\\Local\\Temp\\ipykernel_11612\\2861807924.py:31: FutureWarning: Pass y=[ 0.          0.          0.         ... -0.22092286 -0.23456794\n",
      " -0.24753088], sr=22050 as keyword args. From version 0.10 passing these as positional arguments will result in an error\n",
      "  MFCCs = librosa.feature.mfcc(signal, sample_rate, n_mfcc=num_mfcc, n_fft=n_fft, hop_length=hop_length)\n",
      "C:\\Users\\Lenovo\\AppData\\Local\\Temp\\ipykernel_11612\\2861807924.py:31: FutureWarning: Pass y=[ 0.          0.          0.         ... -0.110921   -0.09162831\n",
      " -0.07652494], sr=22050 as keyword args. From version 0.10 passing these as positional arguments will result in an error\n",
      "  MFCCs = librosa.feature.mfcc(signal, sample_rate, n_mfcc=num_mfcc, n_fft=n_fft, hop_length=hop_length)\n"
     ]
    },
    {
     "name": "stdout",
     "output_type": "stream",
     "text": [
      "C:/Users/Lenovo/Documents/Education/Skripsi/Dataset/Dataset_Indonesia\\Maju\\maju 5.wav: 2\n",
      "C:/Users/Lenovo/Documents/Education/Skripsi/Dataset/Dataset_Indonesia\\Maju\\maju 6.wav: 2\n"
     ]
    },
    {
     "name": "stderr",
     "output_type": "stream",
     "text": [
      "C:\\Users\\Lenovo\\AppData\\Local\\Temp\\ipykernel_11612\\2861807924.py:31: FutureWarning: Pass y=[0.         0.         0.         ... 0.11653424 0.08726705 0.04684214], sr=22050 as keyword args. From version 0.10 passing these as positional arguments will result in an error\n",
      "  MFCCs = librosa.feature.mfcc(signal, sample_rate, n_mfcc=num_mfcc, n_fft=n_fft, hop_length=hop_length)\n",
      "C:\\Users\\Lenovo\\AppData\\Local\\Temp\\ipykernel_11612\\2861807924.py:31: FutureWarning: Pass y=[ 0.          0.          0.         ... -0.22849654 -0.23451\n",
      " -0.22477508], sr=22050 as keyword args. From version 0.10 passing these as positional arguments will result in an error\n",
      "  MFCCs = librosa.feature.mfcc(signal, sample_rate, n_mfcc=num_mfcc, n_fft=n_fft, hop_length=hop_length)\n"
     ]
    },
    {
     "name": "stdout",
     "output_type": "stream",
     "text": [
      "C:/Users/Lenovo/Documents/Education/Skripsi/Dataset/Dataset_Indonesia\\Maju\\maju 7.wav: 2\n",
      "C:/Users/Lenovo/Documents/Education/Skripsi/Dataset/Dataset_Indonesia\\Maju\\maju 8.wav: 2\n"
     ]
    },
    {
     "name": "stderr",
     "output_type": "stream",
     "text": [
      "C:\\Users\\Lenovo\\AppData\\Local\\Temp\\ipykernel_11612\\2861807924.py:31: FutureWarning: Pass y=[0.         0.         0.         ... 0.10852309 0.09748868 0.0929592 ], sr=22050 as keyword args. From version 0.10 passing these as positional arguments will result in an error\n",
      "  MFCCs = librosa.feature.mfcc(signal, sample_rate, n_mfcc=num_mfcc, n_fft=n_fft, hop_length=hop_length)\n",
      "C:\\Users\\Lenovo\\AppData\\Local\\Temp\\ipykernel_11612\\2861807924.py:31: FutureWarning: Pass y=[ 0.          0.          0.         ... -0.08199439 -0.143433\n",
      " -0.18437228], sr=22050 as keyword args. From version 0.10 passing these as positional arguments will result in an error\n",
      "  MFCCs = librosa.feature.mfcc(signal, sample_rate, n_mfcc=num_mfcc, n_fft=n_fft, hop_length=hop_length)\n"
     ]
    },
    {
     "name": "stdout",
     "output_type": "stream",
     "text": [
      "C:/Users/Lenovo/Documents/Education/Skripsi/Dataset/Dataset_Indonesia\\Maju\\maju 9.wav: 2\n"
     ]
    },
    {
     "name": "stderr",
     "output_type": "stream",
     "text": [
      "C:\\Users\\Lenovo\\AppData\\Local\\Temp\\ipykernel_11612\\2861807924.py:31: FutureWarning: Pass y=[ 0.          0.          0.         ... -0.03828925 -0.01346539\n",
      "  0.02285009], sr=22050 as keyword args. From version 0.10 passing these as positional arguments will result in an error\n",
      "  MFCCs = librosa.feature.mfcc(signal, sample_rate, n_mfcc=num_mfcc, n_fft=n_fft, hop_length=hop_length)\n",
      "C:\\Users\\Lenovo\\AppData\\Local\\Temp\\ipykernel_11612\\2861807924.py:31: FutureWarning: Pass y=[ 4.2323830e-07 -4.6740666e-07  4.8247603e-07 ...  6.0466314e-03\n",
      "  5.3488319e-03  4.9041226e-03], sr=22050 as keyword args. From version 0.10 passing these as positional arguments will result in an error\n",
      "  MFCCs = librosa.feature.mfcc(signal, sample_rate, n_mfcc=num_mfcc, n_fft=n_fft, hop_length=hop_length)\n"
     ]
    },
    {
     "name": "stdout",
     "output_type": "stream",
     "text": [
      "C:/Users/Lenovo/Documents/Education/Skripsi/Dataset/Dataset_Indonesia\\Maju\\maju1.wav: 2\n",
      "C:/Users/Lenovo/Documents/Education/Skripsi/Dataset/Dataset_Indonesia\\Maju\\Maju10.wav: 2\n"
     ]
    },
    {
     "name": "stderr",
     "output_type": "stream",
     "text": [
      "C:\\Users\\Lenovo\\AppData\\Local\\Temp\\ipykernel_11612\\2861807924.py:31: FutureWarning: Pass y=[0.         0.         0.         ... 0.01855876 0.01199696 0.00581588], sr=22050 as keyword args. From version 0.10 passing these as positional arguments will result in an error\n",
      "  MFCCs = librosa.feature.mfcc(signal, sample_rate, n_mfcc=num_mfcc, n_fft=n_fft, hop_length=hop_length)\n",
      "C:\\Users\\Lenovo\\AppData\\Local\\Temp\\ipykernel_11612\\2861807924.py:31: FutureWarning: Pass y=[ 0.          0.          0.         ... -0.00198775  0.0020305\n",
      "  0.00705216], sr=22050 as keyword args. From version 0.10 passing these as positional arguments will result in an error\n",
      "  MFCCs = librosa.feature.mfcc(signal, sample_rate, n_mfcc=num_mfcc, n_fft=n_fft, hop_length=hop_length)\n"
     ]
    },
    {
     "name": "stdout",
     "output_type": "stream",
     "text": [
      "C:/Users/Lenovo/Documents/Education/Skripsi/Dataset/Dataset_Indonesia\\Maju\\Maju11.wav: 2\n",
      "C:/Users/Lenovo/Documents/Education/Skripsi/Dataset/Dataset_Indonesia\\Maju\\Maju12.wav: 2\n"
     ]
    },
    {
     "name": "stderr",
     "output_type": "stream",
     "text": [
      "C:\\Users\\Lenovo\\AppData\\Local\\Temp\\ipykernel_11612\\2861807924.py:31: FutureWarning: Pass y=[ 0.          0.          0.         ... -0.00464262 -0.0017533\n",
      "  0.00187605], sr=22050 as keyword args. From version 0.10 passing these as positional arguments will result in an error\n",
      "  MFCCs = librosa.feature.mfcc(signal, sample_rate, n_mfcc=num_mfcc, n_fft=n_fft, hop_length=hop_length)\n",
      "C:\\Users\\Lenovo\\AppData\\Local\\Temp\\ipykernel_11612\\2861807924.py:31: FutureWarning: Pass y=[ 1.6042191e-07 -9.3788536e-08 -2.0746096e-09 ...  1.6622742e-03\n",
      "  1.7296750e-03  1.6964489e-03], sr=22050 as keyword args. From version 0.10 passing these as positional arguments will result in an error\n",
      "  MFCCs = librosa.feature.mfcc(signal, sample_rate, n_mfcc=num_mfcc, n_fft=n_fft, hop_length=hop_length)\n"
     ]
    },
    {
     "name": "stdout",
     "output_type": "stream",
     "text": [
      "C:/Users/Lenovo/Documents/Education/Skripsi/Dataset/Dataset_Indonesia\\Maju\\Maju13.wav: 2\n",
      "C:/Users/Lenovo/Documents/Education/Skripsi/Dataset/Dataset_Indonesia\\Maju\\Maju14.wav: 2\n"
     ]
    },
    {
     "name": "stderr",
     "output_type": "stream",
     "text": [
      "C:\\Users\\Lenovo\\AppData\\Local\\Temp\\ipykernel_11612\\2861807924.py:31: FutureWarning: Pass y=[ 0.          0.          0.         ... -0.06067807 -0.06497414\n",
      " -0.06927981], sr=22050 as keyword args. From version 0.10 passing these as positional arguments will result in an error\n",
      "  MFCCs = librosa.feature.mfcc(signal, sample_rate, n_mfcc=num_mfcc, n_fft=n_fft, hop_length=hop_length)\n",
      "C:\\Users\\Lenovo\\AppData\\Local\\Temp\\ipykernel_11612\\2861807924.py:31: FutureWarning: Pass y=[ 0.          0.          0.         ... -0.06364938 -0.06331509\n",
      " -0.05839622], sr=22050 as keyword args. From version 0.10 passing these as positional arguments will result in an error\n",
      "  MFCCs = librosa.feature.mfcc(signal, sample_rate, n_mfcc=num_mfcc, n_fft=n_fft, hop_length=hop_length)\n"
     ]
    },
    {
     "name": "stdout",
     "output_type": "stream",
     "text": [
      "C:/Users/Lenovo/Documents/Education/Skripsi/Dataset/Dataset_Indonesia\\Maju\\Maju15.wav: 2\n",
      "C:/Users/Lenovo/Documents/Education/Skripsi/Dataset/Dataset_Indonesia\\Maju\\Maju16.wav: 2\n"
     ]
    },
    {
     "name": "stderr",
     "output_type": "stream",
     "text": [
      "C:\\Users\\Lenovo\\AppData\\Local\\Temp\\ipykernel_11612\\2861807924.py:31: FutureWarning: Pass y=[0.         0.         0.         ... 0.09789582 0.08774009 0.07697108], sr=22050 as keyword args. From version 0.10 passing these as positional arguments will result in an error\n",
      "  MFCCs = librosa.feature.mfcc(signal, sample_rate, n_mfcc=num_mfcc, n_fft=n_fft, hop_length=hop_length)\n"
     ]
    },
    {
     "name": "stdout",
     "output_type": "stream",
     "text": [
      "C:/Users/Lenovo/Documents/Education/Skripsi/Dataset/Dataset_Indonesia\\Maju\\Maju17.wav: 2\n",
      "C:/Users/Lenovo/Documents/Education/Skripsi/Dataset/Dataset_Indonesia\\Maju\\Maju18.wav: 2\n"
     ]
    },
    {
     "name": "stderr",
     "output_type": "stream",
     "text": [
      "C:\\Users\\Lenovo\\AppData\\Local\\Temp\\ipykernel_11612\\2861807924.py:31: FutureWarning: Pass y=[-5.4718824e-10 -1.1536357e-11  1.0349827e-09 ...  1.6267147e-02\n",
      "  1.5276684e-02  1.4317150e-02], sr=22050 as keyword args. From version 0.10 passing these as positional arguments will result in an error\n",
      "  MFCCs = librosa.feature.mfcc(signal, sample_rate, n_mfcc=num_mfcc, n_fft=n_fft, hop_length=hop_length)\n",
      "C:\\Users\\Lenovo\\AppData\\Local\\Temp\\ipykernel_11612\\2861807924.py:31: FutureWarning: Pass y=[ 0.          0.          0.         ... -0.00329755  0.00379273\n",
      "  0.01036725], sr=22050 as keyword args. From version 0.10 passing these as positional arguments will result in an error\n",
      "  MFCCs = librosa.feature.mfcc(signal, sample_rate, n_mfcc=num_mfcc, n_fft=n_fft, hop_length=hop_length)\n"
     ]
    },
    {
     "name": "stdout",
     "output_type": "stream",
     "text": [
      "C:/Users/Lenovo/Documents/Education/Skripsi/Dataset/Dataset_Indonesia\\Maju\\Maju19.wav: 2\n",
      "C:/Users/Lenovo/Documents/Education/Skripsi/Dataset/Dataset_Indonesia\\Maju\\Maju2.wav: 2\n"
     ]
    },
    {
     "name": "stderr",
     "output_type": "stream",
     "text": [
      "C:\\Users\\Lenovo\\AppData\\Local\\Temp\\ipykernel_11612\\2861807924.py:31: FutureWarning: Pass y=[0.         0.         0.         ... 0.01156467 0.01283806 0.01371144], sr=22050 as keyword args. From version 0.10 passing these as positional arguments will result in an error\n",
      "  MFCCs = librosa.feature.mfcc(signal, sample_rate, n_mfcc=num_mfcc, n_fft=n_fft, hop_length=hop_length)\n",
      "C:\\Users\\Lenovo\\AppData\\Local\\Temp\\ipykernel_11612\\2861807924.py:31: FutureWarning: Pass y=[ 0.          0.          0.         ... -0.00026355 -0.00029458\n",
      " -0.00028172], sr=22050 as keyword args. From version 0.10 passing these as positional arguments will result in an error\n",
      "  MFCCs = librosa.feature.mfcc(signal, sample_rate, n_mfcc=num_mfcc, n_fft=n_fft, hop_length=hop_length)\n"
     ]
    },
    {
     "name": "stdout",
     "output_type": "stream",
     "text": [
      "C:/Users/Lenovo/Documents/Education/Skripsi/Dataset/Dataset_Indonesia\\Maju\\Maju20.wav: 2\n",
      "C:/Users/Lenovo/Documents/Education/Skripsi/Dataset/Dataset_Indonesia\\Maju\\Maju21.wav: 2\n"
     ]
    },
    {
     "name": "stderr",
     "output_type": "stream",
     "text": [
      "C:\\Users\\Lenovo\\AppData\\Local\\Temp\\ipykernel_11612\\2861807924.py:31: FutureWarning: Pass y=[ 0.          0.          0.         ... -0.03251468 -0.03432199\n",
      " -0.03515088], sr=22050 as keyword args. From version 0.10 passing these as positional arguments will result in an error\n",
      "  MFCCs = librosa.feature.mfcc(signal, sample_rate, n_mfcc=num_mfcc, n_fft=n_fft, hop_length=hop_length)\n",
      "C:\\Users\\Lenovo\\AppData\\Local\\Temp\\ipykernel_11612\\2861807924.py:31: FutureWarning: Pass y=[-2.7490437e-09  3.7255998e-09 -4.7746678e-09 ... -1.4379939e-01\n",
      " -1.4900838e-01 -1.5192316e-01], sr=22050 as keyword args. From version 0.10 passing these as positional arguments will result in an error\n",
      "  MFCCs = librosa.feature.mfcc(signal, sample_rate, n_mfcc=num_mfcc, n_fft=n_fft, hop_length=hop_length)\n"
     ]
    },
    {
     "name": "stdout",
     "output_type": "stream",
     "text": [
      "C:/Users/Lenovo/Documents/Education/Skripsi/Dataset/Dataset_Indonesia\\Maju\\Maju22.wav: 2\n",
      "C:/Users/Lenovo/Documents/Education/Skripsi/Dataset/Dataset_Indonesia\\Maju\\Maju23.wav: 2\n"
     ]
    },
    {
     "name": "stderr",
     "output_type": "stream",
     "text": [
      "C:\\Users\\Lenovo\\AppData\\Local\\Temp\\ipykernel_11612\\2861807924.py:31: FutureWarning: Pass y=[0.         0.         0.         ... 0.00019567 0.0003155  0.00050942], sr=22050 as keyword args. From version 0.10 passing these as positional arguments will result in an error\n",
      "  MFCCs = librosa.feature.mfcc(signal, sample_rate, n_mfcc=num_mfcc, n_fft=n_fft, hop_length=hop_length)\n",
      "C:\\Users\\Lenovo\\AppData\\Local\\Temp\\ipykernel_11612\\2861807924.py:31: FutureWarning: Pass y=[0.         0.         0.         ... 0.00730195 0.01636952 0.03362228], sr=22050 as keyword args. From version 0.10 passing these as positional arguments will result in an error\n",
      "  MFCCs = librosa.feature.mfcc(signal, sample_rate, n_mfcc=num_mfcc, n_fft=n_fft, hop_length=hop_length)\n"
     ]
    },
    {
     "name": "stdout",
     "output_type": "stream",
     "text": [
      "C:/Users/Lenovo/Documents/Education/Skripsi/Dataset/Dataset_Indonesia\\Maju\\Maju24.wav: 2\n",
      "C:/Users/Lenovo/Documents/Education/Skripsi/Dataset/Dataset_Indonesia\\Maju\\Maju25.wav: 2\n"
     ]
    },
    {
     "name": "stderr",
     "output_type": "stream",
     "text": [
      "C:\\Users\\Lenovo\\AppData\\Local\\Temp\\ipykernel_11612\\2861807924.py:31: FutureWarning: Pass y=[ 0.          0.          0.         ... -0.00032328 -0.00054123\n",
      " -0.0006873 ], sr=22050 as keyword args. From version 0.10 passing these as positional arguments will result in an error\n",
      "  MFCCs = librosa.feature.mfcc(signal, sample_rate, n_mfcc=num_mfcc, n_fft=n_fft, hop_length=hop_length)\n",
      "C:\\Users\\Lenovo\\AppData\\Local\\Temp\\ipykernel_11612\\2861807924.py:31: FutureWarning: Pass y=[ 0.          0.          0.         ... -0.07441857 -0.07512961\n",
      " -0.06870031], sr=22050 as keyword args. From version 0.10 passing these as positional arguments will result in an error\n",
      "  MFCCs = librosa.feature.mfcc(signal, sample_rate, n_mfcc=num_mfcc, n_fft=n_fft, hop_length=hop_length)\n"
     ]
    },
    {
     "name": "stdout",
     "output_type": "stream",
     "text": [
      "C:/Users/Lenovo/Documents/Education/Skripsi/Dataset/Dataset_Indonesia\\Maju\\Maju3.wav: 2\n",
      "C:/Users/Lenovo/Documents/Education/Skripsi/Dataset/Dataset_Indonesia\\Maju\\Maju4.wav: 2\n"
     ]
    },
    {
     "name": "stderr",
     "output_type": "stream",
     "text": [
      "C:\\Users\\Lenovo\\AppData\\Local\\Temp\\ipykernel_11612\\2861807924.py:31: FutureWarning: Pass y=[ 0.          0.          0.         ... -0.00163488 -0.00152927\n",
      " -0.00165147], sr=22050 as keyword args. From version 0.10 passing these as positional arguments will result in an error\n",
      "  MFCCs = librosa.feature.mfcc(signal, sample_rate, n_mfcc=num_mfcc, n_fft=n_fft, hop_length=hop_length)\n",
      "C:\\Users\\Lenovo\\AppData\\Local\\Temp\\ipykernel_11612\\2861807924.py:31: FutureWarning: Pass y=[ 0.          0.          0.         ... -0.00471867 -0.0045363\n",
      " -0.00360378], sr=22050 as keyword args. From version 0.10 passing these as positional arguments will result in an error\n",
      "  MFCCs = librosa.feature.mfcc(signal, sample_rate, n_mfcc=num_mfcc, n_fft=n_fft, hop_length=hop_length)\n"
     ]
    },
    {
     "name": "stdout",
     "output_type": "stream",
     "text": [
      "C:/Users/Lenovo/Documents/Education/Skripsi/Dataset/Dataset_Indonesia\\Maju\\Maju5.wav: 2\n",
      "C:/Users/Lenovo/Documents/Education/Skripsi/Dataset/Dataset_Indonesia\\Maju\\Maju6.wav: 2\n"
     ]
    },
    {
     "name": "stderr",
     "output_type": "stream",
     "text": [
      "C:\\Users\\Lenovo\\AppData\\Local\\Temp\\ipykernel_11612\\2861807924.py:31: FutureWarning: Pass y=[0.         0.         0.         ... 0.05472926 0.04890501 0.04332324], sr=22050 as keyword args. From version 0.10 passing these as positional arguments will result in an error\n",
      "  MFCCs = librosa.feature.mfcc(signal, sample_rate, n_mfcc=num_mfcc, n_fft=n_fft, hop_length=hop_length)\n",
      "C:\\Users\\Lenovo\\AppData\\Local\\Temp\\ipykernel_11612\\2861807924.py:31: FutureWarning: Pass y=[ 0.          0.          0.         ... -0.06418715 -0.06660447\n",
      " -0.0684134 ], sr=22050 as keyword args. From version 0.10 passing these as positional arguments will result in an error\n",
      "  MFCCs = librosa.feature.mfcc(signal, sample_rate, n_mfcc=num_mfcc, n_fft=n_fft, hop_length=hop_length)\n",
      "C:\\Users\\Lenovo\\AppData\\Local\\Temp\\ipykernel_11612\\2861807924.py:31: FutureWarning: Pass y=[ 0.          0.          0.         ... -0.02657027 -0.03104402\n",
      " -0.03440407], sr=22050 as keyword args. From version 0.10 passing these as positional arguments will result in an error\n",
      "  MFCCs = librosa.feature.mfcc(signal, sample_rate, n_mfcc=num_mfcc, n_fft=n_fft, hop_length=hop_length)\n"
     ]
    },
    {
     "name": "stdout",
     "output_type": "stream",
     "text": [
      "C:/Users/Lenovo/Documents/Education/Skripsi/Dataset/Dataset_Indonesia\\Maju\\Maju7.wav: 2\n",
      "C:/Users/Lenovo/Documents/Education/Skripsi/Dataset/Dataset_Indonesia\\Maju\\Maju8.wav: 2\n"
     ]
    },
    {
     "name": "stderr",
     "output_type": "stream",
     "text": [
      "C:\\Users\\Lenovo\\AppData\\Local\\Temp\\ipykernel_11612\\2861807924.py:31: FutureWarning: Pass y=[-2.2226492e-09  1.1235171e-08 -2.3236780e-08 ... -3.5442930e-04\n",
      " -3.4525880e-04 -5.0409749e-04], sr=22050 as keyword args. From version 0.10 passing these as positional arguments will result in an error\n",
      "  MFCCs = librosa.feature.mfcc(signal, sample_rate, n_mfcc=num_mfcc, n_fft=n_fft, hop_length=hop_length)\n",
      "C:\\Users\\Lenovo\\AppData\\Local\\Temp\\ipykernel_11612\\2861807924.py:31: FutureWarning: Pass y=[0.         0.         0.         ... 0.28816324 0.24748796 0.16886874], sr=22050 as keyword args. From version 0.10 passing these as positional arguments will result in an error\n",
      "  MFCCs = librosa.feature.mfcc(signal, sample_rate, n_mfcc=num_mfcc, n_fft=n_fft, hop_length=hop_length)\n"
     ]
    },
    {
     "name": "stdout",
     "output_type": "stream",
     "text": [
      "C:/Users/Lenovo/Documents/Education/Skripsi/Dataset/Dataset_Indonesia\\Maju\\Maju9.wav: 2\n",
      "C:/Users/Lenovo/Documents/Education/Skripsi/Dataset/Dataset_Indonesia\\Maju\\Majus1.wav: 2\n"
     ]
    },
    {
     "name": "stderr",
     "output_type": "stream",
     "text": [
      "C:\\Users\\Lenovo\\AppData\\Local\\Temp\\ipykernel_11612\\2861807924.py:31: FutureWarning: Pass y=[ 0.          0.          0.         ... -0.06350807 -0.09659144\n",
      " -0.1135167 ], sr=22050 as keyword args. From version 0.10 passing these as positional arguments will result in an error\n",
      "  MFCCs = librosa.feature.mfcc(signal, sample_rate, n_mfcc=num_mfcc, n_fft=n_fft, hop_length=hop_length)\n",
      "C:\\Users\\Lenovo\\AppData\\Local\\Temp\\ipykernel_11612\\2861807924.py:31: FutureWarning: Pass y=[0.         0.         0.         ... 0.03122974 0.03317245 0.03607354], sr=22050 as keyword args. From version 0.10 passing these as positional arguments will result in an error\n",
      "  MFCCs = librosa.feature.mfcc(signal, sample_rate, n_mfcc=num_mfcc, n_fft=n_fft, hop_length=hop_length)\n"
     ]
    },
    {
     "name": "stdout",
     "output_type": "stream",
     "text": [
      "C:/Users/Lenovo/Documents/Education/Skripsi/Dataset/Dataset_Indonesia\\Maju\\Majus10.wav: 2\n",
      "C:/Users/Lenovo/Documents/Education/Skripsi/Dataset/Dataset_Indonesia\\Maju\\Majus11.wav: 2\n"
     ]
    },
    {
     "name": "stderr",
     "output_type": "stream",
     "text": [
      "C:\\Users\\Lenovo\\AppData\\Local\\Temp\\ipykernel_11612\\2861807924.py:31: FutureWarning: Pass y=[0.         0.         0.         ... 0.09435276 0.09311298 0.09329179], sr=22050 as keyword args. From version 0.10 passing these as positional arguments will result in an error\n",
      "  MFCCs = librosa.feature.mfcc(signal, sample_rate, n_mfcc=num_mfcc, n_fft=n_fft, hop_length=hop_length)\n",
      "C:\\Users\\Lenovo\\AppData\\Local\\Temp\\ipykernel_11612\\2861807924.py:31: FutureWarning: Pass y=[0.         0.         0.         ... 0.00801677 0.00795864 0.00771398], sr=22050 as keyword args. From version 0.10 passing these as positional arguments will result in an error\n",
      "  MFCCs = librosa.feature.mfcc(signal, sample_rate, n_mfcc=num_mfcc, n_fft=n_fft, hop_length=hop_length)\n"
     ]
    },
    {
     "name": "stdout",
     "output_type": "stream",
     "text": [
      "C:/Users/Lenovo/Documents/Education/Skripsi/Dataset/Dataset_Indonesia\\Maju\\Majus12.wav: 2\n",
      "C:/Users/Lenovo/Documents/Education/Skripsi/Dataset/Dataset_Indonesia\\Maju\\Majus13.wav: 2\n"
     ]
    },
    {
     "name": "stderr",
     "output_type": "stream",
     "text": [
      "C:\\Users\\Lenovo\\AppData\\Local\\Temp\\ipykernel_11612\\2861807924.py:31: FutureWarning: Pass y=[0.         0.         0.         ... 0.06387886 0.06893854 0.07303284], sr=22050 as keyword args. From version 0.10 passing these as positional arguments will result in an error\n",
      "  MFCCs = librosa.feature.mfcc(signal, sample_rate, n_mfcc=num_mfcc, n_fft=n_fft, hop_length=hop_length)\n",
      "C:\\Users\\Lenovo\\AppData\\Local\\Temp\\ipykernel_11612\\2861807924.py:31: FutureWarning: Pass y=[ 0.          0.          0.         ... -0.13610327 -0.13059129\n",
      " -0.12453614], sr=22050 as keyword args. From version 0.10 passing these as positional arguments will result in an error\n",
      "  MFCCs = librosa.feature.mfcc(signal, sample_rate, n_mfcc=num_mfcc, n_fft=n_fft, hop_length=hop_length)\n"
     ]
    },
    {
     "name": "stdout",
     "output_type": "stream",
     "text": [
      "C:/Users/Lenovo/Documents/Education/Skripsi/Dataset/Dataset_Indonesia\\Maju\\Majus14.wav: 2\n",
      "C:/Users/Lenovo/Documents/Education/Skripsi/Dataset/Dataset_Indonesia\\Maju\\Majus15.wav: 2\n"
     ]
    },
    {
     "name": "stderr",
     "output_type": "stream",
     "text": [
      "C:\\Users\\Lenovo\\AppData\\Local\\Temp\\ipykernel_11612\\2861807924.py:31: FutureWarning: Pass y=[ 0.          0.          0.         ...  0.08507773  0.03297188\n",
      " -0.00103633], sr=22050 as keyword args. From version 0.10 passing these as positional arguments will result in an error\n",
      "  MFCCs = librosa.feature.mfcc(signal, sample_rate, n_mfcc=num_mfcc, n_fft=n_fft, hop_length=hop_length)\n",
      "C:\\Users\\Lenovo\\AppData\\Local\\Temp\\ipykernel_11612\\2861807924.py:31: FutureWarning: Pass y=[ 0.          0.          0.         ... -0.0445573  -0.03874636\n",
      " -0.03699967], sr=22050 as keyword args. From version 0.10 passing these as positional arguments will result in an error\n",
      "  MFCCs = librosa.feature.mfcc(signal, sample_rate, n_mfcc=num_mfcc, n_fft=n_fft, hop_length=hop_length)\n"
     ]
    },
    {
     "name": "stdout",
     "output_type": "stream",
     "text": [
      "C:/Users/Lenovo/Documents/Education/Skripsi/Dataset/Dataset_Indonesia\\Maju\\Majus16.wav: 2\n",
      "C:/Users/Lenovo/Documents/Education/Skripsi/Dataset/Dataset_Indonesia\\Maju\\Majus17.wav: 2\n"
     ]
    },
    {
     "name": "stderr",
     "output_type": "stream",
     "text": [
      "C:\\Users\\Lenovo\\AppData\\Local\\Temp\\ipykernel_11612\\2861807924.py:31: FutureWarning: Pass y=[0.         0.         0.         ... 0.20516957 0.19268179 0.17812397], sr=22050 as keyword args. From version 0.10 passing these as positional arguments will result in an error\n",
      "  MFCCs = librosa.feature.mfcc(signal, sample_rate, n_mfcc=num_mfcc, n_fft=n_fft, hop_length=hop_length)\n"
     ]
    },
    {
     "name": "stdout",
     "output_type": "stream",
     "text": [
      "C:/Users/Lenovo/Documents/Education/Skripsi/Dataset/Dataset_Indonesia\\Maju\\Majus18.wav: 2\n"
     ]
    },
    {
     "name": "stderr",
     "output_type": "stream",
     "text": [
      "C:\\Users\\Lenovo\\AppData\\Local\\Temp\\ipykernel_11612\\2861807924.py:31: FutureWarning: Pass y=[ 0.          0.          0.         ...  0.07623547  0.03063701\n",
      " -0.02109594], sr=22050 as keyword args. From version 0.10 passing these as positional arguments will result in an error\n",
      "  MFCCs = librosa.feature.mfcc(signal, sample_rate, n_mfcc=num_mfcc, n_fft=n_fft, hop_length=hop_length)\n",
      "C:\\Users\\Lenovo\\AppData\\Local\\Temp\\ipykernel_11612\\2861807924.py:31: FutureWarning: Pass y=[0.         0.         0.         ... 0.11345916 0.1133948  0.09777639], sr=22050 as keyword args. From version 0.10 passing these as positional arguments will result in an error\n",
      "  MFCCs = librosa.feature.mfcc(signal, sample_rate, n_mfcc=num_mfcc, n_fft=n_fft, hop_length=hop_length)\n"
     ]
    },
    {
     "name": "stdout",
     "output_type": "stream",
     "text": [
      "C:/Users/Lenovo/Documents/Education/Skripsi/Dataset/Dataset_Indonesia\\Maju\\Majus19.wav: 2\n",
      "C:/Users/Lenovo/Documents/Education/Skripsi/Dataset/Dataset_Indonesia\\Maju\\Majus2.wav: 2\n"
     ]
    },
    {
     "name": "stderr",
     "output_type": "stream",
     "text": [
      "C:\\Users\\Lenovo\\AppData\\Local\\Temp\\ipykernel_11612\\2861807924.py:31: FutureWarning: Pass y=[ 0.          0.          0.         ... -0.05688038 -0.07309628\n",
      " -0.09820642], sr=22050 as keyword args. From version 0.10 passing these as positional arguments will result in an error\n",
      "  MFCCs = librosa.feature.mfcc(signal, sample_rate, n_mfcc=num_mfcc, n_fft=n_fft, hop_length=hop_length)\n",
      "C:\\Users\\Lenovo\\AppData\\Local\\Temp\\ipykernel_11612\\2861807924.py:31: FutureWarning: Pass y=[ 0.          0.          0.         ...  0.04020146  0.01465909\n",
      " -0.00729596], sr=22050 as keyword args. From version 0.10 passing these as positional arguments will result in an error\n",
      "  MFCCs = librosa.feature.mfcc(signal, sample_rate, n_mfcc=num_mfcc, n_fft=n_fft, hop_length=hop_length)\n"
     ]
    },
    {
     "name": "stdout",
     "output_type": "stream",
     "text": [
      "C:/Users/Lenovo/Documents/Education/Skripsi/Dataset/Dataset_Indonesia\\Maju\\Majus20.wav: 2\n",
      "C:/Users/Lenovo/Documents/Education/Skripsi/Dataset/Dataset_Indonesia\\Maju\\Majus21.wav: 2\n"
     ]
    },
    {
     "name": "stderr",
     "output_type": "stream",
     "text": [
      "C:\\Users\\Lenovo\\AppData\\Local\\Temp\\ipykernel_11612\\2861807924.py:31: FutureWarning: Pass y=[0.         0.         0.         ... 0.08638395 0.09013246 0.07255125], sr=22050 as keyword args. From version 0.10 passing these as positional arguments will result in an error\n",
      "  MFCCs = librosa.feature.mfcc(signal, sample_rate, n_mfcc=num_mfcc, n_fft=n_fft, hop_length=hop_length)\n",
      "C:\\Users\\Lenovo\\AppData\\Local\\Temp\\ipykernel_11612\\2861807924.py:31: FutureWarning: Pass y=[0.         0.         0.         ... 0.00664282 0.00522855 0.00386045], sr=22050 as keyword args. From version 0.10 passing these as positional arguments will result in an error\n",
      "  MFCCs = librosa.feature.mfcc(signal, sample_rate, n_mfcc=num_mfcc, n_fft=n_fft, hop_length=hop_length)\n"
     ]
    },
    {
     "name": "stdout",
     "output_type": "stream",
     "text": [
      "C:/Users/Lenovo/Documents/Education/Skripsi/Dataset/Dataset_Indonesia\\Maju\\Majus22.wav: 2\n",
      "C:/Users/Lenovo/Documents/Education/Skripsi/Dataset/Dataset_Indonesia\\Maju\\Majus23.wav: 2\n"
     ]
    },
    {
     "name": "stderr",
     "output_type": "stream",
     "text": [
      "C:\\Users\\Lenovo\\AppData\\Local\\Temp\\ipykernel_11612\\2861807924.py:31: FutureWarning: Pass y=[0.         0.         0.         ... 0.00845236 0.00768166 0.00729298], sr=22050 as keyword args. From version 0.10 passing these as positional arguments will result in an error\n",
      "  MFCCs = librosa.feature.mfcc(signal, sample_rate, n_mfcc=num_mfcc, n_fft=n_fft, hop_length=hop_length)\n",
      "C:\\Users\\Lenovo\\AppData\\Local\\Temp\\ipykernel_11612\\2861807924.py:31: FutureWarning: Pass y=[ 0.          0.          0.         ... -0.00295526  0.00238759\n",
      "  0.00714164], sr=22050 as keyword args. From version 0.10 passing these as positional arguments will result in an error\n",
      "  MFCCs = librosa.feature.mfcc(signal, sample_rate, n_mfcc=num_mfcc, n_fft=n_fft, hop_length=hop_length)\n"
     ]
    },
    {
     "name": "stdout",
     "output_type": "stream",
     "text": [
      "C:/Users/Lenovo/Documents/Education/Skripsi/Dataset/Dataset_Indonesia\\Maju\\Majus24.wav: 2\n",
      "C:/Users/Lenovo/Documents/Education/Skripsi/Dataset/Dataset_Indonesia\\Maju\\Majus25.wav: 2\n"
     ]
    },
    {
     "name": "stderr",
     "output_type": "stream",
     "text": [
      "C:\\Users\\Lenovo\\AppData\\Local\\Temp\\ipykernel_11612\\2861807924.py:31: FutureWarning: Pass y=[ 0.          0.          0.         ... -0.02185168 -0.02394492\n",
      " -0.02670187], sr=22050 as keyword args. From version 0.10 passing these as positional arguments will result in an error\n",
      "  MFCCs = librosa.feature.mfcc(signal, sample_rate, n_mfcc=num_mfcc, n_fft=n_fft, hop_length=hop_length)\n",
      "C:\\Users\\Lenovo\\AppData\\Local\\Temp\\ipykernel_11612\\2861807924.py:31: FutureWarning: Pass y=[ 0.          0.          0.         ... -0.10624444 -0.10412885\n",
      " -0.10012819], sr=22050 as keyword args. From version 0.10 passing these as positional arguments will result in an error\n",
      "  MFCCs = librosa.feature.mfcc(signal, sample_rate, n_mfcc=num_mfcc, n_fft=n_fft, hop_length=hop_length)\n"
     ]
    },
    {
     "name": "stdout",
     "output_type": "stream",
     "text": [
      "C:/Users/Lenovo/Documents/Education/Skripsi/Dataset/Dataset_Indonesia\\Maju\\Majus3.wav: 2\n",
      "C:/Users/Lenovo/Documents/Education/Skripsi/Dataset/Dataset_Indonesia\\Maju\\Majus4.wav: 2\n"
     ]
    },
    {
     "name": "stderr",
     "output_type": "stream",
     "text": [
      "C:\\Users\\Lenovo\\AppData\\Local\\Temp\\ipykernel_11612\\2861807924.py:31: FutureWarning: Pass y=[ 0.          0.          0.         ... -0.04455787 -0.04515088\n",
      " -0.04597898], sr=22050 as keyword args. From version 0.10 passing these as positional arguments will result in an error\n",
      "  MFCCs = librosa.feature.mfcc(signal, sample_rate, n_mfcc=num_mfcc, n_fft=n_fft, hop_length=hop_length)\n",
      "C:\\Users\\Lenovo\\AppData\\Local\\Temp\\ipykernel_11612\\2861807924.py:31: FutureWarning: Pass y=[ 0.          0.          0.         ... -0.03113147 -0.03043796\n",
      " -0.02956279], sr=22050 as keyword args. From version 0.10 passing these as positional arguments will result in an error\n",
      "  MFCCs = librosa.feature.mfcc(signal, sample_rate, n_mfcc=num_mfcc, n_fft=n_fft, hop_length=hop_length)\n"
     ]
    },
    {
     "name": "stdout",
     "output_type": "stream",
     "text": [
      "C:/Users/Lenovo/Documents/Education/Skripsi/Dataset/Dataset_Indonesia\\Maju\\Majus5.wav: 2\n",
      "C:/Users/Lenovo/Documents/Education/Skripsi/Dataset/Dataset_Indonesia\\Maju\\Majus6.wav: 2\n"
     ]
    },
    {
     "name": "stderr",
     "output_type": "stream",
     "text": [
      "C:\\Users\\Lenovo\\AppData\\Local\\Temp\\ipykernel_11612\\2861807924.py:31: FutureWarning: Pass y=[ 0.          0.          0.         ... -0.07394656 -0.08680467\n",
      " -0.10544124], sr=22050 as keyword args. From version 0.10 passing these as positional arguments will result in an error\n",
      "  MFCCs = librosa.feature.mfcc(signal, sample_rate, n_mfcc=num_mfcc, n_fft=n_fft, hop_length=hop_length)\n",
      "C:\\Users\\Lenovo\\AppData\\Local\\Temp\\ipykernel_11612\\2861807924.py:31: FutureWarning: Pass y=[0.         0.         0.         ... 0.11166439 0.1219653  0.12906799], sr=22050 as keyword args. From version 0.10 passing these as positional arguments will result in an error\n",
      "  MFCCs = librosa.feature.mfcc(signal, sample_rate, n_mfcc=num_mfcc, n_fft=n_fft, hop_length=hop_length)\n"
     ]
    },
    {
     "name": "stdout",
     "output_type": "stream",
     "text": [
      "C:/Users/Lenovo/Documents/Education/Skripsi/Dataset/Dataset_Indonesia\\Maju\\Majus7.wav: 2\n",
      "C:/Users/Lenovo/Documents/Education/Skripsi/Dataset/Dataset_Indonesia\\Maju\\Majus8.wav: 2\n"
     ]
    },
    {
     "name": "stderr",
     "output_type": "stream",
     "text": [
      "C:\\Users\\Lenovo\\AppData\\Local\\Temp\\ipykernel_11612\\2861807924.py:31: FutureWarning: Pass y=[ 0.          0.          0.         ...  0.03749866 -0.00286922\n",
      " -0.03648092], sr=22050 as keyword args. From version 0.10 passing these as positional arguments will result in an error\n",
      "  MFCCs = librosa.feature.mfcc(signal, sample_rate, n_mfcc=num_mfcc, n_fft=n_fft, hop_length=hop_length)\n",
      "C:\\Users\\Lenovo\\AppData\\Local\\Temp\\ipykernel_11612\\2861807924.py:31: FutureWarning: Pass y=[0.         0.         0.         ... 0.00529524 0.00542068 0.00658165], sr=22050 as keyword args. From version 0.10 passing these as positional arguments will result in an error\n",
      "  MFCCs = librosa.feature.mfcc(signal, sample_rate, n_mfcc=num_mfcc, n_fft=n_fft, hop_length=hop_length)\n"
     ]
    },
    {
     "name": "stdout",
     "output_type": "stream",
     "text": [
      "C:/Users/Lenovo/Documents/Education/Skripsi/Dataset/Dataset_Indonesia\\Maju\\Majus9.wav: 2\n",
      "C:/Users/Lenovo/Documents/Education/Skripsi/Dataset/Dataset_Indonesia\\Maju\\WhatsApp Audio 2021-09-15 at 18.35.58 (1).wav: 2\n"
     ]
    },
    {
     "name": "stderr",
     "output_type": "stream",
     "text": [
      "C:\\Users\\Lenovo\\AppData\\Local\\Temp\\ipykernel_11612\\2861807924.py:31: FutureWarning: Pass y=[0.         0.         0.         ... 0.00171766 0.00069947 0.00023446], sr=22050 as keyword args. From version 0.10 passing these as positional arguments will result in an error\n",
      "  MFCCs = librosa.feature.mfcc(signal, sample_rate, n_mfcc=num_mfcc, n_fft=n_fft, hop_length=hop_length)\n",
      "C:\\Users\\Lenovo\\AppData\\Local\\Temp\\ipykernel_11612\\2861807924.py:31: FutureWarning: Pass y=[ 0.          0.          0.         ... -0.0006901   0.00064492\n",
      "  0.00221959], sr=22050 as keyword args. From version 0.10 passing these as positional arguments will result in an error\n",
      "  MFCCs = librosa.feature.mfcc(signal, sample_rate, n_mfcc=num_mfcc, n_fft=n_fft, hop_length=hop_length)\n"
     ]
    },
    {
     "name": "stdout",
     "output_type": "stream",
     "text": [
      "C:/Users/Lenovo/Documents/Education/Skripsi/Dataset/Dataset_Indonesia\\Maju\\WhatsApp Audio 2021-09-15 at 18.35.58 (10).wav: 2\n",
      "C:/Users/Lenovo/Documents/Education/Skripsi/Dataset/Dataset_Indonesia\\Maju\\WhatsApp Audio 2021-09-15 at 18.35.58 (11).wav: 2\n"
     ]
    },
    {
     "name": "stderr",
     "output_type": "stream",
     "text": [
      "C:\\Users\\Lenovo\\AppData\\Local\\Temp\\ipykernel_11612\\2861807924.py:31: FutureWarning: Pass y=[ 0.          0.          0.         ... -0.00537939 -0.0050628\n",
      " -0.00479573], sr=22050 as keyword args. From version 0.10 passing these as positional arguments will result in an error\n",
      "  MFCCs = librosa.feature.mfcc(signal, sample_rate, n_mfcc=num_mfcc, n_fft=n_fft, hop_length=hop_length)\n",
      "C:\\Users\\Lenovo\\AppData\\Local\\Temp\\ipykernel_11612\\2861807924.py:31: FutureWarning: Pass y=[ 0.          0.          0.         ... -0.01265773 -0.01203246\n",
      " -0.01110883], sr=22050 as keyword args. From version 0.10 passing these as positional arguments will result in an error\n",
      "  MFCCs = librosa.feature.mfcc(signal, sample_rate, n_mfcc=num_mfcc, n_fft=n_fft, hop_length=hop_length)\n"
     ]
    },
    {
     "name": "stdout",
     "output_type": "stream",
     "text": [
      "C:/Users/Lenovo/Documents/Education/Skripsi/Dataset/Dataset_Indonesia\\Maju\\WhatsApp Audio 2021-09-15 at 18.35.58 (12).wav: 2\n",
      "C:/Users/Lenovo/Documents/Education/Skripsi/Dataset/Dataset_Indonesia\\Maju\\WhatsApp Audio 2021-09-15 at 18.35.58 (13).wav: 2\n"
     ]
    },
    {
     "name": "stderr",
     "output_type": "stream",
     "text": [
      "C:\\Users\\Lenovo\\AppData\\Local\\Temp\\ipykernel_11612\\2861807924.py:31: FutureWarning: Pass y=[ 0.          0.          0.         ... -0.0019765  -0.00168183\n",
      " -0.0024302 ], sr=22050 as keyword args. From version 0.10 passing these as positional arguments will result in an error\n",
      "  MFCCs = librosa.feature.mfcc(signal, sample_rate, n_mfcc=num_mfcc, n_fft=n_fft, hop_length=hop_length)\n",
      "C:\\Users\\Lenovo\\AppData\\Local\\Temp\\ipykernel_11612\\2861807924.py:31: FutureWarning: Pass y=[ 0.          0.          0.         ... -0.01115461 -0.01362348\n",
      " -0.01491786], sr=22050 as keyword args. From version 0.10 passing these as positional arguments will result in an error\n",
      "  MFCCs = librosa.feature.mfcc(signal, sample_rate, n_mfcc=num_mfcc, n_fft=n_fft, hop_length=hop_length)\n"
     ]
    },
    {
     "name": "stdout",
     "output_type": "stream",
     "text": [
      "C:/Users/Lenovo/Documents/Education/Skripsi/Dataset/Dataset_Indonesia\\Maju\\WhatsApp Audio 2021-09-15 at 18.35.58 (14).wav: 2\n",
      "C:/Users/Lenovo/Documents/Education/Skripsi/Dataset/Dataset_Indonesia\\Maju\\WhatsApp Audio 2021-09-15 at 18.35.58 (15).wav: 2\n"
     ]
    },
    {
     "name": "stderr",
     "output_type": "stream",
     "text": [
      "C:\\Users\\Lenovo\\AppData\\Local\\Temp\\ipykernel_11612\\2861807924.py:31: FutureWarning: Pass y=[ 0.          0.          0.         ... -0.00364486 -0.00489274\n",
      " -0.00573385], sr=22050 as keyword args. From version 0.10 passing these as positional arguments will result in an error\n",
      "  MFCCs = librosa.feature.mfcc(signal, sample_rate, n_mfcc=num_mfcc, n_fft=n_fft, hop_length=hop_length)\n",
      "C:\\Users\\Lenovo\\AppData\\Local\\Temp\\ipykernel_11612\\2861807924.py:31: FutureWarning: Pass y=[0.         0.         0.         ... 0.00149925 0.0015964  0.00110553], sr=22050 as keyword args. From version 0.10 passing these as positional arguments will result in an error\n",
      "  MFCCs = librosa.feature.mfcc(signal, sample_rate, n_mfcc=num_mfcc, n_fft=n_fft, hop_length=hop_length)\n"
     ]
    },
    {
     "name": "stdout",
     "output_type": "stream",
     "text": [
      "C:/Users/Lenovo/Documents/Education/Skripsi/Dataset/Dataset_Indonesia\\Maju\\WhatsApp Audio 2021-09-15 at 18.35.58 (16).wav: 2\n",
      "C:/Users/Lenovo/Documents/Education/Skripsi/Dataset/Dataset_Indonesia\\Maju\\WhatsApp Audio 2021-09-15 at 18.35.58 (17).wav: 2\n"
     ]
    },
    {
     "name": "stderr",
     "output_type": "stream",
     "text": [
      "C:\\Users\\Lenovo\\AppData\\Local\\Temp\\ipykernel_11612\\2861807924.py:31: FutureWarning: Pass y=[ 0.          0.          0.         ... -0.00391058 -0.00297521\n",
      " -0.00237425], sr=22050 as keyword args. From version 0.10 passing these as positional arguments will result in an error\n",
      "  MFCCs = librosa.feature.mfcc(signal, sample_rate, n_mfcc=num_mfcc, n_fft=n_fft, hop_length=hop_length)\n",
      "C:\\Users\\Lenovo\\AppData\\Local\\Temp\\ipykernel_11612\\2861807924.py:31: FutureWarning: Pass y=[0.         0.         0.         ... 0.01165491 0.01145013 0.01136429], sr=22050 as keyword args. From version 0.10 passing these as positional arguments will result in an error\n",
      "  MFCCs = librosa.feature.mfcc(signal, sample_rate, n_mfcc=num_mfcc, n_fft=n_fft, hop_length=hop_length)\n"
     ]
    },
    {
     "name": "stdout",
     "output_type": "stream",
     "text": [
      "C:/Users/Lenovo/Documents/Education/Skripsi/Dataset/Dataset_Indonesia\\Maju\\WhatsApp Audio 2021-09-15 at 18.35.58 (18).wav: 2\n",
      "C:/Users/Lenovo/Documents/Education/Skripsi/Dataset/Dataset_Indonesia\\Maju\\WhatsApp Audio 2021-09-15 at 18.35.58 (19).wav: 2\n"
     ]
    },
    {
     "name": "stderr",
     "output_type": "stream",
     "text": [
      "C:\\Users\\Lenovo\\AppData\\Local\\Temp\\ipykernel_11612\\2861807924.py:31: FutureWarning: Pass y=[ 0.0000000e+00  0.0000000e+00  0.0000000e+00 ... -2.0932117e-04\n",
      "  6.8799700e-06  1.8841129e-03], sr=22050 as keyword args. From version 0.10 passing these as positional arguments will result in an error\n",
      "  MFCCs = librosa.feature.mfcc(signal, sample_rate, n_mfcc=num_mfcc, n_fft=n_fft, hop_length=hop_length)\n",
      "C:\\Users\\Lenovo\\AppData\\Local\\Temp\\ipykernel_11612\\2861807924.py:31: FutureWarning: Pass y=[0.         0.         0.         ... 0.00437221 0.00298332 0.00102663], sr=22050 as keyword args. From version 0.10 passing these as positional arguments will result in an error\n",
      "  MFCCs = librosa.feature.mfcc(signal, sample_rate, n_mfcc=num_mfcc, n_fft=n_fft, hop_length=hop_length)\n"
     ]
    },
    {
     "name": "stdout",
     "output_type": "stream",
     "text": [
      "C:/Users/Lenovo/Documents/Education/Skripsi/Dataset/Dataset_Indonesia\\Maju\\WhatsApp Audio 2021-09-15 at 18.35.58 (2).wav: 2\n",
      "C:/Users/Lenovo/Documents/Education/Skripsi/Dataset/Dataset_Indonesia\\Maju\\WhatsApp Audio 2021-09-15 at 18.35.58 (20).wav: 2\n"
     ]
    },
    {
     "name": "stderr",
     "output_type": "stream",
     "text": [
      "C:\\Users\\Lenovo\\AppData\\Local\\Temp\\ipykernel_11612\\2861807924.py:31: FutureWarning: Pass y=[ 0.          0.          0.         ... -0.00346077 -0.00353158\n",
      " -0.00398547], sr=22050 as keyword args. From version 0.10 passing these as positional arguments will result in an error\n",
      "  MFCCs = librosa.feature.mfcc(signal, sample_rate, n_mfcc=num_mfcc, n_fft=n_fft, hop_length=hop_length)\n"
     ]
    },
    {
     "name": "stdout",
     "output_type": "stream",
     "text": [
      "C:/Users/Lenovo/Documents/Education/Skripsi/Dataset/Dataset_Indonesia\\Maju\\WhatsApp Audio 2021-09-15 at 18.35.58 (3).wav: 2\n",
      "C:/Users/Lenovo/Documents/Education/Skripsi/Dataset/Dataset_Indonesia\\Maju\\WhatsApp Audio 2021-09-15 at 18.35.58 (4).wav: 2\n"
     ]
    },
    {
     "name": "stderr",
     "output_type": "stream",
     "text": [
      "C:\\Users\\Lenovo\\AppData\\Local\\Temp\\ipykernel_11612\\2861807924.py:31: FutureWarning: Pass y=[0.         0.         0.         ... 0.02370943 0.02145053 0.0190188 ], sr=22050 as keyword args. From version 0.10 passing these as positional arguments will result in an error\n",
      "  MFCCs = librosa.feature.mfcc(signal, sample_rate, n_mfcc=num_mfcc, n_fft=n_fft, hop_length=hop_length)\n",
      "C:\\Users\\Lenovo\\AppData\\Local\\Temp\\ipykernel_11612\\2861807924.py:31: FutureWarning: Pass y=[0.         0.         0.         ... 0.00168795 0.00303261 0.00390391], sr=22050 as keyword args. From version 0.10 passing these as positional arguments will result in an error\n",
      "  MFCCs = librosa.feature.mfcc(signal, sample_rate, n_mfcc=num_mfcc, n_fft=n_fft, hop_length=hop_length)\n"
     ]
    },
    {
     "name": "stdout",
     "output_type": "stream",
     "text": [
      "C:/Users/Lenovo/Documents/Education/Skripsi/Dataset/Dataset_Indonesia\\Maju\\WhatsApp Audio 2021-09-15 at 18.35.58 (5).wav: 2\n",
      "C:/Users/Lenovo/Documents/Education/Skripsi/Dataset/Dataset_Indonesia\\Maju\\WhatsApp Audio 2021-09-15 at 18.35.58 (6).wav: 2\n"
     ]
    },
    {
     "name": "stderr",
     "output_type": "stream",
     "text": [
      "C:\\Users\\Lenovo\\AppData\\Local\\Temp\\ipykernel_11612\\2861807924.py:31: FutureWarning: Pass y=[ 0.          0.          0.         ... -0.02169662 -0.02296195\n",
      " -0.01939412], sr=22050 as keyword args. From version 0.10 passing these as positional arguments will result in an error\n",
      "  MFCCs = librosa.feature.mfcc(signal, sample_rate, n_mfcc=num_mfcc, n_fft=n_fft, hop_length=hop_length)\n",
      "C:\\Users\\Lenovo\\AppData\\Local\\Temp\\ipykernel_11612\\2861807924.py:31: FutureWarning: Pass y=[0.         0.         0.         ... 0.00110681 0.00031565 0.00052241], sr=22050 as keyword args. From version 0.10 passing these as positional arguments will result in an error\n",
      "  MFCCs = librosa.feature.mfcc(signal, sample_rate, n_mfcc=num_mfcc, n_fft=n_fft, hop_length=hop_length)\n"
     ]
    },
    {
     "name": "stdout",
     "output_type": "stream",
     "text": [
      "C:/Users/Lenovo/Documents/Education/Skripsi/Dataset/Dataset_Indonesia\\Maju\\WhatsApp Audio 2021-09-15 at 18.35.58 (7).wav: 2\n",
      "C:/Users/Lenovo/Documents/Education/Skripsi/Dataset/Dataset_Indonesia\\Maju\\WhatsApp Audio 2021-09-15 at 18.35.58 (8).wav: 2\n"
     ]
    },
    {
     "name": "stderr",
     "output_type": "stream",
     "text": [
      "C:\\Users\\Lenovo\\AppData\\Local\\Temp\\ipykernel_11612\\2861807924.py:31: FutureWarning: Pass y=[0.         0.         0.         ... 0.01004275 0.01006672 0.00922473], sr=22050 as keyword args. From version 0.10 passing these as positional arguments will result in an error\n",
      "  MFCCs = librosa.feature.mfcc(signal, sample_rate, n_mfcc=num_mfcc, n_fft=n_fft, hop_length=hop_length)\n",
      "C:\\Users\\Lenovo\\AppData\\Local\\Temp\\ipykernel_11612\\2861807924.py:31: FutureWarning: Pass y=[0.         0.         0.         ... 0.00124158 0.00186014 0.00114561], sr=22050 as keyword args. From version 0.10 passing these as positional arguments will result in an error\n",
      "  MFCCs = librosa.feature.mfcc(signal, sample_rate, n_mfcc=num_mfcc, n_fft=n_fft, hop_length=hop_length)\n"
     ]
    },
    {
     "name": "stdout",
     "output_type": "stream",
     "text": [
      "C:/Users/Lenovo/Documents/Education/Skripsi/Dataset/Dataset_Indonesia\\Maju\\WhatsApp Audio 2021-09-15 at 18.35.58 (9).wav: 2\n",
      "C:/Users/Lenovo/Documents/Education/Skripsi/Dataset/Dataset_Indonesia\\Maju\\WhatsApp Audio 2021-09-15 at 18.35.58.wav: 2\n"
     ]
    },
    {
     "name": "stderr",
     "output_type": "stream",
     "text": [
      "C:\\Users\\Lenovo\\AppData\\Local\\Temp\\ipykernel_11612\\2861807924.py:31: FutureWarning: Pass y=[ 0.          0.          0.         ... -0.00325899 -0.0030425\n",
      " -0.00632945], sr=22050 as keyword args. From version 0.10 passing these as positional arguments will result in an error\n",
      "  MFCCs = librosa.feature.mfcc(signal, sample_rate, n_mfcc=num_mfcc, n_fft=n_fft, hop_length=hop_length)\n",
      "C:\\Users\\Lenovo\\AppData\\Local\\Temp\\ipykernel_11612\\2861807924.py:31: FutureWarning: Pass y=[ 0.          0.          0.         ... -0.006593   -0.00741396\n",
      " -0.00695337], sr=22050 as keyword args. From version 0.10 passing these as positional arguments will result in an error\n",
      "  MFCCs = librosa.feature.mfcc(signal, sample_rate, n_mfcc=num_mfcc, n_fft=n_fft, hop_length=hop_length)\n"
     ]
    },
    {
     "name": "stdout",
     "output_type": "stream",
     "text": [
      "C:/Users/Lenovo/Documents/Education/Skripsi/Dataset/Dataset_Indonesia\\Maju\\WhatsApp Audio 2021-09-15 at 18.35.59 (1).wav: 2\n",
      "C:/Users/Lenovo/Documents/Education/Skripsi/Dataset/Dataset_Indonesia\\Maju\\WhatsApp Audio 2021-09-15 at 18.35.59 (2).wav: 2"
     ]
    },
    {
     "name": "stderr",
     "output_type": "stream",
     "text": [
      "C:\\Users\\Lenovo\\AppData\\Local\\Temp\\ipykernel_11612\\2861807924.py:31: FutureWarning: Pass y=[ 0.          0.          0.         ... -0.14064786 -0.13852774\n",
      " -0.13350613], sr=22050 as keyword args. From version 0.10 passing these as positional arguments will result in an error\n",
      "  MFCCs = librosa.feature.mfcc(signal, sample_rate, n_mfcc=num_mfcc, n_fft=n_fft, hop_length=hop_length)\n",
      "C:\\Users\\Lenovo\\AppData\\Local\\Temp\\ipykernel_11612\\2861807924.py:31: FutureWarning: Pass y=[ 0.          0.          0.         ... -0.03361926 -0.03452645\n",
      " -0.03362032], sr=22050 as keyword args. From version 0.10 passing these as positional arguments will result in an error\n",
      "  MFCCs = librosa.feature.mfcc(signal, sample_rate, n_mfcc=num_mfcc, n_fft=n_fft, hop_length=hop_length)\n"
     ]
    },
    {
     "name": "stdout",
     "output_type": "stream",
     "text": [
      "\n",
      "C:/Users/Lenovo/Documents/Education/Skripsi/Dataset/Dataset_Indonesia\\Maju\\WhatsApp Audio 2021-09-15 at 18.35.59 (3).wav: 2\n"
     ]
    },
    {
     "name": "stderr",
     "output_type": "stream",
     "text": [
      "C:\\Users\\Lenovo\\AppData\\Local\\Temp\\ipykernel_11612\\2861807924.py:31: FutureWarning: Pass y=[ 0.          0.          0.         ... -0.00201888 -0.00200098\n",
      " -0.00297262], sr=22050 as keyword args. From version 0.10 passing these as positional arguments will result in an error\n",
      "  MFCCs = librosa.feature.mfcc(signal, sample_rate, n_mfcc=num_mfcc, n_fft=n_fft, hop_length=hop_length)\n"
     ]
    },
    {
     "name": "stdout",
     "output_type": "stream",
     "text": [
      "C:/Users/Lenovo/Documents/Education/Skripsi/Dataset/Dataset_Indonesia\\Maju\\WhatsApp Audio 2021-09-15 at 18.35.59.wav: 2\n",
      "C:/Users/Lenovo/Documents/Education/Skripsi/Dataset/Dataset_Indonesia\\Maju\\WhatsApp Ptt 2021-09-15 at 17.05.26.wav: 2\n"
     ]
    },
    {
     "name": "stderr",
     "output_type": "stream",
     "text": [
      "C:\\Users\\Lenovo\\AppData\\Local\\Temp\\ipykernel_11612\\2861807924.py:31: FutureWarning: Pass y=[ 1.13028385e-07 -1.04574191e-07  8.10405396e-08 ... -6.55834447e-05\n",
      " -2.39150657e-04 -5.81455883e-04], sr=22050 as keyword args. From version 0.10 passing these as positional arguments will result in an error\n",
      "  MFCCs = librosa.feature.mfcc(signal, sample_rate, n_mfcc=num_mfcc, n_fft=n_fft, hop_length=hop_length)\n",
      "C:\\Users\\Lenovo\\AppData\\Local\\Temp\\ipykernel_11612\\2861807924.py:31: FutureWarning: Pass y=[ 1.13028385e-07 -1.04574191e-07  8.10405396e-08 ...  2.19173473e-03\n",
      "  2.42483965e-03  2.20073410e-03], sr=22050 as keyword args. From version 0.10 passing these as positional arguments will result in an error\n",
      "  MFCCs = librosa.feature.mfcc(signal, sample_rate, n_mfcc=num_mfcc, n_fft=n_fft, hop_length=hop_length)\n"
     ]
    },
    {
     "name": "stdout",
     "output_type": "stream",
     "text": [
      "C:/Users/Lenovo/Documents/Education/Skripsi/Dataset/Dataset_Indonesia\\Maju\\WhatsApp Ptt 2021-09-15 at 17.05.50.wav: 2\n",
      "C:/Users/Lenovo/Documents/Education/Skripsi/Dataset/Dataset_Indonesia\\Maju\\WhatsApp Ptt 2021-09-15 at 17.05.57.wav: 2\n"
     ]
    },
    {
     "name": "stderr",
     "output_type": "stream",
     "text": [
      "C:\\Users\\Lenovo\\AppData\\Local\\Temp\\ipykernel_11612\\2861807924.py:31: FutureWarning: Pass y=[ 1.13028385e-07 -1.04574191e-07  8.10405396e-08 ... -2.26906799e-02\n",
      " -2.40914952e-02 -2.51781903e-02], sr=22050 as keyword args. From version 0.10 passing these as positional arguments will result in an error\n",
      "  MFCCs = librosa.feature.mfcc(signal, sample_rate, n_mfcc=num_mfcc, n_fft=n_fft, hop_length=hop_length)\n",
      "C:\\Users\\Lenovo\\AppData\\Local\\Temp\\ipykernel_11612\\2861807924.py:31: FutureWarning: Pass y=[ 1.13028385e-07 -1.04574191e-07  8.10405396e-08 ... -1.90132502e-02\n",
      " -1.99268255e-02 -2.02704147e-02], sr=22050 as keyword args. From version 0.10 passing these as positional arguments will result in an error\n",
      "  MFCCs = librosa.feature.mfcc(signal, sample_rate, n_mfcc=num_mfcc, n_fft=n_fft, hop_length=hop_length)\n"
     ]
    },
    {
     "name": "stdout",
     "output_type": "stream",
     "text": [
      "C:/Users/Lenovo/Documents/Education/Skripsi/Dataset/Dataset_Indonesia\\Maju\\WhatsApp Ptt 2021-09-15 at 17.06.13.wav: 2\n",
      "C:/Users/Lenovo/Documents/Education/Skripsi/Dataset/Dataset_Indonesia\\Maju\\WhatsApp Ptt 2021-09-15 at 17.06.19.wav: 2\n"
     ]
    },
    {
     "name": "stderr",
     "output_type": "stream",
     "text": [
      "C:\\Users\\Lenovo\\AppData\\Local\\Temp\\ipykernel_11612\\2861807924.py:31: FutureWarning: Pass y=[ 1.13028385e-07 -1.04574191e-07  8.10405396e-08 ...  5.76772681e-03\n",
      "  5.19726006e-03  4.82742349e-03], sr=22050 as keyword args. From version 0.10 passing these as positional arguments will result in an error\n",
      "  MFCCs = librosa.feature.mfcc(signal, sample_rate, n_mfcc=num_mfcc, n_fft=n_fft, hop_length=hop_length)\n",
      "C:\\Users\\Lenovo\\AppData\\Local\\Temp\\ipykernel_11612\\2861807924.py:31: FutureWarning: Pass y=[ 1.13028385e-07 -1.04574191e-07  8.10405396e-08 ...  7.10779987e-03\n",
      "  6.41202787e-04 -5.37691545e-03], sr=22050 as keyword args. From version 0.10 passing these as positional arguments will result in an error\n",
      "  MFCCs = librosa.feature.mfcc(signal, sample_rate, n_mfcc=num_mfcc, n_fft=n_fft, hop_length=hop_length)\n"
     ]
    },
    {
     "name": "stdout",
     "output_type": "stream",
     "text": [
      "C:/Users/Lenovo/Documents/Education/Skripsi/Dataset/Dataset_Indonesia\\Maju\\WhatsApp Ptt 2021-09-15 at 17.06.27.wav: 2\n",
      "C:/Users/Lenovo/Documents/Education/Skripsi/Dataset/Dataset_Indonesia\\Maju\\WhatsApp Ptt 2021-09-15 at 17.06.48.wav: 2\n"
     ]
    },
    {
     "name": "stderr",
     "output_type": "stream",
     "text": [
      "C:\\Users\\Lenovo\\AppData\\Local\\Temp\\ipykernel_11612\\2861807924.py:31: FutureWarning: Pass y=[ 1.13028385e-07 -1.04574191e-07  8.10405396e-08 ...  2.28089809e-01\n",
      "  2.21581206e-01  2.12323219e-01], sr=22050 as keyword args. From version 0.10 passing these as positional arguments will result in an error\n",
      "  MFCCs = librosa.feature.mfcc(signal, sample_rate, n_mfcc=num_mfcc, n_fft=n_fft, hop_length=hop_length)\n",
      "C:\\Users\\Lenovo\\AppData\\Local\\Temp\\ipykernel_11612\\2861807924.py:31: FutureWarning: Pass y=[ 1.13028385e-07 -1.04574191e-07  8.10405396e-08 ... -1.02619184e-02\n",
      " -1.02471393e-02 -1.00952107e-02], sr=22050 as keyword args. From version 0.10 passing these as positional arguments will result in an error\n",
      "  MFCCs = librosa.feature.mfcc(signal, sample_rate, n_mfcc=num_mfcc, n_fft=n_fft, hop_length=hop_length)\n"
     ]
    },
    {
     "name": "stdout",
     "output_type": "stream",
     "text": [
      "C:/Users/Lenovo/Documents/Education/Skripsi/Dataset/Dataset_Indonesia\\Maju\\WhatsApp Ptt 2021-09-15 at 17.06.51.wav: 2\n",
      "C:/Users/Lenovo/Documents/Education/Skripsi/Dataset/Dataset_Indonesia\\Maju\\WhatsApp Ptt 2021-09-15 at 17.06.55.wav: 2\n"
     ]
    },
    {
     "name": "stderr",
     "output_type": "stream",
     "text": [
      "C:\\Users\\Lenovo\\AppData\\Local\\Temp\\ipykernel_11612\\2861807924.py:31: FutureWarning: Pass y=[ 1.13028385e-07 -1.04574191e-07  8.10405396e-08 ... -6.68306416e-03\n",
      " -8.39893892e-03 -1.04612429e-02], sr=22050 as keyword args. From version 0.10 passing these as positional arguments will result in an error\n",
      "  MFCCs = librosa.feature.mfcc(signal, sample_rate, n_mfcc=num_mfcc, n_fft=n_fft, hop_length=hop_length)\n",
      "C:\\Users\\Lenovo\\AppData\\Local\\Temp\\ipykernel_11612\\2861807924.py:31: FutureWarning: Pass y=[ 1.13028385e-07 -1.04574191e-07  8.10405396e-08 ... -5.10633923e-04\n",
      " -1.33682601e-03 -1.85565068e-03], sr=22050 as keyword args. From version 0.10 passing these as positional arguments will result in an error\n",
      "  MFCCs = librosa.feature.mfcc(signal, sample_rate, n_mfcc=num_mfcc, n_fft=n_fft, hop_length=hop_length)\n"
     ]
    },
    {
     "name": "stdout",
     "output_type": "stream",
     "text": [
      "C:/Users/Lenovo/Documents/Education/Skripsi/Dataset/Dataset_Indonesia\\Maju\\WhatsApp Ptt 2021-09-15 at 17.07.01.wav: 2\n",
      "C:/Users/Lenovo/Documents/Education/Skripsi/Dataset/Dataset_Indonesia\\Maju\\WhatsApp Ptt 2021-09-15 at 17.07.07.wav: 2\n"
     ]
    },
    {
     "name": "stderr",
     "output_type": "stream",
     "text": [
      "C:\\Users\\Lenovo\\AppData\\Local\\Temp\\ipykernel_11612\\2861807924.py:31: FutureWarning: Pass y=[ 1.13028385e-07 -1.04574191e-07  8.10405396e-08 ...  1.65033352e-03\n",
      "  1.52596866e-03  1.37564621e-03], sr=22050 as keyword args. From version 0.10 passing these as positional arguments will result in an error\n",
      "  MFCCs = librosa.feature.mfcc(signal, sample_rate, n_mfcc=num_mfcc, n_fft=n_fft, hop_length=hop_length)\n",
      "C:\\Users\\Lenovo\\AppData\\Local\\Temp\\ipykernel_11612\\2861807924.py:31: FutureWarning: Pass y=[ 1.13028385e-07 -1.04574191e-07  8.10405396e-08 ...  6.38638288e-02\n",
      "  6.30850941e-02  6.48130625e-02], sr=22050 as keyword args. From version 0.10 passing these as positional arguments will result in an error\n",
      "  MFCCs = librosa.feature.mfcc(signal, sample_rate, n_mfcc=num_mfcc, n_fft=n_fft, hop_length=hop_length)\n"
     ]
    },
    {
     "name": "stdout",
     "output_type": "stream",
     "text": [
      "C:/Users/Lenovo/Documents/Education/Skripsi/Dataset/Dataset_Indonesia\\Maju\\WhatsApp Ptt 2021-09-15 at 17.07.08.wav: 2\n",
      "C:/Users/Lenovo/Documents/Education/Skripsi/Dataset/Dataset_Indonesia\\Maju\\WhatsApp Ptt 2021-09-15 at 17.07.14.wav: 2\n"
     ]
    },
    {
     "name": "stderr",
     "output_type": "stream",
     "text": [
      "C:\\Users\\Lenovo\\AppData\\Local\\Temp\\ipykernel_11612\\2861807924.py:31: FutureWarning: Pass y=[ 1.13028385e-07 -1.04574191e-07  8.10405396e-08 ... -2.58505903e-02\n",
      " -2.56657656e-02 -2.53903959e-02], sr=22050 as keyword args. From version 0.10 passing these as positional arguments will result in an error\n",
      "  MFCCs = librosa.feature.mfcc(signal, sample_rate, n_mfcc=num_mfcc, n_fft=n_fft, hop_length=hop_length)\n",
      "C:\\Users\\Lenovo\\AppData\\Local\\Temp\\ipykernel_11612\\2861807924.py:31: FutureWarning: Pass y=[ 1.13028385e-07 -1.04574191e-07  8.10405396e-08 ... -3.92826134e-03\n",
      " -3.42910993e-03 -3.01621458e-03], sr=22050 as keyword args. From version 0.10 passing these as positional arguments will result in an error\n",
      "  MFCCs = librosa.feature.mfcc(signal, sample_rate, n_mfcc=num_mfcc, n_fft=n_fft, hop_length=hop_length)\n"
     ]
    },
    {
     "name": "stdout",
     "output_type": "stream",
     "text": [
      "C:/Users/Lenovo/Documents/Education/Skripsi/Dataset/Dataset_Indonesia\\Maju\\WhatsApp Ptt 2021-09-15 at 17.07.22.wav: 2\n",
      "C:/Users/Lenovo/Documents/Education/Skripsi/Dataset/Dataset_Indonesia\\Maju\\WhatsApp Ptt 2021-09-15 at 17.07.24.wav: 2\n"
     ]
    },
    {
     "name": "stderr",
     "output_type": "stream",
     "text": [
      "C:\\Users\\Lenovo\\AppData\\Local\\Temp\\ipykernel_11612\\2861807924.py:31: FutureWarning: Pass y=[ 1.13028385e-07 -1.04574191e-07  8.10405396e-08 ... -2.53226608e-02\n",
      " -1.99299771e-02 -1.46516673e-02], sr=22050 as keyword args. From version 0.10 passing these as positional arguments will result in an error\n",
      "  MFCCs = librosa.feature.mfcc(signal, sample_rate, n_mfcc=num_mfcc, n_fft=n_fft, hop_length=hop_length)\n",
      "C:\\Users\\Lenovo\\AppData\\Local\\Temp\\ipykernel_11612\\2861807924.py:31: FutureWarning: Pass y=[ 1.13028385e-07 -1.04574191e-07  8.10405396e-08 ...  2.30555385e-01\n",
      "  2.37054080e-01  2.26626381e-01], sr=22050 as keyword args. From version 0.10 passing these as positional arguments will result in an error\n",
      "  MFCCs = librosa.feature.mfcc(signal, sample_rate, n_mfcc=num_mfcc, n_fft=n_fft, hop_length=hop_length)\n"
     ]
    },
    {
     "name": "stdout",
     "output_type": "stream",
     "text": [
      "C:/Users/Lenovo/Documents/Education/Skripsi/Dataset/Dataset_Indonesia\\Maju\\WhatsApp Ptt 2021-09-15 at 17.07.26.wav: 2\n",
      "C:/Users/Lenovo/Documents/Education/Skripsi/Dataset/Dataset_Indonesia\\Maju\\WhatsApp Ptt 2021-09-15 at 17.07.29.wav: 2\n"
     ]
    },
    {
     "name": "stderr",
     "output_type": "stream",
     "text": [
      "C:\\Users\\Lenovo\\AppData\\Local\\Temp\\ipykernel_11612\\2861807924.py:31: FutureWarning: Pass y=[ 1.13028385e-07 -1.04574191e-07  8.10405396e-08 ...  2.99470802e-03\n",
      "  2.86562205e-03  3.17882164e-03], sr=22050 as keyword args. From version 0.10 passing these as positional arguments will result in an error\n",
      "  MFCCs = librosa.feature.mfcc(signal, sample_rate, n_mfcc=num_mfcc, n_fft=n_fft, hop_length=hop_length)\n",
      "C:\\Users\\Lenovo\\AppData\\Local\\Temp\\ipykernel_11612\\2861807924.py:31: FutureWarning: Pass y=[ 1.13028385e-07 -1.04574191e-07  8.10405396e-08 ...  2.11265124e-03\n",
      "  1.76377688e-03  1.92199764e-03], sr=22050 as keyword args. From version 0.10 passing these as positional arguments will result in an error\n",
      "  MFCCs = librosa.feature.mfcc(signal, sample_rate, n_mfcc=num_mfcc, n_fft=n_fft, hop_length=hop_length)\n"
     ]
    },
    {
     "name": "stdout",
     "output_type": "stream",
     "text": [
      "C:/Users/Lenovo/Documents/Education/Skripsi/Dataset/Dataset_Indonesia\\Maju\\WhatsApp Ptt 2021-09-15 at 17.07.40.wav: 2\n",
      "C:/Users/Lenovo/Documents/Education/Skripsi/Dataset/Dataset_Indonesia\\Maju\\WhatsApp Ptt 2021-09-15 at 17.07.41.wav: 2\n"
     ]
    },
    {
     "name": "stderr",
     "output_type": "stream",
     "text": [
      "C:\\Users\\Lenovo\\AppData\\Local\\Temp\\ipykernel_11612\\2861807924.py:31: FutureWarning: Pass y=[ 1.13028385e-07 -1.04574191e-07  8.10405396e-08 ... -1.73294134e-02\n",
      " -1.87659618e-02 -2.02305093e-02], sr=22050 as keyword args. From version 0.10 passing these as positional arguments will result in an error\n",
      "  MFCCs = librosa.feature.mfcc(signal, sample_rate, n_mfcc=num_mfcc, n_fft=n_fft, hop_length=hop_length)\n",
      "C:\\Users\\Lenovo\\AppData\\Local\\Temp\\ipykernel_11612\\2861807924.py:31: FutureWarning: Pass y=[ 1.13028385e-07 -1.04574191e-07  8.10405396e-08 ...  1.44222158e-03\n",
      "  1.38281519e-03  1.21404557e-03], sr=22050 as keyword args. From version 0.10 passing these as positional arguments will result in an error\n",
      "  MFCCs = librosa.feature.mfcc(signal, sample_rate, n_mfcc=num_mfcc, n_fft=n_fft, hop_length=hop_length)\n"
     ]
    },
    {
     "name": "stdout",
     "output_type": "stream",
     "text": [
      "C:/Users/Lenovo/Documents/Education/Skripsi/Dataset/Dataset_Indonesia\\Maju\\WhatsApp Ptt 2021-09-15 at 17.07.49.wav: 2\n"
     ]
    },
    {
     "name": "stderr",
     "output_type": "stream",
     "text": [
      "C:\\Users\\Lenovo\\AppData\\Local\\Temp\\ipykernel_11612\\2861807924.py:31: FutureWarning: Pass y=[ 1.13028385e-07 -1.04574191e-07  8.10405396e-08 ... -2.64249882e-03\n",
      " -2.83427769e-03 -2.78253015e-03], sr=22050 as keyword args. From version 0.10 passing these as positional arguments will result in an error\n",
      "  MFCCs = librosa.feature.mfcc(signal, sample_rate, n_mfcc=num_mfcc, n_fft=n_fft, hop_length=hop_length)\n"
     ]
    },
    {
     "name": "stdout",
     "output_type": "stream",
     "text": [
      "C:/Users/Lenovo/Documents/Education/Skripsi/Dataset/Dataset_Indonesia\\Maju\\WhatsApp Ptt 2021-09-15 at 17.08.03.wav: 2\n"
     ]
    },
    {
     "name": "stderr",
     "output_type": "stream",
     "text": [
      "C:\\Users\\Lenovo\\AppData\\Local\\Temp\\ipykernel_11612\\2861807924.py:31: FutureWarning: Pass y=[ 1.13028385e-07 -1.04574191e-07  8.10405396e-08 ...  8.78748670e-03\n",
      "  8.47570226e-03  7.52713997e-03], sr=22050 as keyword args. From version 0.10 passing these as positional arguments will result in an error\n",
      "  MFCCs = librosa.feature.mfcc(signal, sample_rate, n_mfcc=num_mfcc, n_fft=n_fft, hop_length=hop_length)\n",
      "C:\\Users\\Lenovo\\AppData\\Local\\Temp\\ipykernel_11612\\2861807924.py:31: FutureWarning: Pass y=[ 1.13028385e-07 -1.04574191e-07  8.10405396e-08 ... -4.59835231e-02\n",
      " -4.85964529e-02 -5.16669266e-02], sr=22050 as keyword args. From version 0.10 passing these as positional arguments will result in an error\n",
      "  MFCCs = librosa.feature.mfcc(signal, sample_rate, n_mfcc=num_mfcc, n_fft=n_fft, hop_length=hop_length)\n"
     ]
    },
    {
     "name": "stdout",
     "output_type": "stream",
     "text": [
      "C:/Users/Lenovo/Documents/Education/Skripsi/Dataset/Dataset_Indonesia\\Maju\\WhatsApp Ptt 2021-09-15 at 17.08.10.wav: 2\n",
      "C:/Users/Lenovo/Documents/Education/Skripsi/Dataset/Dataset_Indonesia\\Maju\\WhatsApp Ptt 2021-09-15 at 17.08.13.wav: 2\n",
      "C:/Users/Lenovo/Documents/Education/Skripsi/Dataset/Dataset_Indonesia\\Maju\\WhatsApp Ptt 2021-09-15 at 17.08.14.wav: 2\n",
      "C:/Users/Lenovo/Documents/Education/Skripsi/Dataset/Dataset_Indonesia\\Maju\\WhatsApp Ptt 2021-09-15 at 17.08.17.wav: 2\n"
     ]
    },
    {
     "name": "stderr",
     "output_type": "stream",
     "text": [
      "C:\\Users\\Lenovo\\AppData\\Local\\Temp\\ipykernel_11612\\2861807924.py:31: FutureWarning: Pass y=[ 1.13028385e-07 -1.04574191e-07  8.10405396e-08 ... -1.06452433e-02\n",
      " -1.01243202e-02 -9.93333198e-03], sr=22050 as keyword args. From version 0.10 passing these as positional arguments will result in an error\n",
      "  MFCCs = librosa.feature.mfcc(signal, sample_rate, n_mfcc=num_mfcc, n_fft=n_fft, hop_length=hop_length)\n",
      "C:\\Users\\Lenovo\\AppData\\Local\\Temp\\ipykernel_11612\\2861807924.py:31: FutureWarning: Pass y=[ 1.13028385e-07 -1.04574191e-07  8.10405396e-08 ... -1.55611930e-03\n",
      " -1.19415193e-03 -1.21967273e-03], sr=22050 as keyword args. From version 0.10 passing these as positional arguments will result in an error\n",
      "  MFCCs = librosa.feature.mfcc(signal, sample_rate, n_mfcc=num_mfcc, n_fft=n_fft, hop_length=hop_length)\n",
      "C:\\Users\\Lenovo\\AppData\\Local\\Temp\\ipykernel_11612\\2861807924.py:31: FutureWarning: Pass y=[ 1.13028385e-07 -1.04574191e-07  8.10405396e-08 ... -5.40520251e-02\n",
      " -5.31719327e-02 -5.38272895e-02], sr=22050 as keyword args. From version 0.10 passing these as positional arguments will result in an error\n",
      "  MFCCs = librosa.feature.mfcc(signal, sample_rate, n_mfcc=num_mfcc, n_fft=n_fft, hop_length=hop_length)\n",
      "C:\\Users\\Lenovo\\AppData\\Local\\Temp\\ipykernel_11612\\2861807924.py:31: FutureWarning: Pass y=[ 1.13028385e-07 -1.04574191e-07  8.10405396e-08 ... -2.22907146e-03\n",
      " -2.34243437e-03 -2.25417223e-03], sr=22050 as keyword args. From version 0.10 passing these as positional arguments will result in an error\n",
      "  MFCCs = librosa.feature.mfcc(signal, sample_rate, n_mfcc=num_mfcc, n_fft=n_fft, hop_length=hop_length)\n"
     ]
    },
    {
     "name": "stdout",
     "output_type": "stream",
     "text": [
      "C:/Users/Lenovo/Documents/Education/Skripsi/Dataset/Dataset_Indonesia\\Maju\\WhatsApp Ptt 2021-09-15 at 17.08.18.wav: 2\n",
      "C:/Users/Lenovo/Documents/Education/Skripsi/Dataset/Dataset_Indonesia\\Maju\\WhatsApp Ptt 2021-09-15 at 17.08.23.wav: 2\n"
     ]
    },
    {
     "name": "stderr",
     "output_type": "stream",
     "text": [
      "C:\\Users\\Lenovo\\AppData\\Local\\Temp\\ipykernel_11612\\2861807924.py:31: FutureWarning: Pass y=[ 1.13028385e-07 -1.04574191e-07  8.10405396e-08 ...  8.67004544e-02\n",
      "  8.78905803e-02  8.71241912e-02], sr=22050 as keyword args. From version 0.10 passing these as positional arguments will result in an error\n",
      "  MFCCs = librosa.feature.mfcc(signal, sample_rate, n_mfcc=num_mfcc, n_fft=n_fft, hop_length=hop_length)\n",
      "C:\\Users\\Lenovo\\AppData\\Local\\Temp\\ipykernel_11612\\2861807924.py:31: FutureWarning: Pass y=[ 1.13028385e-07 -1.04574191e-07  8.10405396e-08 ...  1.58721989e-03\n",
      "  1.74527790e-03  2.16539484e-03], sr=22050 as keyword args. From version 0.10 passing these as positional arguments will result in an error\n",
      "  MFCCs = librosa.feature.mfcc(signal, sample_rate, n_mfcc=num_mfcc, n_fft=n_fft, hop_length=hop_length)\n",
      "C:\\Users\\Lenovo\\AppData\\Local\\Temp\\ipykernel_11612\\2861807924.py:31: FutureWarning: Pass y=[ 1.13028385e-07 -1.04574191e-07  8.10405396e-08 ... -5.58816232e-02\n",
      " -5.25467433e-02 -4.85524796e-02], sr=22050 as keyword args. From version 0.10 passing these as positional arguments will result in an error\n",
      "  MFCCs = librosa.feature.mfcc(signal, sample_rate, n_mfcc=num_mfcc, n_fft=n_fft, hop_length=hop_length)\n"
     ]
    },
    {
     "name": "stdout",
     "output_type": "stream",
     "text": [
      "C:/Users/Lenovo/Documents/Education/Skripsi/Dataset/Dataset_Indonesia\\Maju\\WhatsApp Ptt 2021-09-15 at 17.08.33.wav: 2\n",
      "C:/Users/Lenovo/Documents/Education/Skripsi/Dataset/Dataset_Indonesia\\Maju\\WhatsApp Ptt 2021-09-15 at 17.08.40.wav: 2\n",
      "C:/Users/Lenovo/Documents/Education/Skripsi/Dataset/Dataset_Indonesia\\Maju\\WhatsApp Ptt 2021-09-15 at 17.08.43.wav: 2\n"
     ]
    },
    {
     "name": "stderr",
     "output_type": "stream",
     "text": [
      "C:\\Users\\Lenovo\\AppData\\Local\\Temp\\ipykernel_11612\\2861807924.py:31: FutureWarning: Pass y=[ 1.13028385e-07 -1.04574191e-07  8.10405396e-08 ... -2.65035201e-02\n",
      " -2.62860972e-02 -2.62165498e-02], sr=22050 as keyword args. From version 0.10 passing these as positional arguments will result in an error\n",
      "  MFCCs = librosa.feature.mfcc(signal, sample_rate, n_mfcc=num_mfcc, n_fft=n_fft, hop_length=hop_length)\n",
      "C:\\Users\\Lenovo\\AppData\\Local\\Temp\\ipykernel_11612\\2861807924.py:31: FutureWarning: Pass y=[ 1.13028385e-07 -1.04574191e-07  8.10405396e-08 ...  1.26666287e-02\n",
      "  1.42298155e-02  1.52270636e-02], sr=22050 as keyword args. From version 0.10 passing these as positional arguments will result in an error\n",
      "  MFCCs = librosa.feature.mfcc(signal, sample_rate, n_mfcc=num_mfcc, n_fft=n_fft, hop_length=hop_length)\n"
     ]
    },
    {
     "name": "stdout",
     "output_type": "stream",
     "text": [
      "C:/Users/Lenovo/Documents/Education/Skripsi/Dataset/Dataset_Indonesia\\Maju\\WhatsApp Ptt 2021-09-15 at 17.08.49.wav: 2\n",
      "C:/Users/Lenovo/Documents/Education/Skripsi/Dataset/Dataset_Indonesia\\Maju\\WhatsApp Ptt 2021-09-15 at 17.08.59.wav: 2\n"
     ]
    },
    {
     "name": "stderr",
     "output_type": "stream",
     "text": [
      "C:\\Users\\Lenovo\\AppData\\Local\\Temp\\ipykernel_11612\\2861807924.py:31: FutureWarning: Pass y=[ 1.13028385e-07 -1.04574191e-07  8.10405396e-08 ...  5.54959662e-03\n",
      "  5.55234682e-03  5.67985093e-03], sr=22050 as keyword args. From version 0.10 passing these as positional arguments will result in an error\n",
      "  MFCCs = librosa.feature.mfcc(signal, sample_rate, n_mfcc=num_mfcc, n_fft=n_fft, hop_length=hop_length)\n",
      "C:\\Users\\Lenovo\\AppData\\Local\\Temp\\ipykernel_11612\\2861807924.py:31: FutureWarning: Pass y=[ 1.13028385e-07 -1.04574191e-07  8.10405396e-08 ... -4.25324738e-02\n",
      " -3.90926339e-02 -3.20605896e-02], sr=22050 as keyword args. From version 0.10 passing these as positional arguments will result in an error\n",
      "  MFCCs = librosa.feature.mfcc(signal, sample_rate, n_mfcc=num_mfcc, n_fft=n_fft, hop_length=hop_length)\n"
     ]
    },
    {
     "name": "stdout",
     "output_type": "stream",
     "text": [
      "C:/Users/Lenovo/Documents/Education/Skripsi/Dataset/Dataset_Indonesia\\Maju\\WhatsApp Ptt 2021-09-15 at 17.09.00.wav: 2\n",
      "C:/Users/Lenovo/Documents/Education/Skripsi/Dataset/Dataset_Indonesia\\Maju\\WhatsApp Ptt 2021-09-15 at 17.09.06.wav: 2\n"
     ]
    },
    {
     "name": "stderr",
     "output_type": "stream",
     "text": [
      "C:\\Users\\Lenovo\\AppData\\Local\\Temp\\ipykernel_11612\\2861807924.py:31: FutureWarning: Pass y=[ 1.13028385e-07 -1.04574191e-07  8.10405396e-08 ... -1.77962314e-02\n",
      " -1.59902610e-02 -1.46217365e-02], sr=22050 as keyword args. From version 0.10 passing these as positional arguments will result in an error\n",
      "  MFCCs = librosa.feature.mfcc(signal, sample_rate, n_mfcc=num_mfcc, n_fft=n_fft, hop_length=hop_length)\n",
      "C:\\Users\\Lenovo\\AppData\\Local\\Temp\\ipykernel_11612\\2861807924.py:31: FutureWarning: Pass y=[ 1.13028385e-07 -1.04574191e-07  8.10405396e-08 ... -4.55142418e-03\n",
      " -5.01086656e-03 -5.27979480e-03], sr=22050 as keyword args. From version 0.10 passing these as positional arguments will result in an error\n",
      "  MFCCs = librosa.feature.mfcc(signal, sample_rate, n_mfcc=num_mfcc, n_fft=n_fft, hop_length=hop_length)\n"
     ]
    },
    {
     "name": "stdout",
     "output_type": "stream",
     "text": [
      "C:/Users/Lenovo/Documents/Education/Skripsi/Dataset/Dataset_Indonesia\\Maju\\WhatsApp Ptt 2021-09-15 at 17.09.11.wav: 2\n",
      "C:/Users/Lenovo/Documents/Education/Skripsi/Dataset/Dataset_Indonesia\\Maju\\WhatsApp Ptt 2021-09-15 at 17.09.19.wav: 2\n"
     ]
    },
    {
     "name": "stderr",
     "output_type": "stream",
     "text": [
      "C:\\Users\\Lenovo\\AppData\\Local\\Temp\\ipykernel_11612\\2861807924.py:31: FutureWarning: Pass y=[ 1.13028385e-07 -1.04574191e-07  8.10405396e-08 ... -3.30322087e-02\n",
      " -4.10436615e-02 -4.77163196e-02], sr=22050 as keyword args. From version 0.10 passing these as positional arguments will result in an error\n",
      "  MFCCs = librosa.feature.mfcc(signal, sample_rate, n_mfcc=num_mfcc, n_fft=n_fft, hop_length=hop_length)\n",
      "C:\\Users\\Lenovo\\AppData\\Local\\Temp\\ipykernel_11612\\2861807924.py:31: FutureWarning: Pass y=[ 1.13028385e-07 -1.04574191e-07  8.10405396e-08 ...  1.37944221e-01\n",
      "  1.26511768e-01  1.11964360e-01], sr=22050 as keyword args. From version 0.10 passing these as positional arguments will result in an error\n",
      "  MFCCs = librosa.feature.mfcc(signal, sample_rate, n_mfcc=num_mfcc, n_fft=n_fft, hop_length=hop_length)\n"
     ]
    },
    {
     "name": "stdout",
     "output_type": "stream",
     "text": [
      "C:/Users/Lenovo/Documents/Education/Skripsi/Dataset/Dataset_Indonesia\\Maju\\WhatsApp Ptt 2021-09-15 at 17.09.27.wav: 2\n",
      "C:/Users/Lenovo/Documents/Education/Skripsi/Dataset/Dataset_Indonesia\\Maju\\WhatsApp Ptt 2021-09-15 at 17.09.35.wav: 2\n"
     ]
    },
    {
     "name": "stderr",
     "output_type": "stream",
     "text": [
      "C:\\Users\\Lenovo\\AppData\\Local\\Temp\\ipykernel_11612\\2861807924.py:31: FutureWarning: Pass y=[ 1.13028385e-07 -1.04574191e-07  8.10405396e-08 ... -6.87943250e-02\n",
      " -6.81714565e-02 -6.68312088e-02], sr=22050 as keyword args. From version 0.10 passing these as positional arguments will result in an error\n",
      "  MFCCs = librosa.feature.mfcc(signal, sample_rate, n_mfcc=num_mfcc, n_fft=n_fft, hop_length=hop_length)\n",
      "C:\\Users\\Lenovo\\AppData\\Local\\Temp\\ipykernel_11612\\2861807924.py:31: FutureWarning: Pass y=[ 1.13028385e-07 -1.04574191e-07  8.10405396e-08 ... -6.99815974e-02\n",
      " -7.14637414e-02 -7.34141916e-02], sr=22050 as keyword args. From version 0.10 passing these as positional arguments will result in an error\n",
      "  MFCCs = librosa.feature.mfcc(signal, sample_rate, n_mfcc=num_mfcc, n_fft=n_fft, hop_length=hop_length)\n"
     ]
    },
    {
     "name": "stdout",
     "output_type": "stream",
     "text": [
      "C:/Users/Lenovo/Documents/Education/Skripsi/Dataset/Dataset_Indonesia\\Maju\\WhatsApp Ptt 2021-09-15 at 17.09.36.wav: 2\n",
      "C:/Users/Lenovo/Documents/Education/Skripsi/Dataset/Dataset_Indonesia\\Maju\\WhatsApp Ptt 2021-09-15 at 17.09.41.wav: 2\n"
     ]
    },
    {
     "name": "stderr",
     "output_type": "stream",
     "text": [
      "C:\\Users\\Lenovo\\AppData\\Local\\Temp\\ipykernel_11612\\2861807924.py:31: FutureWarning: Pass y=[ 1.13028385e-07 -1.04574191e-07  8.10405396e-08 ... -2.35595535e-02\n",
      " -3.96270268e-02 -6.16094992e-02], sr=22050 as keyword args. From version 0.10 passing these as positional arguments will result in an error\n",
      "  MFCCs = librosa.feature.mfcc(signal, sample_rate, n_mfcc=num_mfcc, n_fft=n_fft, hop_length=hop_length)\n",
      "C:\\Users\\Lenovo\\AppData\\Local\\Temp\\ipykernel_11612\\2861807924.py:31: FutureWarning: Pass y=[ 1.13028385e-07 -1.04574191e-07  8.10405396e-08 ... -5.13932593e-02\n",
      " -6.14549890e-02 -6.70177266e-02], sr=22050 as keyword args. From version 0.10 passing these as positional arguments will result in an error\n",
      "  MFCCs = librosa.feature.mfcc(signal, sample_rate, n_mfcc=num_mfcc, n_fft=n_fft, hop_length=hop_length)\n"
     ]
    },
    {
     "name": "stdout",
     "output_type": "stream",
     "text": [
      "C:/Users/Lenovo/Documents/Education/Skripsi/Dataset/Dataset_Indonesia\\Maju\\WhatsApp Ptt 2021-09-15 at 17.09.44.wav: 2\n",
      "C:/Users/Lenovo/Documents/Education/Skripsi/Dataset/Dataset_Indonesia\\Maju\\WhatsApp Ptt 2021-09-15 at 17.09.49.wav: 2\n"
     ]
    },
    {
     "name": "stderr",
     "output_type": "stream",
     "text": [
      "C:\\Users\\Lenovo\\AppData\\Local\\Temp\\ipykernel_11612\\2861807924.py:31: FutureWarning: Pass y=[ 1.13028385e-07 -1.04574191e-07  8.10405396e-08 ...  1.64764617e-02\n",
      "  1.59678888e-02  1.62610039e-02], sr=22050 as keyword args. From version 0.10 passing these as positional arguments will result in an error\n",
      "  MFCCs = librosa.feature.mfcc(signal, sample_rate, n_mfcc=num_mfcc, n_fft=n_fft, hop_length=hop_length)\n",
      "C:\\Users\\Lenovo\\AppData\\Local\\Temp\\ipykernel_11612\\2861807924.py:31: FutureWarning: Pass y=[ 1.13028385e-07 -1.04574191e-07  8.10405396e-08 ...  5.47763333e-02\n",
      "  4.25392538e-02  2.91820746e-02], sr=22050 as keyword args. From version 0.10 passing these as positional arguments will result in an error\n",
      "  MFCCs = librosa.feature.mfcc(signal, sample_rate, n_mfcc=num_mfcc, n_fft=n_fft, hop_length=hop_length)\n"
     ]
    },
    {
     "name": "stdout",
     "output_type": "stream",
     "text": [
      "C:/Users/Lenovo/Documents/Education/Skripsi/Dataset/Dataset_Indonesia\\Maju\\WhatsApp Ptt 2021-09-15 at 17.09.53.wav: 2\n",
      "C:/Users/Lenovo/Documents/Education/Skripsi/Dataset/Dataset_Indonesia\\Maju\\WhatsApp Ptt 2021-09-15 at 17.09.54.wav: 2\n"
     ]
    },
    {
     "name": "stderr",
     "output_type": "stream",
     "text": [
      "C:\\Users\\Lenovo\\AppData\\Local\\Temp\\ipykernel_11612\\2861807924.py:31: FutureWarning: Pass y=[ 1.13028385e-07 -1.04574191e-07  8.10405396e-08 ... -9.89332423e-02\n",
      " -8.66699070e-02 -7.60278329e-02], sr=22050 as keyword args. From version 0.10 passing these as positional arguments will result in an error\n",
      "  MFCCs = librosa.feature.mfcc(signal, sample_rate, n_mfcc=num_mfcc, n_fft=n_fft, hop_length=hop_length)\n",
      "C:\\Users\\Lenovo\\AppData\\Local\\Temp\\ipykernel_11612\\2861807924.py:31: FutureWarning: Pass y=[ 1.13028385e-07 -1.04574191e-07  8.10405396e-08 ... -2.12818873e-03\n",
      " -1.62780751e-03 -1.64749252e-03], sr=22050 as keyword args. From version 0.10 passing these as positional arguments will result in an error\n",
      "  MFCCs = librosa.feature.mfcc(signal, sample_rate, n_mfcc=num_mfcc, n_fft=n_fft, hop_length=hop_length)\n"
     ]
    },
    {
     "name": "stdout",
     "output_type": "stream",
     "text": [
      "C:/Users/Lenovo/Documents/Education/Skripsi/Dataset/Dataset_Indonesia\\Maju\\WhatsApp Ptt 2021-09-15 at 17.09.56.wav: 2\n",
      "C:/Users/Lenovo/Documents/Education/Skripsi/Dataset/Dataset_Indonesia\\Maju\\WhatsApp Ptt 2021-09-15 at 17.10.00.wav: 2\n"
     ]
    },
    {
     "name": "stderr",
     "output_type": "stream",
     "text": [
      "C:\\Users\\Lenovo\\AppData\\Local\\Temp\\ipykernel_11612\\2861807924.py:31: FutureWarning: Pass y=[ 1.13028385e-07 -1.04574191e-07  8.10405396e-08 ... -8.70252550e-02\n",
      " -8.67597833e-02 -8.58585313e-02], sr=22050 as keyword args. From version 0.10 passing these as positional arguments will result in an error\n",
      "  MFCCs = librosa.feature.mfcc(signal, sample_rate, n_mfcc=num_mfcc, n_fft=n_fft, hop_length=hop_length)\n",
      "C:\\Users\\Lenovo\\AppData\\Local\\Temp\\ipykernel_11612\\2861807924.py:31: FutureWarning: Pass y=[ 1.13028385e-07 -1.04574191e-07  8.10405396e-08 ... -1.19085964e-02\n",
      " -1.04913842e-02 -9.67855472e-03], sr=22050 as keyword args. From version 0.10 passing these as positional arguments will result in an error\n",
      "  MFCCs = librosa.feature.mfcc(signal, sample_rate, n_mfcc=num_mfcc, n_fft=n_fft, hop_length=hop_length)\n"
     ]
    },
    {
     "name": "stdout",
     "output_type": "stream",
     "text": [
      "C:/Users/Lenovo/Documents/Education/Skripsi/Dataset/Dataset_Indonesia\\Maju\\WhatsApp Ptt 2021-09-15 at 17.10.08.wav: 2\n",
      "C:/Users/Lenovo/Documents/Education/Skripsi/Dataset/Dataset_Indonesia\\Maju\\WhatsApp Ptt 2021-09-15 at 17.10.16.wav: 2\n"
     ]
    },
    {
     "name": "stderr",
     "output_type": "stream",
     "text": [
      "C:\\Users\\Lenovo\\AppData\\Local\\Temp\\ipykernel_11612\\2861807924.py:31: FutureWarning: Pass y=[ 1.13028385e-07 -1.04574191e-07  8.10405396e-08 ... -4.95364219e-02\n",
      " -5.58980964e-02 -5.90847917e-02], sr=22050 as keyword args. From version 0.10 passing these as positional arguments will result in an error\n",
      "  MFCCs = librosa.feature.mfcc(signal, sample_rate, n_mfcc=num_mfcc, n_fft=n_fft, hop_length=hop_length)\n",
      "C:\\Users\\Lenovo\\AppData\\Local\\Temp\\ipykernel_11612\\2861807924.py:31: FutureWarning: Pass y=[ 1.13028385e-07 -1.04574191e-07  8.10405396e-08 ... -2.97011007e-02\n",
      " -2.23659445e-02 -1.41405575e-02], sr=22050 as keyword args. From version 0.10 passing these as positional arguments will result in an error\n",
      "  MFCCs = librosa.feature.mfcc(signal, sample_rate, n_mfcc=num_mfcc, n_fft=n_fft, hop_length=hop_length)\n"
     ]
    },
    {
     "name": "stdout",
     "output_type": "stream",
     "text": [
      "C:/Users/Lenovo/Documents/Education/Skripsi/Dataset/Dataset_Indonesia\\Maju\\WhatsApp Ptt 2021-09-15 at 17.10.20.wav: 2\n",
      "C:/Users/Lenovo/Documents/Education/Skripsi/Dataset/Dataset_Indonesia\\Maju\\WhatsApp Ptt 2021-09-15 at 20.48.18.wav: 2\n"
     ]
    },
    {
     "name": "stderr",
     "output_type": "stream",
     "text": [
      "C:\\Users\\Lenovo\\AppData\\Local\\Temp\\ipykernel_11612\\2861807924.py:31: FutureWarning: Pass y=[ 1.13028385e-07 -1.04574191e-07  8.10405396e-08 ...  7.05036847e-03\n",
      "  6.04384299e-03  5.27395727e-03], sr=22050 as keyword args. From version 0.10 passing these as positional arguments will result in an error\n",
      "  MFCCs = librosa.feature.mfcc(signal, sample_rate, n_mfcc=num_mfcc, n_fft=n_fft, hop_length=hop_length)\n",
      "C:\\Users\\Lenovo\\AppData\\Local\\Temp\\ipykernel_11612\\2861807924.py:31: FutureWarning: Pass y=[ 1.13028385e-07 -1.04574191e-07  8.10405396e-08 ...  1.39495758e-02\n",
      "  1.39453281e-02  1.35812564e-02], sr=22050 as keyword args. From version 0.10 passing these as positional arguments will result in an error\n",
      "  MFCCs = librosa.feature.mfcc(signal, sample_rate, n_mfcc=num_mfcc, n_fft=n_fft, hop_length=hop_length)\n"
     ]
    },
    {
     "name": "stdout",
     "output_type": "stream",
     "text": [
      "C:/Users/Lenovo/Documents/Education/Skripsi/Dataset/Dataset_Indonesia\\Maju\\WhatsApp Ptt 2021-09-15 at 20.48.41.wav: 2\n",
      "C:/Users/Lenovo/Documents/Education/Skripsi/Dataset/Dataset_Indonesia\\Maju\\WhatsApp Ptt 2021-09-15 at 20.48.46.wav: 2\n"
     ]
    },
    {
     "name": "stderr",
     "output_type": "stream",
     "text": [
      "C:\\Users\\Lenovo\\AppData\\Local\\Temp\\ipykernel_11612\\2861807924.py:31: FutureWarning: Pass y=[ 1.13028385e-07 -1.04574191e-07  8.10405396e-08 ... -2.23359093e-02\n",
      " -2.45122723e-02 -2.60846894e-02], sr=22050 as keyword args. From version 0.10 passing these as positional arguments will result in an error\n",
      "  MFCCs = librosa.feature.mfcc(signal, sample_rate, n_mfcc=num_mfcc, n_fft=n_fft, hop_length=hop_length)\n",
      "C:\\Users\\Lenovo\\AppData\\Local\\Temp\\ipykernel_11612\\2861807924.py:31: FutureWarning: Pass y=[ 1.13028385e-07 -1.04574191e-07  8.10405396e-08 ...  3.83953121e-03\n",
      "  6.22828119e-03  7.93116540e-03], sr=22050 as keyword args. From version 0.10 passing these as positional arguments will result in an error\n",
      "  MFCCs = librosa.feature.mfcc(signal, sample_rate, n_mfcc=num_mfcc, n_fft=n_fft, hop_length=hop_length)\n"
     ]
    },
    {
     "name": "stdout",
     "output_type": "stream",
     "text": [
      "C:/Users/Lenovo/Documents/Education/Skripsi/Dataset/Dataset_Indonesia\\Maju\\WhatsApp Ptt 2021-09-15 at 20.48.53.wav: 2\n",
      "C:/Users/Lenovo/Documents/Education/Skripsi/Dataset/Dataset_Indonesia\\Maju\\WhatsApp Ptt 2021-09-15 at 20.48.59.wav: 2\n"
     ]
    },
    {
     "name": "stderr",
     "output_type": "stream",
     "text": [
      "C:\\Users\\Lenovo\\AppData\\Local\\Temp\\ipykernel_11612\\2861807924.py:31: FutureWarning: Pass y=[ 1.13028385e-07 -1.04574191e-07  8.10405396e-08 ...  3.14976200e-02\n",
      "  6.94540981e-03 -1.87672898e-02], sr=22050 as keyword args. From version 0.10 passing these as positional arguments will result in an error\n",
      "  MFCCs = librosa.feature.mfcc(signal, sample_rate, n_mfcc=num_mfcc, n_fft=n_fft, hop_length=hop_length)\n",
      "C:\\Users\\Lenovo\\AppData\\Local\\Temp\\ipykernel_11612\\2861807924.py:31: FutureWarning: Pass y=[ 1.13028385e-07 -1.04574191e-07  8.10405396e-08 ...  1.24689878e-03\n",
      "  1.32081995e-03  1.74551737e-03], sr=22050 as keyword args. From version 0.10 passing these as positional arguments will result in an error\n",
      "  MFCCs = librosa.feature.mfcc(signal, sample_rate, n_mfcc=num_mfcc, n_fft=n_fft, hop_length=hop_length)\n"
     ]
    },
    {
     "name": "stdout",
     "output_type": "stream",
     "text": [
      "C:/Users/Lenovo/Documents/Education/Skripsi/Dataset/Dataset_Indonesia\\Maju\\WhatsApp Ptt 2021-09-15 at 21.58.12.wav: 2\n",
      "C:/Users/Lenovo/Documents/Education/Skripsi/Dataset/Dataset_Indonesia\\Maju\\WhatsApp Ptt 2021-09-15 at 21.58.22.wav: 2\n"
     ]
    },
    {
     "name": "stderr",
     "output_type": "stream",
     "text": [
      "C:\\Users\\Lenovo\\AppData\\Local\\Temp\\ipykernel_11612\\2861807924.py:31: FutureWarning: Pass y=[ 1.13028385e-07 -1.04574191e-07  8.10405396e-08 ... -4.84733395e-02\n",
      " -7.17369244e-02 -9.91764516e-02], sr=22050 as keyword args. From version 0.10 passing these as positional arguments will result in an error\n",
      "  MFCCs = librosa.feature.mfcc(signal, sample_rate, n_mfcc=num_mfcc, n_fft=n_fft, hop_length=hop_length)\n",
      "C:\\Users\\Lenovo\\AppData\\Local\\Temp\\ipykernel_11612\\2861807924.py:31: FutureWarning: Pass y=[ 1.13028385e-07 -1.04574191e-07  8.10405396e-08 ... -4.82992493e-02\n",
      " -5.03626056e-02 -5.20973206e-02], sr=22050 as keyword args. From version 0.10 passing these as positional arguments will result in an error\n",
      "  MFCCs = librosa.feature.mfcc(signal, sample_rate, n_mfcc=num_mfcc, n_fft=n_fft, hop_length=hop_length)\n"
     ]
    },
    {
     "name": "stdout",
     "output_type": "stream",
     "text": [
      "C:/Users/Lenovo/Documents/Education/Skripsi/Dataset/Dataset_Indonesia\\Maju\\WhatsApp Ptt 2021-09-15 at 21.58.28.wav: 2\n",
      "C:/Users/Lenovo/Documents/Education/Skripsi/Dataset/Dataset_Indonesia\\Maju\\WhatsApp Ptt 2021-09-15 at 21.58.34.wav: 2\n"
     ]
    },
    {
     "name": "stderr",
     "output_type": "stream",
     "text": [
      "C:\\Users\\Lenovo\\AppData\\Local\\Temp\\ipykernel_11612\\2861807924.py:31: FutureWarning: Pass y=[ 1.13028385e-07 -1.04574191e-07  8.10405396e-08 ...  9.34614800e-03\n",
      "  1.01689389e-02  1.04966089e-02], sr=22050 as keyword args. From version 0.10 passing these as positional arguments will result in an error\n",
      "  MFCCs = librosa.feature.mfcc(signal, sample_rate, n_mfcc=num_mfcc, n_fft=n_fft, hop_length=hop_length)\n",
      "C:\\Users\\Lenovo\\AppData\\Local\\Temp\\ipykernel_11612\\2861807924.py:31: FutureWarning: Pass y=[ 1.13028385e-07 -1.04574191e-07  8.10405396e-08 ...  5.28086675e-03\n",
      "  5.86815178e-03  6.95141312e-03], sr=22050 as keyword args. From version 0.10 passing these as positional arguments will result in an error\n",
      "  MFCCs = librosa.feature.mfcc(signal, sample_rate, n_mfcc=num_mfcc, n_fft=n_fft, hop_length=hop_length)\n"
     ]
    },
    {
     "name": "stdout",
     "output_type": "stream",
     "text": [
      "C:/Users/Lenovo/Documents/Education/Skripsi/Dataset/Dataset_Indonesia\\Maju\\WhatsApp Ptt 2021-09-15 at 21.58.38.wav: 2\n",
      "C:/Users/Lenovo/Documents/Education/Skripsi/Dataset/Dataset_Indonesia\\Maju\\WhatsApp Ptt 2021-09-15 at 21.58.43.wav: 2\n"
     ]
    },
    {
     "name": "stderr",
     "output_type": "stream",
     "text": [
      "C:\\Users\\Lenovo\\AppData\\Local\\Temp\\ipykernel_11612\\2861807924.py:31: FutureWarning: Pass y=[ 1.13028385e-07 -1.04574191e-07  8.10405396e-08 ...  1.83919619e-03\n",
      "  3.87052569e-04 -7.99812609e-04], sr=22050 as keyword args. From version 0.10 passing these as positional arguments will result in an error\n",
      "  MFCCs = librosa.feature.mfcc(signal, sample_rate, n_mfcc=num_mfcc, n_fft=n_fft, hop_length=hop_length)\n",
      "C:\\Users\\Lenovo\\AppData\\Local\\Temp\\ipykernel_11612\\2861807924.py:31: FutureWarning: Pass y=[ 1.13028385e-07 -1.04574191e-07  8.10405396e-08 ...  1.16525800e-03\n",
      "  1.85780844e-03  2.32261629e-03], sr=22050 as keyword args. From version 0.10 passing these as positional arguments will result in an error\n",
      "  MFCCs = librosa.feature.mfcc(signal, sample_rate, n_mfcc=num_mfcc, n_fft=n_fft, hop_length=hop_length)\n"
     ]
    },
    {
     "name": "stdout",
     "output_type": "stream",
     "text": [
      "C:/Users/Lenovo/Documents/Education/Skripsi/Dataset/Dataset_Indonesia\\Maju\\WhatsApp Ptt 2021-09-15 at 21.58.48.wav: 2\n",
      "C:/Users/Lenovo/Documents/Education/Skripsi/Dataset/Dataset_Indonesia\\Maju\\WhatsApp Ptt 2021-09-15 at 21.58.52.wav: 2\n"
     ]
    },
    {
     "name": "stderr",
     "output_type": "stream",
     "text": [
      "C:\\Users\\Lenovo\\AppData\\Local\\Temp\\ipykernel_11612\\2861807924.py:31: FutureWarning: Pass y=[ 1.13028385e-07 -1.04574191e-07  8.10405396e-08 ...  3.90776759e-03\n",
      "  3.86517588e-03  4.03644284e-03], sr=22050 as keyword args. From version 0.10 passing these as positional arguments will result in an error\n",
      "  MFCCs = librosa.feature.mfcc(signal, sample_rate, n_mfcc=num_mfcc, n_fft=n_fft, hop_length=hop_length)\n",
      "C:\\Users\\Lenovo\\AppData\\Local\\Temp\\ipykernel_11612\\2861807924.py:31: FutureWarning: Pass y=[ 1.13028385e-07 -1.04574191e-07  8.10405396e-08 ...  1.71413436e-03\n",
      "  1.53250946e-03  1.39207719e-03], sr=22050 as keyword args. From version 0.10 passing these as positional arguments will result in an error\n",
      "  MFCCs = librosa.feature.mfcc(signal, sample_rate, n_mfcc=num_mfcc, n_fft=n_fft, hop_length=hop_length)\n"
     ]
    },
    {
     "name": "stdout",
     "output_type": "stream",
     "text": [
      "C:/Users/Lenovo/Documents/Education/Skripsi/Dataset/Dataset_Indonesia\\Maju\\WhatsApp Ptt 2021-09-15 at 21.58.55.wav: 2\n",
      "C:/Users/Lenovo/Documents/Education/Skripsi/Dataset/Dataset_Indonesia\\Maju\\WhatsApp Ptt 2021-09-15 at 21.59.08.wav: 2\n"
     ]
    },
    {
     "name": "stderr",
     "output_type": "stream",
     "text": [
      "C:\\Users\\Lenovo\\AppData\\Local\\Temp\\ipykernel_11612\\2861807924.py:31: FutureWarning: Pass y=[ 1.13028385e-07 -1.04574191e-07  8.10405396e-08 ... -2.76829349e-03\n",
      " -2.56065791e-03 -2.31535034e-03], sr=22050 as keyword args. From version 0.10 passing these as positional arguments will result in an error\n",
      "  MFCCs = librosa.feature.mfcc(signal, sample_rate, n_mfcc=num_mfcc, n_fft=n_fft, hop_length=hop_length)\n",
      "C:\\Users\\Lenovo\\AppData\\Local\\Temp\\ipykernel_11612\\2861807924.py:31: FutureWarning: Pass y=[ 1.13028385e-07 -1.04574191e-07  8.10405396e-08 ...  3.70576920e-04\n",
      "  8.33395985e-04  1.55814458e-03], sr=22050 as keyword args. From version 0.10 passing these as positional arguments will result in an error\n",
      "  MFCCs = librosa.feature.mfcc(signal, sample_rate, n_mfcc=num_mfcc, n_fft=n_fft, hop_length=hop_length)\n"
     ]
    },
    {
     "name": "stdout",
     "output_type": "stream",
     "text": [
      "C:/Users/Lenovo/Documents/Education/Skripsi/Dataset/Dataset_Indonesia\\Maju\\WhatsApp Ptt 2021-09-15 at 21.59.13.wav: 2\n",
      "C:/Users/Lenovo/Documents/Education/Skripsi/Dataset/Dataset_Indonesia\\Maju\\WhatsApp Ptt 2021-09-15 at 21.59.39.wav: 2\n"
     ]
    },
    {
     "name": "stderr",
     "output_type": "stream",
     "text": [
      "C:\\Users\\Lenovo\\AppData\\Local\\Temp\\ipykernel_11612\\2861807924.py:31: FutureWarning: Pass y=[ 1.13028385e-07 -1.04574191e-07  8.10405396e-08 ... -1.62022922e-03\n",
      " -1.10963115e-03  9.49251524e-04], sr=22050 as keyword args. From version 0.10 passing these as positional arguments will result in an error\n",
      "  MFCCs = librosa.feature.mfcc(signal, sample_rate, n_mfcc=num_mfcc, n_fft=n_fft, hop_length=hop_length)\n",
      "C:\\Users\\Lenovo\\AppData\\Local\\Temp\\ipykernel_11612\\2861807924.py:31: FutureWarning: Pass y=[ 1.13028385e-07 -1.04574191e-07  8.10405396e-08 ... -1.29134068e-02\n",
      " -1.23971514e-02 -1.15238596e-02], sr=22050 as keyword args. From version 0.10 passing these as positional arguments will result in an error\n",
      "  MFCCs = librosa.feature.mfcc(signal, sample_rate, n_mfcc=num_mfcc, n_fft=n_fft, hop_length=hop_length)\n"
     ]
    },
    {
     "name": "stdout",
     "output_type": "stream",
     "text": [
      "C:/Users/Lenovo/Documents/Education/Skripsi/Dataset/Dataset_Indonesia\\Maju\\WhatsApp Ptt 2021-09-15 at 21.59.44.wav: 2\n",
      "C:/Users/Lenovo/Documents/Education/Skripsi/Dataset/Dataset_Indonesia\\Maju\\WhatsApp Ptt 2021-09-15 at 21.59.49.wav: 2\n"
     ]
    },
    {
     "name": "stderr",
     "output_type": "stream",
     "text": [
      "C:\\Users\\Lenovo\\AppData\\Local\\Temp\\ipykernel_11612\\2861807924.py:31: FutureWarning: Pass y=[ 1.13028385e-07 -1.04574191e-07  8.10405396e-08 ...  2.95086931e-02\n",
      "  3.00759841e-02  3.67925912e-02], sr=22050 as keyword args. From version 0.10 passing these as positional arguments will result in an error\n",
      "  MFCCs = librosa.feature.mfcc(signal, sample_rate, n_mfcc=num_mfcc, n_fft=n_fft, hop_length=hop_length)\n",
      "C:\\Users\\Lenovo\\AppData\\Local\\Temp\\ipykernel_11612\\2861807924.py:31: FutureWarning: Pass y=[ 1.13028385e-07 -1.04574191e-07  8.10405396e-08 ...  3.79074253e-02\n",
      "  3.34732346e-02  2.94482335e-02], sr=22050 as keyword args. From version 0.10 passing these as positional arguments will result in an error\n",
      "  MFCCs = librosa.feature.mfcc(signal, sample_rate, n_mfcc=num_mfcc, n_fft=n_fft, hop_length=hop_length)\n"
     ]
    },
    {
     "name": "stdout",
     "output_type": "stream",
     "text": [
      "C:/Users/Lenovo/Documents/Education/Skripsi/Dataset/Dataset_Indonesia\\Maju\\WhatsApp Ptt 2021-09-15 at 21.59.55.wav: 2\n",
      "C:/Users/Lenovo/Documents/Education/Skripsi/Dataset/Dataset_Indonesia\\Maju\\WhatsApp Ptt 2021-09-15 at 21.59.59.wav: 2\n"
     ]
    },
    {
     "name": "stderr",
     "output_type": "stream",
     "text": [
      "C:\\Users\\Lenovo\\AppData\\Local\\Temp\\ipykernel_11612\\2861807924.py:31: FutureWarning: Pass y=[ 1.13028385e-07 -1.04574191e-07  8.10405396e-08 ...  3.12200608e-03\n",
      "  3.31355445e-03  3.72995809e-03], sr=22050 as keyword args. From version 0.10 passing these as positional arguments will result in an error\n",
      "  MFCCs = librosa.feature.mfcc(signal, sample_rate, n_mfcc=num_mfcc, n_fft=n_fft, hop_length=hop_length)\n",
      "C:\\Users\\Lenovo\\AppData\\Local\\Temp\\ipykernel_11612\\2861807924.py:31: FutureWarning: Pass y=[ 1.13028385e-07 -1.04574191e-07  8.10405396e-08 ... -4.04882332e-04\n",
      "  2.74526421e-03 -7.84137845e-03], sr=22050 as keyword args. From version 0.10 passing these as positional arguments will result in an error\n",
      "  MFCCs = librosa.feature.mfcc(signal, sample_rate, n_mfcc=num_mfcc, n_fft=n_fft, hop_length=hop_length)\n"
     ]
    },
    {
     "name": "stdout",
     "output_type": "stream",
     "text": [
      "C:/Users/Lenovo/Documents/Education/Skripsi/Dataset/Dataset_Indonesia\\Maju\\WhatsApp Ptt 2021-09-15 at 22.00.08.wav: 2\n",
      "C:/Users/Lenovo/Documents/Education/Skripsi/Dataset/Dataset_Indonesia\\Maju\\WhatsApp Ptt 2021-09-15 at 22.00.12.wav: 2\n"
     ]
    },
    {
     "name": "stderr",
     "output_type": "stream",
     "text": [
      "C:\\Users\\Lenovo\\AppData\\Local\\Temp\\ipykernel_11612\\2861807924.py:31: FutureWarning: Pass y=[ 1.13028385e-07 -1.04574191e-07  8.10405396e-08 ...  1.42226413e-01\n",
      "  1.56232834e-01  1.67962924e-01], sr=22050 as keyword args. From version 0.10 passing these as positional arguments will result in an error\n",
      "  MFCCs = librosa.feature.mfcc(signal, sample_rate, n_mfcc=num_mfcc, n_fft=n_fft, hop_length=hop_length)\n",
      "C:\\Users\\Lenovo\\AppData\\Local\\Temp\\ipykernel_11612\\2861807924.py:31: FutureWarning: Pass y=[ 1.13028385e-07 -1.04574191e-07  8.10405396e-08 ... -6.86825905e-03\n",
      " -8.63799732e-03 -1.04966154e-02], sr=22050 as keyword args. From version 0.10 passing these as positional arguments will result in an error\n",
      "  MFCCs = librosa.feature.mfcc(signal, sample_rate, n_mfcc=num_mfcc, n_fft=n_fft, hop_length=hop_length)\n"
     ]
    },
    {
     "name": "stdout",
     "output_type": "stream",
     "text": [
      "C:/Users/Lenovo/Documents/Education/Skripsi/Dataset/Dataset_Indonesia\\Maju\\WhatsApp Ptt 2021-09-15 at 22.00.16.wav: 2\n",
      "C:/Users/Lenovo/Documents/Education/Skripsi/Dataset/Dataset_Indonesia\\Maju\\WhatsApp Ptt 2021-09-15 at 22.00.20.wav: 2\n"
     ]
    },
    {
     "name": "stderr",
     "output_type": "stream",
     "text": [
      "C:\\Users\\Lenovo\\AppData\\Local\\Temp\\ipykernel_11612\\2861807924.py:31: FutureWarning: Pass y=[ 1.13028385e-07 -1.04574191e-07  8.10405396e-08 ...  8.82092305e-03\n",
      "  1.30720343e-02  1.66752767e-02], sr=22050 as keyword args. From version 0.10 passing these as positional arguments will result in an error\n",
      "  MFCCs = librosa.feature.mfcc(signal, sample_rate, n_mfcc=num_mfcc, n_fft=n_fft, hop_length=hop_length)\n",
      "C:\\Users\\Lenovo\\AppData\\Local\\Temp\\ipykernel_11612\\2861807924.py:31: FutureWarning: Pass y=[ 1.13028385e-07 -1.04574191e-07  8.10405396e-08 ...  2.59923819e-03\n",
      "  1.34212757e-03  1.86300938e-04], sr=22050 as keyword args. From version 0.10 passing these as positional arguments will result in an error\n",
      "  MFCCs = librosa.feature.mfcc(signal, sample_rate, n_mfcc=num_mfcc, n_fft=n_fft, hop_length=hop_length)\n"
     ]
    },
    {
     "name": "stdout",
     "output_type": "stream",
     "text": [
      "C:/Users/Lenovo/Documents/Education/Skripsi/Dataset/Dataset_Indonesia\\Maju\\WhatsApp Ptt 2021-09-15 at 22.00.25.wav: 2\n",
      "C:/Users/Lenovo/Documents/Education/Skripsi/Dataset/Dataset_Indonesia\\Maju\\WhatsApp Ptt 2021-09-15 at 22.00.29.wav: 2\n",
      "\n",
      "Processing: 'Stop'\n"
     ]
    },
    {
     "name": "stderr",
     "output_type": "stream",
     "text": [
      "C:\\Users\\Lenovo\\AppData\\Local\\Temp\\ipykernel_11612\\2861807924.py:31: FutureWarning: Pass y=[ 0.          0.          0.         ... -0.00624406 -0.00914401\n",
      " -0.01254074], sr=22050 as keyword args. From version 0.10 passing these as positional arguments will result in an error\n",
      "  MFCCs = librosa.feature.mfcc(signal, sample_rate, n_mfcc=num_mfcc, n_fft=n_fft, hop_length=hop_length)\n",
      "C:\\Users\\Lenovo\\AppData\\Local\\Temp\\ipykernel_11612\\2861807924.py:31: FutureWarning: Pass y=[-4.7235326e-06 -5.0861763e-06  1.9947915e-06 ... -1.0497617e-03\n",
      " -1.7078017e-03 -2.4850103e-03], sr=22050 as keyword args. From version 0.10 passing these as positional arguments will result in an error\n",
      "  MFCCs = librosa.feature.mfcc(signal, sample_rate, n_mfcc=num_mfcc, n_fft=n_fft, hop_length=hop_length)\n"
     ]
    },
    {
     "name": "stdout",
     "output_type": "stream",
     "text": [
      "C:/Users/Lenovo/Documents/Education/Skripsi/Dataset/Dataset_Indonesia\\Stop\\Stop (1).wav: 3\n",
      "C:/Users/Lenovo/Documents/Education/Skripsi/Dataset/Dataset_Indonesia\\Stop\\Stop (10).wav: 3\n"
     ]
    },
    {
     "name": "stderr",
     "output_type": "stream",
     "text": [
      "C:\\Users\\Lenovo\\AppData\\Local\\Temp\\ipykernel_11612\\2861807924.py:31: FutureWarning: Pass y=[ 0.          0.          0.         ... -0.00397548 -0.04005211\n",
      " -0.07635497], sr=22050 as keyword args. From version 0.10 passing these as positional arguments will result in an error\n",
      "  MFCCs = librosa.feature.mfcc(signal, sample_rate, n_mfcc=num_mfcc, n_fft=n_fft, hop_length=hop_length)\n",
      "C:\\Users\\Lenovo\\AppData\\Local\\Temp\\ipykernel_11612\\2861807924.py:31: FutureWarning: Pass y=[ 1.13028385e-07 -1.04574191e-07  8.10405396e-08 ...  1.55991479e-03\n",
      "  1.43048982e-03  1.55937951e-03], sr=22050 as keyword args. From version 0.10 passing these as positional arguments will result in an error\n",
      "  MFCCs = librosa.feature.mfcc(signal, sample_rate, n_mfcc=num_mfcc, n_fft=n_fft, hop_length=hop_length)\n",
      "C:\\Users\\Lenovo\\AppData\\Local\\Temp\\ipykernel_11612\\2861807924.py:31: FutureWarning: Pass y=[ 1.13028385e-07 -1.04574191e-07  8.10405396e-08 ...  3.14111449e-03\n",
      "  3.66627728e-03  4.15040180e-03], sr=22050 as keyword args. From version 0.10 passing these as positional arguments will result in an error\n",
      "  MFCCs = librosa.feature.mfcc(signal, sample_rate, n_mfcc=num_mfcc, n_fft=n_fft, hop_length=hop_length)\n"
     ]
    },
    {
     "name": "stdout",
     "output_type": "stream",
     "text": [
      "C:/Users/Lenovo/Documents/Education/Skripsi/Dataset/Dataset_Indonesia\\Stop\\Stop (100).wav: 3\n",
      "C:/Users/Lenovo/Documents/Education/Skripsi/Dataset/Dataset_Indonesia\\Stop\\Stop (101).wav: 3\n",
      "C:/Users/Lenovo/Documents/Education/Skripsi/Dataset/Dataset_Indonesia\\Stop\\Stop (102).wav: 3\n",
      "C:/Users/Lenovo/Documents/Education/Skripsi/Dataset/Dataset_Indonesia\\Stop\\Stop (103).wav: 3\n"
     ]
    },
    {
     "name": "stderr",
     "output_type": "stream",
     "text": [
      "C:\\Users\\Lenovo\\AppData\\Local\\Temp\\ipykernel_11612\\2861807924.py:31: FutureWarning: Pass y=[ 1.13028385e-07 -1.04574191e-07  8.10405396e-08 ...  1.21352496e-03\n",
      "  1.49695959e-03  1.34693785e-03], sr=22050 as keyword args. From version 0.10 passing these as positional arguments will result in an error\n",
      "  MFCCs = librosa.feature.mfcc(signal, sample_rate, n_mfcc=num_mfcc, n_fft=n_fft, hop_length=hop_length)\n",
      "C:\\Users\\Lenovo\\AppData\\Local\\Temp\\ipykernel_11612\\2861807924.py:31: FutureWarning: Pass y=[ 1.13028385e-07 -1.04574191e-07  8.10405396e-08 ... -4.02907468e-02\n",
      " -5.92487119e-02 -7.46189430e-02], sr=22050 as keyword args. From version 0.10 passing these as positional arguments will result in an error\n",
      "  MFCCs = librosa.feature.mfcc(signal, sample_rate, n_mfcc=num_mfcc, n_fft=n_fft, hop_length=hop_length)\n"
     ]
    },
    {
     "name": "stdout",
     "output_type": "stream",
     "text": [
      "C:/Users/Lenovo/Documents/Education/Skripsi/Dataset/Dataset_Indonesia\\Stop\\Stop (104).wav: 3\n",
      "C:/Users/Lenovo/Documents/Education/Skripsi/Dataset/Dataset_Indonesia\\Stop\\Stop (105).wav: 3\n"
     ]
    },
    {
     "name": "stderr",
     "output_type": "stream",
     "text": [
      "C:\\Users\\Lenovo\\AppData\\Local\\Temp\\ipykernel_11612\\2861807924.py:31: FutureWarning: Pass y=[ 1.13028385e-07 -1.04574191e-07  8.10405396e-08 ...  3.41183646e-03\n",
      "  3.38092074e-03  3.42105096e-03], sr=22050 as keyword args. From version 0.10 passing these as positional arguments will result in an error\n",
      "  MFCCs = librosa.feature.mfcc(signal, sample_rate, n_mfcc=num_mfcc, n_fft=n_fft, hop_length=hop_length)\n",
      "C:\\Users\\Lenovo\\AppData\\Local\\Temp\\ipykernel_11612\\2861807924.py:31: FutureWarning: Pass y=[ 1.13028385e-07 -1.04574191e-07  8.10405396e-08 ... -2.78812181e-03\n",
      " -3.30073107e-03 -3.44895874e-03], sr=22050 as keyword args. From version 0.10 passing these as positional arguments will result in an error\n",
      "  MFCCs = librosa.feature.mfcc(signal, sample_rate, n_mfcc=num_mfcc, n_fft=n_fft, hop_length=hop_length)\n",
      "C:\\Users\\Lenovo\\AppData\\Local\\Temp\\ipykernel_11612\\2861807924.py:31: FutureWarning: Pass y=[ 1.13028385e-07 -1.04574191e-07  8.10405396e-08 ... -1.92639548e-02\n",
      " -1.42672220e-02 -1.50532825e-02], sr=22050 as keyword args. From version 0.10 passing these as positional arguments will result in an error\n",
      "  MFCCs = librosa.feature.mfcc(signal, sample_rate, n_mfcc=num_mfcc, n_fft=n_fft, hop_length=hop_length)\n"
     ]
    },
    {
     "name": "stdout",
     "output_type": "stream",
     "text": [
      "C:/Users/Lenovo/Documents/Education/Skripsi/Dataset/Dataset_Indonesia\\Stop\\Stop (106).wav: 3\n",
      "C:/Users/Lenovo/Documents/Education/Skripsi/Dataset/Dataset_Indonesia\\Stop\\Stop (107).wav: 3\n"
     ]
    },
    {
     "name": "stderr",
     "output_type": "stream",
     "text": [
      "C:\\Users\\Lenovo\\AppData\\Local\\Temp\\ipykernel_11612\\2861807924.py:31: FutureWarning: Pass y=[ 1.13028385e-07 -1.04574191e-07  8.10405396e-08 ...  4.84094536e-03\n",
      "  5.52548887e-03  5.16171847e-03], sr=22050 as keyword args. From version 0.10 passing these as positional arguments will result in an error\n",
      "  MFCCs = librosa.feature.mfcc(signal, sample_rate, n_mfcc=num_mfcc, n_fft=n_fft, hop_length=hop_length)\n",
      "C:\\Users\\Lenovo\\AppData\\Local\\Temp\\ipykernel_11612\\2861807924.py:31: FutureWarning: Pass y=[-5.3826142e-08  7.9589505e-08 -1.0581892e-07 ...  3.3946573e-03\n",
      "  3.3755337e-03  2.5413621e-03], sr=22050 as keyword args. From version 0.10 passing these as positional arguments will result in an error\n",
      "  MFCCs = librosa.feature.mfcc(signal, sample_rate, n_mfcc=num_mfcc, n_fft=n_fft, hop_length=hop_length)\n"
     ]
    },
    {
     "name": "stdout",
     "output_type": "stream",
     "text": [
      "C:/Users/Lenovo/Documents/Education/Skripsi/Dataset/Dataset_Indonesia\\Stop\\Stop (108).wav: 3\n",
      "C:/Users/Lenovo/Documents/Education/Skripsi/Dataset/Dataset_Indonesia\\Stop\\Stop (11).wav: 3\n",
      "C:/Users/Lenovo/Documents/Education/Skripsi/Dataset/Dataset_Indonesia\\Stop\\Stop (110).wav: 3\n"
     ]
    },
    {
     "name": "stderr",
     "output_type": "stream",
     "text": [
      "C:\\Users\\Lenovo\\AppData\\Local\\Temp\\ipykernel_11612\\2861807924.py:31: FutureWarning: Pass y=[ 1.13028385e-07 -1.04574191e-07  8.10405396e-08 ... -4.06243317e-02\n",
      " -2.28037238e-02 -1.10566139e-03], sr=22050 as keyword args. From version 0.10 passing these as positional arguments will result in an error\n",
      "  MFCCs = librosa.feature.mfcc(signal, sample_rate, n_mfcc=num_mfcc, n_fft=n_fft, hop_length=hop_length)\n",
      "C:\\Users\\Lenovo\\AppData\\Local\\Temp\\ipykernel_11612\\2861807924.py:31: FutureWarning: Pass y=[ 1.13028385e-07 -1.04574191e-07  8.10405396e-08 ... -8.36460735e-04\n",
      " -8.26151285e-04 -7.58002745e-04], sr=22050 as keyword args. From version 0.10 passing these as positional arguments will result in an error\n",
      "  MFCCs = librosa.feature.mfcc(signal, sample_rate, n_mfcc=num_mfcc, n_fft=n_fft, hop_length=hop_length)\n"
     ]
    },
    {
     "name": "stdout",
     "output_type": "stream",
     "text": [
      "C:/Users/Lenovo/Documents/Education/Skripsi/Dataset/Dataset_Indonesia\\Stop\\Stop (111).wav: 3\n",
      "C:/Users/Lenovo/Documents/Education/Skripsi/Dataset/Dataset_Indonesia\\Stop\\Stop (112).wav: 3\n"
     ]
    },
    {
     "name": "stderr",
     "output_type": "stream",
     "text": [
      "C:\\Users\\Lenovo\\AppData\\Local\\Temp\\ipykernel_11612\\2861807924.py:31: FutureWarning: Pass y=[ 1.13028385e-07 -1.04574191e-07  8.10405396e-08 ... -1.47088971e-02\n",
      " -2.26195809e-02 -2.71894857e-02], sr=22050 as keyword args. From version 0.10 passing these as positional arguments will result in an error\n",
      "  MFCCs = librosa.feature.mfcc(signal, sample_rate, n_mfcc=num_mfcc, n_fft=n_fft, hop_length=hop_length)\n",
      "C:\\Users\\Lenovo\\AppData\\Local\\Temp\\ipykernel_11612\\2861807924.py:31: FutureWarning: Pass y=[ 1.13028385e-07 -1.04574191e-07  8.10405396e-08 ... -5.13944030e-02\n",
      " -5.63349389e-02 -6.31195828e-02], sr=22050 as keyword args. From version 0.10 passing these as positional arguments will result in an error\n",
      "  MFCCs = librosa.feature.mfcc(signal, sample_rate, n_mfcc=num_mfcc, n_fft=n_fft, hop_length=hop_length)\n"
     ]
    },
    {
     "name": "stdout",
     "output_type": "stream",
     "text": [
      "C:/Users/Lenovo/Documents/Education/Skripsi/Dataset/Dataset_Indonesia\\Stop\\Stop (113).wav: 3\n",
      "C:/Users/Lenovo/Documents/Education/Skripsi/Dataset/Dataset_Indonesia\\Stop\\Stop (114).wav: 3\n"
     ]
    },
    {
     "name": "stderr",
     "output_type": "stream",
     "text": [
      "C:\\Users\\Lenovo\\AppData\\Local\\Temp\\ipykernel_11612\\2861807924.py:31: FutureWarning: Pass y=[ 1.13028385e-07 -1.04574191e-07  8.10405396e-08 ...  1.21895713e-03\n",
      " -2.98385555e-03 -1.77504518e-03], sr=22050 as keyword args. From version 0.10 passing these as positional arguments will result in an error\n",
      "  MFCCs = librosa.feature.mfcc(signal, sample_rate, n_mfcc=num_mfcc, n_fft=n_fft, hop_length=hop_length)\n",
      "C:\\Users\\Lenovo\\AppData\\Local\\Temp\\ipykernel_11612\\2861807924.py:31: FutureWarning: Pass y=[ 1.13028385e-07 -1.04574191e-07  8.10405396e-08 ...  7.91787927e-04\n",
      "  7.61214236e-04  5.39968896e-04], sr=22050 as keyword args. From version 0.10 passing these as positional arguments will result in an error\n",
      "  MFCCs = librosa.feature.mfcc(signal, sample_rate, n_mfcc=num_mfcc, n_fft=n_fft, hop_length=hop_length)\n"
     ]
    },
    {
     "name": "stdout",
     "output_type": "stream",
     "text": [
      "C:/Users/Lenovo/Documents/Education/Skripsi/Dataset/Dataset_Indonesia\\Stop\\Stop (115).wav: 3\n",
      "C:/Users/Lenovo/Documents/Education/Skripsi/Dataset/Dataset_Indonesia\\Stop\\Stop (116).wav: 3\n"
     ]
    },
    {
     "name": "stderr",
     "output_type": "stream",
     "text": [
      "C:\\Users\\Lenovo\\AppData\\Local\\Temp\\ipykernel_11612\\2861807924.py:31: FutureWarning: Pass y=[ 1.13028385e-07 -1.04574191e-07  8.10405396e-08 ... -2.03857315e-03\n",
      " -1.76094030e-03 -1.78089214e-03], sr=22050 as keyword args. From version 0.10 passing these as positional arguments will result in an error\n",
      "  MFCCs = librosa.feature.mfcc(signal, sample_rate, n_mfcc=num_mfcc, n_fft=n_fft, hop_length=hop_length)\n",
      "C:\\Users\\Lenovo\\AppData\\Local\\Temp\\ipykernel_11612\\2861807924.py:31: FutureWarning: Pass y=[ 1.13028385e-07 -1.04574191e-07  8.10405396e-08 ... -2.11038906e-03\n",
      " -2.53962912e-03 -2.99251010e-03], sr=22050 as keyword args. From version 0.10 passing these as positional arguments will result in an error\n",
      "  MFCCs = librosa.feature.mfcc(signal, sample_rate, n_mfcc=num_mfcc, n_fft=n_fft, hop_length=hop_length)\n"
     ]
    },
    {
     "name": "stdout",
     "output_type": "stream",
     "text": [
      "C:/Users/Lenovo/Documents/Education/Skripsi/Dataset/Dataset_Indonesia\\Stop\\Stop (117).wav: 3\n",
      "C:/Users/Lenovo/Documents/Education/Skripsi/Dataset/Dataset_Indonesia\\Stop\\Stop (118).wav: 3\n"
     ]
    },
    {
     "name": "stderr",
     "output_type": "stream",
     "text": [
      "C:\\Users\\Lenovo\\AppData\\Local\\Temp\\ipykernel_11612\\2861807924.py:31: FutureWarning: Pass y=[ 1.13028385e-07 -1.04574191e-07  8.10405396e-08 ... -2.00901693e-03\n",
      " -1.43046421e-03 -9.03903914e-04], sr=22050 as keyword args. From version 0.10 passing these as positional arguments will result in an error\n",
      "  MFCCs = librosa.feature.mfcc(signal, sample_rate, n_mfcc=num_mfcc, n_fft=n_fft, hop_length=hop_length)\n",
      "C:\\Users\\Lenovo\\AppData\\Local\\Temp\\ipykernel_11612\\2861807924.py:31: FutureWarning: Pass y=[ 1.13028385e-07 -1.04574191e-07  8.10405396e-08 ... -2.97012366e-03\n",
      " -3.77059472e-03 -4.48515685e-03], sr=22050 as keyword args. From version 0.10 passing these as positional arguments will result in an error\n",
      "  MFCCs = librosa.feature.mfcc(signal, sample_rate, n_mfcc=num_mfcc, n_fft=n_fft, hop_length=hop_length)\n"
     ]
    },
    {
     "name": "stdout",
     "output_type": "stream",
     "text": [
      "C:/Users/Lenovo/Documents/Education/Skripsi/Dataset/Dataset_Indonesia\\Stop\\Stop (119).wav: 3\n",
      "C:/Users/Lenovo/Documents/Education/Skripsi/Dataset/Dataset_Indonesia\\Stop\\Stop (12).wav: 3\n"
     ]
    },
    {
     "name": "stderr",
     "output_type": "stream",
     "text": [
      "C:\\Users\\Lenovo\\AppData\\Local\\Temp\\ipykernel_11612\\2861807924.py:31: FutureWarning: Pass y=[-4.7593971e-06 -4.8925958e-06  1.5949734e-06 ... -6.8714689e-03\n",
      " -6.3827299e-03 -6.3030049e-03], sr=22050 as keyword args. From version 0.10 passing these as positional arguments will result in an error\n",
      "  MFCCs = librosa.feature.mfcc(signal, sample_rate, n_mfcc=num_mfcc, n_fft=n_fft, hop_length=hop_length)\n",
      "C:\\Users\\Lenovo\\AppData\\Local\\Temp\\ipykernel_11612\\2861807924.py:31: FutureWarning: Pass y=[ 1.13028385e-07 -1.04574191e-07  8.10405396e-08 ... -1.70544384e-03\n",
      " -1.80209370e-03 -1.88877992e-03], sr=22050 as keyword args. From version 0.10 passing these as positional arguments will result in an error\n",
      "  MFCCs = librosa.feature.mfcc(signal, sample_rate, n_mfcc=num_mfcc, n_fft=n_fft, hop_length=hop_length)\n"
     ]
    },
    {
     "name": "stdout",
     "output_type": "stream",
     "text": [
      "C:/Users/Lenovo/Documents/Education/Skripsi/Dataset/Dataset_Indonesia\\Stop\\Stop (120).wav: 3\n",
      "C:/Users/Lenovo/Documents/Education/Skripsi/Dataset/Dataset_Indonesia\\Stop\\Stop (121).wav: 3\n"
     ]
    },
    {
     "name": "stderr",
     "output_type": "stream",
     "text": [
      "C:\\Users\\Lenovo\\AppData\\Local\\Temp\\ipykernel_11612\\2861807924.py:31: FutureWarning: Pass y=[ 1.13028385e-07 -1.04574191e-07  8.10405396e-08 ... -3.83458566e-03\n",
      " -3.47650191e-03 -3.04258312e-03], sr=22050 as keyword args. From version 0.10 passing these as positional arguments will result in an error\n",
      "  MFCCs = librosa.feature.mfcc(signal, sample_rate, n_mfcc=num_mfcc, n_fft=n_fft, hop_length=hop_length)\n",
      "C:\\Users\\Lenovo\\AppData\\Local\\Temp\\ipykernel_11612\\2861807924.py:31: FutureWarning: Pass y=[ 1.13028385e-07 -1.04574191e-07  8.10405396e-08 ... -4.60753664e-02\n",
      " -4.08882610e-02 -3.46509181e-02], sr=22050 as keyword args. From version 0.10 passing these as positional arguments will result in an error\n",
      "  MFCCs = librosa.feature.mfcc(signal, sample_rate, n_mfcc=num_mfcc, n_fft=n_fft, hop_length=hop_length)\n"
     ]
    },
    {
     "name": "stdout",
     "output_type": "stream",
     "text": [
      "C:/Users/Lenovo/Documents/Education/Skripsi/Dataset/Dataset_Indonesia\\Stop\\Stop (122).wav: 3\n",
      "C:/Users/Lenovo/Documents/Education/Skripsi/Dataset/Dataset_Indonesia\\Stop\\Stop (123).wav: 3\n"
     ]
    },
    {
     "name": "stderr",
     "output_type": "stream",
     "text": [
      "C:\\Users\\Lenovo\\AppData\\Local\\Temp\\ipykernel_11612\\2861807924.py:31: FutureWarning: Pass y=[ 1.13028385e-07 -1.04574191e-07  8.10405396e-08 ...  5.66980615e-03\n",
      "  6.64777262e-03  7.63461133e-03], sr=22050 as keyword args. From version 0.10 passing these as positional arguments will result in an error\n",
      "  MFCCs = librosa.feature.mfcc(signal, sample_rate, n_mfcc=num_mfcc, n_fft=n_fft, hop_length=hop_length)\n",
      "C:\\Users\\Lenovo\\AppData\\Local\\Temp\\ipykernel_11612\\2861807924.py:31: FutureWarning: Pass y=[ 1.13028385e-07 -1.04574191e-07  8.10405396e-08 ...  5.58007620e-02\n",
      "  5.13515249e-02  5.99401630e-02], sr=22050 as keyword args. From version 0.10 passing these as positional arguments will result in an error\n",
      "  MFCCs = librosa.feature.mfcc(signal, sample_rate, n_mfcc=num_mfcc, n_fft=n_fft, hop_length=hop_length)\n"
     ]
    },
    {
     "name": "stdout",
     "output_type": "stream",
     "text": [
      "C:/Users/Lenovo/Documents/Education/Skripsi/Dataset/Dataset_Indonesia\\Stop\\Stop (124).wav: 3\n",
      "C:/Users/Lenovo/Documents/Education/Skripsi/Dataset/Dataset_Indonesia\\Stop\\Stop (125).wav: 3\n"
     ]
    },
    {
     "name": "stderr",
     "output_type": "stream",
     "text": [
      "C:\\Users\\Lenovo\\AppData\\Local\\Temp\\ipykernel_11612\\2861807924.py:31: FutureWarning: Pass y=[ 1.13028385e-07 -1.04574191e-07  8.10405396e-08 ...  1.46646425e-03\n",
      "  1.12251414e-03  9.49144131e-04], sr=22050 as keyword args. From version 0.10 passing these as positional arguments will result in an error\n",
      "  MFCCs = librosa.feature.mfcc(signal, sample_rate, n_mfcc=num_mfcc, n_fft=n_fft, hop_length=hop_length)\n",
      "C:\\Users\\Lenovo\\AppData\\Local\\Temp\\ipykernel_11612\\2861807924.py:31: FutureWarning: Pass y=[ 1.13028385e-07 -1.04574191e-07  8.10405396e-08 ... -9.36606992e-03\n",
      " -1.96173098e-02 -2.96887066e-02], sr=22050 as keyword args. From version 0.10 passing these as positional arguments will result in an error\n",
      "  MFCCs = librosa.feature.mfcc(signal, sample_rate, n_mfcc=num_mfcc, n_fft=n_fft, hop_length=hop_length)\n"
     ]
    },
    {
     "name": "stdout",
     "output_type": "stream",
     "text": [
      "C:/Users/Lenovo/Documents/Education/Skripsi/Dataset/Dataset_Indonesia\\Stop\\Stop (126).wav: 3\n",
      "C:/Users/Lenovo/Documents/Education/Skripsi/Dataset/Dataset_Indonesia\\Stop\\Stop (127).wav: 3\n"
     ]
    },
    {
     "name": "stderr",
     "output_type": "stream",
     "text": [
      "C:\\Users\\Lenovo\\AppData\\Local\\Temp\\ipykernel_11612\\2861807924.py:31: FutureWarning: Pass y=[ 1.13028385e-07 -1.04574191e-07  8.10405396e-08 ... -4.50370573e-02\n",
      " -4.20288891e-02 -3.85161564e-02], sr=22050 as keyword args. From version 0.10 passing these as positional arguments will result in an error\n",
      "  MFCCs = librosa.feature.mfcc(signal, sample_rate, n_mfcc=num_mfcc, n_fft=n_fft, hop_length=hop_length)\n",
      "C:\\Users\\Lenovo\\AppData\\Local\\Temp\\ipykernel_11612\\2861807924.py:31: FutureWarning: Pass y=[ 1.13028385e-07 -1.04574191e-07  8.10405396e-08 ...  3.22852400e-03\n",
      " -2.47686822e-03 -6.15638355e-03], sr=22050 as keyword args. From version 0.10 passing these as positional arguments will result in an error\n",
      "  MFCCs = librosa.feature.mfcc(signal, sample_rate, n_mfcc=num_mfcc, n_fft=n_fft, hop_length=hop_length)\n"
     ]
    },
    {
     "name": "stdout",
     "output_type": "stream",
     "text": [
      "C:/Users/Lenovo/Documents/Education/Skripsi/Dataset/Dataset_Indonesia\\Stop\\Stop (128).wav: 3\n",
      "C:/Users/Lenovo/Documents/Education/Skripsi/Dataset/Dataset_Indonesia\\Stop\\Stop (129).wav: 3\n"
     ]
    },
    {
     "name": "stderr",
     "output_type": "stream",
     "text": [
      "C:\\Users\\Lenovo\\AppData\\Local\\Temp\\ipykernel_11612\\2861807924.py:31: FutureWarning: Pass y=[ 1.13028385e-07 -1.04574191e-07  8.10405396e-08 ... -1.68164317e-02\n",
      " -1.51754571e-02 -1.36180259e-02], sr=22050 as keyword args. From version 0.10 passing these as positional arguments will result in an error\n",
      "  MFCCs = librosa.feature.mfcc(signal, sample_rate, n_mfcc=num_mfcc, n_fft=n_fft, hop_length=hop_length)\n",
      "C:\\Users\\Lenovo\\AppData\\Local\\Temp\\ipykernel_11612\\2861807924.py:31: FutureWarning: Pass y=[-4.7593167e-06 -4.8927322e-06  1.5951812e-06 ... -8.3972421e-03\n",
      " -8.9737317e-03 -8.5814549e-03], sr=22050 as keyword args. From version 0.10 passing these as positional arguments will result in an error\n",
      "  MFCCs = librosa.feature.mfcc(signal, sample_rate, n_mfcc=num_mfcc, n_fft=n_fft, hop_length=hop_length)\n"
     ]
    },
    {
     "name": "stdout",
     "output_type": "stream",
     "text": [
      "C:/Users/Lenovo/Documents/Education/Skripsi/Dataset/Dataset_Indonesia\\Stop\\Stop (13).wav: 3\n",
      "C:/Users/Lenovo/Documents/Education/Skripsi/Dataset/Dataset_Indonesia\\Stop\\Stop (130).wav: 3\n"
     ]
    },
    {
     "name": "stderr",
     "output_type": "stream",
     "text": [
      "C:\\Users\\Lenovo\\AppData\\Local\\Temp\\ipykernel_11612\\2861807924.py:31: FutureWarning: Pass y=[ 1.13028385e-07 -1.04574191e-07  8.10405396e-08 ...  5.49564604e-03\n",
      "  4.78977710e-03  4.51711798e-03], sr=22050 as keyword args. From version 0.10 passing these as positional arguments will result in an error\n",
      "  MFCCs = librosa.feature.mfcc(signal, sample_rate, n_mfcc=num_mfcc, n_fft=n_fft, hop_length=hop_length)\n",
      "C:\\Users\\Lenovo\\AppData\\Local\\Temp\\ipykernel_11612\\2861807924.py:31: FutureWarning: Pass y=[ 1.13028385e-07 -1.04574191e-07  8.10405396e-08 ... -2.15281104e-03\n",
      " -9.70676716e-04  1.44571211e-04], sr=22050 as keyword args. From version 0.10 passing these as positional arguments will result in an error\n",
      "  MFCCs = librosa.feature.mfcc(signal, sample_rate, n_mfcc=num_mfcc, n_fft=n_fft, hop_length=hop_length)\n"
     ]
    },
    {
     "name": "stdout",
     "output_type": "stream",
     "text": [
      "C:/Users/Lenovo/Documents/Education/Skripsi/Dataset/Dataset_Indonesia\\Stop\\Stop (131).wav: 3\n",
      "C:/Users/Lenovo/Documents/Education/Skripsi/Dataset/Dataset_Indonesia\\Stop\\Stop (132).wav: 3\n"
     ]
    },
    {
     "name": "stderr",
     "output_type": "stream",
     "text": [
      "C:\\Users\\Lenovo\\AppData\\Local\\Temp\\ipykernel_11612\\2861807924.py:31: FutureWarning: Pass y=[ 1.13028385e-07 -1.04574191e-07  8.10405396e-08 ...  1.43742841e-02\n",
      "  1.20887989e-02  1.05244424e-02], sr=22050 as keyword args. From version 0.10 passing these as positional arguments will result in an error\n",
      "  MFCCs = librosa.feature.mfcc(signal, sample_rate, n_mfcc=num_mfcc, n_fft=n_fft, hop_length=hop_length)\n",
      "C:\\Users\\Lenovo\\AppData\\Local\\Temp\\ipykernel_11612\\2861807924.py:31: FutureWarning: Pass y=[ 1.13028385e-07 -1.04574191e-07  8.10405396e-08 ...  3.55385661e-01\n",
      "  3.75957280e-01  3.84958148e-01], sr=22050 as keyword args. From version 0.10 passing these as positional arguments will result in an error\n",
      "  MFCCs = librosa.feature.mfcc(signal, sample_rate, n_mfcc=num_mfcc, n_fft=n_fft, hop_length=hop_length)\n"
     ]
    },
    {
     "name": "stdout",
     "output_type": "stream",
     "text": [
      "C:/Users/Lenovo/Documents/Education/Skripsi/Dataset/Dataset_Indonesia\\Stop\\Stop (133).wav: 3\n",
      "C:/Users/Lenovo/Documents/Education/Skripsi/Dataset/Dataset_Indonesia\\Stop\\Stop (134).wav: 3\n"
     ]
    },
    {
     "name": "stderr",
     "output_type": "stream",
     "text": [
      "C:\\Users\\Lenovo\\AppData\\Local\\Temp\\ipykernel_11612\\2861807924.py:31: FutureWarning: Pass y=[ 1.13028385e-07 -1.04574191e-07  8.10405396e-08 ... -1.54045895e-01\n",
      " -1.44154683e-01 -1.36127204e-01], sr=22050 as keyword args. From version 0.10 passing these as positional arguments will result in an error\n",
      "  MFCCs = librosa.feature.mfcc(signal, sample_rate, n_mfcc=num_mfcc, n_fft=n_fft, hop_length=hop_length)\n",
      "C:\\Users\\Lenovo\\AppData\\Local\\Temp\\ipykernel_11612\\2861807924.py:31: FutureWarning: Pass y=[ 1.13028385e-07 -1.04574191e-07  8.10405396e-08 ... -7.28588738e-03\n",
      " -6.88668340e-03 -5.34118386e-03], sr=22050 as keyword args. From version 0.10 passing these as positional arguments will result in an error\n",
      "  MFCCs = librosa.feature.mfcc(signal, sample_rate, n_mfcc=num_mfcc, n_fft=n_fft, hop_length=hop_length)\n"
     ]
    },
    {
     "name": "stdout",
     "output_type": "stream",
     "text": [
      "C:/Users/Lenovo/Documents/Education/Skripsi/Dataset/Dataset_Indonesia\\Stop\\Stop (135).wav: 3\n",
      "C:/Users/Lenovo/Documents/Education/Skripsi/Dataset/Dataset_Indonesia\\Stop\\Stop (136).wav: 3\n"
     ]
    },
    {
     "name": "stderr",
     "output_type": "stream",
     "text": [
      "C:\\Users\\Lenovo\\AppData\\Local\\Temp\\ipykernel_11612\\2861807924.py:31: FutureWarning: Pass y=[ 1.13028385e-07 -1.04574191e-07  8.10405396e-08 ...  2.00783350e-02\n",
      "  1.94673724e-02  1.68698598e-02], sr=22050 as keyword args. From version 0.10 passing these as positional arguments will result in an error\n",
      "  MFCCs = librosa.feature.mfcc(signal, sample_rate, n_mfcc=num_mfcc, n_fft=n_fft, hop_length=hop_length)\n",
      "C:\\Users\\Lenovo\\AppData\\Local\\Temp\\ipykernel_11612\\2861807924.py:31: FutureWarning: Pass y=[ 1.13028385e-07 -1.04574191e-07  8.10405396e-08 ... -1.86469015e-02\n",
      " -1.96490809e-02 -2.06664260e-02], sr=22050 as keyword args. From version 0.10 passing these as positional arguments will result in an error\n",
      "  MFCCs = librosa.feature.mfcc(signal, sample_rate, n_mfcc=num_mfcc, n_fft=n_fft, hop_length=hop_length)\n"
     ]
    },
    {
     "name": "stdout",
     "output_type": "stream",
     "text": [
      "C:/Users/Lenovo/Documents/Education/Skripsi/Dataset/Dataset_Indonesia\\Stop\\Stop (137).wav: 3\n",
      "C:/Users/Lenovo/Documents/Education/Skripsi/Dataset/Dataset_Indonesia\\Stop\\Stop (138).wav: 3\n"
     ]
    },
    {
     "name": "stderr",
     "output_type": "stream",
     "text": [
      "C:\\Users\\Lenovo\\AppData\\Local\\Temp\\ipykernel_11612\\2861807924.py:31: FutureWarning: Pass y=[ 1.13028385e-07 -1.04574191e-07  8.10405396e-08 ... -1.82808712e-02\n",
      " -1.78742744e-02 -1.72214303e-02], sr=22050 as keyword args. From version 0.10 passing these as positional arguments will result in an error\n",
      "  MFCCs = librosa.feature.mfcc(signal, sample_rate, n_mfcc=num_mfcc, n_fft=n_fft, hop_length=hop_length)\n",
      "C:\\Users\\Lenovo\\AppData\\Local\\Temp\\ipykernel_11612\\2861807924.py:31: FutureWarning: Pass y=[ 1.13028385e-07 -1.04574191e-07  8.10405396e-08 ... -1.38500109e-02\n",
      " -1.47355795e-02 -1.51531473e-02], sr=22050 as keyword args. From version 0.10 passing these as positional arguments will result in an error\n",
      "  MFCCs = librosa.feature.mfcc(signal, sample_rate, n_mfcc=num_mfcc, n_fft=n_fft, hop_length=hop_length)\n"
     ]
    },
    {
     "name": "stdout",
     "output_type": "stream",
     "text": [
      "C:/Users/Lenovo/Documents/Education/Skripsi/Dataset/Dataset_Indonesia\\Stop\\Stop (139).wav: 3\n",
      "C:/Users/Lenovo/Documents/Education/Skripsi/Dataset/Dataset_Indonesia\\Stop\\Stop (14).wav: 3\n"
     ]
    },
    {
     "name": "stderr",
     "output_type": "stream",
     "text": [
      "C:\\Users\\Lenovo\\AppData\\Local\\Temp\\ipykernel_11612\\2861807924.py:31: FutureWarning: Pass y=[-5.3826142e-08  7.9589505e-08 -1.0581892e-07 ...  4.9350713e-03\n",
      "  6.1380533e-03  6.1550844e-03], sr=22050 as keyword args. From version 0.10 passing these as positional arguments will result in an error\n",
      "  MFCCs = librosa.feature.mfcc(signal, sample_rate, n_mfcc=num_mfcc, n_fft=n_fft, hop_length=hop_length)\n"
     ]
    },
    {
     "name": "stdout",
     "output_type": "stream",
     "text": [
      "C:/Users/Lenovo/Documents/Education/Skripsi/Dataset/Dataset_Indonesia\\Stop\\Stop (140).wav: 3\n",
      "C:/Users/Lenovo/Documents/Education/Skripsi/Dataset/Dataset_Indonesia\\Stop\\Stop (141).wav: 3\n"
     ]
    },
    {
     "name": "stderr",
     "output_type": "stream",
     "text": [
      "C:\\Users\\Lenovo\\AppData\\Local\\Temp\\ipykernel_11612\\2861807924.py:31: FutureWarning: Pass y=[ 1.13028385e-07 -1.04574191e-07  8.10405396e-08 ...  1.26979668e-02\n",
      "  1.19718509e-02  1.20188575e-02], sr=22050 as keyword args. From version 0.10 passing these as positional arguments will result in an error\n",
      "  MFCCs = librosa.feature.mfcc(signal, sample_rate, n_mfcc=num_mfcc, n_fft=n_fft, hop_length=hop_length)\n",
      "C:\\Users\\Lenovo\\AppData\\Local\\Temp\\ipykernel_11612\\2861807924.py:31: FutureWarning: Pass y=[ 1.13028385e-07 -1.04574191e-07  8.10405396e-08 ... -1.23267137e-02\n",
      " -1.33166080e-02 -1.42531702e-02], sr=22050 as keyword args. From version 0.10 passing these as positional arguments will result in an error\n",
      "  MFCCs = librosa.feature.mfcc(signal, sample_rate, n_mfcc=num_mfcc, n_fft=n_fft, hop_length=hop_length)\n"
     ]
    },
    {
     "name": "stdout",
     "output_type": "stream",
     "text": [
      "C:/Users/Lenovo/Documents/Education/Skripsi/Dataset/Dataset_Indonesia\\Stop\\Stop (142).wav: 3\n",
      "C:/Users/Lenovo/Documents/Education/Skripsi/Dataset/Dataset_Indonesia\\Stop\\Stop (143).wav: 3\n"
     ]
    },
    {
     "name": "stderr",
     "output_type": "stream",
     "text": [
      "C:\\Users\\Lenovo\\AppData\\Local\\Temp\\ipykernel_11612\\2861807924.py:31: FutureWarning: Pass y=[ 1.13028385e-07 -1.04574191e-07  8.10405396e-08 ... -5.00244973e-03\n",
      " -5.28687565e-03 -5.65574365e-03], sr=22050 as keyword args. From version 0.10 passing these as positional arguments will result in an error\n",
      "  MFCCs = librosa.feature.mfcc(signal, sample_rate, n_mfcc=num_mfcc, n_fft=n_fft, hop_length=hop_length)\n",
      "C:\\Users\\Lenovo\\AppData\\Local\\Temp\\ipykernel_11612\\2861807924.py:31: FutureWarning: Pass y=[ 1.13028385e-07 -1.04574191e-07  8.10405396e-08 ...  1.40219465e-01\n",
      "  1.40134111e-01  1.35220349e-01], sr=22050 as keyword args. From version 0.10 passing these as positional arguments will result in an error\n",
      "  MFCCs = librosa.feature.mfcc(signal, sample_rate, n_mfcc=num_mfcc, n_fft=n_fft, hop_length=hop_length)\n"
     ]
    },
    {
     "name": "stdout",
     "output_type": "stream",
     "text": [
      "C:/Users/Lenovo/Documents/Education/Skripsi/Dataset/Dataset_Indonesia\\Stop\\Stop (144).wav: 3\n",
      "C:/Users/Lenovo/Documents/Education/Skripsi/Dataset/Dataset_Indonesia\\Stop\\Stop (145).wav: 3\n"
     ]
    },
    {
     "name": "stderr",
     "output_type": "stream",
     "text": [
      "C:\\Users\\Lenovo\\AppData\\Local\\Temp\\ipykernel_11612\\2861807924.py:31: FutureWarning: Pass y=[ 1.13028385e-07 -1.04574191e-07  8.10405396e-08 ... -9.92950145e-03\n",
      " -1.07125444e-02 -1.12900361e-02], sr=22050 as keyword args. From version 0.10 passing these as positional arguments will result in an error\n",
      "  MFCCs = librosa.feature.mfcc(signal, sample_rate, n_mfcc=num_mfcc, n_fft=n_fft, hop_length=hop_length)\n",
      "C:\\Users\\Lenovo\\AppData\\Local\\Temp\\ipykernel_11612\\2861807924.py:31: FutureWarning: Pass y=[ 1.13028385e-07 -1.04574191e-07  8.10405396e-08 ...  1.20784463e-02\n",
      "  1.25718322e-02  1.30619826e-02], sr=22050 as keyword args. From version 0.10 passing these as positional arguments will result in an error\n",
      "  MFCCs = librosa.feature.mfcc(signal, sample_rate, n_mfcc=num_mfcc, n_fft=n_fft, hop_length=hop_length)\n"
     ]
    },
    {
     "name": "stdout",
     "output_type": "stream",
     "text": [
      "C:/Users/Lenovo/Documents/Education/Skripsi/Dataset/Dataset_Indonesia\\Stop\\Stop (146).wav: 3\n",
      "C:/Users/Lenovo/Documents/Education/Skripsi/Dataset/Dataset_Indonesia\\Stop\\Stop (147).wav: 3\n"
     ]
    },
    {
     "name": "stderr",
     "output_type": "stream",
     "text": [
      "C:\\Users\\Lenovo\\AppData\\Local\\Temp\\ipykernel_11612\\2861807924.py:31: FutureWarning: Pass y=[ 1.13028385e-07 -1.04574191e-07  8.10405396e-08 ... -6.37955731e-03\n",
      "  2.86519784e-03  1.31214568e-02], sr=22050 as keyword args. From version 0.10 passing these as positional arguments will result in an error\n",
      "  MFCCs = librosa.feature.mfcc(signal, sample_rate, n_mfcc=num_mfcc, n_fft=n_fft, hop_length=hop_length)\n",
      "C:\\Users\\Lenovo\\AppData\\Local\\Temp\\ipykernel_11612\\2861807924.py:31: FutureWarning: Pass y=[ 1.13028385e-07 -1.04574191e-07  8.10405396e-08 ... -4.66228127e-02\n",
      " -4.56072800e-02 -4.36039791e-02], sr=22050 as keyword args. From version 0.10 passing these as positional arguments will result in an error\n",
      "  MFCCs = librosa.feature.mfcc(signal, sample_rate, n_mfcc=num_mfcc, n_fft=n_fft, hop_length=hop_length)\n"
     ]
    },
    {
     "name": "stdout",
     "output_type": "stream",
     "text": [
      "C:/Users/Lenovo/Documents/Education/Skripsi/Dataset/Dataset_Indonesia\\Stop\\Stop (148).wav: 3\n",
      "C:/Users/Lenovo/Documents/Education/Skripsi/Dataset/Dataset_Indonesia\\Stop\\Stop (149).wav: 3\n"
     ]
    },
    {
     "name": "stderr",
     "output_type": "stream",
     "text": [
      "C:\\Users\\Lenovo\\AppData\\Local\\Temp\\ipykernel_11612\\2861807924.py:31: FutureWarning: Pass y=[ 1.13028385e-07 -1.04574191e-07  8.10405396e-08 ... -1.75191425e-02\n",
      " -1.79688837e-02 -1.79751534e-02], sr=22050 as keyword args. From version 0.10 passing these as positional arguments will result in an error\n",
      "  MFCCs = librosa.feature.mfcc(signal, sample_rate, n_mfcc=num_mfcc, n_fft=n_fft, hop_length=hop_length)\n",
      "C:\\Users\\Lenovo\\AppData\\Local\\Temp\\ipykernel_11612\\2861807924.py:31: FutureWarning: Pass y=[-5.2284108e-08  7.9192141e-08 -1.0727114e-07 ... -4.0740389e-03\n",
      " -4.5151608e-03 -4.6579931e-03], sr=22050 as keyword args. From version 0.10 passing these as positional arguments will result in an error\n",
      "  MFCCs = librosa.feature.mfcc(signal, sample_rate, n_mfcc=num_mfcc, n_fft=n_fft, hop_length=hop_length)\n"
     ]
    },
    {
     "name": "stdout",
     "output_type": "stream",
     "text": [
      "C:/Users/Lenovo/Documents/Education/Skripsi/Dataset/Dataset_Indonesia\\Stop\\Stop (15).wav: 3\n",
      "C:/Users/Lenovo/Documents/Education/Skripsi/Dataset/Dataset_Indonesia\\Stop\\Stop (150).wav: 3\n"
     ]
    },
    {
     "name": "stderr",
     "output_type": "stream",
     "text": [
      "C:\\Users\\Lenovo\\AppData\\Local\\Temp\\ipykernel_11612\\2861807924.py:31: FutureWarning: Pass y=[ 1.13028385e-07 -1.04574191e-07  8.10405396e-08 ... -9.40146204e-03\n",
      " -9.43466742e-03 -7.31643755e-03], sr=22050 as keyword args. From version 0.10 passing these as positional arguments will result in an error\n",
      "  MFCCs = librosa.feature.mfcc(signal, sample_rate, n_mfcc=num_mfcc, n_fft=n_fft, hop_length=hop_length)\n",
      "C:\\Users\\Lenovo\\AppData\\Local\\Temp\\ipykernel_11612\\2861807924.py:31: FutureWarning: Pass y=[ 1.13028385e-07 -1.04574191e-07  8.10405396e-08 ... -6.28120229e-02\n",
      " -8.61905515e-02 -1.04785360e-01], sr=22050 as keyword args. From version 0.10 passing these as positional arguments will result in an error\n",
      "  MFCCs = librosa.feature.mfcc(signal, sample_rate, n_mfcc=num_mfcc, n_fft=n_fft, hop_length=hop_length)\n"
     ]
    },
    {
     "name": "stdout",
     "output_type": "stream",
     "text": [
      "C:/Users/Lenovo/Documents/Education/Skripsi/Dataset/Dataset_Indonesia\\Stop\\Stop (151).wav: 3\n",
      "C:/Users/Lenovo/Documents/Education/Skripsi/Dataset/Dataset_Indonesia\\Stop\\Stop (152).wav: 3\n"
     ]
    },
    {
     "name": "stderr",
     "output_type": "stream",
     "text": [
      "C:\\Users\\Lenovo\\AppData\\Local\\Temp\\ipykernel_11612\\2861807924.py:31: FutureWarning: Pass y=[ 1.13028385e-07 -1.04574191e-07  8.10405396e-08 ... -1.98230217e-03\n",
      " -1.71277416e-03 -1.36428536e-03], sr=22050 as keyword args. From version 0.10 passing these as positional arguments will result in an error\n",
      "  MFCCs = librosa.feature.mfcc(signal, sample_rate, n_mfcc=num_mfcc, n_fft=n_fft, hop_length=hop_length)\n",
      "C:\\Users\\Lenovo\\AppData\\Local\\Temp\\ipykernel_11612\\2861807924.py:31: FutureWarning: Pass y=[ 1.13028385e-07 -1.04574191e-07  8.10405396e-08 ...  1.39159686e-03\n",
      "  1.62294530e-03  1.90259318e-03], sr=22050 as keyword args. From version 0.10 passing these as positional arguments will result in an error\n",
      "  MFCCs = librosa.feature.mfcc(signal, sample_rate, n_mfcc=num_mfcc, n_fft=n_fft, hop_length=hop_length)\n"
     ]
    },
    {
     "name": "stdout",
     "output_type": "stream",
     "text": [
      "C:/Users/Lenovo/Documents/Education/Skripsi/Dataset/Dataset_Indonesia\\Stop\\Stop (153).wav: 3\n",
      "C:/Users/Lenovo/Documents/Education/Skripsi/Dataset/Dataset_Indonesia\\Stop\\Stop (154).wav: 3\n"
     ]
    },
    {
     "name": "stderr",
     "output_type": "stream",
     "text": [
      "C:\\Users\\Lenovo\\AppData\\Local\\Temp\\ipykernel_11612\\2861807924.py:31: FutureWarning: Pass y=[ 1.13028385e-07 -1.04574191e-07  8.10405396e-08 ... -2.44929362e-03\n",
      " -3.68353073e-03 -4.42672055e-03], sr=22050 as keyword args. From version 0.10 passing these as positional arguments will result in an error\n",
      "  MFCCs = librosa.feature.mfcc(signal, sample_rate, n_mfcc=num_mfcc, n_fft=n_fft, hop_length=hop_length)\n",
      "C:\\Users\\Lenovo\\AppData\\Local\\Temp\\ipykernel_11612\\2861807924.py:31: FutureWarning: Pass y=[ 1.13028385e-07 -1.04574191e-07  8.10405396e-08 ... -5.45120379e-03\n",
      " -7.55268103e-03 -9.44730360e-03], sr=22050 as keyword args. From version 0.10 passing these as positional arguments will result in an error\n",
      "  MFCCs = librosa.feature.mfcc(signal, sample_rate, n_mfcc=num_mfcc, n_fft=n_fft, hop_length=hop_length)\n"
     ]
    },
    {
     "name": "stdout",
     "output_type": "stream",
     "text": [
      "C:/Users/Lenovo/Documents/Education/Skripsi/Dataset/Dataset_Indonesia\\Stop\\Stop (155).wav: 3\n",
      "C:/Users/Lenovo/Documents/Education/Skripsi/Dataset/Dataset_Indonesia\\Stop\\Stop (156).wav: 3\n"
     ]
    },
    {
     "name": "stderr",
     "output_type": "stream",
     "text": [
      "C:\\Users\\Lenovo\\AppData\\Local\\Temp\\ipykernel_11612\\2861807924.py:31: FutureWarning: Pass y=[ 1.13028385e-07 -1.04574191e-07  8.10405396e-08 ...  6.90033473e-03\n",
      "  8.17459635e-03  8.26445501e-03], sr=22050 as keyword args. From version 0.10 passing these as positional arguments will result in an error\n",
      "  MFCCs = librosa.feature.mfcc(signal, sample_rate, n_mfcc=num_mfcc, n_fft=n_fft, hop_length=hop_length)\n",
      "C:\\Users\\Lenovo\\AppData\\Local\\Temp\\ipykernel_11612\\2861807924.py:31: FutureWarning: Pass y=[ 1.13028385e-07 -1.04574191e-07  8.10405396e-08 ... -9.20586521e-04\n",
      " -2.07460555e-03 -4.45014983e-03], sr=22050 as keyword args. From version 0.10 passing these as positional arguments will result in an error\n",
      "  MFCCs = librosa.feature.mfcc(signal, sample_rate, n_mfcc=num_mfcc, n_fft=n_fft, hop_length=hop_length)\n"
     ]
    },
    {
     "name": "stdout",
     "output_type": "stream",
     "text": [
      "C:/Users/Lenovo/Documents/Education/Skripsi/Dataset/Dataset_Indonesia\\Stop\\Stop (157).wav: 3\n",
      "C:/Users/Lenovo/Documents/Education/Skripsi/Dataset/Dataset_Indonesia\\Stop\\Stop (158).wav: 3\n"
     ]
    },
    {
     "name": "stderr",
     "output_type": "stream",
     "text": [
      "C:\\Users\\Lenovo\\AppData\\Local\\Temp\\ipykernel_11612\\2861807924.py:31: FutureWarning: Pass y=[ 1.13028385e-07 -1.04574191e-07  8.10405396e-08 ...  1.30811508e-03\n",
      "  5.00823080e-04 -3.35280580e-04], sr=22050 as keyword args. From version 0.10 passing these as positional arguments will result in an error\n",
      "  MFCCs = librosa.feature.mfcc(signal, sample_rate, n_mfcc=num_mfcc, n_fft=n_fft, hop_length=hop_length)\n",
      "C:\\Users\\Lenovo\\AppData\\Local\\Temp\\ipykernel_11612\\2861807924.py:31: FutureWarning: Pass y=[ 1.13028385e-07 -1.04574191e-07  8.10405396e-08 ...  1.86344713e-03\n",
      "  7.08313833e-04  5.65385853e-05], sr=22050 as keyword args. From version 0.10 passing these as positional arguments will result in an error\n",
      "  MFCCs = librosa.feature.mfcc(signal, sample_rate, n_mfcc=num_mfcc, n_fft=n_fft, hop_length=hop_length)\n"
     ]
    },
    {
     "name": "stdout",
     "output_type": "stream",
     "text": [
      "C:/Users/Lenovo/Documents/Education/Skripsi/Dataset/Dataset_Indonesia\\Stop\\Stop (159).wav: 3\n"
     ]
    },
    {
     "name": "stderr",
     "output_type": "stream",
     "text": [
      "C:\\Users\\Lenovo\\AppData\\Local\\Temp\\ipykernel_11612\\2861807924.py:31: FutureWarning: Pass y=[-4.7596750e-06 -4.8923416e-06  1.5948376e-06 ... -2.5680838e-02\n",
      "  5.7648942e-03  5.4788101e-02], sr=22050 as keyword args. From version 0.10 passing these as positional arguments will result in an error\n",
      "  MFCCs = librosa.feature.mfcc(signal, sample_rate, n_mfcc=num_mfcc, n_fft=n_fft, hop_length=hop_length)\n",
      "C:\\Users\\Lenovo\\AppData\\Local\\Temp\\ipykernel_11612\\2861807924.py:31: FutureWarning: Pass y=[ 1.13028385e-07 -1.04574191e-07  8.10405396e-08 ...  1.32395350e-03\n",
      "  1.88825710e-03  1.33049907e-03], sr=22050 as keyword args. From version 0.10 passing these as positional arguments will result in an error\n",
      "  MFCCs = librosa.feature.mfcc(signal, sample_rate, n_mfcc=num_mfcc, n_fft=n_fft, hop_length=hop_length)\n"
     ]
    },
    {
     "name": "stdout",
     "output_type": "stream",
     "text": [
      "C:/Users/Lenovo/Documents/Education/Skripsi/Dataset/Dataset_Indonesia\\Stop\\Stop (16).wav: 3\n",
      "C:/Users/Lenovo/Documents/Education/Skripsi/Dataset/Dataset_Indonesia\\Stop\\Stop (160).wav: 3\n"
     ]
    },
    {
     "name": "stderr",
     "output_type": "stream",
     "text": [
      "C:\\Users\\Lenovo\\AppData\\Local\\Temp\\ipykernel_11612\\2861807924.py:31: FutureWarning: Pass y=[ 1.13028385e-07 -1.04574191e-07  8.10405396e-08 ... -2.43741134e-03\n",
      " -1.15461415e-03 -5.20294940e-04], sr=22050 as keyword args. From version 0.10 passing these as positional arguments will result in an error\n",
      "  MFCCs = librosa.feature.mfcc(signal, sample_rate, n_mfcc=num_mfcc, n_fft=n_fft, hop_length=hop_length)\n",
      "C:\\Users\\Lenovo\\AppData\\Local\\Temp\\ipykernel_11612\\2861807924.py:31: FutureWarning: Pass y=[ 1.13028385e-07 -1.04574191e-07  8.10405396e-08 ...  1.00560009e-03\n",
      "  1.47582602e-03  1.77655986e-03], sr=22050 as keyword args. From version 0.10 passing these as positional arguments will result in an error\n",
      "  MFCCs = librosa.feature.mfcc(signal, sample_rate, n_mfcc=num_mfcc, n_fft=n_fft, hop_length=hop_length)\n",
      "C:\\Users\\Lenovo\\AppData\\Local\\Temp\\ipykernel_11612\\2861807924.py:31: FutureWarning: Pass y=[ 1.13028385e-07 -1.04574191e-07  8.10405396e-08 ... -1.73425872e-03\n",
      " -1.34454842e-03 -1.64541998e-03], sr=22050 as keyword args. From version 0.10 passing these as positional arguments will result in an error\n",
      "  MFCCs = librosa.feature.mfcc(signal, sample_rate, n_mfcc=num_mfcc, n_fft=n_fft, hop_length=hop_length)\n"
     ]
    },
    {
     "name": "stdout",
     "output_type": "stream",
     "text": [
      "C:/Users/Lenovo/Documents/Education/Skripsi/Dataset/Dataset_Indonesia\\Stop\\Stop (161).wav: 3\n",
      "C:/Users/Lenovo/Documents/Education/Skripsi/Dataset/Dataset_Indonesia\\Stop\\Stop (162).wav: 3\n"
     ]
    },
    {
     "name": "stderr",
     "output_type": "stream",
     "text": [
      "C:\\Users\\Lenovo\\AppData\\Local\\Temp\\ipykernel_11612\\2861807924.py:31: FutureWarning: Pass y=[ 1.13028385e-07 -1.04574191e-07  8.10405396e-08 ...  9.67800617e-04\n",
      "  7.08256208e-04  3.05429858e-04], sr=22050 as keyword args. From version 0.10 passing these as positional arguments will result in an error\n",
      "  MFCCs = librosa.feature.mfcc(signal, sample_rate, n_mfcc=num_mfcc, n_fft=n_fft, hop_length=hop_length)\n"
     ]
    },
    {
     "name": "stdout",
     "output_type": "stream",
     "text": [
      "C:/Users/Lenovo/Documents/Education/Skripsi/Dataset/Dataset_Indonesia\\Stop\\Stop (163).wav: 3\n",
      "C:/Users/Lenovo/Documents/Education/Skripsi/Dataset/Dataset_Indonesia\\Stop\\Stop (165).wav: 3"
     ]
    },
    {
     "name": "stderr",
     "output_type": "stream",
     "text": [
      "C:\\Users\\Lenovo\\AppData\\Local\\Temp\\ipykernel_11612\\2861807924.py:31: FutureWarning: Pass y=[ 1.13028385e-07 -1.04574191e-07  8.10405396e-08 ... -1.37714390e-03\n",
      " -3.37292382e-04  4.58654657e-04], sr=22050 as keyword args. From version 0.10 passing these as positional arguments will result in an error\n",
      "  MFCCs = librosa.feature.mfcc(signal, sample_rate, n_mfcc=num_mfcc, n_fft=n_fft, hop_length=hop_length)\n",
      "C:\\Users\\Lenovo\\AppData\\Local\\Temp\\ipykernel_11612\\2861807924.py:31: FutureWarning: Pass y=[ 1.13028385e-07 -1.04574191e-07  8.10405396e-08 ... -4.86312574e-03\n",
      " -4.36557317e-03 -4.06968454e-03], sr=22050 as keyword args. From version 0.10 passing these as positional arguments will result in an error\n",
      "  MFCCs = librosa.feature.mfcc(signal, sample_rate, n_mfcc=num_mfcc, n_fft=n_fft, hop_length=hop_length)\n",
      "C:\\Users\\Lenovo\\AppData\\Local\\Temp\\ipykernel_11612\\2861807924.py:31: FutureWarning: Pass y=[ 1.13028385e-07 -1.04574191e-07  8.10405396e-08 ... -3.24662215e-05\n",
      " -7.60802533e-04 -9.76096548e-04], sr=22050 as keyword args. From version 0.10 passing these as positional arguments will result in an error\n",
      "  MFCCs = librosa.feature.mfcc(signal, sample_rate, n_mfcc=num_mfcc, n_fft=n_fft, hop_length=hop_length)\n"
     ]
    },
    {
     "name": "stdout",
     "output_type": "stream",
     "text": [
      "\n",
      "C:/Users/Lenovo/Documents/Education/Skripsi/Dataset/Dataset_Indonesia\\Stop\\Stop (166).wav: 3\n",
      "C:/Users/Lenovo/Documents/Education/Skripsi/Dataset/Dataset_Indonesia\\Stop\\Stop (167).wav: 3\n",
      "C:/Users/Lenovo/Documents/Education/Skripsi/Dataset/Dataset_Indonesia\\Stop\\Stop (168).wav: 3\n",
      "C:/Users/Lenovo/Documents/Education/Skripsi/Dataset/Dataset_Indonesia\\Stop\\Stop (169).wav: 3\n"
     ]
    },
    {
     "name": "stderr",
     "output_type": "stream",
     "text": [
      "C:\\Users\\Lenovo\\AppData\\Local\\Temp\\ipykernel_11612\\2861807924.py:31: FutureWarning: Pass y=[ 1.13028385e-07 -1.04574191e-07  8.10405396e-08 ...  1.06910663e-03\n",
      "  1.16312376e-03  1.09630998e-03], sr=22050 as keyword args. From version 0.10 passing these as positional arguments will result in an error\n",
      "  MFCCs = librosa.feature.mfcc(signal, sample_rate, n_mfcc=num_mfcc, n_fft=n_fft, hop_length=hop_length)\n",
      "C:\\Users\\Lenovo\\AppData\\Local\\Temp\\ipykernel_11612\\2861807924.py:31: FutureWarning: Pass y=[-4.7571866e-06 -4.9102546e-06  1.6313357e-06 ... -3.0583849e-02\n",
      " -2.4335155e-02 -1.5764901e-02], sr=22050 as keyword args. From version 0.10 passing these as positional arguments will result in an error\n",
      "  MFCCs = librosa.feature.mfcc(signal, sample_rate, n_mfcc=num_mfcc, n_fft=n_fft, hop_length=hop_length)\n"
     ]
    },
    {
     "name": "stdout",
     "output_type": "stream",
     "text": [
      "C:/Users/Lenovo/Documents/Education/Skripsi/Dataset/Dataset_Indonesia\\Stop\\Stop (17).wav: 3\n",
      "C:/Users/Lenovo/Documents/Education/Skripsi/Dataset/Dataset_Indonesia\\Stop\\Stop (170).wav: 3\n"
     ]
    },
    {
     "name": "stderr",
     "output_type": "stream",
     "text": [
      "C:\\Users\\Lenovo\\AppData\\Local\\Temp\\ipykernel_11612\\2861807924.py:31: FutureWarning: Pass y=[ 1.13028385e-07 -1.04574191e-07  8.10405396e-08 ...  1.46810769e-03\n",
      "  2.45273276e-03  1.79360248e-03], sr=22050 as keyword args. From version 0.10 passing these as positional arguments will result in an error\n",
      "  MFCCs = librosa.feature.mfcc(signal, sample_rate, n_mfcc=num_mfcc, n_fft=n_fft, hop_length=hop_length)\n",
      "C:\\Users\\Lenovo\\AppData\\Local\\Temp\\ipykernel_11612\\2861807924.py:31: FutureWarning: Pass y=[ 1.13028385e-07 -1.04574191e-07  8.10405396e-08 ... -2.72168615e-03\n",
      " -2.88565760e-03 -3.32098710e-03], sr=22050 as keyword args. From version 0.10 passing these as positional arguments will result in an error\n",
      "  MFCCs = librosa.feature.mfcc(signal, sample_rate, n_mfcc=num_mfcc, n_fft=n_fft, hop_length=hop_length)\n"
     ]
    },
    {
     "name": "stdout",
     "output_type": "stream",
     "text": [
      "C:/Users/Lenovo/Documents/Education/Skripsi/Dataset/Dataset_Indonesia\\Stop\\Stop (171).wav: 3\n"
     ]
    },
    {
     "name": "stderr",
     "output_type": "stream",
     "text": [
      "C:\\Users\\Lenovo\\AppData\\Local\\Temp\\ipykernel_11612\\2861807924.py:31: FutureWarning: Pass y=[ 1.13028385e-07 -1.04574191e-07  8.10405396e-08 ...  5.94851081e-05\n",
      "  1.04540995e-04  2.33981060e-04], sr=22050 as keyword args. From version 0.10 passing these as positional arguments will result in an error\n",
      "  MFCCs = librosa.feature.mfcc(signal, sample_rate, n_mfcc=num_mfcc, n_fft=n_fft, hop_length=hop_length)\n"
     ]
    },
    {
     "name": "stdout",
     "output_type": "stream",
     "text": [
      "C:/Users/Lenovo/Documents/Education/Skripsi/Dataset/Dataset_Indonesia\\Stop\\Stop (172).wav: 3\n",
      "C:/Users/Lenovo/Documents/Education/Skripsi/Dataset/Dataset_Indonesia\\Stop\\Stop (173).wav: 3\n"
     ]
    },
    {
     "name": "stderr",
     "output_type": "stream",
     "text": [
      "C:\\Users\\Lenovo\\AppData\\Local\\Temp\\ipykernel_11612\\2861807924.py:31: FutureWarning: Pass y=[ 1.13028385e-07 -1.04574191e-07  8.10405396e-08 ... -2.52615986e-03\n",
      " -2.69174809e-03 -2.70674727e-03], sr=22050 as keyword args. From version 0.10 passing these as positional arguments will result in an error\n",
      "  MFCCs = librosa.feature.mfcc(signal, sample_rate, n_mfcc=num_mfcc, n_fft=n_fft, hop_length=hop_length)\n",
      "C:\\Users\\Lenovo\\AppData\\Local\\Temp\\ipykernel_11612\\2861807924.py:31: FutureWarning: Pass y=[ 1.13028385e-07 -1.04574191e-07  8.10405396e-08 ...  1.61704724e-03\n",
      "  9.40661121e-04  6.50726317e-04], sr=22050 as keyword args. From version 0.10 passing these as positional arguments will result in an error\n",
      "  MFCCs = librosa.feature.mfcc(signal, sample_rate, n_mfcc=num_mfcc, n_fft=n_fft, hop_length=hop_length)\n"
     ]
    },
    {
     "name": "stdout",
     "output_type": "stream",
     "text": [
      "C:/Users/Lenovo/Documents/Education/Skripsi/Dataset/Dataset_Indonesia\\Stop\\Stop (174).wav: 3\n",
      "C:/Users/Lenovo/Documents/Education/Skripsi/Dataset/Dataset_Indonesia\\Stop\\Stop (175).wav: 3\n"
     ]
    },
    {
     "name": "stderr",
     "output_type": "stream",
     "text": [
      "C:\\Users\\Lenovo\\AppData\\Local\\Temp\\ipykernel_11612\\2861807924.py:31: FutureWarning: Pass y=[ 1.13028385e-07 -1.04574191e-07  8.10405396e-08 ... -2.61590839e-03\n",
      " -2.86888168e-03 -2.56158249e-03], sr=22050 as keyword args. From version 0.10 passing these as positional arguments will result in an error\n",
      "  MFCCs = librosa.feature.mfcc(signal, sample_rate, n_mfcc=num_mfcc, n_fft=n_fft, hop_length=hop_length)\n",
      "C:\\Users\\Lenovo\\AppData\\Local\\Temp\\ipykernel_11612\\2861807924.py:31: FutureWarning: Pass y=[ 1.13028385e-07 -1.04574191e-07  8.10405396e-08 ...  2.44011916e-03\n",
      "  3.10156425e-03  3.66434944e-03], sr=22050 as keyword args. From version 0.10 passing these as positional arguments will result in an error\n",
      "  MFCCs = librosa.feature.mfcc(signal, sample_rate, n_mfcc=num_mfcc, n_fft=n_fft, hop_length=hop_length)\n"
     ]
    },
    {
     "name": "stdout",
     "output_type": "stream",
     "text": [
      "C:/Users/Lenovo/Documents/Education/Skripsi/Dataset/Dataset_Indonesia\\Stop\\Stop (176).wav: 3\n",
      "C:/Users/Lenovo/Documents/Education/Skripsi/Dataset/Dataset_Indonesia\\Stop\\Stop (177).wav: 3\n"
     ]
    },
    {
     "name": "stderr",
     "output_type": "stream",
     "text": [
      "C:\\Users\\Lenovo\\AppData\\Local\\Temp\\ipykernel_11612\\2861807924.py:31: FutureWarning: Pass y=[ 1.13028385e-07 -1.04574191e-07  8.10405396e-08 ... -3.44276382e-03\n",
      " -4.98836301e-03 -5.61207626e-03], sr=22050 as keyword args. From version 0.10 passing these as positional arguments will result in an error\n",
      "  MFCCs = librosa.feature.mfcc(signal, sample_rate, n_mfcc=num_mfcc, n_fft=n_fft, hop_length=hop_length)\n",
      "C:\\Users\\Lenovo\\AppData\\Local\\Temp\\ipykernel_11612\\2861807924.py:31: FutureWarning: Pass y=[ 1.13028385e-07 -1.04574191e-07  8.10405396e-08 ...  1.26965698e-02\n",
      "  1.32737728e-02  1.37735251e-02], sr=22050 as keyword args. From version 0.10 passing these as positional arguments will result in an error\n",
      "  MFCCs = librosa.feature.mfcc(signal, sample_rate, n_mfcc=num_mfcc, n_fft=n_fft, hop_length=hop_length)\n"
     ]
    },
    {
     "name": "stdout",
     "output_type": "stream",
     "text": [
      "C:/Users/Lenovo/Documents/Education/Skripsi/Dataset/Dataset_Indonesia\\Stop\\Stop (178).wav: 3\n",
      "C:/Users/Lenovo/Documents/Education/Skripsi/Dataset/Dataset_Indonesia\\Stop\\Stop (179).wav: 3\n"
     ]
    },
    {
     "name": "stderr",
     "output_type": "stream",
     "text": [
      "C:\\Users\\Lenovo\\AppData\\Local\\Temp\\ipykernel_11612\\2861807924.py:31: FutureWarning: Pass y=[ 1.13028385e-07 -1.04574191e-07  8.10405396e-08 ... -6.28631748e-03\n",
      " -5.55401947e-03 -4.60686767e-03], sr=22050 as keyword args. From version 0.10 passing these as positional arguments will result in an error\n",
      "  MFCCs = librosa.feature.mfcc(signal, sample_rate, n_mfcc=num_mfcc, n_fft=n_fft, hop_length=hop_length)\n",
      "C:\\Users\\Lenovo\\AppData\\Local\\Temp\\ipykernel_11612\\2861807924.py:31: FutureWarning: Pass y=[-5.42114087e-08  7.81162655e-08 -1.01713425e-07 ...  4.70084660e-02\n",
      "  8.08778107e-02  3.45380008e-02], sr=22050 as keyword args. From version 0.10 passing these as positional arguments will result in an error\n",
      "  MFCCs = librosa.feature.mfcc(signal, sample_rate, n_mfcc=num_mfcc, n_fft=n_fft, hop_length=hop_length)\n"
     ]
    },
    {
     "name": "stdout",
     "output_type": "stream",
     "text": [
      "C:/Users/Lenovo/Documents/Education/Skripsi/Dataset/Dataset_Indonesia\\Stop\\Stop (18).wav: 3\n",
      "C:/Users/Lenovo/Documents/Education/Skripsi/Dataset/Dataset_Indonesia\\Stop\\Stop (180).wav: 3\n"
     ]
    },
    {
     "name": "stderr",
     "output_type": "stream",
     "text": [
      "C:\\Users\\Lenovo\\AppData\\Local\\Temp\\ipykernel_11612\\2861807924.py:31: FutureWarning: Pass y=[ 1.13028385e-07 -1.04574191e-07  8.10405396e-08 ...  7.57618807e-03\n",
      "  8.48468952e-03  8.84077046e-03], sr=22050 as keyword args. From version 0.10 passing these as positional arguments will result in an error\n",
      "  MFCCs = librosa.feature.mfcc(signal, sample_rate, n_mfcc=num_mfcc, n_fft=n_fft, hop_length=hop_length)\n",
      "C:\\Users\\Lenovo\\AppData\\Local\\Temp\\ipykernel_11612\\2861807924.py:31: FutureWarning: Pass y=[ 1.13028385e-07 -1.04574191e-07  8.10405396e-08 ...  9.82425176e-03\n",
      "  8.48557334e-03  8.05516541e-03], sr=22050 as keyword args. From version 0.10 passing these as positional arguments will result in an error\n",
      "  MFCCs = librosa.feature.mfcc(signal, sample_rate, n_mfcc=num_mfcc, n_fft=n_fft, hop_length=hop_length)\n"
     ]
    },
    {
     "name": "stdout",
     "output_type": "stream",
     "text": [
      "C:/Users/Lenovo/Documents/Education/Skripsi/Dataset/Dataset_Indonesia\\Stop\\Stop (181).wav: 3\n",
      "C:/Users/Lenovo/Documents/Education/Skripsi/Dataset/Dataset_Indonesia\\Stop\\Stop (182).wav: 3\n"
     ]
    },
    {
     "name": "stderr",
     "output_type": "stream",
     "text": [
      "C:\\Users\\Lenovo\\AppData\\Local\\Temp\\ipykernel_11612\\2861807924.py:31: FutureWarning: Pass y=[ 1.13028385e-07 -1.04574191e-07  8.10405396e-08 ...  4.10198160e-02\n",
      "  4.05660048e-02  4.31814492e-02], sr=22050 as keyword args. From version 0.10 passing these as positional arguments will result in an error\n",
      "  MFCCs = librosa.feature.mfcc(signal, sample_rate, n_mfcc=num_mfcc, n_fft=n_fft, hop_length=hop_length)\n",
      "C:\\Users\\Lenovo\\AppData\\Local\\Temp\\ipykernel_11612\\2861807924.py:31: FutureWarning: Pass y=[ 1.13028385e-07 -1.04574191e-07  8.10405396e-08 ... -9.57758073e-03\n",
      " -8.35913140e-03 -6.61330391e-03], sr=22050 as keyword args. From version 0.10 passing these as positional arguments will result in an error\n",
      "  MFCCs = librosa.feature.mfcc(signal, sample_rate, n_mfcc=num_mfcc, n_fft=n_fft, hop_length=hop_length)\n"
     ]
    },
    {
     "name": "stdout",
     "output_type": "stream",
     "text": [
      "C:/Users/Lenovo/Documents/Education/Skripsi/Dataset/Dataset_Indonesia\\Stop\\Stop (183).wav: 3\n",
      "C:/Users/Lenovo/Documents/Education/Skripsi/Dataset/Dataset_Indonesia\\Stop\\Stop (184).wav: 3\n"
     ]
    },
    {
     "name": "stderr",
     "output_type": "stream",
     "text": [
      "C:\\Users\\Lenovo\\AppData\\Local\\Temp\\ipykernel_11612\\2861807924.py:31: FutureWarning: Pass y=[ 1.13028385e-07 -1.04574191e-07  8.10405396e-08 ... -3.17259715e-03\n",
      " -2.48212065e-03 -2.46296637e-03], sr=22050 as keyword args. From version 0.10 passing these as positional arguments will result in an error\n",
      "  MFCCs = librosa.feature.mfcc(signal, sample_rate, n_mfcc=num_mfcc, n_fft=n_fft, hop_length=hop_length)\n",
      "C:\\Users\\Lenovo\\AppData\\Local\\Temp\\ipykernel_11612\\2861807924.py:31: FutureWarning: Pass y=[ 1.13028385e-07 -1.04574191e-07  8.10405396e-08 ... -1.26732923e-02\n",
      " -1.13224220e-02 -9.92040336e-03], sr=22050 as keyword args. From version 0.10 passing these as positional arguments will result in an error\n",
      "  MFCCs = librosa.feature.mfcc(signal, sample_rate, n_mfcc=num_mfcc, n_fft=n_fft, hop_length=hop_length)\n"
     ]
    },
    {
     "name": "stdout",
     "output_type": "stream",
     "text": [
      "C:/Users/Lenovo/Documents/Education/Skripsi/Dataset/Dataset_Indonesia\\Stop\\Stop (185).wav: 3\n",
      "C:/Users/Lenovo/Documents/Education/Skripsi/Dataset/Dataset_Indonesia\\Stop\\Stop (186).wav: 3\n"
     ]
    },
    {
     "name": "stderr",
     "output_type": "stream",
     "text": [
      "C:\\Users\\Lenovo\\AppData\\Local\\Temp\\ipykernel_11612\\2861807924.py:31: FutureWarning: Pass y=[ 1.13028385e-07 -1.04574191e-07  8.10405396e-08 ...  1.32867065e-03\n",
      "  1.45586219e-03  1.89842505e-03], sr=22050 as keyword args. From version 0.10 passing these as positional arguments will result in an error\n",
      "  MFCCs = librosa.feature.mfcc(signal, sample_rate, n_mfcc=num_mfcc, n_fft=n_fft, hop_length=hop_length)\n",
      "C:\\Users\\Lenovo\\AppData\\Local\\Temp\\ipykernel_11612\\2861807924.py:31: FutureWarning: Pass y=[ 1.13028385e-07 -1.04574191e-07  8.10405396e-08 ... -5.89943666e-05\n",
      " -3.61703016e-04 -3.73183080e-04], sr=22050 as keyword args. From version 0.10 passing these as positional arguments will result in an error\n",
      "  MFCCs = librosa.feature.mfcc(signal, sample_rate, n_mfcc=num_mfcc, n_fft=n_fft, hop_length=hop_length)\n"
     ]
    },
    {
     "name": "stdout",
     "output_type": "stream",
     "text": [
      "C:/Users/Lenovo/Documents/Education/Skripsi/Dataset/Dataset_Indonesia\\Stop\\Stop (187).wav: 3\n",
      "C:/Users/Lenovo/Documents/Education/Skripsi/Dataset/Dataset_Indonesia\\Stop\\Stop (188).wav: 3\n"
     ]
    },
    {
     "name": "stderr",
     "output_type": "stream",
     "text": [
      "C:\\Users\\Lenovo\\AppData\\Local\\Temp\\ipykernel_11612\\2861807924.py:31: FutureWarning: Pass y=[ 1.13028385e-07 -1.04574191e-07  8.10405396e-08 ... -1.67702697e-02\n",
      " -1.97140407e-02 -1.93033069e-02], sr=22050 as keyword args. From version 0.10 passing these as positional arguments will result in an error\n",
      "  MFCCs = librosa.feature.mfcc(signal, sample_rate, n_mfcc=num_mfcc, n_fft=n_fft, hop_length=hop_length)\n",
      "C:\\Users\\Lenovo\\AppData\\Local\\Temp\\ipykernel_11612\\2861807924.py:31: FutureWarning: Pass y=[ 1.13028385e-07 -1.04574191e-07  8.10405396e-08 ... -1.08305989e-02\n",
      " -1.02818944e-02 -9.66877211e-03], sr=22050 as keyword args. From version 0.10 passing these as positional arguments will result in an error\n",
      "  MFCCs = librosa.feature.mfcc(signal, sample_rate, n_mfcc=num_mfcc, n_fft=n_fft, hop_length=hop_length)\n"
     ]
    },
    {
     "name": "stdout",
     "output_type": "stream",
     "text": [
      "C:/Users/Lenovo/Documents/Education/Skripsi/Dataset/Dataset_Indonesia\\Stop\\Stop (189).wav: 3\n",
      "C:/Users/Lenovo/Documents/Education/Skripsi/Dataset/Dataset_Indonesia\\Stop\\Stop (19).wav: 3\n"
     ]
    },
    {
     "name": "stderr",
     "output_type": "stream",
     "text": [
      "C:\\Users\\Lenovo\\AppData\\Local\\Temp\\ipykernel_11612\\2861807924.py:31: FutureWarning: Pass y=[-4.7632625e-06 -4.8877391e-06  1.5893015e-06 ...  1.1560152e-03\n",
      " -2.3921793e-03 -5.2660033e-03], sr=22050 as keyword args. From version 0.10 passing these as positional arguments will result in an error\n",
      "  MFCCs = librosa.feature.mfcc(signal, sample_rate, n_mfcc=num_mfcc, n_fft=n_fft, hop_length=hop_length)\n",
      "C:\\Users\\Lenovo\\AppData\\Local\\Temp\\ipykernel_11612\\2861807924.py:31: FutureWarning: Pass y=[ 1.13028385e-07 -1.04574191e-07  8.10405396e-08 ...  2.81604175e-02\n",
      "  3.00382432e-02  3.11298855e-02], sr=22050 as keyword args. From version 0.10 passing these as positional arguments will result in an error\n",
      "  MFCCs = librosa.feature.mfcc(signal, sample_rate, n_mfcc=num_mfcc, n_fft=n_fft, hop_length=hop_length)\n"
     ]
    },
    {
     "name": "stdout",
     "output_type": "stream",
     "text": [
      "C:/Users/Lenovo/Documents/Education/Skripsi/Dataset/Dataset_Indonesia\\Stop\\Stop (190).wav: 3\n",
      "C:/Users/Lenovo/Documents/Education/Skripsi/Dataset/Dataset_Indonesia\\Stop\\Stop (191).wav: 3\n"
     ]
    },
    {
     "name": "stderr",
     "output_type": "stream",
     "text": [
      "C:\\Users\\Lenovo\\AppData\\Local\\Temp\\ipykernel_11612\\2861807924.py:31: FutureWarning: Pass y=[ 1.13028385e-07 -1.04574191e-07  8.10405396e-08 ... -8.45673122e-03\n",
      " -6.14682818e-03  6.41444093e-03], sr=22050 as keyword args. From version 0.10 passing these as positional arguments will result in an error\n",
      "  MFCCs = librosa.feature.mfcc(signal, sample_rate, n_mfcc=num_mfcc, n_fft=n_fft, hop_length=hop_length)\n",
      "C:\\Users\\Lenovo\\AppData\\Local\\Temp\\ipykernel_11612\\2861807924.py:31: FutureWarning: Pass y=[ 1.13028385e-07 -1.04574191e-07  8.10405396e-08 ... -2.40198925e-01\n",
      " -1.99948803e-01 -1.39257520e-01], sr=22050 as keyword args. From version 0.10 passing these as positional arguments will result in an error\n",
      "  MFCCs = librosa.feature.mfcc(signal, sample_rate, n_mfcc=num_mfcc, n_fft=n_fft, hop_length=hop_length)\n"
     ]
    },
    {
     "name": "stdout",
     "output_type": "stream",
     "text": [
      "C:/Users/Lenovo/Documents/Education/Skripsi/Dataset/Dataset_Indonesia\\Stop\\Stop (192).wav: 3\n",
      "C:/Users/Lenovo/Documents/Education/Skripsi/Dataset/Dataset_Indonesia\\Stop\\Stop (193).wav: 3\n"
     ]
    },
    {
     "name": "stderr",
     "output_type": "stream",
     "text": [
      "C:\\Users\\Lenovo\\AppData\\Local\\Temp\\ipykernel_11612\\2861807924.py:31: FutureWarning: Pass y=[ 1.13028385e-07 -1.04574191e-07  8.10405396e-08 ... -8.96254629e-02\n",
      " -9.59873497e-02 -9.45680812e-02], sr=22050 as keyword args. From version 0.10 passing these as positional arguments will result in an error\n",
      "  MFCCs = librosa.feature.mfcc(signal, sample_rate, n_mfcc=num_mfcc, n_fft=n_fft, hop_length=hop_length)\n",
      "C:\\Users\\Lenovo\\AppData\\Local\\Temp\\ipykernel_11612\\2861807924.py:31: FutureWarning: Pass y=[ 1.13028385e-07 -1.04574191e-07  8.10405396e-08 ... -4.73434255e-02\n",
      " -4.08931263e-02 -2.98202522e-02], sr=22050 as keyword args. From version 0.10 passing these as positional arguments will result in an error\n",
      "  MFCCs = librosa.feature.mfcc(signal, sample_rate, n_mfcc=num_mfcc, n_fft=n_fft, hop_length=hop_length)\n"
     ]
    },
    {
     "name": "stdout",
     "output_type": "stream",
     "text": [
      "C:/Users/Lenovo/Documents/Education/Skripsi/Dataset/Dataset_Indonesia\\Stop\\Stop (194).wav: 3\n",
      "C:/Users/Lenovo/Documents/Education/Skripsi/Dataset/Dataset_Indonesia\\Stop\\Stop (195).wav: 3\n"
     ]
    },
    {
     "name": "stderr",
     "output_type": "stream",
     "text": [
      "C:\\Users\\Lenovo\\AppData\\Local\\Temp\\ipykernel_11612\\2861807924.py:31: FutureWarning: Pass y=[ 1.13028385e-07 -1.04574191e-07  8.10405396e-08 ... -7.42292032e-03\n",
      " -4.78486391e-03 -2.74389307e-03], sr=22050 as keyword args. From version 0.10 passing these as positional arguments will result in an error\n",
      "  MFCCs = librosa.feature.mfcc(signal, sample_rate, n_mfcc=num_mfcc, n_fft=n_fft, hop_length=hop_length)\n",
      "C:\\Users\\Lenovo\\AppData\\Local\\Temp\\ipykernel_11612\\2861807924.py:31: FutureWarning: Pass y=[ 1.13028385e-07 -1.04574191e-07  8.10405396e-08 ... -5.42387599e-03\n",
      " -5.97807625e-03 -6.14042440e-03], sr=22050 as keyword args. From version 0.10 passing these as positional arguments will result in an error\n",
      "  MFCCs = librosa.feature.mfcc(signal, sample_rate, n_mfcc=num_mfcc, n_fft=n_fft, hop_length=hop_length)\n"
     ]
    },
    {
     "name": "stdout",
     "output_type": "stream",
     "text": [
      "C:/Users/Lenovo/Documents/Education/Skripsi/Dataset/Dataset_Indonesia\\Stop\\Stop (196).wav: 3\n",
      "C:/Users/Lenovo/Documents/Education/Skripsi/Dataset/Dataset_Indonesia\\Stop\\Stop (197).wav: 3\n"
     ]
    },
    {
     "name": "stderr",
     "output_type": "stream",
     "text": [
      "C:\\Users\\Lenovo\\AppData\\Local\\Temp\\ipykernel_11612\\2861807924.py:31: FutureWarning: Pass y=[ 1.13028385e-07 -1.04574191e-07  8.10405396e-08 ...  1.09544517e-02\n",
      "  9.97470226e-03  8.91181733e-03], sr=22050 as keyword args. From version 0.10 passing these as positional arguments will result in an error\n",
      "  MFCCs = librosa.feature.mfcc(signal, sample_rate, n_mfcc=num_mfcc, n_fft=n_fft, hop_length=hop_length)\n",
      "C:\\Users\\Lenovo\\AppData\\Local\\Temp\\ipykernel_11612\\2861807924.py:31: FutureWarning: Pass y=[ 1.13028385e-07 -1.04574191e-07  8.10405396e-08 ...  3.05266003e-03\n",
      "  2.43336009e-03  1.96231599e-03], sr=22050 as keyword args. From version 0.10 passing these as positional arguments will result in an error\n",
      "  MFCCs = librosa.feature.mfcc(signal, sample_rate, n_mfcc=num_mfcc, n_fft=n_fft, hop_length=hop_length)\n"
     ]
    },
    {
     "name": "stdout",
     "output_type": "stream",
     "text": [
      "C:/Users/Lenovo/Documents/Education/Skripsi/Dataset/Dataset_Indonesia\\Stop\\Stop (198).wav: 3\n",
      "C:/Users/Lenovo/Documents/Education/Skripsi/Dataset/Dataset_Indonesia\\Stop\\Stop (199).wav: 3\n"
     ]
    },
    {
     "name": "stderr",
     "output_type": "stream",
     "text": [
      "C:\\Users\\Lenovo\\AppData\\Local\\Temp\\ipykernel_11612\\2861807924.py:31: FutureWarning: Pass y=[ 1.13028385e-07 -1.04574191e-07  8.10405396e-08 ... -1.90297365e-02\n",
      " -9.22231469e-03 -1.01696867e-02], sr=22050 as keyword args. From version 0.10 passing these as positional arguments will result in an error\n",
      "  MFCCs = librosa.feature.mfcc(signal, sample_rate, n_mfcc=num_mfcc, n_fft=n_fft, hop_length=hop_length)\n",
      "C:\\Users\\Lenovo\\AppData\\Local\\Temp\\ipykernel_11612\\2861807924.py:31: FutureWarning: Pass y=[-5.3826142e-08  7.9589505e-08 -1.0581892e-07 ... -8.0574164e-04\n",
      "  3.7002541e-05  2.4393795e-03], sr=22050 as keyword args. From version 0.10 passing these as positional arguments will result in an error\n",
      "  MFCCs = librosa.feature.mfcc(signal, sample_rate, n_mfcc=num_mfcc, n_fft=n_fft, hop_length=hop_length)\n"
     ]
    },
    {
     "name": "stdout",
     "output_type": "stream",
     "text": [
      "C:/Users/Lenovo/Documents/Education/Skripsi/Dataset/Dataset_Indonesia\\Stop\\Stop (2).wav: 3\n",
      "C:/Users/Lenovo/Documents/Education/Skripsi/Dataset/Dataset_Indonesia\\Stop\\Stop (20).wav: 3\n"
     ]
    },
    {
     "name": "stderr",
     "output_type": "stream",
     "text": [
      "C:\\Users\\Lenovo\\AppData\\Local\\Temp\\ipykernel_11612\\2861807924.py:31: FutureWarning: Pass y=[-5.3826142e-08  7.9589505e-08 -1.0581892e-07 ...  2.6221134e-02\n",
      "  2.7324896e-02  2.7322141e-02], sr=22050 as keyword args. From version 0.10 passing these as positional arguments will result in an error\n",
      "  MFCCs = librosa.feature.mfcc(signal, sample_rate, n_mfcc=num_mfcc, n_fft=n_fft, hop_length=hop_length)\n",
      "C:\\Users\\Lenovo\\AppData\\Local\\Temp\\ipykernel_11612\\2861807924.py:31: FutureWarning: Pass y=[ 1.13028385e-07 -1.04574191e-07  8.10405396e-08 ... -1.20453080e-02\n",
      " -1.19836088e-02 -1.12858508e-02], sr=22050 as keyword args. From version 0.10 passing these as positional arguments will result in an error\n",
      "  MFCCs = librosa.feature.mfcc(signal, sample_rate, n_mfcc=num_mfcc, n_fft=n_fft, hop_length=hop_length)\n"
     ]
    },
    {
     "name": "stdout",
     "output_type": "stream",
     "text": [
      "C:/Users/Lenovo/Documents/Education/Skripsi/Dataset/Dataset_Indonesia\\Stop\\Stop (200).wav: 3\n",
      "C:/Users/Lenovo/Documents/Education/Skripsi/Dataset/Dataset_Indonesia\\Stop\\Stop (201).wav: 3\n"
     ]
    },
    {
     "name": "stderr",
     "output_type": "stream",
     "text": [
      "C:\\Users\\Lenovo\\AppData\\Local\\Temp\\ipykernel_11612\\2861807924.py:31: FutureWarning: Pass y=[ 1.13028385e-07 -1.04574191e-07  8.10405396e-08 ...  2.26893097e-01\n",
      "  2.00948164e-01  1.83965623e-01], sr=22050 as keyword args. From version 0.10 passing these as positional arguments will result in an error\n",
      "  MFCCs = librosa.feature.mfcc(signal, sample_rate, n_mfcc=num_mfcc, n_fft=n_fft, hop_length=hop_length)\n",
      "C:\\Users\\Lenovo\\AppData\\Local\\Temp\\ipykernel_11612\\2861807924.py:31: FutureWarning: Pass y=[ 1.13028385e-07 -1.04574191e-07  8.10405396e-08 ... -6.43353835e-02\n",
      " -5.00647761e-02 -2.87596881e-02], sr=22050 as keyword args. From version 0.10 passing these as positional arguments will result in an error\n",
      "  MFCCs = librosa.feature.mfcc(signal, sample_rate, n_mfcc=num_mfcc, n_fft=n_fft, hop_length=hop_length)\n"
     ]
    },
    {
     "name": "stdout",
     "output_type": "stream",
     "text": [
      "C:/Users/Lenovo/Documents/Education/Skripsi/Dataset/Dataset_Indonesia\\Stop\\Stop (202).wav: 3\n"
     ]
    },
    {
     "name": "stderr",
     "output_type": "stream",
     "text": [
      "C:\\Users\\Lenovo\\AppData\\Local\\Temp\\ipykernel_11612\\2861807924.py:31: FutureWarning: Pass y=[-5.3826142e-08  7.9589505e-08 -1.0581892e-07 ... -3.9783623e-03\n",
      " -2.5625755e-03 -2.1686340e-03], sr=22050 as keyword args. From version 0.10 passing these as positional arguments will result in an error\n",
      "  MFCCs = librosa.feature.mfcc(signal, sample_rate, n_mfcc=num_mfcc, n_fft=n_fft, hop_length=hop_length)\n",
      "C:\\Users\\Lenovo\\AppData\\Local\\Temp\\ipykernel_11612\\2861807924.py:31: FutureWarning: Pass y=[-4.86553290e-06 -4.76411924e-06  1.44990236e-06 ...  2.27704598e-03\n",
      "  9.05745255e-04 -1.03977494e-04], sr=22050 as keyword args. From version 0.10 passing these as positional arguments will result in an error\n",
      "  MFCCs = librosa.feature.mfcc(signal, sample_rate, n_mfcc=num_mfcc, n_fft=n_fft, hop_length=hop_length)\n"
     ]
    },
    {
     "name": "stdout",
     "output_type": "stream",
     "text": [
      "C:/Users/Lenovo/Documents/Education/Skripsi/Dataset/Dataset_Indonesia\\Stop\\Stop (21).wav: 3\n",
      "C:/Users/Lenovo/Documents/Education/Skripsi/Dataset/Dataset_Indonesia\\Stop\\Stop (22).wav: 3\n",
      "C:/Users/Lenovo/Documents/Education/Skripsi/Dataset/Dataset_Indonesia\\Stop\\Stop (23).wav: 3\n"
     ]
    },
    {
     "name": "stderr",
     "output_type": "stream",
     "text": [
      "C:\\Users\\Lenovo\\AppData\\Local\\Temp\\ipykernel_11612\\2861807924.py:31: FutureWarning: Pass y=[-4.7824010e-06 -4.8662523e-06  1.5672753e-06 ... -4.0896977e-03\n",
      " -5.4882425e-03 -5.7870396e-03], sr=22050 as keyword args. From version 0.10 passing these as positional arguments will result in an error\n",
      "  MFCCs = librosa.feature.mfcc(signal, sample_rate, n_mfcc=num_mfcc, n_fft=n_fft, hop_length=hop_length)\n"
     ]
    },
    {
     "name": "stdout",
     "output_type": "stream",
     "text": [
      "C:/Users/Lenovo/Documents/Education/Skripsi/Dataset/Dataset_Indonesia\\Stop\\Stop (24).wav: 3\n",
      "C:/Users/Lenovo/Documents/Education/Skripsi/Dataset/Dataset_Indonesia\\Stop\\Stop (25).wav: 3\n"
     ]
    },
    {
     "name": "stderr",
     "output_type": "stream",
     "text": [
      "C:\\Users\\Lenovo\\AppData\\Local\\Temp\\ipykernel_11612\\2861807924.py:31: FutureWarning: Pass y=[ 0.          0.          0.         ...  0.00024305 -0.00020974\n",
      " -0.00066297], sr=22050 as keyword args. From version 0.10 passing these as positional arguments will result in an error\n",
      "  MFCCs = librosa.feature.mfcc(signal, sample_rate, n_mfcc=num_mfcc, n_fft=n_fft, hop_length=hop_length)\n",
      "C:\\Users\\Lenovo\\AppData\\Local\\Temp\\ipykernel_11612\\2861807924.py:31: FutureWarning: Pass y=[0.         0.         0.         ... 0.05871866 0.0525747  0.04596014], sr=22050 as keyword args. From version 0.10 passing these as positional arguments will result in an error\n",
      "  MFCCs = librosa.feature.mfcc(signal, sample_rate, n_mfcc=num_mfcc, n_fft=n_fft, hop_length=hop_length)\n"
     ]
    },
    {
     "name": "stdout",
     "output_type": "stream",
     "text": [
      "C:/Users/Lenovo/Documents/Education/Skripsi/Dataset/Dataset_Indonesia\\Stop\\Stop (26).wav: 3\n",
      "C:/Users/Lenovo/Documents/Education/Skripsi/Dataset/Dataset_Indonesia\\Stop\\Stop (27).wav: 3\n"
     ]
    },
    {
     "name": "stderr",
     "output_type": "stream",
     "text": [
      "C:\\Users\\Lenovo\\AppData\\Local\\Temp\\ipykernel_11612\\2861807924.py:31: FutureWarning: Pass y=[ 0.          0.          0.         ...  0.04074363  0.01334272\n",
      " -0.01353302], sr=22050 as keyword args. From version 0.10 passing these as positional arguments will result in an error\n",
      "  MFCCs = librosa.feature.mfcc(signal, sample_rate, n_mfcc=num_mfcc, n_fft=n_fft, hop_length=hop_length)\n",
      "C:\\Users\\Lenovo\\AppData\\Local\\Temp\\ipykernel_11612\\2861807924.py:31: FutureWarning: Pass y=[ 0.          0.          0.         ... -0.16320539 -0.1352878\n",
      " -0.10560422], sr=22050 as keyword args. From version 0.10 passing these as positional arguments will result in an error\n",
      "  MFCCs = librosa.feature.mfcc(signal, sample_rate, n_mfcc=num_mfcc, n_fft=n_fft, hop_length=hop_length)\n"
     ]
    },
    {
     "name": "stdout",
     "output_type": "stream",
     "text": [
      "C:/Users/Lenovo/Documents/Education/Skripsi/Dataset/Dataset_Indonesia\\Stop\\Stop (28).wav: 3\n",
      "C:/Users/Lenovo/Documents/Education/Skripsi/Dataset/Dataset_Indonesia\\Stop\\Stop (29).wav: 3\n"
     ]
    },
    {
     "name": "stderr",
     "output_type": "stream",
     "text": [
      "C:\\Users\\Lenovo\\AppData\\Local\\Temp\\ipykernel_11612\\2861807924.py:31: FutureWarning: Pass y=[-4.8631960e-06 -4.7616127e-06  1.4403006e-06 ...  4.1179308e-03\n",
      "  1.8398064e-03 -8.4491418e-04], sr=22050 as keyword args. From version 0.10 passing these as positional arguments will result in an error\n",
      "  MFCCs = librosa.feature.mfcc(signal, sample_rate, n_mfcc=num_mfcc, n_fft=n_fft, hop_length=hop_length)\n",
      "C:\\Users\\Lenovo\\AppData\\Local\\Temp\\ipykernel_11612\\2861807924.py:31: FutureWarning: Pass y=[ 0.          0.          0.         ... -0.05207456 -0.043321\n",
      " -0.03934338], sr=22050 as keyword args. From version 0.10 passing these as positional arguments will result in an error\n",
      "  MFCCs = librosa.feature.mfcc(signal, sample_rate, n_mfcc=num_mfcc, n_fft=n_fft, hop_length=hop_length)\n"
     ]
    },
    {
     "name": "stdout",
     "output_type": "stream",
     "text": [
      "C:/Users/Lenovo/Documents/Education/Skripsi/Dataset/Dataset_Indonesia\\Stop\\Stop (3).wav: 3\n",
      "C:/Users/Lenovo/Documents/Education/Skripsi/Dataset/Dataset_Indonesia\\Stop\\Stop (30).wav: 3\n"
     ]
    },
    {
     "name": "stderr",
     "output_type": "stream",
     "text": [
      "C:\\Users\\Lenovo\\AppData\\Local\\Temp\\ipykernel_11612\\2861807924.py:31: FutureWarning: Pass y=[ 0.          0.          0.         ... -0.01534108 -0.01926022\n",
      " -0.02314071], sr=22050 as keyword args. From version 0.10 passing these as positional arguments will result in an error\n",
      "  MFCCs = librosa.feature.mfcc(signal, sample_rate, n_mfcc=num_mfcc, n_fft=n_fft, hop_length=hop_length)\n",
      "C:\\Users\\Lenovo\\AppData\\Local\\Temp\\ipykernel_11612\\2861807924.py:31: FutureWarning: Pass y=[ 0.          0.          0.         ... -0.0002755  -0.00029741\n",
      " -0.00022151], sr=22050 as keyword args. From version 0.10 passing these as positional arguments will result in an error\n",
      "  MFCCs = librosa.feature.mfcc(signal, sample_rate, n_mfcc=num_mfcc, n_fft=n_fft, hop_length=hop_length)\n"
     ]
    },
    {
     "name": "stdout",
     "output_type": "stream",
     "text": [
      "C:/Users/Lenovo/Documents/Education/Skripsi/Dataset/Dataset_Indonesia\\Stop\\Stop (31).wav: 3\n",
      "C:/Users/Lenovo/Documents/Education/Skripsi/Dataset/Dataset_Indonesia\\Stop\\Stop (32).wav: 3\n"
     ]
    },
    {
     "name": "stderr",
     "output_type": "stream",
     "text": [
      "C:\\Users\\Lenovo\\AppData\\Local\\Temp\\ipykernel_11612\\2861807924.py:31: FutureWarning: Pass y=[0.         0.         0.         ... 0.01262797 0.02480859 0.02419134], sr=22050 as keyword args. From version 0.10 passing these as positional arguments will result in an error\n",
      "  MFCCs = librosa.feature.mfcc(signal, sample_rate, n_mfcc=num_mfcc, n_fft=n_fft, hop_length=hop_length)\n",
      "C:\\Users\\Lenovo\\AppData\\Local\\Temp\\ipykernel_11612\\2861807924.py:31: FutureWarning: Pass y=[ 0.0000000e+00  0.0000000e+00  0.0000000e+00 ... -4.3951841e-05\n",
      " -9.5032665e-05 -5.1638366e-05], sr=22050 as keyword args. From version 0.10 passing these as positional arguments will result in an error\n",
      "  MFCCs = librosa.feature.mfcc(signal, sample_rate, n_mfcc=num_mfcc, n_fft=n_fft, hop_length=hop_length)\n"
     ]
    },
    {
     "name": "stdout",
     "output_type": "stream",
     "text": [
      "C:/Users/Lenovo/Documents/Education/Skripsi/Dataset/Dataset_Indonesia\\Stop\\Stop (33).wav: 3\n",
      "C:/Users/Lenovo/Documents/Education/Skripsi/Dataset/Dataset_Indonesia\\Stop\\Stop (34).wav: 3\n"
     ]
    },
    {
     "name": "stderr",
     "output_type": "stream",
     "text": [
      "C:\\Users\\Lenovo\\AppData\\Local\\Temp\\ipykernel_11612\\2861807924.py:31: FutureWarning: Pass y=[0.         0.         0.         ... 0.03152762 0.01209367 0.01758716], sr=22050 as keyword args. From version 0.10 passing these as positional arguments will result in an error\n",
      "  MFCCs = librosa.feature.mfcc(signal, sample_rate, n_mfcc=num_mfcc, n_fft=n_fft, hop_length=hop_length)\n",
      "C:\\Users\\Lenovo\\AppData\\Local\\Temp\\ipykernel_11612\\2861807924.py:31: FutureWarning: Pass y=[0.         0.         0.         ... 0.17296161 0.13702053 0.08722483], sr=22050 as keyword args. From version 0.10 passing these as positional arguments will result in an error\n",
      "  MFCCs = librosa.feature.mfcc(signal, sample_rate, n_mfcc=num_mfcc, n_fft=n_fft, hop_length=hop_length)\n"
     ]
    },
    {
     "name": "stdout",
     "output_type": "stream",
     "text": [
      "C:/Users/Lenovo/Documents/Education/Skripsi/Dataset/Dataset_Indonesia\\Stop\\Stop (35).wav: 3\n",
      "C:/Users/Lenovo/Documents/Education/Skripsi/Dataset/Dataset_Indonesia\\Stop\\Stop (36).wav: 3\n"
     ]
    },
    {
     "name": "stderr",
     "output_type": "stream",
     "text": [
      "C:\\Users\\Lenovo\\AppData\\Local\\Temp\\ipykernel_11612\\2861807924.py:31: FutureWarning: Pass y=[ 0.0000000e+00  0.0000000e+00  0.0000000e+00 ... -4.9757434e-04\n",
      " -4.3470933e-05  6.9844461e-04], sr=22050 as keyword args. From version 0.10 passing these as positional arguments will result in an error\n",
      "  MFCCs = librosa.feature.mfcc(signal, sample_rate, n_mfcc=num_mfcc, n_fft=n_fft, hop_length=hop_length)\n",
      "C:\\Users\\Lenovo\\AppData\\Local\\Temp\\ipykernel_11612\\2861807924.py:31: FutureWarning: Pass y=[ 0.          0.          0.         ... -0.09735276 -0.08041683\n",
      " -0.05973369], sr=22050 as keyword args. From version 0.10 passing these as positional arguments will result in an error\n",
      "  MFCCs = librosa.feature.mfcc(signal, sample_rate, n_mfcc=num_mfcc, n_fft=n_fft, hop_length=hop_length)\n"
     ]
    },
    {
     "name": "stdout",
     "output_type": "stream",
     "text": [
      "C:/Users/Lenovo/Documents/Education/Skripsi/Dataset/Dataset_Indonesia\\Stop\\Stop (37).wav: 3\n",
      "C:/Users/Lenovo/Documents/Education/Skripsi/Dataset/Dataset_Indonesia\\Stop\\Stop (38).wav: 3\n"
     ]
    },
    {
     "name": "stderr",
     "output_type": "stream",
     "text": [
      "C:\\Users\\Lenovo\\AppData\\Local\\Temp\\ipykernel_11612\\2861807924.py:31: FutureWarning: Pass y=[ 0.          0.          0.         ... -0.08826092 -0.08657158\n",
      " -0.05781725], sr=22050 as keyword args. From version 0.10 passing these as positional arguments will result in an error\n",
      "  MFCCs = librosa.feature.mfcc(signal, sample_rate, n_mfcc=num_mfcc, n_fft=n_fft, hop_length=hop_length)\n",
      "C:\\Users\\Lenovo\\AppData\\Local\\Temp\\ipykernel_11612\\2861807924.py:31: FutureWarning: Pass y=[-5.3826142e-08  7.9589505e-08 -1.0581892e-07 ...  8.5007865e-03\n",
      "  3.5329871e-03  2.8978885e-04], sr=22050 as keyword args. From version 0.10 passing these as positional arguments will result in an error\n",
      "  MFCCs = librosa.feature.mfcc(signal, sample_rate, n_mfcc=num_mfcc, n_fft=n_fft, hop_length=hop_length)\n"
     ]
    },
    {
     "name": "stdout",
     "output_type": "stream",
     "text": [
      "C:/Users/Lenovo/Documents/Education/Skripsi/Dataset/Dataset_Indonesia\\Stop\\Stop (39).wav: 3\n",
      "C:/Users/Lenovo/Documents/Education/Skripsi/Dataset/Dataset_Indonesia\\Stop\\Stop (4).wav: 3\n"
     ]
    },
    {
     "name": "stderr",
     "output_type": "stream",
     "text": [
      "C:\\Users\\Lenovo\\AppData\\Local\\Temp\\ipykernel_11612\\2861807924.py:31: FutureWarning: Pass y=[ 0.          0.          0.         ... -0.07027484 -0.05152765\n",
      " -0.03138718], sr=22050 as keyword args. From version 0.10 passing these as positional arguments will result in an error\n",
      "  MFCCs = librosa.feature.mfcc(signal, sample_rate, n_mfcc=num_mfcc, n_fft=n_fft, hop_length=hop_length)\n",
      "C:\\Users\\Lenovo\\AppData\\Local\\Temp\\ipykernel_11612\\2861807924.py:31: FutureWarning: Pass y=[ 0.          0.          0.         ... -0.001975   -0.00167075\n",
      " -0.00189286], sr=22050 as keyword args. From version 0.10 passing these as positional arguments will result in an error\n",
      "  MFCCs = librosa.feature.mfcc(signal, sample_rate, n_mfcc=num_mfcc, n_fft=n_fft, hop_length=hop_length)\n"
     ]
    },
    {
     "name": "stdout",
     "output_type": "stream",
     "text": [
      "C:/Users/Lenovo/Documents/Education/Skripsi/Dataset/Dataset_Indonesia\\Stop\\Stop (40).wav: 3\n",
      "C:/Users/Lenovo/Documents/Education/Skripsi/Dataset/Dataset_Indonesia\\Stop\\Stop (41).wav: 3\n"
     ]
    },
    {
     "name": "stderr",
     "output_type": "stream",
     "text": [
      "C:\\Users\\Lenovo\\AppData\\Local\\Temp\\ipykernel_11612\\2861807924.py:31: FutureWarning: Pass y=[ 0.          0.          0.         ... -0.00089308 -0.00100364\n",
      " -0.00097867], sr=22050 as keyword args. From version 0.10 passing these as positional arguments will result in an error\n",
      "  MFCCs = librosa.feature.mfcc(signal, sample_rate, n_mfcc=num_mfcc, n_fft=n_fft, hop_length=hop_length)\n",
      "C:\\Users\\Lenovo\\AppData\\Local\\Temp\\ipykernel_11612\\2861807924.py:31: FutureWarning: Pass y=[0.         0.         0.         ... 0.00937792 0.04101817 0.06221839], sr=22050 as keyword args. From version 0.10 passing these as positional arguments will result in an error\n",
      "  MFCCs = librosa.feature.mfcc(signal, sample_rate, n_mfcc=num_mfcc, n_fft=n_fft, hop_length=hop_length)\n"
     ]
    },
    {
     "name": "stdout",
     "output_type": "stream",
     "text": [
      "C:/Users/Lenovo/Documents/Education/Skripsi/Dataset/Dataset_Indonesia\\Stop\\Stop (42).wav: 3\n",
      "C:/Users/Lenovo/Documents/Education/Skripsi/Dataset/Dataset_Indonesia\\Stop\\Stop (43).wav: 3\n"
     ]
    },
    {
     "name": "stderr",
     "output_type": "stream",
     "text": [
      "C:\\Users\\Lenovo\\AppData\\Local\\Temp\\ipykernel_11612\\2861807924.py:31: FutureWarning: Pass y=[0.         0.         0.         ... 0.00011403 0.00064019 0.00094356], sr=22050 as keyword args. From version 0.10 passing these as positional arguments will result in an error\n",
      "  MFCCs = librosa.feature.mfcc(signal, sample_rate, n_mfcc=num_mfcc, n_fft=n_fft, hop_length=hop_length)\n",
      "C:\\Users\\Lenovo\\AppData\\Local\\Temp\\ipykernel_11612\\2861807924.py:31: FutureWarning: Pass y=[0.         0.         0.         ... 0.01602484 0.01333619 0.00826545], sr=22050 as keyword args. From version 0.10 passing these as positional arguments will result in an error\n",
      "  MFCCs = librosa.feature.mfcc(signal, sample_rate, n_mfcc=num_mfcc, n_fft=n_fft, hop_length=hop_length)\n"
     ]
    },
    {
     "name": "stdout",
     "output_type": "stream",
     "text": [
      "C:/Users/Lenovo/Documents/Education/Skripsi/Dataset/Dataset_Indonesia\\Stop\\Stop (44).wav: 3\n",
      "C:/Users/Lenovo/Documents/Education/Skripsi/Dataset/Dataset_Indonesia\\Stop\\Stop (45).wav: 3\n"
     ]
    },
    {
     "name": "stderr",
     "output_type": "stream",
     "text": [
      "C:\\Users\\Lenovo\\AppData\\Local\\Temp\\ipykernel_11612\\2861807924.py:31: FutureWarning: Pass y=[ 0.          0.          0.         ... -0.02178079 -0.03691703\n",
      " -0.0505052 ], sr=22050 as keyword args. From version 0.10 passing these as positional arguments will result in an error\n",
      "  MFCCs = librosa.feature.mfcc(signal, sample_rate, n_mfcc=num_mfcc, n_fft=n_fft, hop_length=hop_length)\n",
      "C:\\Users\\Lenovo\\AppData\\Local\\Temp\\ipykernel_11612\\2861807924.py:31: FutureWarning: Pass y=[ 0.          0.          0.         ... -0.14042684 -0.16269363\n",
      " -0.16479169], sr=22050 as keyword args. From version 0.10 passing these as positional arguments will result in an error\n",
      "  MFCCs = librosa.feature.mfcc(signal, sample_rate, n_mfcc=num_mfcc, n_fft=n_fft, hop_length=hop_length)\n"
     ]
    },
    {
     "name": "stdout",
     "output_type": "stream",
     "text": [
      "C:/Users/Lenovo/Documents/Education/Skripsi/Dataset/Dataset_Indonesia\\Stop\\Stop (46).wav: 3\n",
      "C:/Users/Lenovo/Documents/Education/Skripsi/Dataset/Dataset_Indonesia\\Stop\\Stop (47).wav: 3\n"
     ]
    },
    {
     "name": "stderr",
     "output_type": "stream",
     "text": [
      "C:\\Users\\Lenovo\\AppData\\Local\\Temp\\ipykernel_11612\\2861807924.py:31: FutureWarning: Pass y=[0.         0.         0.         ... 0.00301521 0.00302119 0.0029659 ], sr=22050 as keyword args. From version 0.10 passing these as positional arguments will result in an error\n",
      "  MFCCs = librosa.feature.mfcc(signal, sample_rate, n_mfcc=num_mfcc, n_fft=n_fft, hop_length=hop_length)\n",
      "C:\\Users\\Lenovo\\AppData\\Local\\Temp\\ipykernel_11612\\2861807924.py:31: FutureWarning: Pass y=[0.         0.         0.         ... 0.17405032 0.13791756 0.11597736], sr=22050 as keyword args. From version 0.10 passing these as positional arguments will result in an error\n",
      "  MFCCs = librosa.feature.mfcc(signal, sample_rate, n_mfcc=num_mfcc, n_fft=n_fft, hop_length=hop_length)\n"
     ]
    },
    {
     "name": "stdout",
     "output_type": "stream",
     "text": [
      "C:/Users/Lenovo/Documents/Education/Skripsi/Dataset/Dataset_Indonesia\\Stop\\Stop (48).wav: 3\n",
      "C:/Users/Lenovo/Documents/Education/Skripsi/Dataset/Dataset_Indonesia\\Stop\\Stop (49).wav: 3\n"
     ]
    },
    {
     "name": "stderr",
     "output_type": "stream",
     "text": [
      "C:\\Users\\Lenovo\\AppData\\Local\\Temp\\ipykernel_11612\\2861807924.py:31: FutureWarning: Pass y=[-5.3826142e-08  7.9589505e-08 -1.0581892e-07 ... -2.4411385e-03\n",
      " -2.2958103e-03 -2.1767637e-03], sr=22050 as keyword args. From version 0.10 passing these as positional arguments will result in an error\n",
      "  MFCCs = librosa.feature.mfcc(signal, sample_rate, n_mfcc=num_mfcc, n_fft=n_fft, hop_length=hop_length)\n",
      "C:\\Users\\Lenovo\\AppData\\Local\\Temp\\ipykernel_11612\\2861807924.py:31: FutureWarning: Pass y=[ 0.          0.          0.         ... -0.24480522 -0.21832599\n",
      " -0.18557908], sr=22050 as keyword args. From version 0.10 passing these as positional arguments will result in an error\n",
      "  MFCCs = librosa.feature.mfcc(signal, sample_rate, n_mfcc=num_mfcc, n_fft=n_fft, hop_length=hop_length)\n"
     ]
    },
    {
     "name": "stdout",
     "output_type": "stream",
     "text": [
      "C:/Users/Lenovo/Documents/Education/Skripsi/Dataset/Dataset_Indonesia\\Stop\\Stop (5).wav: 3\n",
      "C:/Users/Lenovo/Documents/Education/Skripsi/Dataset/Dataset_Indonesia\\Stop\\Stop (50).wav: 3\n"
     ]
    },
    {
     "name": "stderr",
     "output_type": "stream",
     "text": [
      "C:\\Users\\Lenovo\\AppData\\Local\\Temp\\ipykernel_11612\\2861807924.py:31: FutureWarning: Pass y=[ 0.          0.          0.         ... -0.00517172 -0.00747974\n",
      " -0.00694133], sr=22050 as keyword args. From version 0.10 passing these as positional arguments will result in an error\n",
      "  MFCCs = librosa.feature.mfcc(signal, sample_rate, n_mfcc=num_mfcc, n_fft=n_fft, hop_length=hop_length)\n",
      "C:\\Users\\Lenovo\\AppData\\Local\\Temp\\ipykernel_11612\\2861807924.py:31: FutureWarning: Pass y=[ 0.          0.          0.         ... -0.15516725 -0.11622696\n",
      " -0.09172823], sr=22050 as keyword args. From version 0.10 passing these as positional arguments will result in an error\n",
      "  MFCCs = librosa.feature.mfcc(signal, sample_rate, n_mfcc=num_mfcc, n_fft=n_fft, hop_length=hop_length)\n"
     ]
    },
    {
     "name": "stdout",
     "output_type": "stream",
     "text": [
      "C:/Users/Lenovo/Documents/Education/Skripsi/Dataset/Dataset_Indonesia\\Stop\\Stop (51).wav: 3\n",
      "C:/Users/Lenovo/Documents/Education/Skripsi/Dataset/Dataset_Indonesia\\Stop\\Stop (52).wav: 3\n"
     ]
    },
    {
     "name": "stderr",
     "output_type": "stream",
     "text": [
      "C:\\Users\\Lenovo\\AppData\\Local\\Temp\\ipykernel_11612\\2861807924.py:31: FutureWarning: Pass y=[ 0.          0.          0.         ... -0.08186255 -0.04840728\n",
      " -0.00632135], sr=22050 as keyword args. From version 0.10 passing these as positional arguments will result in an error\n",
      "  MFCCs = librosa.feature.mfcc(signal, sample_rate, n_mfcc=num_mfcc, n_fft=n_fft, hop_length=hop_length)\n",
      "C:\\Users\\Lenovo\\AppData\\Local\\Temp\\ipykernel_11612\\2861807924.py:31: FutureWarning: Pass y=[ 0.          0.          0.         ... -0.04347551  0.01430861\n",
      "  0.05815236], sr=22050 as keyword args. From version 0.10 passing these as positional arguments will result in an error\n",
      "  MFCCs = librosa.feature.mfcc(signal, sample_rate, n_mfcc=num_mfcc, n_fft=n_fft, hop_length=hop_length)\n"
     ]
    },
    {
     "name": "stdout",
     "output_type": "stream",
     "text": [
      "C:/Users/Lenovo/Documents/Education/Skripsi/Dataset/Dataset_Indonesia\\Stop\\Stop (53).wav: 3\n",
      "C:/Users/Lenovo/Documents/Education/Skripsi/Dataset/Dataset_Indonesia\\Stop\\Stop (54).wav: 3\n"
     ]
    },
    {
     "name": "stderr",
     "output_type": "stream",
     "text": [
      "C:\\Users\\Lenovo\\AppData\\Local\\Temp\\ipykernel_11612\\2861807924.py:31: FutureWarning: Pass y=[0.         0.         0.         ... 0.40062502 0.45635864 0.48051247], sr=22050 as keyword args. From version 0.10 passing these as positional arguments will result in an error\n",
      "  MFCCs = librosa.feature.mfcc(signal, sample_rate, n_mfcc=num_mfcc, n_fft=n_fft, hop_length=hop_length)\n",
      "C:\\Users\\Lenovo\\AppData\\Local\\Temp\\ipykernel_11612\\2861807924.py:31: FutureWarning: Pass y=[ 0.          0.          0.         ... -0.00149419  0.00083792\n",
      "  0.00013718], sr=22050 as keyword args. From version 0.10 passing these as positional arguments will result in an error\n",
      "  MFCCs = librosa.feature.mfcc(signal, sample_rate, n_mfcc=num_mfcc, n_fft=n_fft, hop_length=hop_length)\n"
     ]
    },
    {
     "name": "stdout",
     "output_type": "stream",
     "text": [
      "C:/Users/Lenovo/Documents/Education/Skripsi/Dataset/Dataset_Indonesia\\Stop\\Stop (55).wav: 3\n",
      "C:/Users/Lenovo/Documents/Education/Skripsi/Dataset/Dataset_Indonesia\\Stop\\Stop (56).wav: 3\n"
     ]
    },
    {
     "name": "stderr",
     "output_type": "stream",
     "text": [
      "C:\\Users\\Lenovo\\AppData\\Local\\Temp\\ipykernel_11612\\2861807924.py:31: FutureWarning: Pass y=[ 0.          0.          0.         ... -0.42157227 -0.31381476\n",
      " -0.19589666], sr=22050 as keyword args. From version 0.10 passing these as positional arguments will result in an error\n",
      "  MFCCs = librosa.feature.mfcc(signal, sample_rate, n_mfcc=num_mfcc, n_fft=n_fft, hop_length=hop_length)\n",
      "C:\\Users\\Lenovo\\AppData\\Local\\Temp\\ipykernel_11612\\2861807924.py:31: FutureWarning: Pass y=[ 0.          0.          0.         ... -0.00861555 -0.00228798\n",
      "  0.03386465], sr=22050 as keyword args. From version 0.10 passing these as positional arguments will result in an error\n",
      "  MFCCs = librosa.feature.mfcc(signal, sample_rate, n_mfcc=num_mfcc, n_fft=n_fft, hop_length=hop_length)\n"
     ]
    },
    {
     "name": "stdout",
     "output_type": "stream",
     "text": [
      "C:/Users/Lenovo/Documents/Education/Skripsi/Dataset/Dataset_Indonesia\\Stop\\Stop (57).wav: 3\n",
      "C:/Users/Lenovo/Documents/Education/Skripsi/Dataset/Dataset_Indonesia\\Stop\\Stop (58).wav: 3\n"
     ]
    },
    {
     "name": "stderr",
     "output_type": "stream",
     "text": [
      "C:\\Users\\Lenovo\\AppData\\Local\\Temp\\ipykernel_11612\\2861807924.py:31: FutureWarning: Pass y=[0.         0.         0.         ... 0.00369128 0.00173853 0.00104734], sr=22050 as keyword args. From version 0.10 passing these as positional arguments will result in an error\n",
      "  MFCCs = librosa.feature.mfcc(signal, sample_rate, n_mfcc=num_mfcc, n_fft=n_fft, hop_length=hop_length)\n",
      "C:\\Users\\Lenovo\\AppData\\Local\\Temp\\ipykernel_11612\\2861807924.py:31: FutureWarning: Pass y=[-5.3826142e-08  7.9589505e-08 -1.0581892e-07 ... -3.3689679e-03\n",
      " -1.1007069e-03 -3.6749858e-04], sr=22050 as keyword args. From version 0.10 passing these as positional arguments will result in an error\n",
      "  MFCCs = librosa.feature.mfcc(signal, sample_rate, n_mfcc=num_mfcc, n_fft=n_fft, hop_length=hop_length)\n"
     ]
    },
    {
     "name": "stdout",
     "output_type": "stream",
     "text": [
      "C:/Users/Lenovo/Documents/Education/Skripsi/Dataset/Dataset_Indonesia\\Stop\\Stop (59).wav: 3\n",
      "C:/Users/Lenovo/Documents/Education/Skripsi/Dataset/Dataset_Indonesia\\Stop\\Stop (6).wav: 3\n"
     ]
    },
    {
     "name": "stderr",
     "output_type": "stream",
     "text": [
      "C:\\Users\\Lenovo\\AppData\\Local\\Temp\\ipykernel_11612\\2861807924.py:31: FutureWarning: Pass y=[ 0.          0.          0.         ... -0.00111605 -0.00202695\n",
      " -0.00162644], sr=22050 as keyword args. From version 0.10 passing these as positional arguments will result in an error\n",
      "  MFCCs = librosa.feature.mfcc(signal, sample_rate, n_mfcc=num_mfcc, n_fft=n_fft, hop_length=hop_length)\n",
      "C:\\Users\\Lenovo\\AppData\\Local\\Temp\\ipykernel_11612\\2861807924.py:31: FutureWarning: Pass y=[ 0.          0.          0.         ... -0.00016557 -0.00579795\n",
      " -0.00152042], sr=22050 as keyword args. From version 0.10 passing these as positional arguments will result in an error\n",
      "  MFCCs = librosa.feature.mfcc(signal, sample_rate, n_mfcc=num_mfcc, n_fft=n_fft, hop_length=hop_length)\n"
     ]
    },
    {
     "name": "stdout",
     "output_type": "stream",
     "text": [
      "C:/Users/Lenovo/Documents/Education/Skripsi/Dataset/Dataset_Indonesia\\Stop\\Stop (60).wav: 3\n",
      "C:/Users/Lenovo/Documents/Education/Skripsi/Dataset/Dataset_Indonesia\\Stop\\Stop (61).wav: 3\n"
     ]
    },
    {
     "name": "stderr",
     "output_type": "stream",
     "text": [
      "C:\\Users\\Lenovo\\AppData\\Local\\Temp\\ipykernel_11612\\2861807924.py:31: FutureWarning: Pass y=[ 0.          0.          0.         ... -0.11604302 -0.18671738\n",
      " -0.24595538], sr=22050 as keyword args. From version 0.10 passing these as positional arguments will result in an error\n",
      "  MFCCs = librosa.feature.mfcc(signal, sample_rate, n_mfcc=num_mfcc, n_fft=n_fft, hop_length=hop_length)\n",
      "C:\\Users\\Lenovo\\AppData\\Local\\Temp\\ipykernel_11612\\2861807924.py:31: FutureWarning: Pass y=[ 0.          0.          0.         ... -0.29110515 -0.27959424\n",
      " -0.26335686], sr=22050 as keyword args. From version 0.10 passing these as positional arguments will result in an error\n",
      "  MFCCs = librosa.feature.mfcc(signal, sample_rate, n_mfcc=num_mfcc, n_fft=n_fft, hop_length=hop_length)\n"
     ]
    },
    {
     "name": "stdout",
     "output_type": "stream",
     "text": [
      "C:/Users/Lenovo/Documents/Education/Skripsi/Dataset/Dataset_Indonesia\\Stop\\Stop (62).wav: 3\n",
      "C:/Users/Lenovo/Documents/Education/Skripsi/Dataset/Dataset_Indonesia\\Stop\\Stop (63).wav: 3\n"
     ]
    },
    {
     "name": "stderr",
     "output_type": "stream",
     "text": [
      "C:\\Users\\Lenovo\\AppData\\Local\\Temp\\ipykernel_11612\\2861807924.py:31: FutureWarning: Pass y=[0.         0.         0.         ... 0.2954395  0.28689575 0.24636322], sr=22050 as keyword args. From version 0.10 passing these as positional arguments will result in an error\n",
      "  MFCCs = librosa.feature.mfcc(signal, sample_rate, n_mfcc=num_mfcc, n_fft=n_fft, hop_length=hop_length)\n",
      "C:\\Users\\Lenovo\\AppData\\Local\\Temp\\ipykernel_11612\\2861807924.py:31: FutureWarning: Pass y=[ 0.          0.          0.         ... -0.02917812 -0.03787072\n",
      " -0.04290005], sr=22050 as keyword args. From version 0.10 passing these as positional arguments will result in an error\n",
      "  MFCCs = librosa.feature.mfcc(signal, sample_rate, n_mfcc=num_mfcc, n_fft=n_fft, hop_length=hop_length)\n"
     ]
    },
    {
     "name": "stdout",
     "output_type": "stream",
     "text": [
      "C:/Users/Lenovo/Documents/Education/Skripsi/Dataset/Dataset_Indonesia\\Stop\\Stop (64).wav: 3\n",
      "C:/Users/Lenovo/Documents/Education/Skripsi/Dataset/Dataset_Indonesia\\Stop\\Stop (65).wav: 3\n"
     ]
    },
    {
     "name": "stderr",
     "output_type": "stream",
     "text": [
      "C:\\Users\\Lenovo\\AppData\\Local\\Temp\\ipykernel_11612\\2861807924.py:31: FutureWarning: Pass y=[ 0.          0.          0.         ... -0.00841991 -0.02778358\n",
      " -0.04370347], sr=22050 as keyword args. From version 0.10 passing these as positional arguments will result in an error\n",
      "  MFCCs = librosa.feature.mfcc(signal, sample_rate, n_mfcc=num_mfcc, n_fft=n_fft, hop_length=hop_length)\n",
      "C:\\Users\\Lenovo\\AppData\\Local\\Temp\\ipykernel_11612\\2861807924.py:31: FutureWarning: Pass y=[ 0.          0.          0.         ... -0.00034026 -0.00195537\n",
      " -0.00157491], sr=22050 as keyword args. From version 0.10 passing these as positional arguments will result in an error\n",
      "  MFCCs = librosa.feature.mfcc(signal, sample_rate, n_mfcc=num_mfcc, n_fft=n_fft, hop_length=hop_length)\n"
     ]
    },
    {
     "name": "stdout",
     "output_type": "stream",
     "text": [
      "C:/Users/Lenovo/Documents/Education/Skripsi/Dataset/Dataset_Indonesia\\Stop\\Stop (66).wav: 3\n",
      "C:/Users/Lenovo/Documents/Education/Skripsi/Dataset/Dataset_Indonesia\\Stop\\Stop (67).wav: 3\n"
     ]
    },
    {
     "name": "stderr",
     "output_type": "stream",
     "text": [
      "C:\\Users\\Lenovo\\AppData\\Local\\Temp\\ipykernel_11612\\2861807924.py:31: FutureWarning: Pass y=[ 0.          0.          0.         ... -0.21439886 -0.22670057\n",
      " -0.23238464], sr=22050 as keyword args. From version 0.10 passing these as positional arguments will result in an error\n",
      "  MFCCs = librosa.feature.mfcc(signal, sample_rate, n_mfcc=num_mfcc, n_fft=n_fft, hop_length=hop_length)\n",
      "C:\\Users\\Lenovo\\AppData\\Local\\Temp\\ipykernel_11612\\2861807924.py:31: FutureWarning: Pass y=[ 0.          0.          0.         ...  0.00028562 -0.00148344\n",
      " -0.00254782], sr=22050 as keyword args. From version 0.10 passing these as positional arguments will result in an error\n",
      "  MFCCs = librosa.feature.mfcc(signal, sample_rate, n_mfcc=num_mfcc, n_fft=n_fft, hop_length=hop_length)\n"
     ]
    },
    {
     "name": "stdout",
     "output_type": "stream",
     "text": [
      "C:/Users/Lenovo/Documents/Education/Skripsi/Dataset/Dataset_Indonesia\\Stop\\Stop (68).wav: 3\n",
      "C:/Users/Lenovo/Documents/Education/Skripsi/Dataset/Dataset_Indonesia\\Stop\\Stop (69).wav: 3\n",
      "C:/Users/Lenovo/Documents/Education/Skripsi/Dataset/Dataset_Indonesia\\Stop\\Stop (7).wav: 3\n",
      "C:/Users/Lenovo/Documents/Education/Skripsi/Dataset/Dataset_Indonesia\\Stop\\Stop (70).wav: 3\n"
     ]
    },
    {
     "name": "stderr",
     "output_type": "stream",
     "text": [
      "C:\\Users\\Lenovo\\AppData\\Local\\Temp\\ipykernel_11612\\2861807924.py:31: FutureWarning: Pass y=[0.         0.         0.         ... 0.3856465  0.38155815 0.33576182], sr=22050 as keyword args. From version 0.10 passing these as positional arguments will result in an error\n",
      "  MFCCs = librosa.feature.mfcc(signal, sample_rate, n_mfcc=num_mfcc, n_fft=n_fft, hop_length=hop_length)\n",
      "C:\\Users\\Lenovo\\AppData\\Local\\Temp\\ipykernel_11612\\2861807924.py:31: FutureWarning: Pass y=[0.         0.         0.         ... 0.00229971 0.00117837 0.00176595], sr=22050 as keyword args. From version 0.10 passing these as positional arguments will result in an error\n",
      "  MFCCs = librosa.feature.mfcc(signal, sample_rate, n_mfcc=num_mfcc, n_fft=n_fft, hop_length=hop_length)\n"
     ]
    },
    {
     "name": "stdout",
     "output_type": "stream",
     "text": [
      "C:/Users/Lenovo/Documents/Education/Skripsi/Dataset/Dataset_Indonesia\\Stop\\Stop (71).wav: 3\n",
      "C:/Users/Lenovo/Documents/Education/Skripsi/Dataset/Dataset_Indonesia\\Stop\\Stop (72).wav: 3\n"
     ]
    },
    {
     "name": "stderr",
     "output_type": "stream",
     "text": [
      "C:\\Users\\Lenovo\\AppData\\Local\\Temp\\ipykernel_11612\\2861807924.py:31: FutureWarning: Pass y=[0.         0.         0.         ... 0.1460079  0.15726203 0.1560484 ], sr=22050 as keyword args. From version 0.10 passing these as positional arguments will result in an error\n",
      "  MFCCs = librosa.feature.mfcc(signal, sample_rate, n_mfcc=num_mfcc, n_fft=n_fft, hop_length=hop_length)\n",
      "C:\\Users\\Lenovo\\AppData\\Local\\Temp\\ipykernel_11612\\2861807924.py:31: FutureWarning: Pass y=[ 0.          0.          0.         ... -0.00092207  0.0009901\n",
      " -0.00213937], sr=22050 as keyword args. From version 0.10 passing these as positional arguments will result in an error\n",
      "  MFCCs = librosa.feature.mfcc(signal, sample_rate, n_mfcc=num_mfcc, n_fft=n_fft, hop_length=hop_length)\n"
     ]
    },
    {
     "name": "stdout",
     "output_type": "stream",
     "text": [
      "C:/Users/Lenovo/Documents/Education/Skripsi/Dataset/Dataset_Indonesia\\Stop\\Stop (73).wav: 3\n",
      "C:/Users/Lenovo/Documents/Education/Skripsi/Dataset/Dataset_Indonesia\\Stop\\Stop (74).wav: 3\n"
     ]
    },
    {
     "name": "stderr",
     "output_type": "stream",
     "text": [
      "C:\\Users\\Lenovo\\AppData\\Local\\Temp\\ipykernel_11612\\2861807924.py:31: FutureWarning: Pass y=[0.         0.         0.         ... 0.1499439  0.1342745  0.09088741], sr=22050 as keyword args. From version 0.10 passing these as positional arguments will result in an error\n",
      "  MFCCs = librosa.feature.mfcc(signal, sample_rate, n_mfcc=num_mfcc, n_fft=n_fft, hop_length=hop_length)\n",
      "C:\\Users\\Lenovo\\AppData\\Local\\Temp\\ipykernel_11612\\2861807924.py:31: FutureWarning: Pass y=[ 0.          0.          0.         ... -0.16847907 -0.09195457\n",
      "  0.05255262], sr=22050 as keyword args. From version 0.10 passing these as positional arguments will result in an error\n",
      "  MFCCs = librosa.feature.mfcc(signal, sample_rate, n_mfcc=num_mfcc, n_fft=n_fft, hop_length=hop_length)\n"
     ]
    },
    {
     "name": "stdout",
     "output_type": "stream",
     "text": [
      "C:/Users/Lenovo/Documents/Education/Skripsi/Dataset/Dataset_Indonesia\\Stop\\Stop (75).wav: 3\n",
      "C:/Users/Lenovo/Documents/Education/Skripsi/Dataset/Dataset_Indonesia\\Stop\\Stop (76).wav: 3\n"
     ]
    },
    {
     "name": "stderr",
     "output_type": "stream",
     "text": [
      "C:\\Users\\Lenovo\\AppData\\Local\\Temp\\ipykernel_11612\\2861807924.py:31: FutureWarning: Pass y=[0.         0.         0.         ... 0.00947828 0.01552673 0.01940373], sr=22050 as keyword args. From version 0.10 passing these as positional arguments will result in an error\n",
      "  MFCCs = librosa.feature.mfcc(signal, sample_rate, n_mfcc=num_mfcc, n_fft=n_fft, hop_length=hop_length)\n",
      "C:\\Users\\Lenovo\\AppData\\Local\\Temp\\ipykernel_11612\\2861807924.py:31: FutureWarning: Pass y=[ 0.          0.          0.         ... -0.13084036 -0.11161572\n",
      " -0.08518326], sr=22050 as keyword args. From version 0.10 passing these as positional arguments will result in an error\n",
      "  MFCCs = librosa.feature.mfcc(signal, sample_rate, n_mfcc=num_mfcc, n_fft=n_fft, hop_length=hop_length)\n"
     ]
    },
    {
     "name": "stdout",
     "output_type": "stream",
     "text": [
      "C:/Users/Lenovo/Documents/Education/Skripsi/Dataset/Dataset_Indonesia\\Stop\\Stop (77).wav: 3\n",
      "C:/Users/Lenovo/Documents/Education/Skripsi/Dataset/Dataset_Indonesia\\Stop\\Stop (78).wav: 3\n"
     ]
    },
    {
     "name": "stderr",
     "output_type": "stream",
     "text": [
      "C:\\Users\\Lenovo\\AppData\\Local\\Temp\\ipykernel_11612\\2861807924.py:31: FutureWarning: Pass y=[0.         0.         0.         ... 0.24369383 0.23632802 0.21719879], sr=22050 as keyword args. From version 0.10 passing these as positional arguments will result in an error\n",
      "  MFCCs = librosa.feature.mfcc(signal, sample_rate, n_mfcc=num_mfcc, n_fft=n_fft, hop_length=hop_length)\n",
      "C:\\Users\\Lenovo\\AppData\\Local\\Temp\\ipykernel_11612\\2861807924.py:31: FutureWarning: Pass y=[0.         0.         0.         ... 0.00026602 0.00023415 0.0001977 ], sr=22050 as keyword args. From version 0.10 passing these as positional arguments will result in an error\n",
      "  MFCCs = librosa.feature.mfcc(signal, sample_rate, n_mfcc=num_mfcc, n_fft=n_fft, hop_length=hop_length)\n"
     ]
    },
    {
     "name": "stdout",
     "output_type": "stream",
     "text": [
      "C:/Users/Lenovo/Documents/Education/Skripsi/Dataset/Dataset_Indonesia\\Stop\\Stop (79).wav: 3\n",
      "C:/Users/Lenovo/Documents/Education/Skripsi/Dataset/Dataset_Indonesia\\Stop\\Stop (8).wav: 3\n"
     ]
    },
    {
     "name": "stderr",
     "output_type": "stream",
     "text": [
      "C:\\Users\\Lenovo\\AppData\\Local\\Temp\\ipykernel_11612\\2861807924.py:31: FutureWarning: Pass y=[-8.2701234e-08  1.2701562e-07 -1.7407764e-07 ... -1.8531107e-03\n",
      " -2.8085423e-04  1.5384153e-03], sr=22050 as keyword args. From version 0.10 passing these as positional arguments will result in an error\n",
      "  MFCCs = librosa.feature.mfcc(signal, sample_rate, n_mfcc=num_mfcc, n_fft=n_fft, hop_length=hop_length)\n",
      "C:\\Users\\Lenovo\\AppData\\Local\\Temp\\ipykernel_11612\\2861807924.py:31: FutureWarning: Pass y=[ 0.          0.          0.         ... -0.00481244 -0.01020548\n",
      " -0.0135766 ], sr=22050 as keyword args. From version 0.10 passing these as positional arguments will result in an error\n",
      "  MFCCs = librosa.feature.mfcc(signal, sample_rate, n_mfcc=num_mfcc, n_fft=n_fft, hop_length=hop_length)\n"
     ]
    },
    {
     "name": "stdout",
     "output_type": "stream",
     "text": [
      "C:/Users/Lenovo/Documents/Education/Skripsi/Dataset/Dataset_Indonesia\\Stop\\Stop (80).wav: 3\n",
      "C:/Users/Lenovo/Documents/Education/Skripsi/Dataset/Dataset_Indonesia\\Stop\\Stop (81).wav: 3\n"
     ]
    },
    {
     "name": "stderr",
     "output_type": "stream",
     "text": [
      "C:\\Users\\Lenovo\\AppData\\Local\\Temp\\ipykernel_11612\\2861807924.py:31: FutureWarning: Pass y=[ 0.          0.          0.         ... -0.2834719  -0.3209135\n",
      " -0.32992476], sr=22050 as keyword args. From version 0.10 passing these as positional arguments will result in an error\n",
      "  MFCCs = librosa.feature.mfcc(signal, sample_rate, n_mfcc=num_mfcc, n_fft=n_fft, hop_length=hop_length)\n",
      "C:\\Users\\Lenovo\\AppData\\Local\\Temp\\ipykernel_11612\\2861807924.py:31: FutureWarning: Pass y=[ 0.          0.          0.         ... -0.11600776 -0.08953276\n",
      " -0.0529958 ], sr=22050 as keyword args. From version 0.10 passing these as positional arguments will result in an error\n",
      "  MFCCs = librosa.feature.mfcc(signal, sample_rate, n_mfcc=num_mfcc, n_fft=n_fft, hop_length=hop_length)\n"
     ]
    },
    {
     "name": "stdout",
     "output_type": "stream",
     "text": [
      "C:/Users/Lenovo/Documents/Education/Skripsi/Dataset/Dataset_Indonesia\\Stop\\Stop (82).wav: 3\n",
      "C:/Users/Lenovo/Documents/Education/Skripsi/Dataset/Dataset_Indonesia\\Stop\\Stop (83).wav: 3\n"
     ]
    },
    {
     "name": "stderr",
     "output_type": "stream",
     "text": [
      "C:\\Users\\Lenovo\\AppData\\Local\\Temp\\ipykernel_11612\\2861807924.py:31: FutureWarning: Pass y=[0.         0.         0.         ... 0.04562471 0.05108886 0.05604934], sr=22050 as keyword args. From version 0.10 passing these as positional arguments will result in an error\n",
      "  MFCCs = librosa.feature.mfcc(signal, sample_rate, n_mfcc=num_mfcc, n_fft=n_fft, hop_length=hop_length)\n",
      "C:\\Users\\Lenovo\\AppData\\Local\\Temp\\ipykernel_11612\\2861807924.py:31: FutureWarning: Pass y=[ 0.          0.          0.         ... -0.0133954  -0.00608296\n",
      "  0.00435446], sr=22050 as keyword args. From version 0.10 passing these as positional arguments will result in an error\n",
      "  MFCCs = librosa.feature.mfcc(signal, sample_rate, n_mfcc=num_mfcc, n_fft=n_fft, hop_length=hop_length)\n"
     ]
    },
    {
     "name": "stdout",
     "output_type": "stream",
     "text": [
      "C:/Users/Lenovo/Documents/Education/Skripsi/Dataset/Dataset_Indonesia\\Stop\\Stop (84).wav: 3\n",
      "C:/Users/Lenovo/Documents/Education/Skripsi/Dataset/Dataset_Indonesia\\Stop\\Stop (85).wav: 3\n"
     ]
    },
    {
     "name": "stderr",
     "output_type": "stream",
     "text": [
      "C:\\Users\\Lenovo\\AppData\\Local\\Temp\\ipykernel_11612\\2861807924.py:31: FutureWarning: Pass y=[0.0000000e+00 0.0000000e+00 0.0000000e+00 ... 4.8512869e-05 9.5446458e-06\n",
      " 9.1833635e-06], sr=22050 as keyword args. From version 0.10 passing these as positional arguments will result in an error\n",
      "  MFCCs = librosa.feature.mfcc(signal, sample_rate, n_mfcc=num_mfcc, n_fft=n_fft, hop_length=hop_length)\n",
      "C:\\Users\\Lenovo\\AppData\\Local\\Temp\\ipykernel_11612\\2861807924.py:31: FutureWarning: Pass y=[ 0.          0.          0.         ... -0.14845    -0.13813505\n",
      " -0.151283  ], sr=22050 as keyword args. From version 0.10 passing these as positional arguments will result in an error\n",
      "  MFCCs = librosa.feature.mfcc(signal, sample_rate, n_mfcc=num_mfcc, n_fft=n_fft, hop_length=hop_length)\n"
     ]
    },
    {
     "name": "stdout",
     "output_type": "stream",
     "text": [
      "C:/Users/Lenovo/Documents/Education/Skripsi/Dataset/Dataset_Indonesia\\Stop\\Stop (86).wav: 3\n",
      "C:/Users/Lenovo/Documents/Education/Skripsi/Dataset/Dataset_Indonesia\\Stop\\Stop (87).wav: 3\n"
     ]
    },
    {
     "name": "stderr",
     "output_type": "stream",
     "text": [
      "C:\\Users\\Lenovo\\AppData\\Local\\Temp\\ipykernel_11612\\2861807924.py:31: FutureWarning: Pass y=[0.         0.         0.         ... 0.00074136 0.00097976 0.00108406], sr=22050 as keyword args. From version 0.10 passing these as positional arguments will result in an error\n",
      "  MFCCs = librosa.feature.mfcc(signal, sample_rate, n_mfcc=num_mfcc, n_fft=n_fft, hop_length=hop_length)\n",
      "C:\\Users\\Lenovo\\AppData\\Local\\Temp\\ipykernel_11612\\2861807924.py:31: FutureWarning: Pass y=[0.         0.         0.         ... 0.00016965 0.00047717 0.00068769], sr=22050 as keyword args. From version 0.10 passing these as positional arguments will result in an error\n",
      "  MFCCs = librosa.feature.mfcc(signal, sample_rate, n_mfcc=num_mfcc, n_fft=n_fft, hop_length=hop_length)\n"
     ]
    },
    {
     "name": "stdout",
     "output_type": "stream",
     "text": [
      "C:/Users/Lenovo/Documents/Education/Skripsi/Dataset/Dataset_Indonesia\\Stop\\Stop (88).wav: 3\n",
      "C:/Users/Lenovo/Documents/Education/Skripsi/Dataset/Dataset_Indonesia\\Stop\\Stop (89).wav: 3\n"
     ]
    },
    {
     "name": "stderr",
     "output_type": "stream",
     "text": [
      "C:\\Users\\Lenovo\\AppData\\Local\\Temp\\ipykernel_11612\\2861807924.py:31: FutureWarning: Pass y=[0.         0.         0.         ... 0.03515754 0.01984464 0.00880521], sr=22050 as keyword args. From version 0.10 passing these as positional arguments will result in an error\n",
      "  MFCCs = librosa.feature.mfcc(signal, sample_rate, n_mfcc=num_mfcc, n_fft=n_fft, hop_length=hop_length)\n",
      "C:\\Users\\Lenovo\\AppData\\Local\\Temp\\ipykernel_11612\\2861807924.py:31: FutureWarning: Pass y=[-1.4635989e-06  4.7869135e-06  4.8373890e-06 ...  1.2940219e-01\n",
      "  1.8678695e-02 -8.1546143e-02], sr=22050 as keyword args. From version 0.10 passing these as positional arguments will result in an error\n",
      "  MFCCs = librosa.feature.mfcc(signal, sample_rate, n_mfcc=num_mfcc, n_fft=n_fft, hop_length=hop_length)\n"
     ]
    },
    {
     "name": "stdout",
     "output_type": "stream",
     "text": [
      "C:/Users/Lenovo/Documents/Education/Skripsi/Dataset/Dataset_Indonesia\\Stop\\Stop (9).wav: 3\n",
      "C:/Users/Lenovo/Documents/Education/Skripsi/Dataset/Dataset_Indonesia\\Stop\\Stop (90).wav: 3\n"
     ]
    },
    {
     "name": "stderr",
     "output_type": "stream",
     "text": [
      "C:\\Users\\Lenovo\\AppData\\Local\\Temp\\ipykernel_11612\\2861807924.py:31: FutureWarning: Pass y=[ 0.          0.          0.         ... -0.04090902 -0.05967769\n",
      " -0.07611313], sr=22050 as keyword args. From version 0.10 passing these as positional arguments will result in an error\n",
      "  MFCCs = librosa.feature.mfcc(signal, sample_rate, n_mfcc=num_mfcc, n_fft=n_fft, hop_length=hop_length)\n",
      "C:\\Users\\Lenovo\\AppData\\Local\\Temp\\ipykernel_11612\\2861807924.py:31: FutureWarning: Pass y=[ 0.          0.          0.         ... -0.00022798 -0.00021975\n",
      " -0.00019724], sr=22050 as keyword args. From version 0.10 passing these as positional arguments will result in an error\n",
      "  MFCCs = librosa.feature.mfcc(signal, sample_rate, n_mfcc=num_mfcc, n_fft=n_fft, hop_length=hop_length)\n"
     ]
    },
    {
     "name": "stdout",
     "output_type": "stream",
     "text": [
      "C:/Users/Lenovo/Documents/Education/Skripsi/Dataset/Dataset_Indonesia\\Stop\\Stop (91).wav: 3\n",
      "C:/Users/Lenovo/Documents/Education/Skripsi/Dataset/Dataset_Indonesia\\Stop\\Stop (92).wav: 3\n"
     ]
    },
    {
     "name": "stderr",
     "output_type": "stream",
     "text": [
      "C:\\Users\\Lenovo\\AppData\\Local\\Temp\\ipykernel_11612\\2861807924.py:31: FutureWarning: Pass y=[0.         0.         0.         ... 0.06941192 0.04431989 0.02894775], sr=22050 as keyword args. From version 0.10 passing these as positional arguments will result in an error\n",
      "  MFCCs = librosa.feature.mfcc(signal, sample_rate, n_mfcc=num_mfcc, n_fft=n_fft, hop_length=hop_length)\n",
      "C:\\Users\\Lenovo\\AppData\\Local\\Temp\\ipykernel_11612\\2861807924.py:31: FutureWarning: Pass y=[0.         0.         0.         ... 0.04065839 0.04055818 0.04042663], sr=22050 as keyword args. From version 0.10 passing these as positional arguments will result in an error\n",
      "  MFCCs = librosa.feature.mfcc(signal, sample_rate, n_mfcc=num_mfcc, n_fft=n_fft, hop_length=hop_length)\n"
     ]
    },
    {
     "name": "stdout",
     "output_type": "stream",
     "text": [
      "C:/Users/Lenovo/Documents/Education/Skripsi/Dataset/Dataset_Indonesia\\Stop\\Stop (93).wav: 3\n",
      "C:/Users/Lenovo/Documents/Education/Skripsi/Dataset/Dataset_Indonesia\\Stop\\Stop (94).wav: 3\n"
     ]
    },
    {
     "name": "stderr",
     "output_type": "stream",
     "text": [
      "C:\\Users\\Lenovo\\AppData\\Local\\Temp\\ipykernel_11612\\2861807924.py:31: FutureWarning: Pass y=[ 0.          0.          0.         ... -0.11393593 -0.13884757\n",
      " -0.16192526], sr=22050 as keyword args. From version 0.10 passing these as positional arguments will result in an error\n",
      "  MFCCs = librosa.feature.mfcc(signal, sample_rate, n_mfcc=num_mfcc, n_fft=n_fft, hop_length=hop_length)\n",
      "C:\\Users\\Lenovo\\AppData\\Local\\Temp\\ipykernel_11612\\2861807924.py:31: FutureWarning: Pass y=[ 0.          0.          0.         ... -0.00059387 -0.00062248\n",
      " -0.000656  ], sr=22050 as keyword args. From version 0.10 passing these as positional arguments will result in an error\n",
      "  MFCCs = librosa.feature.mfcc(signal, sample_rate, n_mfcc=num_mfcc, n_fft=n_fft, hop_length=hop_length)\n"
     ]
    },
    {
     "name": "stdout",
     "output_type": "stream",
     "text": [
      "C:/Users/Lenovo/Documents/Education/Skripsi/Dataset/Dataset_Indonesia\\Stop\\Stop (95).wav: 3\n",
      "C:/Users/Lenovo/Documents/Education/Skripsi/Dataset/Dataset_Indonesia\\Stop\\Stop (96).wav: 3\n"
     ]
    },
    {
     "name": "stderr",
     "output_type": "stream",
     "text": [
      "C:\\Users\\Lenovo\\AppData\\Local\\Temp\\ipykernel_11612\\2861807924.py:31: FutureWarning: Pass y=[0.         0.         0.         ... 0.24461134 0.23966114 0.21694767], sr=22050 as keyword args. From version 0.10 passing these as positional arguments will result in an error\n",
      "  MFCCs = librosa.feature.mfcc(signal, sample_rate, n_mfcc=num_mfcc, n_fft=n_fft, hop_length=hop_length)\n",
      "C:\\Users\\Lenovo\\AppData\\Local\\Temp\\ipykernel_11612\\2861807924.py:31: FutureWarning: Pass y=[ 0.          0.          0.         ...  0.01682557  0.00532937\n",
      " -0.01138627], sr=22050 as keyword args. From version 0.10 passing these as positional arguments will result in an error\n",
      "  MFCCs = librosa.feature.mfcc(signal, sample_rate, n_mfcc=num_mfcc, n_fft=n_fft, hop_length=hop_length)\n"
     ]
    },
    {
     "name": "stdout",
     "output_type": "stream",
     "text": [
      "C:/Users/Lenovo/Documents/Education/Skripsi/Dataset/Dataset_Indonesia\\Stop\\Stop (97).wav: 3\n",
      "C:/Users/Lenovo/Documents/Education/Skripsi/Dataset/Dataset_Indonesia\\Stop\\Stop (98).wav: 3\n"
     ]
    },
    {
     "name": "stderr",
     "output_type": "stream",
     "text": [
      "C:\\Users\\Lenovo\\AppData\\Local\\Temp\\ipykernel_11612\\2861807924.py:31: FutureWarning: Pass y=[0.         0.         0.         ... 0.00022643 0.00074407 0.00127786], sr=22050 as keyword args. From version 0.10 passing these as positional arguments will result in an error\n",
      "  MFCCs = librosa.feature.mfcc(signal, sample_rate, n_mfcc=num_mfcc, n_fft=n_fft, hop_length=hop_length)\n",
      "C:\\Users\\Lenovo\\AppData\\Local\\Temp\\ipykernel_11612\\2861807924.py:31: FutureWarning: Pass y=[0.         0.         0.         ... 0.01263849 0.01580767 0.01441763], sr=22050 as keyword args. From version 0.10 passing these as positional arguments will result in an error\n",
      "  MFCCs = librosa.feature.mfcc(signal, sample_rate, n_mfcc=num_mfcc, n_fft=n_fft, hop_length=hop_length)\n"
     ]
    },
    {
     "name": "stdout",
     "output_type": "stream",
     "text": [
      "C:/Users/Lenovo/Documents/Education/Skripsi/Dataset/Dataset_Indonesia\\Stop\\Stop (99).wav: 3\n"
     ]
    }
   ],
   "source": [
    "if __name__ == \"__main__\":\n",
    "    preprocess_dataset(DATASET_PATH, JSON_PATH)"
   ]
  },
  {
   "cell_type": "code",
   "execution_count": null,
   "metadata": {},
   "outputs": [],
   "source": []
  }
 ],
 "metadata": {
  "kernelspec": {
   "display_name": "Python 3.10.2 64-bit",
   "language": "python",
   "name": "python3"
  },
  "language_info": {
   "codemirror_mode": {
    "name": "ipython",
    "version": 3
   },
   "file_extension": ".py",
   "mimetype": "text/x-python",
   "name": "python",
   "nbconvert_exporter": "python",
   "pygments_lexer": "ipython3",
   "version": "3.10.2"
  },
  "vscode": {
   "interpreter": {
    "hash": "8c3d4d9970fc5c09c50d9318a9c7fbf4d0159e4b28833276f5678ee22bded273"
   }
  }
 },
 "nbformat": 4,
 "nbformat_minor": 5
}
