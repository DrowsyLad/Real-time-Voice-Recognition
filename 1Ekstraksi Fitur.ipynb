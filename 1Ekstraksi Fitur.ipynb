{
 "cells": [
  {
   "cell_type": "code",
   "execution_count": 1,
   "id": "32e169e9-4044-471f-8660-14fa6a00b8be",
   "metadata": {},
   "outputs": [],
   "source": [
    "import librosa\n",
    "import os\n",
    "import json\n",
    "import numpy as np"
   ]
  },
  {
   "cell_type": "code",
   "execution_count": 2,
   "id": "145108d0-0a64-43b9-924c-beb04f27f2da",
   "metadata": {},
   "outputs": [],
   "source": [
    "DATASET_PATH = 'C:/Users/Lenovo/Documents/Education/Skripsi/Dataset/Dataset_Indonesia'\n",
    "JSON_PATH = \"dataindo44100.json\"\n",
    "SAMPLES_TO_CONSIDER = 44100 # 1 sec. of audio"
   ]
  },
  {
   "cell_type": "code",
   "execution_count": 3,
   "id": "db8c1fa3-4421-4d92-b695-afc5933ee9ae",
   "metadata": {},
   "outputs": [],
   "source": [
    "def preprocess_dataset(dataset_path, json_path, num_mfcc=13, n_fft=2048, hop_length=512):\n",
    "\n",
    "    # variabel dictionary untuk meyimpan mapping, labels, MFCCs dan nama file\n",
    "    data = {\n",
    "        \"mapping\": [],\n",
    "        \"labels\": [],\n",
    "        \"MFCCs\": [],\n",
    "        \"files\": []\n",
    "    }\n",
    "\n",
    "    for i, (dirpath, dirnames, filenames) in enumerate(os.walk(dataset_path)):\n",
    "\n",
    "        if dirpath is not dataset_path:\n",
    "\n",
    "            # menyimpan label\n",
    "            label = os.path.split(dirpath)[-1]\n",
    "            data[\"mapping\"].append(label)\n",
    "            print(\"\\nProcessing: '{}'\".format(label))\n",
    "\n",
    "            # memproses suara pada sub direktori dan menyimpan MFCC\n",
    "            for f in filenames:\n",
    "                file_path = os.path.join(dirpath, f)\n",
    "\n",
    "                # load file \n",
    "                signal, sample_rate = librosa.load(file_path)\n",
    "\n",
    "                if len(signal) >= SAMPLES_TO_CONSIDER:\n",
    "                    signal = signal[:SAMPLES_TO_CONSIDER]\n",
    "                    #librosa.effects.trim(signal, top_db= 10)\n",
    "                    # extracksi MFCCs\n",
    "                    MFCCs = librosa.feature.mfcc(signal, sample_rate, n_mfcc=num_mfcc, n_fft=n_fft, hop_length=hop_length)\n",
    "\n",
    "                    # menyimpan data dari file sudah dianalisa\n",
    "                    data[\"MFCCs\"].append(MFCCs.T.tolist())\n",
    "                    data[\"labels\"].append(i-1)\n",
    "                    data[\"files\"].append(file_path)\n",
    "                    print(\"{}: {}\".format(file_path, i-1))\n",
    "\n",
    "    # menyimpan data pada file json\n",
    "    with open(json_path, \"w\") as fp:\n",
    "        json.dump(data, fp, indent=4)"
   ]
  },
  {
   "cell_type": "code",
   "execution_count": 4,
   "id": "d011ca01-1101-4288-9aa4-deb36a35e8a6",
   "metadata": {},
   "outputs": [
    {
     "name": "stdout",
     "output_type": "stream",
     "text": [
      "\n",
      "Processing: 'Kanan'\n"
     ]
    },
    {
     "name": "stderr",
     "output_type": "stream",
     "text": [
      "C:\\Users\\Lenovo\\AppData\\Local\\Temp\\ipykernel_15288\\2861807924.py:31: FutureWarning: Pass y=[-5.3826142e-08  7.9589505e-08 -1.0581892e-07 ... -9.1013554e-03\n",
      " -9.3979426e-03 -9.7165629e-03], sr=22050 as keyword args. From version 0.10 passing these as positional arguments will result in an error\n",
      "  MFCCs = librosa.feature.mfcc(signal, sample_rate, n_mfcc=num_mfcc, n_fft=n_fft, hop_length=hop_length)\n"
     ]
    },
    {
     "name": "stdout",
     "output_type": "stream",
     "text": [
      "C:/Users/Lenovo/Documents/Education/Skripsi/Dataset/Dataset_Indonesia\\Kanan\\Kanan (1).wav: 0\n"
     ]
    },
    {
     "name": "stderr",
     "output_type": "stream",
     "text": [
      "C:\\Users\\Lenovo\\AppData\\Local\\Temp\\ipykernel_15288\\2861807924.py:31: FutureWarning: Pass y=[-4.6797272e-06 -4.9985510e-06  1.7252461e-06 ...  2.4208850e-03\n",
      "  1.2644799e-03 -1.7192698e-03], sr=22050 as keyword args. From version 0.10 passing these as positional arguments will result in an error\n",
      "  MFCCs = librosa.feature.mfcc(signal, sample_rate, n_mfcc=num_mfcc, n_fft=n_fft, hop_length=hop_length)\n"
     ]
    },
    {
     "name": "stdout",
     "output_type": "stream",
     "text": [
      "C:/Users/Lenovo/Documents/Education/Skripsi/Dataset/Dataset_Indonesia\\Kanan\\Kanan (10).wav: 0\n"
     ]
    },
    {
     "name": "stderr",
     "output_type": "stream",
     "text": [
      "C:\\Users\\Lenovo\\AppData\\Local\\Temp\\ipykernel_15288\\2861807924.py:31: FutureWarning: Pass y=[-2.7036064e-08  7.1547674e-08 -1.2408850e-07 ... -2.2184462e-03\n",
      "  4.0968749e-04  2.4829458e-03], sr=22050 as keyword args. From version 0.10 passing these as positional arguments will result in an error\n",
      "  MFCCs = librosa.feature.mfcc(signal, sample_rate, n_mfcc=num_mfcc, n_fft=n_fft, hop_length=hop_length)\n"
     ]
    },
    {
     "name": "stdout",
     "output_type": "stream",
     "text": [
      "C:/Users/Lenovo/Documents/Education/Skripsi/Dataset/Dataset_Indonesia\\Kanan\\Kanan (11).wav: 0\n"
     ]
    },
    {
     "name": "stderr",
     "output_type": "stream",
     "text": [
      "C:\\Users\\Lenovo\\AppData\\Local\\Temp\\ipykernel_15288\\2861807924.py:31: FutureWarning: Pass y=[-4.7720418e-06 -4.8767488e-06  1.5765050e-06 ... -7.2557235e-04\n",
      " -1.0543939e-03 -7.0276519e-04], sr=22050 as keyword args. From version 0.10 passing these as positional arguments will result in an error\n",
      "  MFCCs = librosa.feature.mfcc(signal, sample_rate, n_mfcc=num_mfcc, n_fft=n_fft, hop_length=hop_length)\n"
     ]
    },
    {
     "name": "stdout",
     "output_type": "stream",
     "text": [
      "C:/Users/Lenovo/Documents/Education/Skripsi/Dataset/Dataset_Indonesia\\Kanan\\Kanan (12).wav: 0\n"
     ]
    },
    {
     "name": "stderr",
     "output_type": "stream",
     "text": [
      "C:\\Users\\Lenovo\\AppData\\Local\\Temp\\ipykernel_15288\\2861807924.py:31: FutureWarning: Pass y=[-7.5057379e-08  4.4320768e-08  2.5746447e-09 ...  1.8754978e-03\n",
      "  2.6549054e-03  3.4165403e-03], sr=22050 as keyword args. From version 0.10 passing these as positional arguments will result in an error\n",
      "  MFCCs = librosa.feature.mfcc(signal, sample_rate, n_mfcc=num_mfcc, n_fft=n_fft, hop_length=hop_length)\n"
     ]
    },
    {
     "name": "stdout",
     "output_type": "stream",
     "text": [
      "C:/Users/Lenovo/Documents/Education/Skripsi/Dataset/Dataset_Indonesia\\Kanan\\Kanan (14).wav: 0\n"
     ]
    },
    {
     "name": "stderr",
     "output_type": "stream",
     "text": [
      "C:\\Users\\Lenovo\\AppData\\Local\\Temp\\ipykernel_15288\\2861807924.py:31: FutureWarning: Pass y=[-5.2360349e-08  7.7062005e-08 -1.0200635e-07 ...  3.1270338e-03\n",
      "  2.2682101e-03  1.4975013e-03], sr=22050 as keyword args. From version 0.10 passing these as positional arguments will result in an error\n",
      "  MFCCs = librosa.feature.mfcc(signal, sample_rate, n_mfcc=num_mfcc, n_fft=n_fft, hop_length=hop_length)\n"
     ]
    },
    {
     "name": "stdout",
     "output_type": "stream",
     "text": [
      "C:/Users/Lenovo/Documents/Education/Skripsi/Dataset/Dataset_Indonesia\\Kanan\\Kanan (15).wav: 0\n"
     ]
    },
    {
     "name": "stderr",
     "output_type": "stream",
     "text": [
      "C:\\Users\\Lenovo\\AppData\\Local\\Temp\\ipykernel_15288\\2861807924.py:31: FutureWarning: Pass y=[-5.3826142e-08  7.9589505e-08 -1.0581892e-07 ... -5.6395335e-03\n",
      " -6.4710723e-03 -7.0544183e-03], sr=22050 as keyword args. From version 0.10 passing these as positional arguments will result in an error\n",
      "  MFCCs = librosa.feature.mfcc(signal, sample_rate, n_mfcc=num_mfcc, n_fft=n_fft, hop_length=hop_length)\n"
     ]
    },
    {
     "name": "stdout",
     "output_type": "stream",
     "text": [
      "C:/Users/Lenovo/Documents/Education/Skripsi/Dataset/Dataset_Indonesia\\Kanan\\Kanan (16).wav: 0\n"
     ]
    },
    {
     "name": "stderr",
     "output_type": "stream",
     "text": [
      "C:\\Users\\Lenovo\\AppData\\Local\\Temp\\ipykernel_15288\\2861807924.py:31: FutureWarning: Pass y=[-4.6900109e-06 -4.9257428e-06  1.5765889e-06 ...  3.9152597e-04\n",
      " -2.8053165e-04  2.3404858e-04], sr=22050 as keyword args. From version 0.10 passing these as positional arguments will result in an error\n",
      "  MFCCs = librosa.feature.mfcc(signal, sample_rate, n_mfcc=num_mfcc, n_fft=n_fft, hop_length=hop_length)\n"
     ]
    },
    {
     "name": "stdout",
     "output_type": "stream",
     "text": [
      "C:/Users/Lenovo/Documents/Education/Skripsi/Dataset/Dataset_Indonesia\\Kanan\\Kanan (17).wav: 0\n"
     ]
    },
    {
     "name": "stderr",
     "output_type": "stream",
     "text": [
      "C:\\Users\\Lenovo\\AppData\\Local\\Temp\\ipykernel_15288\\2861807924.py:31: FutureWarning: Pass y=[-5.3826142e-08  7.9589505e-08 -1.0581892e-07 ... -3.7333188e-03\n",
      " -3.4663880e-03 -2.7663889e-03], sr=22050 as keyword args. From version 0.10 passing these as positional arguments will result in an error\n",
      "  MFCCs = librosa.feature.mfcc(signal, sample_rate, n_mfcc=num_mfcc, n_fft=n_fft, hop_length=hop_length)\n"
     ]
    },
    {
     "name": "stdout",
     "output_type": "stream",
     "text": [
      "C:/Users/Lenovo/Documents/Education/Skripsi/Dataset/Dataset_Indonesia\\Kanan\\Kanan (18).wav: 0\n"
     ]
    },
    {
     "name": "stderr",
     "output_type": "stream",
     "text": [
      "C:\\Users\\Lenovo\\AppData\\Local\\Temp\\ipykernel_15288\\2861807924.py:31: FutureWarning: Pass y=[ 1.13028385e-07 -1.04574191e-07  8.10405396e-08 ... -3.58701427e-03\n",
      " -2.69206916e-03 -1.61807216e-03], sr=22050 as keyword args. From version 0.10 passing these as positional arguments will result in an error\n",
      "  MFCCs = librosa.feature.mfcc(signal, sample_rate, n_mfcc=num_mfcc, n_fft=n_fft, hop_length=hop_length)\n"
     ]
    },
    {
     "name": "stdout",
     "output_type": "stream",
     "text": [
      "C:/Users/Lenovo/Documents/Education/Skripsi/Dataset/Dataset_Indonesia\\Kanan\\Kanan (187).wav: 0\n"
     ]
    },
    {
     "name": "stderr",
     "output_type": "stream",
     "text": [
      "C:\\Users\\Lenovo\\AppData\\Local\\Temp\\ipykernel_15288\\2861807924.py:31: FutureWarning: Pass y=[-4.76085870e-06 -4.89233480e-06  1.59663341e-06 ...  1.00720085e-01\n",
      "  1.27144367e-01  1.38269722e-01], sr=22050 as keyword args. From version 0.10 passing these as positional arguments will result in an error\n",
      "  MFCCs = librosa.feature.mfcc(signal, sample_rate, n_mfcc=num_mfcc, n_fft=n_fft, hop_length=hop_length)\n"
     ]
    },
    {
     "name": "stdout",
     "output_type": "stream",
     "text": [
      "C:/Users/Lenovo/Documents/Education/Skripsi/Dataset/Dataset_Indonesia\\Kanan\\Kanan (19).wav: 0\n"
     ]
    },
    {
     "name": "stderr",
     "output_type": "stream",
     "text": [
      "C:\\Users\\Lenovo\\AppData\\Local\\Temp\\ipykernel_15288\\2861807924.py:31: FutureWarning: Pass y=[ 1.13028385e-07 -1.04574191e-07  8.10405396e-08 ...  5.59894135e-03\n",
      "  5.18516079e-03  4.90843179e-03], sr=22050 as keyword args. From version 0.10 passing these as positional arguments will result in an error\n",
      "  MFCCs = librosa.feature.mfcc(signal, sample_rate, n_mfcc=num_mfcc, n_fft=n_fft, hop_length=hop_length)\n"
     ]
    },
    {
     "name": "stdout",
     "output_type": "stream",
     "text": [
      "C:/Users/Lenovo/Documents/Education/Skripsi/Dataset/Dataset_Indonesia\\Kanan\\Kanan (191).wav: 0\n"
     ]
    },
    {
     "name": "stderr",
     "output_type": "stream",
     "text": [
      "C:\\Users\\Lenovo\\AppData\\Local\\Temp\\ipykernel_15288\\2861807924.py:31: FutureWarning: Pass y=[-4.7591475e-06 -4.8930829e-06  1.5957888e-06 ...  2.0221715e-04\n",
      "  6.3100870e-04  5.6955719e-04], sr=22050 as keyword args. From version 0.10 passing these as positional arguments will result in an error\n",
      "  MFCCs = librosa.feature.mfcc(signal, sample_rate, n_mfcc=num_mfcc, n_fft=n_fft, hop_length=hop_length)\n",
      "C:\\Users\\Lenovo\\AppData\\Local\\Temp\\ipykernel_15288\\2861807924.py:31: FutureWarning: Pass y=[-5.3962516e-08  7.9797324e-08 -1.0610644e-07 ... -5.8340095e-03\n",
      " -5.6700003e-03 -5.7698470e-03], sr=22050 as keyword args. From version 0.10 passing these as positional arguments will result in an error\n",
      "  MFCCs = librosa.feature.mfcc(signal, sample_rate, n_mfcc=num_mfcc, n_fft=n_fft, hop_length=hop_length)\n"
     ]
    },
    {
     "name": "stdout",
     "output_type": "stream",
     "text": [
      "C:/Users/Lenovo/Documents/Education/Skripsi/Dataset/Dataset_Indonesia\\Kanan\\Kanan (2).wav: 0\n",
      "C:/Users/Lenovo/Documents/Education/Skripsi/Dataset/Dataset_Indonesia\\Kanan\\Kanan (20).wav: 0\n"
     ]
    },
    {
     "name": "stderr",
     "output_type": "stream",
     "text": [
      "C:\\Users\\Lenovo\\AppData\\Local\\Temp\\ipykernel_15288\\2861807924.py:31: FutureWarning: Pass y=[-4.3840087e-06 -5.6658810e-06  3.1603556e-06 ... -9.0696791e-04\n",
      " -4.3663136e-03 -9.7389240e-03], sr=22050 as keyword args. From version 0.10 passing these as positional arguments will result in an error\n",
      "  MFCCs = librosa.feature.mfcc(signal, sample_rate, n_mfcc=num_mfcc, n_fft=n_fft, hop_length=hop_length)\n",
      "C:\\Users\\Lenovo\\AppData\\Local\\Temp\\ipykernel_15288\\2861807924.py:31: FutureWarning: Pass y=[-4.8285410e-06 -4.7929093e-06  1.4645768e-06 ... -2.3118078e-03\n",
      " -1.4525349e-02 -2.7677508e-02], sr=22050 as keyword args. From version 0.10 passing these as positional arguments will result in an error\n",
      "  MFCCs = librosa.feature.mfcc(signal, sample_rate, n_mfcc=num_mfcc, n_fft=n_fft, hop_length=hop_length)\n"
     ]
    },
    {
     "name": "stdout",
     "output_type": "stream",
     "text": [
      "C:/Users/Lenovo/Documents/Education/Skripsi/Dataset/Dataset_Indonesia\\Kanan\\Kanan (21).wav: 0\n",
      "C:/Users/Lenovo/Documents/Education/Skripsi/Dataset/Dataset_Indonesia\\Kanan\\Kanan (22).wav: 0\n",
      "C:/Users/Lenovo/Documents/Education/Skripsi/Dataset/Dataset_Indonesia\\Kanan\\Kanan (24).wav: 0\n",
      "C:/Users/Lenovo/Documents/Education/Skripsi/Dataset/Dataset_Indonesia\\Kanan\\Kanan (25).wav: 0\n"
     ]
    },
    {
     "name": "stderr",
     "output_type": "stream",
     "text": [
      "C:\\Users\\Lenovo\\AppData\\Local\\Temp\\ipykernel_15288\\2861807924.py:31: FutureWarning: Pass y=[-1.4147095e-07  1.7645257e-07 -2.0481474e-07 ... -5.3792647e-03\n",
      " -7.3412317e-03 -6.6048782e-03], sr=22050 as keyword args. From version 0.10 passing these as positional arguments will result in an error\n",
      "  MFCCs = librosa.feature.mfcc(signal, sample_rate, n_mfcc=num_mfcc, n_fft=n_fft, hop_length=hop_length)\n"
     ]
    },
    {
     "name": "stdout",
     "output_type": "stream",
     "text": [
      "C:/Users/Lenovo/Documents/Education/Skripsi/Dataset/Dataset_Indonesia\\Kanan\\Kanan (4).wav: 0\n"
     ]
    },
    {
     "name": "stderr",
     "output_type": "stream",
     "text": [
      "C:\\Users\\Lenovo\\AppData\\Local\\Temp\\ipykernel_15288\\2861807924.py:31: FutureWarning: Pass y=[-4.7557096e-06 -4.9385167e-06  1.6930403e-06 ...  8.4297098e-03\n",
      "  9.2328507e-03  9.5751872e-03], sr=22050 as keyword args. From version 0.10 passing these as positional arguments will result in an error\n",
      "  MFCCs = librosa.feature.mfcc(signal, sample_rate, n_mfcc=num_mfcc, n_fft=n_fft, hop_length=hop_length)\n"
     ]
    },
    {
     "name": "stdout",
     "output_type": "stream",
     "text": [
      "C:/Users/Lenovo/Documents/Education/Skripsi/Dataset/Dataset_Indonesia\\Kanan\\Kanan (5).wav: 0\n"
     ]
    },
    {
     "name": "stderr",
     "output_type": "stream",
     "text": [
      "C:\\Users\\Lenovo\\AppData\\Local\\Temp\\ipykernel_15288\\2861807924.py:31: FutureWarning: Pass y=[-5.3826142e-08  7.9589505e-08 -1.0581892e-07 ...  4.0481105e-03\n",
      "  4.5699226e-03  4.0979264e-03], sr=22050 as keyword args. From version 0.10 passing these as positional arguments will result in an error\n",
      "  MFCCs = librosa.feature.mfcc(signal, sample_rate, n_mfcc=num_mfcc, n_fft=n_fft, hop_length=hop_length)\n"
     ]
    },
    {
     "name": "stdout",
     "output_type": "stream",
     "text": [
      "C:/Users/Lenovo/Documents/Education/Skripsi/Dataset/Dataset_Indonesia\\Kanan\\Kanan (7).wav: 0\n"
     ]
    },
    {
     "name": "stderr",
     "output_type": "stream",
     "text": [
      "C:\\Users\\Lenovo\\AppData\\Local\\Temp\\ipykernel_15288\\2861807924.py:31: FutureWarning: Pass y=[0.0000000e+00 0.0000000e+00 0.0000000e+00 ... 7.9859692e-06 1.0716577e-05\n",
      " 8.7623557e-06], sr=22050 as keyword args. From version 0.10 passing these as positional arguments will result in an error\n",
      "  MFCCs = librosa.feature.mfcc(signal, sample_rate, n_mfcc=num_mfcc, n_fft=n_fft, hop_length=hop_length)\n"
     ]
    },
    {
     "name": "stdout",
     "output_type": "stream",
     "text": [
      "C:/Users/Lenovo/Documents/Education/Skripsi/Dataset/Dataset_Indonesia\\Kanan\\Kanan (78).wav: 0\n"
     ]
    },
    {
     "name": "stderr",
     "output_type": "stream",
     "text": [
      "C:\\Users\\Lenovo\\AppData\\Local\\Temp\\ipykernel_15288\\2861807924.py:31: FutureWarning: Pass y=[-5.1886744e-08  8.0644362e-08 -1.1134588e-07 ...  5.6367056e-03\n",
      "  4.7866288e-03  2.8907615e-03], sr=22050 as keyword args. From version 0.10 passing these as positional arguments will result in an error\n",
      "  MFCCs = librosa.feature.mfcc(signal, sample_rate, n_mfcc=num_mfcc, n_fft=n_fft, hop_length=hop_length)\n"
     ]
    },
    {
     "name": "stdout",
     "output_type": "stream",
     "text": [
      "C:/Users/Lenovo/Documents/Education/Skripsi/Dataset/Dataset_Indonesia\\Kanan\\Kanan (8).wav: 0\n"
     ]
    },
    {
     "name": "stderr",
     "output_type": "stream",
     "text": [
      "C:\\Users\\Lenovo\\AppData\\Local\\Temp\\ipykernel_15288\\2861807924.py:31: FutureWarning: Pass y=[ 0.          0.          0.         ... -0.0005762  -0.00047908\n",
      " -0.00054849], sr=22050 as keyword args. From version 0.10 passing these as positional arguments will result in an error\n",
      "  MFCCs = librosa.feature.mfcc(signal, sample_rate, n_mfcc=num_mfcc, n_fft=n_fft, hop_length=hop_length)\n"
     ]
    },
    {
     "name": "stdout",
     "output_type": "stream",
     "text": [
      "C:/Users/Lenovo/Documents/Education/Skripsi/Dataset/Dataset_Indonesia\\Kanan\\Kanan (80).wav: 0\n"
     ]
    },
    {
     "name": "stderr",
     "output_type": "stream",
     "text": [
      "C:\\Users\\Lenovo\\AppData\\Local\\Temp\\ipykernel_15288\\2861807924.py:31: FutureWarning: Pass y=[ 0.          0.          0.         ... -0.00013607 -0.00060423\n",
      " -0.00101237], sr=22050 as keyword args. From version 0.10 passing these as positional arguments will result in an error\n",
      "  MFCCs = librosa.feature.mfcc(signal, sample_rate, n_mfcc=num_mfcc, n_fft=n_fft, hop_length=hop_length)\n"
     ]
    },
    {
     "name": "stdout",
     "output_type": "stream",
     "text": [
      "C:/Users/Lenovo/Documents/Education/Skripsi/Dataset/Dataset_Indonesia\\Kanan\\Kanan (81).wav: 0\n"
     ]
    },
    {
     "name": "stderr",
     "output_type": "stream",
     "text": [
      "C:\\Users\\Lenovo\\AppData\\Local\\Temp\\ipykernel_15288\\2861807924.py:31: FutureWarning: Pass y=[ 0.          0.          0.         ... -0.00549699 -0.00262736\n",
      "  0.00045403], sr=22050 as keyword args. From version 0.10 passing these as positional arguments will result in an error\n",
      "  MFCCs = librosa.feature.mfcc(signal, sample_rate, n_mfcc=num_mfcc, n_fft=n_fft, hop_length=hop_length)\n"
     ]
    },
    {
     "name": "stdout",
     "output_type": "stream",
     "text": [
      "C:/Users/Lenovo/Documents/Education/Skripsi/Dataset/Dataset_Indonesia\\Kanan\\Kanan (86).wav: 0\n"
     ]
    },
    {
     "name": "stderr",
     "output_type": "stream",
     "text": [
      "C:\\Users\\Lenovo\\AppData\\Local\\Temp\\ipykernel_15288\\2861807924.py:31: FutureWarning: Pass y=[-3.4083804e-08  7.2141980e-08 -1.1630247e-07 ...  1.1483188e-03\n",
      "  7.4574776e-04 -3.9836793e-04], sr=22050 as keyword args. From version 0.10 passing these as positional arguments will result in an error\n",
      "  MFCCs = librosa.feature.mfcc(signal, sample_rate, n_mfcc=num_mfcc, n_fft=n_fft, hop_length=hop_length)\n"
     ]
    },
    {
     "name": "stdout",
     "output_type": "stream",
     "text": [
      "C:/Users/Lenovo/Documents/Education/Skripsi/Dataset/Dataset_Indonesia\\Kanan\\Kanan (9).wav: 0\n"
     ]
    },
    {
     "name": "stderr",
     "output_type": "stream",
     "text": [
      "C:\\Users\\Lenovo\\AppData\\Local\\Temp\\ipykernel_15288\\2861807924.py:31: FutureWarning: Pass y=[ 0.          0.          0.         ... -0.00087707 -0.00131505\n",
      " -0.00191101], sr=22050 as keyword args. From version 0.10 passing these as positional arguments will result in an error\n",
      "  MFCCs = librosa.feature.mfcc(signal, sample_rate, n_mfcc=num_mfcc, n_fft=n_fft, hop_length=hop_length)\n",
      "C:\\Users\\Lenovo\\AppData\\Local\\Temp\\ipykernel_15288\\2861807924.py:31: FutureWarning: Pass y=[0.         0.         0.         ... 0.0712629  0.04614865 0.02408979], sr=22050 as keyword args. From version 0.10 passing these as positional arguments will result in an error\n",
      "  MFCCs = librosa.feature.mfcc(signal, sample_rate, n_mfcc=num_mfcc, n_fft=n_fft, hop_length=hop_length)\n"
     ]
    },
    {
     "name": "stdout",
     "output_type": "stream",
     "text": [
      "C:/Users/Lenovo/Documents/Education/Skripsi/Dataset/Dataset_Indonesia\\Kanan\\Kanan (93).wav: 0\n",
      "C:/Users/Lenovo/Documents/Education/Skripsi/Dataset/Dataset_Indonesia\\Kanan\\Kanan (94).wav: 0\n",
      "\n",
      "Processing: 'Kiri'\n"
     ]
    },
    {
     "name": "stderr",
     "output_type": "stream",
     "text": [
      "C:\\Users\\Lenovo\\AppData\\Local\\Temp\\ipykernel_15288\\2861807924.py:31: FutureWarning: Pass y=[-5.2253352e-08  7.9154972e-08 -1.0723828e-07 ...  2.3326755e-03\n",
      "  2.5102065e-03  2.2779426e-03], sr=22050 as keyword args. From version 0.10 passing these as positional arguments will result in an error\n",
      "  MFCCs = librosa.feature.mfcc(signal, sample_rate, n_mfcc=num_mfcc, n_fft=n_fft, hop_length=hop_length)\n"
     ]
    },
    {
     "name": "stdout",
     "output_type": "stream",
     "text": [
      "C:/Users/Lenovo/Documents/Education/Skripsi/Dataset/Dataset_Indonesia\\Kiri\\10 (1).wav: 1\n"
     ]
    },
    {
     "name": "stderr",
     "output_type": "stream",
     "text": [
      "C:\\Users\\Lenovo\\AppData\\Local\\Temp\\ipykernel_15288\\2861807924.py:31: FutureWarning: Pass y=[-7.3955891e-07 -6.9152670e-06 -6.5132133e-07 ... -4.8655663e-03\n",
      "  5.2299618e-04 -3.8880545e-03], sr=22050 as keyword args. From version 0.10 passing these as positional arguments will result in an error\n",
      "  MFCCs = librosa.feature.mfcc(signal, sample_rate, n_mfcc=num_mfcc, n_fft=n_fft, hop_length=hop_length)\n"
     ]
    },
    {
     "name": "stdout",
     "output_type": "stream",
     "text": [
      "C:/Users/Lenovo/Documents/Education/Skripsi/Dataset/Dataset_Indonesia\\Kiri\\11 (1).wav: 1\n"
     ]
    },
    {
     "name": "stderr",
     "output_type": "stream",
     "text": [
      "C:\\Users\\Lenovo\\AppData\\Local\\Temp\\ipykernel_15288\\2861807924.py:31: FutureWarning: Pass y=[-2.3139376e-07  2.3625293e-07 -2.1908097e-07 ...  7.8704245e-03\n",
      "  6.1987136e-03  4.8774127e-03], sr=22050 as keyword args. From version 0.10 passing these as positional arguments will result in an error\n",
      "  MFCCs = librosa.feature.mfcc(signal, sample_rate, n_mfcc=num_mfcc, n_fft=n_fft, hop_length=hop_length)\n"
     ]
    },
    {
     "name": "stdout",
     "output_type": "stream",
     "text": [
      "C:/Users/Lenovo/Documents/Education/Skripsi/Dataset/Dataset_Indonesia\\Kiri\\12 (1).wav: 1\n"
     ]
    },
    {
     "name": "stderr",
     "output_type": "stream",
     "text": [
      "C:\\Users\\Lenovo\\AppData\\Local\\Temp\\ipykernel_15288\\2861807924.py:31: FutureWarning: Pass y=[-1.3377415e-07  1.8579911e-07 -2.3622695e-07 ...  5.9501845e-03\n",
      "  6.1570699e-03  4.9681705e-03], sr=22050 as keyword args. From version 0.10 passing these as positional arguments will result in an error\n",
      "  MFCCs = librosa.feature.mfcc(signal, sample_rate, n_mfcc=num_mfcc, n_fft=n_fft, hop_length=hop_length)\n"
     ]
    },
    {
     "name": "stdout",
     "output_type": "stream",
     "text": [
      "C:/Users/Lenovo/Documents/Education/Skripsi/Dataset/Dataset_Indonesia\\Kiri\\14 (1).wav: 1\n"
     ]
    },
    {
     "name": "stderr",
     "output_type": "stream",
     "text": [
      "C:\\Users\\Lenovo\\AppData\\Local\\Temp\\ipykernel_15288\\2861807924.py:31: FutureWarning: Pass y=[-5.0831883e-08  7.5117406e-08 -9.9818649e-08 ... -6.1523166e-02\n",
      " -5.3940609e-02 -2.4377687e-02], sr=22050 as keyword args. From version 0.10 passing these as positional arguments will result in an error\n",
      "  MFCCs = librosa.feature.mfcc(signal, sample_rate, n_mfcc=num_mfcc, n_fft=n_fft, hop_length=hop_length)\n"
     ]
    },
    {
     "name": "stdout",
     "output_type": "stream",
     "text": [
      "C:/Users/Lenovo/Documents/Education/Skripsi/Dataset/Dataset_Indonesia\\Kiri\\15 (1).wav: 1\n"
     ]
    },
    {
     "name": "stderr",
     "output_type": "stream",
     "text": [
      "C:\\Users\\Lenovo\\AppData\\Local\\Temp\\ipykernel_15288\\2861807924.py:31: FutureWarning: Pass y=[-6.28574739e-08  1.09589365e-07 -1.61097276e-07 ...  8.15510936e-03\n",
      "  5.93943289e-03  2.18956755e-03], sr=22050 as keyword args. From version 0.10 passing these as positional arguments will result in an error\n",
      "  MFCCs = librosa.feature.mfcc(signal, sample_rate, n_mfcc=num_mfcc, n_fft=n_fft, hop_length=hop_length)\n"
     ]
    },
    {
     "name": "stdout",
     "output_type": "stream",
     "text": [
      "C:/Users/Lenovo/Documents/Education/Skripsi/Dataset/Dataset_Indonesia\\Kiri\\16 (1).wav: 1\n"
     ]
    },
    {
     "name": "stderr",
     "output_type": "stream",
     "text": [
      "C:\\Users\\Lenovo\\AppData\\Local\\Temp\\ipykernel_15288\\2861807924.py:31: FutureWarning: Pass y=[-4.9717441e-06 -4.3100695e-06  2.3769192e-07 ... -1.5781192e-02\n",
      " -1.8197697e-02 -1.9487068e-02], sr=22050 as keyword args. From version 0.10 passing these as positional arguments will result in an error\n",
      "  MFCCs = librosa.feature.mfcc(signal, sample_rate, n_mfcc=num_mfcc, n_fft=n_fft, hop_length=hop_length)\n"
     ]
    },
    {
     "name": "stdout",
     "output_type": "stream",
     "text": [
      "C:/Users/Lenovo/Documents/Education/Skripsi/Dataset/Dataset_Indonesia\\Kiri\\17 (1).wav: 1\n"
     ]
    },
    {
     "name": "stderr",
     "output_type": "stream",
     "text": [
      "C:\\Users\\Lenovo\\AppData\\Local\\Temp\\ipykernel_15288\\2861807924.py:31: FutureWarning: Pass y=[-5.3826142e-08  7.9589505e-08 -1.0581892e-07 ...  8.1127519e-03\n",
      "  7.6956660e-03  4.9960692e-03], sr=22050 as keyword args. From version 0.10 passing these as positional arguments will result in an error\n",
      "  MFCCs = librosa.feature.mfcc(signal, sample_rate, n_mfcc=num_mfcc, n_fft=n_fft, hop_length=hop_length)\n"
     ]
    },
    {
     "name": "stdout",
     "output_type": "stream",
     "text": [
      "C:/Users/Lenovo/Documents/Education/Skripsi/Dataset/Dataset_Indonesia\\Kiri\\18 (1).wav: 1\n"
     ]
    },
    {
     "name": "stderr",
     "output_type": "stream",
     "text": [
      "C:\\Users\\Lenovo\\AppData\\Local\\Temp\\ipykernel_15288\\2861807924.py:31: FutureWarning: Pass y=[-5.3826142e-08  7.9589505e-08 -1.0581892e-07 ...  3.2107264e-03\n",
      "  4.2682639e-03  2.1522797e-03], sr=22050 as keyword args. From version 0.10 passing these as positional arguments will result in an error\n",
      "  MFCCs = librosa.feature.mfcc(signal, sample_rate, n_mfcc=num_mfcc, n_fft=n_fft, hop_length=hop_length)\n"
     ]
    },
    {
     "name": "stdout",
     "output_type": "stream",
     "text": [
      "C:/Users/Lenovo/Documents/Education/Skripsi/Dataset/Dataset_Indonesia\\Kiri\\19 (1).wav: 1\n"
     ]
    },
    {
     "name": "stderr",
     "output_type": "stream",
     "text": [
      "C:\\Users\\Lenovo\\AppData\\Local\\Temp\\ipykernel_15288\\2861807924.py:31: FutureWarning: Pass y=[-4.7707672e-06 -4.8769402e-06  1.5751390e-06 ... -1.3307731e-03\n",
      " -1.8980199e-03 -3.9181518e-03], sr=22050 as keyword args. From version 0.10 passing these as positional arguments will result in an error\n",
      "  MFCCs = librosa.feature.mfcc(signal, sample_rate, n_mfcc=num_mfcc, n_fft=n_fft, hop_length=hop_length)\n"
     ]
    },
    {
     "name": "stdout",
     "output_type": "stream",
     "text": [
      "C:/Users/Lenovo/Documents/Education/Skripsi/Dataset/Dataset_Indonesia\\Kiri\\2 (1).wav: 1\n"
     ]
    },
    {
     "name": "stderr",
     "output_type": "stream",
     "text": [
      "C:\\Users\\Lenovo\\AppData\\Local\\Temp\\ipykernel_15288\\2861807924.py:31: FutureWarning: Pass y=[-4.6260334e-06 -5.0331146e-06  1.7310332e-06 ... -8.2278237e-02\n",
      " -8.2253866e-02 -7.0404559e-02], sr=22050 as keyword args. From version 0.10 passing these as positional arguments will result in an error\n",
      "  MFCCs = librosa.feature.mfcc(signal, sample_rate, n_mfcc=num_mfcc, n_fft=n_fft, hop_length=hop_length)\n"
     ]
    },
    {
     "name": "stdout",
     "output_type": "stream",
     "text": [
      "C:/Users/Lenovo/Documents/Education/Skripsi/Dataset/Dataset_Indonesia\\Kiri\\20 (1).wav: 1\n"
     ]
    },
    {
     "name": "stderr",
     "output_type": "stream",
     "text": [
      "C:\\Users\\Lenovo\\AppData\\Local\\Temp\\ipykernel_15288\\2861807924.py:31: FutureWarning: Pass y=[-5.3826142e-08  7.9589505e-08 -1.0581892e-07 ... -7.1299739e-02\n",
      " -5.8085069e-02 -5.1523741e-02], sr=22050 as keyword args. From version 0.10 passing these as positional arguments will result in an error\n",
      "  MFCCs = librosa.feature.mfcc(signal, sample_rate, n_mfcc=num_mfcc, n_fft=n_fft, hop_length=hop_length)\n"
     ]
    },
    {
     "name": "stdout",
     "output_type": "stream",
     "text": [
      "C:/Users/Lenovo/Documents/Education/Skripsi/Dataset/Dataset_Indonesia\\Kiri\\21 (1).wav: 1\n"
     ]
    },
    {
     "name": "stderr",
     "output_type": "stream",
     "text": [
      "C:\\Users\\Lenovo\\AppData\\Local\\Temp\\ipykernel_15288\\2861807924.py:31: FutureWarning: Pass y=[-5.3826142e-08  7.9589505e-08 -1.0581892e-07 ...  3.9309193e-03\n",
      "  4.7610579e-03  6.2026479e-03], sr=22050 as keyword args. From version 0.10 passing these as positional arguments will result in an error\n",
      "  MFCCs = librosa.feature.mfcc(signal, sample_rate, n_mfcc=num_mfcc, n_fft=n_fft, hop_length=hop_length)\n"
     ]
    },
    {
     "name": "stdout",
     "output_type": "stream",
     "text": [
      "C:/Users/Lenovo/Documents/Education/Skripsi/Dataset/Dataset_Indonesia\\Kiri\\22 (1).wav: 1\n",
      "C:/Users/Lenovo/Documents/Education/Skripsi/Dataset/Dataset_Indonesia\\Kiri\\23 (1).wav: 1\n",
      "C:/Users/Lenovo/Documents/Education/Skripsi/Dataset/Dataset_Indonesia\\Kiri\\24 (1).wav: 1\n",
      "C:/Users/Lenovo/Documents/Education/Skripsi/Dataset/Dataset_Indonesia\\Kiri\\25 (1).wav: 1\n"
     ]
    },
    {
     "name": "stderr",
     "output_type": "stream",
     "text": [
      "C:\\Users\\Lenovo\\AppData\\Local\\Temp\\ipykernel_15288\\2861807924.py:31: FutureWarning: Pass y=[-4.7608460e-06 -4.8901288e-06  1.5913010e-06 ... -8.7513233e-04\n",
      " -2.5795090e-03 -3.2736135e-03], sr=22050 as keyword args. From version 0.10 passing these as positional arguments will result in an error\n",
      "  MFCCs = librosa.feature.mfcc(signal, sample_rate, n_mfcc=num_mfcc, n_fft=n_fft, hop_length=hop_length)\n"
     ]
    },
    {
     "name": "stdout",
     "output_type": "stream",
     "text": [
      "C:/Users/Lenovo/Documents/Education/Skripsi/Dataset/Dataset_Indonesia\\Kiri\\3 (1).wav: 1\n"
     ]
    },
    {
     "name": "stderr",
     "output_type": "stream",
     "text": [
      "C:\\Users\\Lenovo\\AppData\\Local\\Temp\\ipykernel_15288\\2861807924.py:31: FutureWarning: Pass y=[ 1.1160338e-07  8.7925152e-08 -3.6694476e-07 ... -9.7202780e-03\n",
      " -1.0462624e-02 -1.1030440e-02], sr=22050 as keyword args. From version 0.10 passing these as positional arguments will result in an error\n",
      "  MFCCs = librosa.feature.mfcc(signal, sample_rate, n_mfcc=num_mfcc, n_fft=n_fft, hop_length=hop_length)\n"
     ]
    },
    {
     "name": "stdout",
     "output_type": "stream",
     "text": [
      "C:/Users/Lenovo/Documents/Education/Skripsi/Dataset/Dataset_Indonesia\\Kiri\\4 (1).wav: 1\n"
     ]
    },
    {
     "name": "stderr",
     "output_type": "stream",
     "text": [
      "C:\\Users\\Lenovo\\AppData\\Local\\Temp\\ipykernel_15288\\2861807924.py:31: FutureWarning: Pass y=[-4.7458616e-06 -4.9093583e-06  1.6141698e-06 ... -3.3997159e-05\n",
      " -3.2436813e-04  2.3355638e-05], sr=22050 as keyword args. From version 0.10 passing these as positional arguments will result in an error\n",
      "  MFCCs = librosa.feature.mfcc(signal, sample_rate, n_mfcc=num_mfcc, n_fft=n_fft, hop_length=hop_length)\n"
     ]
    },
    {
     "name": "stdout",
     "output_type": "stream",
     "text": [
      "C:/Users/Lenovo/Documents/Education/Skripsi/Dataset/Dataset_Indonesia\\Kiri\\5 (1).wav: 1\n"
     ]
    },
    {
     "name": "stderr",
     "output_type": "stream",
     "text": [
      "C:\\Users\\Lenovo\\AppData\\Local\\Temp\\ipykernel_15288\\2861807924.py:31: FutureWarning: Pass y=[-6.9606003e-08  9.9610673e-08 -1.2940151e-07 ...  3.5324082e-04\n",
      " -4.7346440e-04 -7.8491183e-07], sr=22050 as keyword args. From version 0.10 passing these as positional arguments will result in an error\n",
      "  MFCCs = librosa.feature.mfcc(signal, sample_rate, n_mfcc=num_mfcc, n_fft=n_fft, hop_length=hop_length)\n"
     ]
    },
    {
     "name": "stdout",
     "output_type": "stream",
     "text": [
      "C:/Users/Lenovo/Documents/Education/Skripsi/Dataset/Dataset_Indonesia\\Kiri\\6 (1).wav: 1\n"
     ]
    },
    {
     "name": "stderr",
     "output_type": "stream",
     "text": [
      "C:\\Users\\Lenovo\\AppData\\Local\\Temp\\ipykernel_15288\\2861807924.py:31: FutureWarning: Pass y=[-5.3826142e-08  7.9589505e-08 -1.0581892e-07 ... -1.6368540e-02\n",
      " -1.6790025e-02 -1.7448451e-02], sr=22050 as keyword args. From version 0.10 passing these as positional arguments will result in an error\n",
      "  MFCCs = librosa.feature.mfcc(signal, sample_rate, n_mfcc=num_mfcc, n_fft=n_fft, hop_length=hop_length)\n"
     ]
    },
    {
     "name": "stdout",
     "output_type": "stream",
     "text": [
      "C:/Users/Lenovo/Documents/Education/Skripsi/Dataset/Dataset_Indonesia\\Kiri\\7 (1).wav: 1\n"
     ]
    },
    {
     "name": "stderr",
     "output_type": "stream",
     "text": [
      "C:\\Users\\Lenovo\\AppData\\Local\\Temp\\ipykernel_15288\\2861807924.py:31: FutureWarning: Pass y=[-4.7524541e-06 -4.8965085e-06  1.5940226e-06 ... -1.1680704e-02\n",
      " -1.4010818e-02 -1.4738160e-02], sr=22050 as keyword args. From version 0.10 passing these as positional arguments will result in an error\n",
      "  MFCCs = librosa.feature.mfcc(signal, sample_rate, n_mfcc=num_mfcc, n_fft=n_fft, hop_length=hop_length)\n"
     ]
    },
    {
     "name": "stdout",
     "output_type": "stream",
     "text": [
      "C:/Users/Lenovo/Documents/Education/Skripsi/Dataset/Dataset_Indonesia\\Kiri\\8 (1).wav: 1\n"
     ]
    },
    {
     "name": "stderr",
     "output_type": "stream",
     "text": [
      "C:\\Users\\Lenovo\\AppData\\Local\\Temp\\ipykernel_15288\\2861807924.py:31: FutureWarning: Pass y=[-5.3826142e-08  7.9589505e-08 -1.0581892e-07 ...  4.9351971e-03\n",
      "  5.0016516e-03  6.0281889e-03], sr=22050 as keyword args. From version 0.10 passing these as positional arguments will result in an error\n",
      "  MFCCs = librosa.feature.mfcc(signal, sample_rate, n_mfcc=num_mfcc, n_fft=n_fft, hop_length=hop_length)\n"
     ]
    },
    {
     "name": "stdout",
     "output_type": "stream",
     "text": [
      "C:/Users/Lenovo/Documents/Education/Skripsi/Dataset/Dataset_Indonesia\\Kiri\\9 (1).wav: 1\n"
     ]
    },
    {
     "name": "stderr",
     "output_type": "stream",
     "text": [
      "C:\\Users\\Lenovo\\AppData\\Local\\Temp\\ipykernel_15288\\2861807924.py:31: FutureWarning: Pass y=[ 0.          0.          0.         ... -0.00058378 -0.00093265\n",
      " -0.00134256], sr=22050 as keyword args. From version 0.10 passing these as positional arguments will result in an error\n",
      "  MFCCs = librosa.feature.mfcc(signal, sample_rate, n_mfcc=num_mfcc, n_fft=n_fft, hop_length=hop_length)\n"
     ]
    },
    {
     "name": "stdout",
     "output_type": "stream",
     "text": [
      "C:/Users/Lenovo/Documents/Education/Skripsi/Dataset/Dataset_Indonesia\\Kiri\\Kiris1.wav: 1\n"
     ]
    },
    {
     "name": "stderr",
     "output_type": "stream",
     "text": [
      "C:\\Users\\Lenovo\\AppData\\Local\\Temp\\ipykernel_15288\\2861807924.py:31: FutureWarning: Pass y=[0.         0.         0.         ... 0.13135237 0.1286441  0.12195538], sr=22050 as keyword args. From version 0.10 passing these as positional arguments will result in an error\n",
      "  MFCCs = librosa.feature.mfcc(signal, sample_rate, n_mfcc=num_mfcc, n_fft=n_fft, hop_length=hop_length)\n"
     ]
    },
    {
     "name": "stdout",
     "output_type": "stream",
     "text": [
      "C:/Users/Lenovo/Documents/Education/Skripsi/Dataset/Dataset_Indonesia\\Kiri\\Kiris11.wav: 1\n"
     ]
    },
    {
     "name": "stderr",
     "output_type": "stream",
     "text": [
      "C:\\Users\\Lenovo\\AppData\\Local\\Temp\\ipykernel_15288\\2861807924.py:31: FutureWarning: Pass y=[ 0.0000000e+00  0.0000000e+00  0.0000000e+00 ... -8.2020572e-04\n",
      " -4.5875303e-04 -7.9863574e-05], sr=22050 as keyword args. From version 0.10 passing these as positional arguments will result in an error\n",
      "  MFCCs = librosa.feature.mfcc(signal, sample_rate, n_mfcc=num_mfcc, n_fft=n_fft, hop_length=hop_length)\n",
      "C:\\Users\\Lenovo\\AppData\\Local\\Temp\\ipykernel_15288\\2861807924.py:31: FutureWarning: Pass y=[ 0.          0.          0.         ... -0.08094132 -0.08504863\n",
      " -0.08352489], sr=22050 as keyword args. From version 0.10 passing these as positional arguments will result in an error\n",
      "  MFCCs = librosa.feature.mfcc(signal, sample_rate, n_mfcc=num_mfcc, n_fft=n_fft, hop_length=hop_length)\n"
     ]
    },
    {
     "name": "stdout",
     "output_type": "stream",
     "text": [
      "C:/Users/Lenovo/Documents/Education/Skripsi/Dataset/Dataset_Indonesia\\Kiri\\Kiris18.wav: 1\n",
      "C:/Users/Lenovo/Documents/Education/Skripsi/Dataset/Dataset_Indonesia\\Kiri\\Kiris19.wav: 1\n"
     ]
    },
    {
     "name": "stderr",
     "output_type": "stream",
     "text": [
      "C:\\Users\\Lenovo\\AppData\\Local\\Temp\\ipykernel_15288\\2861807924.py:31: FutureWarning: Pass y=[0.         0.         0.         ... 0.0002     0.00019562 0.00022152], sr=22050 as keyword args. From version 0.10 passing these as positional arguments will result in an error\n",
      "  MFCCs = librosa.feature.mfcc(signal, sample_rate, n_mfcc=num_mfcc, n_fft=n_fft, hop_length=hop_length)\n"
     ]
    },
    {
     "name": "stdout",
     "output_type": "stream",
     "text": [
      "C:/Users/Lenovo/Documents/Education/Skripsi/Dataset/Dataset_Indonesia\\Kiri\\Kiris22.wav: 1\n"
     ]
    },
    {
     "name": "stderr",
     "output_type": "stream",
     "text": [
      "C:\\Users\\Lenovo\\AppData\\Local\\Temp\\ipykernel_15288\\2861807924.py:31: FutureWarning: Pass y=[0.0000000e+00 0.0000000e+00 0.0000000e+00 ... 1.2335686e-04 9.7873402e-05\n",
      " 7.2969844e-05], sr=22050 as keyword args. From version 0.10 passing these as positional arguments will result in an error\n",
      "  MFCCs = librosa.feature.mfcc(signal, sample_rate, n_mfcc=num_mfcc, n_fft=n_fft, hop_length=hop_length)\n"
     ]
    },
    {
     "name": "stdout",
     "output_type": "stream",
     "text": [
      "C:/Users/Lenovo/Documents/Education/Skripsi/Dataset/Dataset_Indonesia\\Kiri\\Kiris25.wav: 1\n"
     ]
    },
    {
     "name": "stderr",
     "output_type": "stream",
     "text": [
      "C:\\Users\\Lenovo\\AppData\\Local\\Temp\\ipykernel_15288\\2861807924.py:31: FutureWarning: Pass y=[ 0.          0.          0.         ... -0.00012236 -0.00032698\n",
      " -0.0004997 ], sr=22050 as keyword args. From version 0.10 passing these as positional arguments will result in an error\n",
      "  MFCCs = librosa.feature.mfcc(signal, sample_rate, n_mfcc=num_mfcc, n_fft=n_fft, hop_length=hop_length)\n"
     ]
    },
    {
     "name": "stdout",
     "output_type": "stream",
     "text": [
      "C:/Users/Lenovo/Documents/Education/Skripsi/Dataset/Dataset_Indonesia\\Kiri\\Kiris8.wav: 1\n"
     ]
    },
    {
     "name": "stderr",
     "output_type": "stream",
     "text": [
      "C:\\Users\\Lenovo\\AppData\\Local\\Temp\\ipykernel_15288\\2861807924.py:31: FutureWarning: Pass y=[ 1.13028385e-07 -1.04574191e-07  8.10405396e-08 ...  2.14550346e-02\n",
      "  2.49161385e-02  2.72510312e-02], sr=22050 as keyword args. From version 0.10 passing these as positional arguments will result in an error\n",
      "  MFCCs = librosa.feature.mfcc(signal, sample_rate, n_mfcc=num_mfcc, n_fft=n_fft, hop_length=hop_length)\n"
     ]
    },
    {
     "name": "stdout",
     "output_type": "stream",
     "text": [
      "C:/Users/Lenovo/Documents/Education/Skripsi/Dataset/Dataset_Indonesia\\Kiri\\WhatsApp Ptt 2021-09-15 at 22.23.14(1).wav: 1\n",
      "C:/Users/Lenovo/Documents/Education/Skripsi/Dataset/Dataset_Indonesia\\Kiri\\WhatsApp Ptt 2021-09-15 at 22.23.14.wav: 1\n",
      "\n",
      "Processing: 'Maju'\n"
     ]
    },
    {
     "name": "stderr",
     "output_type": "stream",
     "text": [
      "C:\\Users\\Lenovo\\AppData\\Local\\Temp\\ipykernel_15288\\2861807924.py:31: FutureWarning: Pass y=[ 0.          0.          0.         ... -0.00264089 -0.00246355\n",
      " -0.00206408], sr=22050 as keyword args. From version 0.10 passing these as positional arguments will result in an error\n",
      "  MFCCs = librosa.feature.mfcc(signal, sample_rate, n_mfcc=num_mfcc, n_fft=n_fft, hop_length=hop_length)\n"
     ]
    },
    {
     "name": "stdout",
     "output_type": "stream",
     "text": [
      "C:/Users/Lenovo/Documents/Education/Skripsi/Dataset/Dataset_Indonesia\\Maju\\maju1.wav: 2\n"
     ]
    },
    {
     "name": "stderr",
     "output_type": "stream",
     "text": [
      "C:\\Users\\Lenovo\\AppData\\Local\\Temp\\ipykernel_15288\\2861807924.py:31: FutureWarning: Pass y=[ 0.          0.          0.         ... -0.00014491 -0.00016898\n",
      " -0.00017386], sr=22050 as keyword args. From version 0.10 passing these as positional arguments will result in an error\n",
      "  MFCCs = librosa.feature.mfcc(signal, sample_rate, n_mfcc=num_mfcc, n_fft=n_fft, hop_length=hop_length)\n"
     ]
    },
    {
     "name": "stdout",
     "output_type": "stream",
     "text": [
      "C:/Users/Lenovo/Documents/Education/Skripsi/Dataset/Dataset_Indonesia\\Maju\\Majus1.wav: 2\n"
     ]
    },
    {
     "name": "stderr",
     "output_type": "stream",
     "text": [
      "C:\\Users\\Lenovo\\AppData\\Local\\Temp\\ipykernel_15288\\2861807924.py:31: FutureWarning: Pass y=[0.000000e+00 0.000000e+00 0.000000e+00 ... 5.187746e-05 5.357151e-05\n",
      " 1.047379e-05], sr=22050 as keyword args. From version 0.10 passing these as positional arguments will result in an error\n",
      "  MFCCs = librosa.feature.mfcc(signal, sample_rate, n_mfcc=num_mfcc, n_fft=n_fft, hop_length=hop_length)\n",
      "C:\\Users\\Lenovo\\AppData\\Local\\Temp\\ipykernel_15288\\2861807924.py:31: FutureWarning: Pass y=[ 0.000000e+00  0.000000e+00  0.000000e+00 ... -9.937751e-05 -8.636858e-05\n",
      " -7.492132e-05], sr=22050 as keyword args. From version 0.10 passing these as positional arguments will result in an error\n",
      "  MFCCs = librosa.feature.mfcc(signal, sample_rate, n_mfcc=num_mfcc, n_fft=n_fft, hop_length=hop_length)\n"
     ]
    },
    {
     "name": "stdout",
     "output_type": "stream",
     "text": [
      "C:/Users/Lenovo/Documents/Education/Skripsi/Dataset/Dataset_Indonesia\\Maju\\Majus15.wav: 2\n",
      "C:/Users/Lenovo/Documents/Education/Skripsi/Dataset/Dataset_Indonesia\\Maju\\Majus16.wav: 2\n"
     ]
    },
    {
     "name": "stderr",
     "output_type": "stream",
     "text": [
      "C:\\Users\\Lenovo\\AppData\\Local\\Temp\\ipykernel_15288\\2861807924.py:31: FutureWarning: Pass y=[0.         0.         0.         ... 0.01266882 0.00925099 0.00592969], sr=22050 as keyword args. From version 0.10 passing these as positional arguments will result in an error\n",
      "  MFCCs = librosa.feature.mfcc(signal, sample_rate, n_mfcc=num_mfcc, n_fft=n_fft, hop_length=hop_length)\n",
      "C:\\Users\\Lenovo\\AppData\\Local\\Temp\\ipykernel_15288\\2861807924.py:31: FutureWarning: Pass y=[0.         0.         0.         ... 0.00026939 0.00023851 0.00026963], sr=22050 as keyword args. From version 0.10 passing these as positional arguments will result in an error\n",
      "  MFCCs = librosa.feature.mfcc(signal, sample_rate, n_mfcc=num_mfcc, n_fft=n_fft, hop_length=hop_length)\n"
     ]
    },
    {
     "name": "stdout",
     "output_type": "stream",
     "text": [
      "C:/Users/Lenovo/Documents/Education/Skripsi/Dataset/Dataset_Indonesia\\Maju\\Majus19.wav: 2\n",
      "C:/Users/Lenovo/Documents/Education/Skripsi/Dataset/Dataset_Indonesia\\Maju\\Majus2.wav: 2\n"
     ]
    },
    {
     "name": "stderr",
     "output_type": "stream",
     "text": [
      "C:\\Users\\Lenovo\\AppData\\Local\\Temp\\ipykernel_15288\\2861807924.py:31: FutureWarning: Pass y=[ 0.          0.          0.         ... -0.0096908  -0.00952935\n",
      " -0.0096261 ], sr=22050 as keyword args. From version 0.10 passing these as positional arguments will result in an error\n",
      "  MFCCs = librosa.feature.mfcc(signal, sample_rate, n_mfcc=num_mfcc, n_fft=n_fft, hop_length=hop_length)\n"
     ]
    },
    {
     "name": "stdout",
     "output_type": "stream",
     "text": [
      "C:/Users/Lenovo/Documents/Education/Skripsi/Dataset/Dataset_Indonesia\\Maju\\Majus21.wav: 2\n"
     ]
    },
    {
     "name": "stderr",
     "output_type": "stream",
     "text": [
      "C:\\Users\\Lenovo\\AppData\\Local\\Temp\\ipykernel_15288\\2861807924.py:31: FutureWarning: Pass y=[ 0.          0.          0.         ... -0.00020521 -0.00021185\n",
      " -0.00022155], sr=22050 as keyword args. From version 0.10 passing these as positional arguments will result in an error\n",
      "  MFCCs = librosa.feature.mfcc(signal, sample_rate, n_mfcc=num_mfcc, n_fft=n_fft, hop_length=hop_length)\n"
     ]
    },
    {
     "name": "stdout",
     "output_type": "stream",
     "text": [
      "C:/Users/Lenovo/Documents/Education/Skripsi/Dataset/Dataset_Indonesia\\Maju\\Majus6.wav: 2\n"
     ]
    },
    {
     "name": "stderr",
     "output_type": "stream",
     "text": [
      "C:\\Users\\Lenovo\\AppData\\Local\\Temp\\ipykernel_15288\\2861807924.py:31: FutureWarning: Pass y=[ 0.          0.          0.         ... -0.00033251 -0.00032896\n",
      " -0.00029289], sr=22050 as keyword args. From version 0.10 passing these as positional arguments will result in an error\n",
      "  MFCCs = librosa.feature.mfcc(signal, sample_rate, n_mfcc=num_mfcc, n_fft=n_fft, hop_length=hop_length)\n"
     ]
    },
    {
     "name": "stdout",
     "output_type": "stream",
     "text": [
      "C:/Users/Lenovo/Documents/Education/Skripsi/Dataset/Dataset_Indonesia\\Maju\\Majus9.wav: 2\n"
     ]
    },
    {
     "name": "stderr",
     "output_type": "stream",
     "text": [
      "C:\\Users\\Lenovo\\AppData\\Local\\Temp\\ipykernel_15288\\2861807924.py:31: FutureWarning: Pass y=[ 1.13028385e-07 -1.04574191e-07  8.10405396e-08 ...  1.48706138e-02\n",
      "  1.56069091e-02  1.59881692e-02], sr=22050 as keyword args. From version 0.10 passing these as positional arguments will result in an error\n",
      "  MFCCs = librosa.feature.mfcc(signal, sample_rate, n_mfcc=num_mfcc, n_fft=n_fft, hop_length=hop_length)\n"
     ]
    },
    {
     "name": "stdout",
     "output_type": "stream",
     "text": [
      "C:/Users/Lenovo/Documents/Education/Skripsi/Dataset/Dataset_Indonesia\\Maju\\WhatsApp Ptt 2021-09-15 at 20.48.46.wav: 2\n"
     ]
    },
    {
     "name": "stderr",
     "output_type": "stream",
     "text": [
      "C:\\Users\\Lenovo\\AppData\\Local\\Temp\\ipykernel_15288\\2861807924.py:31: FutureWarning: Pass y=[ 1.13028385e-07 -1.04574191e-07  8.10405396e-08 ...  1.53417164e-03\n",
      "  3.09507217e-04 -8.56174738e-04], sr=22050 as keyword args. From version 0.10 passing these as positional arguments will result in an error\n",
      "  MFCCs = librosa.feature.mfcc(signal, sample_rate, n_mfcc=num_mfcc, n_fft=n_fft, hop_length=hop_length)\n"
     ]
    },
    {
     "name": "stdout",
     "output_type": "stream",
     "text": [
      "C:/Users/Lenovo/Documents/Education/Skripsi/Dataset/Dataset_Indonesia\\Maju\\WhatsApp Ptt 2021-09-15 at 21.59.49.wav: 2\n",
      "\n",
      "Processing: 'Stop'\n"
     ]
    },
    {
     "name": "stderr",
     "output_type": "stream",
     "text": [
      "C:\\Users\\Lenovo\\AppData\\Local\\Temp\\ipykernel_15288\\2861807924.py:31: FutureWarning: Pass y=[ 0.          0.          0.         ... -0.00689845 -0.00632473\n",
      " -0.00623354], sr=22050 as keyword args. From version 0.10 passing these as positional arguments will result in an error\n",
      "  MFCCs = librosa.feature.mfcc(signal, sample_rate, n_mfcc=num_mfcc, n_fft=n_fft, hop_length=hop_length)\n",
      "C:\\Users\\Lenovo\\AppData\\Local\\Temp\\ipykernel_15288\\2861807924.py:31: FutureWarning: Pass y=[-4.72353258e-06 -5.08617632e-06  1.99479155e-06 ...  7.59131683e-04\n",
      "  6.80701109e-04  1.09878165e-04], sr=22050 as keyword args. From version 0.10 passing these as positional arguments will result in an error\n",
      "  MFCCs = librosa.feature.mfcc(signal, sample_rate, n_mfcc=num_mfcc, n_fft=n_fft, hop_length=hop_length)\n"
     ]
    },
    {
     "name": "stdout",
     "output_type": "stream",
     "text": [
      "C:/Users/Lenovo/Documents/Education/Skripsi/Dataset/Dataset_Indonesia\\Stop\\Stop (1).wav: 3\n",
      "C:/Users/Lenovo/Documents/Education/Skripsi/Dataset/Dataset_Indonesia\\Stop\\Stop (10).wav: 3\n"
     ]
    },
    {
     "name": "stderr",
     "output_type": "stream",
     "text": [
      "C:\\Users\\Lenovo\\AppData\\Local\\Temp\\ipykernel_15288\\2861807924.py:31: FutureWarning: Pass y=[-5.3826142e-08  7.9589505e-08 -1.0581892e-07 ...  5.0777016e-04\n",
      " -2.3921607e-04 -4.4000495e-04], sr=22050 as keyword args. From version 0.10 passing these as positional arguments will result in an error\n",
      "  MFCCs = librosa.feature.mfcc(signal, sample_rate, n_mfcc=num_mfcc, n_fft=n_fft, hop_length=hop_length)\n"
     ]
    },
    {
     "name": "stdout",
     "output_type": "stream",
     "text": [
      "C:/Users/Lenovo/Documents/Education/Skripsi/Dataset/Dataset_Indonesia\\Stop\\Stop (11).wav: 3\n"
     ]
    },
    {
     "name": "stderr",
     "output_type": "stream",
     "text": [
      "C:\\Users\\Lenovo\\AppData\\Local\\Temp\\ipykernel_15288\\2861807924.py:31: FutureWarning: Pass y=[ 1.13028385e-07 -1.04574191e-07  8.10405396e-08 ...  2.77385511e-03\n",
      "  2.65228329e-03  2.65881745e-03], sr=22050 as keyword args. From version 0.10 passing these as positional arguments will result in an error\n",
      "  MFCCs = librosa.feature.mfcc(signal, sample_rate, n_mfcc=num_mfcc, n_fft=n_fft, hop_length=hop_length)\n"
     ]
    },
    {
     "name": "stdout",
     "output_type": "stream",
     "text": [
      "C:/Users/Lenovo/Documents/Education/Skripsi/Dataset/Dataset_Indonesia\\Stop\\Stop (128).wav: 3\n"
     ]
    },
    {
     "name": "stderr",
     "output_type": "stream",
     "text": [
      "C:\\Users\\Lenovo\\AppData\\Local\\Temp\\ipykernel_15288\\2861807924.py:31: FutureWarning: Pass y=[-5.3826142e-08  7.9589505e-08 -1.0581892e-07 ...  4.7218991e-03\n",
      "  5.0808047e-03  4.4834223e-03], sr=22050 as keyword args. From version 0.10 passing these as positional arguments will result in an error\n",
      "  MFCCs = librosa.feature.mfcc(signal, sample_rate, n_mfcc=num_mfcc, n_fft=n_fft, hop_length=hop_length)\n"
     ]
    },
    {
     "name": "stdout",
     "output_type": "stream",
     "text": [
      "C:/Users/Lenovo/Documents/Education/Skripsi/Dataset/Dataset_Indonesia\\Stop\\Stop (14).wav: 3\n"
     ]
    },
    {
     "name": "stderr",
     "output_type": "stream",
     "text": [
      "C:\\Users\\Lenovo\\AppData\\Local\\Temp\\ipykernel_15288\\2861807924.py:31: FutureWarning: Pass y=[-5.2284108e-08  7.9192141e-08 -1.0727114e-07 ... -3.1992372e-03\n",
      " -1.9133505e-03 -1.2438294e-03], sr=22050 as keyword args. From version 0.10 passing these as positional arguments will result in an error\n",
      "  MFCCs = librosa.feature.mfcc(signal, sample_rate, n_mfcc=num_mfcc, n_fft=n_fft, hop_length=hop_length)\n"
     ]
    },
    {
     "name": "stdout",
     "output_type": "stream",
     "text": [
      "C:/Users/Lenovo/Documents/Education/Skripsi/Dataset/Dataset_Indonesia\\Stop\\Stop (15).wav: 3\n"
     ]
    },
    {
     "name": "stderr",
     "output_type": "stream",
     "text": [
      "C:\\Users\\Lenovo\\AppData\\Local\\Temp\\ipykernel_15288\\2861807924.py:31: FutureWarning: Pass y=[-4.7596750e-06 -4.8923416e-06  1.5948376e-06 ...  1.9299434e-03\n",
      "  2.1409548e-03  2.1242290e-03], sr=22050 as keyword args. From version 0.10 passing these as positional arguments will result in an error\n",
      "  MFCCs = librosa.feature.mfcc(signal, sample_rate, n_mfcc=num_mfcc, n_fft=n_fft, hop_length=hop_length)\n"
     ]
    },
    {
     "name": "stdout",
     "output_type": "stream",
     "text": [
      "C:/Users/Lenovo/Documents/Education/Skripsi/Dataset/Dataset_Indonesia\\Stop\\Stop (16).wav: 3\n"
     ]
    },
    {
     "name": "stderr",
     "output_type": "stream",
     "text": [
      "C:\\Users\\Lenovo\\AppData\\Local\\Temp\\ipykernel_15288\\2861807924.py:31: FutureWarning: Pass y=[-4.7571866e-06 -4.9102546e-06  1.6313357e-06 ... -2.2170214e-04\n",
      " -1.0368595e-03 -1.2194422e-03], sr=22050 as keyword args. From version 0.10 passing these as positional arguments will result in an error\n",
      "  MFCCs = librosa.feature.mfcc(signal, sample_rate, n_mfcc=num_mfcc, n_fft=n_fft, hop_length=hop_length)\n"
     ]
    },
    {
     "name": "stdout",
     "output_type": "stream",
     "text": [
      "C:/Users/Lenovo/Documents/Education/Skripsi/Dataset/Dataset_Indonesia\\Stop\\Stop (17).wav: 3\n"
     ]
    },
    {
     "name": "stderr",
     "output_type": "stream",
     "text": [
      "C:\\Users\\Lenovo\\AppData\\Local\\Temp\\ipykernel_15288\\2861807924.py:31: FutureWarning: Pass y=[-5.42114087e-08  7.81162655e-08 -1.01713425e-07 ...  3.00709251e-03\n",
      "  1.96783850e-03  5.24370582e-04], sr=22050 as keyword args. From version 0.10 passing these as positional arguments will result in an error\n",
      "  MFCCs = librosa.feature.mfcc(signal, sample_rate, n_mfcc=num_mfcc, n_fft=n_fft, hop_length=hop_length)\n"
     ]
    },
    {
     "name": "stdout",
     "output_type": "stream",
     "text": [
      "C:/Users/Lenovo/Documents/Education/Skripsi/Dataset/Dataset_Indonesia\\Stop\\Stop (18).wav: 3\n"
     ]
    },
    {
     "name": "stderr",
     "output_type": "stream",
     "text": [
      "C:\\Users\\Lenovo\\AppData\\Local\\Temp\\ipykernel_15288\\2861807924.py:31: FutureWarning: Pass y=[-4.76326250e-06 -4.88773912e-06  1.58930152e-06 ...  1.20089484e-04\n",
      "  1.59899704e-03  9.55686788e-04], sr=22050 as keyword args. From version 0.10 passing these as positional arguments will result in an error\n",
      "  MFCCs = librosa.feature.mfcc(signal, sample_rate, n_mfcc=num_mfcc, n_fft=n_fft, hop_length=hop_length)\n"
     ]
    },
    {
     "name": "stdout",
     "output_type": "stream",
     "text": [
      "C:/Users/Lenovo/Documents/Education/Skripsi/Dataset/Dataset_Indonesia\\Stop\\Stop (19).wav: 3\n"
     ]
    },
    {
     "name": "stderr",
     "output_type": "stream",
     "text": [
      "C:\\Users\\Lenovo\\AppData\\Local\\Temp\\ipykernel_15288\\2861807924.py:31: FutureWarning: Pass y=[-5.3826142e-08  7.9589505e-08 -1.0581892e-07 ... -5.8554886e-03\n",
      " -8.0915904e-03 -8.2138507e-03], sr=22050 as keyword args. From version 0.10 passing these as positional arguments will result in an error\n",
      "  MFCCs = librosa.feature.mfcc(signal, sample_rate, n_mfcc=num_mfcc, n_fft=n_fft, hop_length=hop_length)\n"
     ]
    },
    {
     "name": "stdout",
     "output_type": "stream",
     "text": [
      "C:/Users/Lenovo/Documents/Education/Skripsi/Dataset/Dataset_Indonesia\\Stop\\Stop (2).wav: 3\n"
     ]
    },
    {
     "name": "stderr",
     "output_type": "stream",
     "text": [
      "C:\\Users\\Lenovo\\AppData\\Local\\Temp\\ipykernel_15288\\2861807924.py:31: FutureWarning: Pass y=[ 1.13028385e-07 -1.04574191e-07  8.10405396e-08 ...  1.34956662e-03\n",
      "  1.05191511e-03  9.18861770e-04], sr=22050 as keyword args. From version 0.10 passing these as positional arguments will result in an error\n",
      "  MFCCs = librosa.feature.mfcc(signal, sample_rate, n_mfcc=num_mfcc, n_fft=n_fft, hop_length=hop_length)\n",
      "C:\\Users\\Lenovo\\AppData\\Local\\Temp\\ipykernel_15288\\2861807924.py:31: FutureWarning: Pass y=[-5.3826142e-08  7.9589505e-08 -1.0581892e-07 ... -1.5338775e-03\n",
      " -2.3070360e-03 -2.8114093e-03], sr=22050 as keyword args. From version 0.10 passing these as positional arguments will result in an error\n",
      "  MFCCs = librosa.feature.mfcc(signal, sample_rate, n_mfcc=num_mfcc, n_fft=n_fft, hop_length=hop_length)\n"
     ]
    },
    {
     "name": "stdout",
     "output_type": "stream",
     "text": [
      "C:/Users/Lenovo/Documents/Education/Skripsi/Dataset/Dataset_Indonesia\\Stop\\Stop (202).wav: 3\n",
      "C:/Users/Lenovo/Documents/Education/Skripsi/Dataset/Dataset_Indonesia\\Stop\\Stop (21).wav: 3\n"
     ]
    },
    {
     "name": "stderr",
     "output_type": "stream",
     "text": [
      "C:\\Users\\Lenovo\\AppData\\Local\\Temp\\ipykernel_15288\\2861807924.py:31: FutureWarning: Pass y=[-4.7824010e-06 -4.8662523e-06  1.5672753e-06 ...  1.5240944e-03\n",
      "  1.6438904e-03  1.9488684e-03], sr=22050 as keyword args. From version 0.10 passing these as positional arguments will result in an error\n",
      "  MFCCs = librosa.feature.mfcc(signal, sample_rate, n_mfcc=num_mfcc, n_fft=n_fft, hop_length=hop_length)\n"
     ]
    },
    {
     "name": "stdout",
     "output_type": "stream",
     "text": [
      "C:/Users/Lenovo/Documents/Education/Skripsi/Dataset/Dataset_Indonesia\\Stop\\Stop (23).wav: 3\n",
      "C:/Users/Lenovo/Documents/Education/Skripsi/Dataset/Dataset_Indonesia\\Stop\\Stop (24).wav: 3\n"
     ]
    },
    {
     "name": "stderr",
     "output_type": "stream",
     "text": [
      "C:\\Users\\Lenovo\\AppData\\Local\\Temp\\ipykernel_15288\\2861807924.py:31: FutureWarning: Pass y=[-4.8631960e-06 -4.7616127e-06  1.4403006e-06 ...  1.4472579e-02\n",
      "  1.4297330e-02  1.6619191e-02], sr=22050 as keyword args. From version 0.10 passing these as positional arguments will result in an error\n",
      "  MFCCs = librosa.feature.mfcc(signal, sample_rate, n_mfcc=num_mfcc, n_fft=n_fft, hop_length=hop_length)\n"
     ]
    },
    {
     "name": "stdout",
     "output_type": "stream",
     "text": [
      "C:/Users/Lenovo/Documents/Education/Skripsi/Dataset/Dataset_Indonesia\\Stop\\Stop (3).wav: 3\n"
     ]
    },
    {
     "name": "stderr",
     "output_type": "stream",
     "text": [
      "C:\\Users\\Lenovo\\AppData\\Local\\Temp\\ipykernel_15288\\2861807924.py:31: FutureWarning: Pass y=[-5.3826142e-08  7.9589505e-08 -1.0581892e-07 ...  1.0339043e-03\n",
      "  6.3835434e-04  1.1969828e-03], sr=22050 as keyword args. From version 0.10 passing these as positional arguments will result in an error\n",
      "  MFCCs = librosa.feature.mfcc(signal, sample_rate, n_mfcc=num_mfcc, n_fft=n_fft, hop_length=hop_length)\n"
     ]
    },
    {
     "name": "stdout",
     "output_type": "stream",
     "text": [
      "C:/Users/Lenovo/Documents/Education/Skripsi/Dataset/Dataset_Indonesia\\Stop\\Stop (4).wav: 3\n"
     ]
    },
    {
     "name": "stderr",
     "output_type": "stream",
     "text": [
      "C:\\Users\\Lenovo\\AppData\\Local\\Temp\\ipykernel_15288\\2861807924.py:31: FutureWarning: Pass y=[-5.3826142e-08  7.9589505e-08 -1.0581892e-07 ... -5.1911618e-04\n",
      " -7.6620321e-04 -2.4009307e-03], sr=22050 as keyword args. From version 0.10 passing these as positional arguments will result in an error\n",
      "  MFCCs = librosa.feature.mfcc(signal, sample_rate, n_mfcc=num_mfcc, n_fft=n_fft, hop_length=hop_length)\n"
     ]
    },
    {
     "name": "stdout",
     "output_type": "stream",
     "text": [
      "C:/Users/Lenovo/Documents/Education/Skripsi/Dataset/Dataset_Indonesia\\Stop\\Stop (6).wav: 3\n",
      "C:/Users/Lenovo/Documents/Education/Skripsi/Dataset/Dataset_Indonesia\\Stop\\Stop (7).wav: 3\n"
     ]
    },
    {
     "name": "stderr",
     "output_type": "stream",
     "text": [
      "C:\\Users\\Lenovo\\AppData\\Local\\Temp\\ipykernel_15288\\2861807924.py:31: FutureWarning: Pass y=[-1.4635989e-06  4.7869135e-06  4.8373890e-06 ... -4.7805333e-03\n",
      " -3.1189688e-03 -3.7518069e-03], sr=22050 as keyword args. From version 0.10 passing these as positional arguments will result in an error\n",
      "  MFCCs = librosa.feature.mfcc(signal, sample_rate, n_mfcc=num_mfcc, n_fft=n_fft, hop_length=hop_length)\n"
     ]
    },
    {
     "name": "stdout",
     "output_type": "stream",
     "text": [
      "C:/Users/Lenovo/Documents/Education/Skripsi/Dataset/Dataset_Indonesia\\Stop\\Stop (9).wav: 3\n"
     ]
    },
    {
     "name": "stderr",
     "output_type": "stream",
     "text": [
      "C:\\Users\\Lenovo\\AppData\\Local\\Temp\\ipykernel_15288\\2861807924.py:31: FutureWarning: Pass y=[ 0.0000000e+00  0.0000000e+00  0.0000000e+00 ...  6.5040447e-05\n",
      " -1.1141527e-05 -8.5203850e-05], sr=22050 as keyword args. From version 0.10 passing these as positional arguments will result in an error\n",
      "  MFCCs = librosa.feature.mfcc(signal, sample_rate, n_mfcc=num_mfcc, n_fft=n_fft, hop_length=hop_length)\n"
     ]
    },
    {
     "name": "stdout",
     "output_type": "stream",
     "text": [
      "C:/Users/Lenovo/Documents/Education/Skripsi/Dataset/Dataset_Indonesia\\Stop\\Stop (93).wav: 3\n"
     ]
    },
    {
     "name": "stderr",
     "output_type": "stream",
     "text": [
      "C:\\Users\\Lenovo\\AppData\\Local\\Temp\\ipykernel_15288\\2861807924.py:31: FutureWarning: Pass y=[0.         0.         0.         ... 0.00037871 0.00114805 0.00191613], sr=22050 as keyword args. From version 0.10 passing these as positional arguments will result in an error\n",
      "  MFCCs = librosa.feature.mfcc(signal, sample_rate, n_mfcc=num_mfcc, n_fft=n_fft, hop_length=hop_length)\n"
     ]
    },
    {
     "name": "stdout",
     "output_type": "stream",
     "text": [
      "C:/Users/Lenovo/Documents/Education/Skripsi/Dataset/Dataset_Indonesia\\Stop\\Stop (99).wav: 3\n"
     ]
    }
   ],
   "source": [
    "if __name__ == \"__main__\":\n",
    "    preprocess_dataset(DATASET_PATH, JSON_PATH)"
   ]
  },
  {
   "cell_type": "code",
   "execution_count": null,
   "metadata": {},
   "outputs": [],
   "source": []
  }
 ],
 "metadata": {
  "kernelspec": {
   "display_name": "Python 3.10.2 64-bit",
   "language": "python",
   "name": "python3"
  },
  "language_info": {
   "codemirror_mode": {
    "name": "ipython",
    "version": 3
   },
   "file_extension": ".py",
   "mimetype": "text/x-python",
   "name": "python",
   "nbconvert_exporter": "python",
   "pygments_lexer": "ipython3",
   "version": "3.10.2"
  },
  "vscode": {
   "interpreter": {
    "hash": "8c3d4d9970fc5c09c50d9318a9c7fbf4d0159e4b28833276f5678ee22bded273"
   }
  }
 },
 "nbformat": 4,
 "nbformat_minor": 5
}
