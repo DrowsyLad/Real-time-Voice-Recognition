{
 "cells": [
  {
   "cell_type": "code",
   "execution_count": 12,
   "id": "32e169e9-4044-471f-8660-14fa6a00b8be",
   "metadata": {},
   "outputs": [],
   "source": [
    "import librosa\n",
    "import os\n",
    "import json"
   ]
  },
  {
   "cell_type": "code",
   "execution_count": 30,
   "id": "145108d0-0a64-43b9-924c-beb04f27f2da",
   "metadata": {},
   "outputs": [],
   "source": [
    "DATASET_PATH = 'C:/Users/Lenovo/Documents/Education/Skripsi/DatasetVC/mini_speech_commands/'\n",
    "JSON_PATH = \"data.json\"\n",
    "SAMPLES_TO_CONSIDER = 22050 # 1 sec. of audio"
   ]
  },
  {
   "cell_type": "code",
   "execution_count": 28,
   "id": "db8c1fa3-4421-4d92-b695-afc5933ee9ae",
   "metadata": {},
   "outputs": [],
   "source": [
    "def preprocess_dataset(dataset_path, json_path, num_mfcc=13, n_fft=2048, hop_length=512):\n",
    "\n",
    "    # variabel dictionary untuk meyimpan mapping, labels, MFCCs dan nama file\n",
    "    data = {\n",
    "        \"mapping\": [],\n",
    "        \"labels\": [],\n",
    "        \"MFCCs\": [],\n",
    "        \"files\": []\n",
    "    }\n",
    "\n",
    "    for i, (dirpath, dirnames, filenames) in enumerate(os.walk(dataset_path)):\n",
    "\n",
    "        if dirpath is not dataset_path:\n",
    "\n",
    "            # menyimpan label\n",
    "            label = dirpath.split(\"/\")[-1]\n",
    "            data[\"mapping\"].append(label)\n",
    "            print(\"\\nProcessing: '{}'\".format(label))\n",
    "\n",
    "            # memproses suara pada sub direktori dan menyimpan MFCC\n",
    "            for f in filenames:\n",
    "                file_path = os.path.join(dirpath, f)\n",
    "\n",
    "                # load file \n",
    "                signal, sample_rate = librosa.load(file_path)\n",
    "\n",
    "                if len(signal) >= SAMPLES_TO_CONSIDER:\n",
    "\n",
    "                    signal = signal[:SAMPLES_TO_CONSIDER]\n",
    "\n",
    "                    # extracksi MFCCs\n",
    "                    MFCCs = librosa.feature.mfcc(signal, sample_rate, n_mfcc=num_mfcc, n_fft=n_fft, hop_length=hop_length)\n",
    "\n",
    "                    # menyimpan data dari file sudah dianalisa\n",
    "                    data[\"MFCCs\"].append(MFCCs.T.tolist())\n",
    "                    data[\"labels\"].append(i-1)\n",
    "                    data[\"files\"].append(file_path)\n",
    "                    print(\"{}: {}\".format(file_path, i-1))\n",
    "\n",
    "    # menyimpan data pada file json\n",
    "    with open(json_path, \"w\") as fp:\n",
    "        json.dump(data, fp, indent=4)"
   ]
  },
  {
   "cell_type": "code",
   "execution_count": 33,
   "id": "d011ca01-1101-4288-9aa4-deb36a35e8a6",
   "metadata": {},
   "outputs": [],
   "source": [
    "preprocess_dataset(DATASET_PATH, JSON_PATH)"
   ]
  },
  {
   "cell_type": "code",
   "execution_count": null,
   "id": "b1047d65-572e-4e93-b913-ee46a17ece2e",
   "metadata": {},
   "outputs": [],
   "source": []
  }
 ],
 "metadata": {
  "kernelspec": {
   "display_name": "Python 3 (ipykernel)",
   "language": "python",
   "name": "python3"
  },
  "language_info": {
   "codemirror_mode": {
    "name": "ipython",
    "version": 3
   },
   "file_extension": ".py",
   "mimetype": "text/x-python",
   "name": "python",
   "nbconvert_exporter": "python",
   "pygments_lexer": "ipython3",
   "version": "3.10.2"
  }
 },
 "nbformat": 4,
 "nbformat_minor": 5
}
